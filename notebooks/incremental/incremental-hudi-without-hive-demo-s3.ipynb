{
 "cells": [
  {
   "cell_type": "markdown",
   "id": "e4da4cb3-cbdd-4a27-9186-04a783857341",
   "metadata": {},
   "source": [
    "# POC: Incremental reads on Hudi without hive metastore\n",
    "\n",
    "Using local metastore with incremental feactures"
   ]
  },
  {
   "cell_type": "markdown",
   "id": "4d13cf6d-9faa-44f0-87b8-31f777821f9d",
   "metadata": {},
   "source": [
    "# Use cases\n",
    "Change Data Feed is not enabled by default. The following use cases should drive when you enable the change data feed.\n",
    "\n",
    "1. Silver and Gold tables: Improve Delta performance by processing only row-level changes following initial MERGE, UPDATE, or DELETE operations to accelerate and simplify ETL and ELT operations.\n",
    "\n",
    "2. Transmit changes: Send a change data feed to downstream systems such as Kafka or RDBMS that can use it to incrementally process in later stages of data pipelines.\n",
    "\n",
    "3. Audit trail table: Capture the change data feed as a Delta table provides perpetual storage and efficient query capability to see all changes over time, including when deletes occur and what updates were made.\n",
    "\n"
   ]
  },
  {
   "cell_type": "markdown",
   "id": "d25d1b72-0c51-4be3-b987-a6cca3d70c56",
   "metadata": {},
   "source": [
    "# Known constrains:\n",
    "\n",
    "- Versions lower than 0.15.0 must be aware of possible commits retantion policies. By default hudi keeps last **10 commits** of a table. [reference](https://hudi.apache.org/docs/0.15.0/hoodie_cleaner/)"
   ]
  },
  {
   "cell_type": "markdown",
   "id": "07664dfd-9c6f-473a-b322-b311564ee3f1",
   "metadata": {},
   "source": [
    "## Before run\n",
    "\n",
    "Checks if spark 3.5.3 and Hadoop are install\n",
    "also the pyspark>=3.5.3 libraries.\n",
    "\n",
    "Remove if existis the /warehouse/ folder in this direcory"
   ]
  },
  {
   "cell_type": "code",
   "execution_count": 1,
   "id": "91d07b1d-2be6-4b5d-bbbb-00270bba8367",
   "metadata": {
    "execution": {
     "iopub.execute_input": "2025-01-14T18:33:09.572560Z",
     "iopub.status.busy": "2025-01-14T18:33:09.572285Z",
     "iopub.status.idle": "2025-01-14T18:33:09.606562Z",
     "shell.execute_reply": "2025-01-14T18:33:09.606224Z",
     "shell.execute_reply.started": "2025-01-14T18:33:09.572537Z"
    }
   },
   "outputs": [],
   "source": [
    "from pyspark.sql import SparkSession\n",
    "from pyspark.sql.functions import col, year, month, dayofmonth"
   ]
  },
  {
   "cell_type": "markdown",
   "id": "40940756-17f4-44f7-ade4-8cc6a448538a",
   "metadata": {},
   "source": [
    "### Spark Setup"
   ]
  },
  {
   "cell_type": "code",
   "execution_count": 2,
   "id": "d4d262d6-90c2-40f7-b4db-5ed3ec455956",
   "metadata": {
    "execution": {
     "iopub.execute_input": "2025-01-14T18:33:09.929653Z",
     "iopub.status.busy": "2025-01-14T18:33:09.929450Z",
     "iopub.status.idle": "2025-01-14T18:33:09.932609Z",
     "shell.execute_reply": "2025-01-14T18:33:09.932124Z",
     "shell.execute_reply.started": "2025-01-14T18:33:09.929634Z"
    }
   },
   "outputs": [],
   "source": [
    "spark_jar_packages = \",\".join([\n",
    "    \"org.apache.hudi:hudi-spark3.5-bundle_2.12:0.15.0\",\n",
    "    #\"org.apache.hudi:hudi-spark3.5-bundle_2.12:1.0.0\",\n",
    "    \"org.apache.hadoop:hadoop-aws:3.3.4\",\n",
    "    \"com.amazonaws:aws-java-sdk-bundle:1.12.262\",\n",
    "])"
   ]
  },
  {
   "cell_type": "code",
   "execution_count": 3,
   "id": "62dd970b-a205-4b9e-84e3-5cd395dd33a9",
   "metadata": {
    "execution": {
     "iopub.execute_input": "2025-01-14T18:33:10.110036Z",
     "iopub.status.busy": "2025-01-14T18:33:10.109551Z",
     "iopub.status.idle": "2025-01-14T18:33:10.112722Z",
     "shell.execute_reply": "2025-01-14T18:33:10.112198Z",
     "shell.execute_reply.started": "2025-01-14T18:33:10.110014Z"
    }
   },
   "outputs": [],
   "source": [
    "LOCAL_WAREHOUSE_CATALOG = \"s3a://lakehouse-raw/\""
   ]
  },
  {
   "cell_type": "code",
   "execution_count": 4,
   "id": "4d417510-85ba-4981-a1c1-4b949381e70a",
   "metadata": {
    "execution": {
     "iopub.execute_input": "2025-01-14T18:33:10.357761Z",
     "iopub.status.busy": "2025-01-14T18:33:10.357476Z",
     "iopub.status.idle": "2025-01-14T18:33:13.577657Z",
     "shell.execute_reply": "2025-01-14T18:33:13.577232Z",
     "shell.execute_reply.started": "2025-01-14T18:33:10.357720Z"
    },
    "scrolled": true
   },
   "outputs": [
    {
     "name": "stderr",
     "output_type": "stream",
     "text": [
      "25/01/14 15:33:11 WARN Utils: Your hostname, baptvit resolves to a loopback address: 127.0.1.1; using 192.168.2.129 instead (on interface wlp4s0)\n",
      "25/01/14 15:33:11 WARN Utils: Set SPARK_LOCAL_IP if you need to bind to another address\n",
      "Ivy Default Cache set to: /home/baptvit/.ivy2/cache\n",
      "The jars for the packages stored in: /home/baptvit/.ivy2/jars\n",
      "org.apache.hudi#hudi-spark3.5-bundle_2.12 added as a dependency\n",
      "org.apache.hadoop#hadoop-aws added as a dependency\n",
      "com.amazonaws#aws-java-sdk-bundle added as a dependency\n",
      ":: resolving dependencies :: org.apache.spark#spark-submit-parent-e4a67b32-bd08-4a23-be47-c4cbeee2e02e;1.0\n",
      "\tconfs: [default]\n"
     ]
    },
    {
     "name": "stdout",
     "output_type": "stream",
     "text": [
      ":: loading settings :: url = jar:file:/opt/spark/jars/ivy-2.5.1.jar!/org/apache/ivy/core/settings/ivysettings.xml\n"
     ]
    },
    {
     "name": "stderr",
     "output_type": "stream",
     "text": [
      "\tfound org.apache.hudi#hudi-spark3.5-bundle_2.12;0.15.0 in central\n",
      "\tfound org.apache.hive#hive-storage-api;2.8.1 in central\n",
      "\tfound org.slf4j#slf4j-api;1.7.36 in central\n",
      "\tfound org.apache.hadoop#hadoop-aws;3.3.4 in central\n",
      "\tfound com.amazonaws#aws-java-sdk-bundle;1.12.262 in central\n",
      "\tfound org.wildfly.openssl#wildfly-openssl;1.0.7.Final in central\n",
      ":: resolution report :: resolve 148ms :: artifacts dl 5ms\n",
      "\t:: modules in use:\n",
      "\tcom.amazonaws#aws-java-sdk-bundle;1.12.262 from central in [default]\n",
      "\torg.apache.hadoop#hadoop-aws;3.3.4 from central in [default]\n",
      "\torg.apache.hive#hive-storage-api;2.8.1 from central in [default]\n",
      "\torg.apache.hudi#hudi-spark3.5-bundle_2.12;0.15.0 from central in [default]\n",
      "\torg.slf4j#slf4j-api;1.7.36 from central in [default]\n",
      "\torg.wildfly.openssl#wildfly-openssl;1.0.7.Final from central in [default]\n",
      "\t---------------------------------------------------------------------\n",
      "\t|                  |            modules            ||   artifacts   |\n",
      "\t|       conf       | number| search|dwnlded|evicted|| number|dwnlded|\n",
      "\t---------------------------------------------------------------------\n",
      "\t|      default     |   6   |   0   |   0   |   0   ||   6   |   0   |\n",
      "\t---------------------------------------------------------------------\n",
      ":: retrieving :: org.apache.spark#spark-submit-parent-e4a67b32-bd08-4a23-be47-c4cbeee2e02e\n",
      "\tconfs: [default]\n",
      "\t0 artifacts copied, 6 already retrieved (0kB/4ms)\n",
      "25/01/14 15:33:11 WARN NativeCodeLoader: Unable to load native-hadoop library for your platform... using builtin-java classes where applicable\n",
      "Setting default log level to \"WARN\".\n",
      "To adjust logging level use sc.setLogLevel(newLevel). For SparkR, use setLogLevel(newLevel).\n",
      "25/01/14 15:33:11 WARN Utils: Service 'SparkUI' could not bind on port 4040. Attempting port 4041.\n"
     ]
    }
   ],
   "source": [
    "spark = (\n",
    "    SparkSession.builder\n",
    "    .master(\"local[*]\")\n",
    "    .appName(\"hudi-local-playground\")\n",
    "    .config(\"spark.jars.packages\", spark_jar_packages)\n",
    "\n",
    "    # Hudi Integration\n",
    "    .config(\"spark.serializer\", \"org.apache.spark.serializer.KryoSerializer\")\n",
    "    .config(\"spark.kryo.registrator\", \"org.apache.spark.HoodieSparkKryoRegistrar\")\n",
    "    .config(\"spark.sql.extensions\", \"org.apache.spark.sql.hudi.HoodieSparkSessionExtension\")\n",
    "    .config(\"spark.sql.catalog.spark_catalog\", \"org.apache.spark.sql.hudi.catalog.HoodieCatalog\")\n",
    "\n",
    "    # Local catalog\n",
    "    .config(\"spark.sql.catalog.local.type\", \"hadoop\")   # Use Hadoop catalog\n",
    "    .config(\"spark.sql.warehouse.dir\", LOCAL_WAREHOUSE_CATALOG)   # Path to store metadata\n",
    "\n",
    "    # S3 (MinIO Integration)\n",
    "    .config(\"spark.hadoop.fs.s3a.endpoint\", \"http://localhost:9010\")\n",
    "    .config(\"spark.hadoop.fs.s3a.access.key\", \"minioadmin\")\n",
    "    .config(\"spark.hadoop.fs.s3a.secret.key\", \"minioadmin\")\n",
    "    .config(\"spark.hadoop.fs.s3a.path.style.access\", \"true\")\n",
    "    .config(\"spark.hadoop.fs.s3a.impl\", \"org.apache.hadoop.fs.s3a.S3AFileSystem\")\n",
    "    .config(\"spark.hadoop.fs.s3a.aws.credentials.provider\", \"org.apache.hadoop.fs.s3a.SimpleAWSCredentialsProvider\")\n",
    "    .config(\"spark.hadoop.fs.s3a.region\", \"us-east-1\")\n",
    "    .getOrCreate()\n",
    ")"
   ]
  },
  {
   "cell_type": "markdown",
   "id": "e9789e3b-bdeb-42f9-9910-6a5a1d939ee6",
   "metadata": {},
   "source": [
    "## Creating a fake database"
   ]
  },
  {
   "cell_type": "code",
   "execution_count": 5,
   "id": "efa07f69-02fe-4deb-a14c-59de36b3c08b",
   "metadata": {
    "execution": {
     "iopub.execute_input": "2025-01-14T18:33:15.151410Z",
     "iopub.status.busy": "2025-01-14T18:33:15.151102Z",
     "iopub.status.idle": "2025-01-14T18:33:15.281693Z",
     "shell.execute_reply": "2025-01-14T18:33:15.281322Z",
     "shell.execute_reply.started": "2025-01-14T18:33:15.151380Z"
    }
   },
   "outputs": [],
   "source": [
    "import random\n",
    "from faker import Faker\n",
    "\n",
    "def generate_entry(faker: Faker, country_codes: list):\n",
    "    return {\n",
    "        \"id\": faker.unique.uuid4(),\n",
    "        \"name\":  faker.name(),\n",
    "        \"email\": faker.email(),\n",
    "        \"passport\": faker.passport_number(),\n",
    "        \"country_code\": random.choice(country_codes),\n",
    "        \"iban\": faker.iban(),\n",
    "        \"swift\": faker.swift11(),\n",
    "        \"created_at\": faker.past_date(start_date='-90d').strftime('%Y-%m-%d')\n",
    "    }"
   ]
  },
  {
   "cell_type": "code",
   "execution_count": 6,
   "id": "53c245a4-9ace-4bf1-9897-4a8d186ac5f1",
   "metadata": {
    "execution": {
     "iopub.execute_input": "2025-01-14T18:33:15.713710Z",
     "iopub.status.busy": "2025-01-14T18:33:15.713432Z",
     "iopub.status.idle": "2025-01-14T18:33:15.716386Z",
     "shell.execute_reply": "2025-01-14T18:33:15.716088Z",
     "shell.execute_reply.started": "2025-01-14T18:33:15.713689Z"
    }
   },
   "outputs": [],
   "source": [
    "def generate_dataset(num: int, seed: int):\n",
    "    country_codes = ['US', 'CA', 'JP', 'KR', 'FR', 'GE', 'UK', 'BR', 'AR']\n",
    "    Faker.seed(seed)\n",
    "    faker = Faker()\n",
    "    return [generate_entry(faker, country_codes) for _ in range(num)]"
   ]
  },
  {
   "cell_type": "code",
   "execution_count": 7,
   "id": "599e5cd7-d544-4b4e-9b89-09b483fef953",
   "metadata": {
    "execution": {
     "iopub.execute_input": "2025-01-14T18:33:15.892902Z",
     "iopub.status.busy": "2025-01-14T18:33:15.892616Z",
     "iopub.status.idle": "2025-01-14T18:33:15.951833Z",
     "shell.execute_reply": "2025-01-14T18:33:15.951515Z",
     "shell.execute_reply.started": "2025-01-14T18:33:15.892879Z"
    }
   },
   "outputs": [],
   "source": [
    "dataset = generate_dataset(num=100, seed=739)"
   ]
  },
  {
   "cell_type": "code",
   "execution_count": 8,
   "id": "74e985a4-3ccc-4b2b-a30f-ee40107bc10e",
   "metadata": {
    "execution": {
     "iopub.execute_input": "2025-01-14T18:33:16.050218Z",
     "iopub.status.busy": "2025-01-14T18:33:16.049918Z",
     "iopub.status.idle": "2025-01-14T18:33:17.333227Z",
     "shell.execute_reply": "2025-01-14T18:33:17.332831Z",
     "shell.execute_reply.started": "2025-01-14T18:33:16.050193Z"
    }
   },
   "outputs": [
    {
     "name": "stderr",
     "output_type": "stream",
     "text": [
      "25/01/14 15:33:16 WARN MetricsConfig: Cannot locate configuration: tried hadoop-metrics2-s3a-file-system.properties,hadoop-metrics2.properties\n"
     ]
    }
   ],
   "source": [
    "df = spark.createDataFrame(dataset)\\\n",
    "        .withColumn(\"year\", year(col(\"created_at\")))\\\n",
    "        .withColumn(\"month\", month(col(\"created_at\")))\\\n",
    "        .withColumn(\"day\", dayofmonth(col(\"created_at\")))"
   ]
  },
  {
   "cell_type": "code",
   "execution_count": 9,
   "id": "1c77d342-a61b-4c88-babe-caccb6b27576",
   "metadata": {
    "execution": {
     "iopub.execute_input": "2025-01-14T18:33:17.333990Z",
     "iopub.status.busy": "2025-01-14T18:33:17.333863Z",
     "iopub.status.idle": "2025-01-14T18:33:18.854540Z",
     "shell.execute_reply": "2025-01-14T18:33:18.854088Z",
     "shell.execute_reply.started": "2025-01-14T18:33:17.333978Z"
    }
   },
   "outputs": [
    {
     "name": "stderr",
     "output_type": "stream",
     "text": [
      "                                                                                "
     ]
    },
    {
     "data": {
      "text/plain": [
       "100"
      ]
     },
     "execution_count": 9,
     "metadata": {},
     "output_type": "execute_result"
    }
   ],
   "source": [
    "df.count()"
   ]
  },
  {
   "cell_type": "code",
   "execution_count": 10,
   "id": "43f08395-5e99-4dde-a0c1-8c466cf2dca4",
   "metadata": {
    "execution": {
     "iopub.execute_input": "2025-01-14T18:33:18.855350Z",
     "iopub.status.busy": "2025-01-14T18:33:18.855140Z",
     "iopub.status.idle": "2025-01-14T18:33:19.535353Z",
     "shell.execute_reply": "2025-01-14T18:33:19.534984Z",
     "shell.execute_reply.started": "2025-01-14T18:33:18.855326Z"
    }
   },
   "outputs": [
    {
     "name": "stdout",
     "output_type": "stream",
     "text": [
      "+------------+----------+--------------------+--------------------+--------------------+-----------+---------+-----------+----+-----+---+\n",
      "|country_code|created_at|               email|                iban|                  id|       name| passport|      swift|year|month|day|\n",
      "+------------+----------+--------------------+--------------------+--------------------+-----------+---------+-----------+----+-----+---+\n",
      "|          JP|2024-10-21|powelljason@examp...|GB77AKMZ560580635...|5a424412-b127-4f8...|Cody Taylor|895549199|INSEGB5PR6S|2024|   10| 21|\n",
      "+------------+----------+--------------------+--------------------+--------------------+-----------+---------+-----------+----+-----+---+\n",
      "only showing top 1 row\n",
      "\n"
     ]
    }
   ],
   "source": [
    "df.show(1)"
   ]
  },
  {
   "cell_type": "markdown",
   "id": "1feb1ff2-6a95-4e4f-8cce-443d04779f9f",
   "metadata": {},
   "source": [
    "## Save using the default database\n",
    "\n",
    "Hudi trancks automatically the changes"
   ]
  },
  {
   "cell_type": "code",
   "execution_count": 11,
   "id": "10077db9-45dc-4af0-8439-7f204f7fba50",
   "metadata": {
    "execution": {
     "iopub.execute_input": "2025-01-14T18:33:20.572576Z",
     "iopub.status.busy": "2025-01-14T18:33:20.572297Z",
     "iopub.status.idle": "2025-01-14T18:33:20.814992Z",
     "shell.execute_reply": "2025-01-14T18:33:20.814546Z",
     "shell.execute_reply.started": "2025-01-14T18:33:20.572554Z"
    }
   },
   "outputs": [
    {
     "data": {
      "text/plain": [
       "DataFrame[]"
      ]
     },
     "execution_count": 11,
     "metadata": {},
     "output_type": "execute_result"
    },
    {
     "name": "stderr",
     "output_type": "stream",
     "text": [
      "25/01/14 15:33:24 WARN GarbageCollectionMetrics: To enable non-built-in garbage collector(s) List(G1 Concurrent GC), users should configure it(them) to spark.eventLog.gcMetrics.youngGenerationGarbageCollectors or spark.eventLog.gcMetrics.oldGenerationGarbageCollectors\n"
     ]
    }
   ],
   "source": [
    "spark.sql(\"\"\"\n",
    "    CREATE DATABASE IF NOT EXISTS hudi\n",
    "    LOCATION 's3a://lakehouse-raw/hudi/'\n",
    "\"\"\")"
   ]
  },
  {
   "cell_type": "code",
   "execution_count": 12,
   "id": "be022e3c-0ef9-466e-8bcf-08c39ad97783",
   "metadata": {
    "execution": {
     "iopub.execute_input": "2025-01-14T18:33:41.307760Z",
     "iopub.status.busy": "2025-01-14T18:33:41.307192Z",
     "iopub.status.idle": "2025-01-14T18:33:45.829022Z",
     "shell.execute_reply": "2025-01-14T18:33:45.828669Z",
     "shell.execute_reply.started": "2025-01-14T18:33:41.307719Z"
    }
   },
   "outputs": [
    {
     "name": "stderr",
     "output_type": "stream",
     "text": [
      "25/01/14 15:33:41 WARN DFSPropertiesConfiguration: Cannot find HUDI_CONF_DIR, please set it as the dir of hudi-defaults.conf\n",
      "25/01/14 15:33:41 WARN DFSPropertiesConfiguration: Properties file file:/etc/hudi/conf/hudi-defaults.conf not found. Ignoring to load props file\n",
      "25/01/14 15:33:42 WARN S3ABlockOutputStream: Application invoked the Syncable API against stream writing to hudi/accounts/.hoodie/metadata/files/.files-0000-0_00000000000000010.log.1_0-0-0. This is unsupported\n",
      "25/01/14 15:33:42 WARN MetricsConfig: Cannot locate configuration: tried hadoop-metrics2-hbase.properties,hadoop-metrics2.properties\n",
      "                                                                                "
     ]
    },
    {
     "name": "stdout",
     "output_type": "stream",
     "text": [
      "# WARNING: Unable to get Instrumentation. Dynamic Attach failed. You may add this JAR as -javaagent manually, or supply -Djdk.attach.allowAttachSelf\n",
      "# WARNING: Unable to attach Serviceability Agent. Unable to attach even with module exceptions: [org.apache.hudi.org.openjdk.jol.vm.sa.SASupportException: Sense failed., org.apache.hudi.org.openjdk.jol.vm.sa.SASupportException: Sense failed., org.apache.hudi.org.openjdk.jol.vm.sa.SASupportException: Sense failed.]\n"
     ]
    },
    {
     "name": "stderr",
     "output_type": "stream",
     "text": [
      "25/01/14 15:33:45 WARN HoodieSparkSqlWriterInternal: Closing write client\n"
     ]
    }
   ],
   "source": [
    "df.write.format(\"hudi\") \\\n",
    "    .option(\"hoodie.database.name\", \"hudi\") \\\n",
    "    .option(\"hoodie.table.name\", \"accounts\") \\\n",
    "    .option(\"hoodie.datasource.write.recordkey.field\", \"id\") \\\n",
    "    .option(\"hoodie.datasource.write.precombine.field\", \"created_at\") \\\n",
    "    .option(\"hoodie.datasource.write.table.type\", \"COPY_ON_WRITE\") \\\n",
    "    .option(\"hoodie.datasource.write.operation\", \"upsert\") \\\n",
    "    .option(\"hoodie.datasource.hive_sync.partition_fields\", \"year,month\") \\\n",
    "    .option(\"hoodie.datasource.hive_sync.partition_extractor_class\", \"org.apache.hudi.hive.MultiPartKeysValueExtractor\") \\\n",
    "    .option(\"hoodie.datasource.write.hive_style_partitioning\",\"true\") \\\n",
    "    .partitionBy(\"year\", \"month\") \\\n",
    "    .mode(\"append\") \\\n",
    "    .save(\"s3a://lakehouse-raw/hudi/accounts\") ## hudi needs the base full path"
   ]
  },
  {
   "cell_type": "markdown",
   "id": "fce71b2e-424d-482e-852f-4d2a8f707541",
   "metadata": {},
   "source": [
    "## Reading from local direct from file"
   ]
  },
  {
   "cell_type": "code",
   "execution_count": 15,
   "id": "ab1c6d7d-fb8a-4d24-9246-251bb6605708",
   "metadata": {
    "execution": {
     "iopub.execute_input": "2025-01-14T18:34:06.744704Z",
     "iopub.status.busy": "2025-01-14T18:34:06.744185Z",
     "iopub.status.idle": "2025-01-14T18:34:06.746670Z",
     "shell.execute_reply": "2025-01-14T18:34:06.746384Z",
     "shell.execute_reply.started": "2025-01-14T18:34:06.744683Z"
    }
   },
   "outputs": [],
   "source": [
    "LOCAL_ACCOUNT_TABLE = LOCAL_WAREHOUSE_CATALOG + \"hudi/accounts\""
   ]
  },
  {
   "cell_type": "code",
   "execution_count": 16,
   "id": "ec69fa57-0864-4cbc-858b-86002697d748",
   "metadata": {
    "execution": {
     "iopub.execute_input": "2025-01-14T18:34:07.172647Z",
     "iopub.status.busy": "2025-01-14T18:34:07.172420Z",
     "iopub.status.idle": "2025-01-14T18:34:07.266317Z",
     "shell.execute_reply": "2025-01-14T18:34:07.265968Z",
     "shell.execute_reply.started": "2025-01-14T18:34:07.172631Z"
    }
   },
   "outputs": [],
   "source": [
    "# providing a starting version\n",
    "df_read = spark.read.format(\"hudi\") \\\n",
    "  .load(LOCAL_ACCOUNT_TABLE)"
   ]
  },
  {
   "cell_type": "code",
   "execution_count": 17,
   "id": "b199c332-f0fd-4835-a64f-09e54fd381b6",
   "metadata": {
    "execution": {
     "iopub.execute_input": "2025-01-14T18:34:08.070621Z",
     "iopub.status.busy": "2025-01-14T18:34:08.070171Z",
     "iopub.status.idle": "2025-01-14T18:34:08.525774Z",
     "shell.execute_reply": "2025-01-14T18:34:08.525367Z",
     "shell.execute_reply.started": "2025-01-14T18:34:08.070598Z"
    }
   },
   "outputs": [
    {
     "name": "stdout",
     "output_type": "stream",
     "text": [
      "+-------------------+--------------------+--------------------+----------------------+--------------------+------------+----------+------------------+--------------------+--------------------+-------------+---------+-----------+---+----+-----+\n",
      "|_hoodie_commit_time|_hoodie_commit_seqno|  _hoodie_record_key|_hoodie_partition_path|   _hoodie_file_name|country_code|created_at|             email|                iban|                  id|         name| passport|      swift|day|year|month|\n",
      "+-------------------+--------------------+--------------------+----------------------+--------------------+------------+----------+------------------+--------------------+--------------------+-------------+---------+-----------+---+----+-----+\n",
      "|  20250114153341605|20250114153341605...|5674b1aa-0418-4cb...|    year=2024/month=12|86e35a4b-42eb-429...|          GE|2024-12-24|fmason@example.com|GB63XTWT081190002...|5674b1aa-0418-4cb...|Ryan Robinson|742550816|JRRTGBWUN5K| 24|2024|   12|\n",
      "+-------------------+--------------------+--------------------+----------------------+--------------------+------------+----------+------------------+--------------------+--------------------+-------------+---------+-----------+---+----+-----+\n",
      "only showing top 1 row\n",
      "\n"
     ]
    }
   ],
   "source": [
    "df_read.show(1)"
   ]
  },
  {
   "cell_type": "markdown",
   "id": "ae6349cb-7e07-4fa9-953b-45c54e7ad289",
   "metadata": {},
   "source": [
    "## Reading the table history from local folder\n",
    "\n",
    "Local folder and spark SQL"
   ]
  },
  {
   "cell_type": "code",
   "execution_count": 18,
   "id": "bbfe3f71-643d-484b-b606-f275494d6cb9",
   "metadata": {
    "execution": {
     "iopub.execute_input": "2025-01-14T18:34:16.778468Z",
     "iopub.status.busy": "2025-01-14T18:34:16.778086Z",
     "iopub.status.idle": "2025-01-14T18:34:16.790245Z",
     "shell.execute_reply": "2025-01-14T18:34:16.789934Z",
     "shell.execute_reply.started": "2025-01-14T18:34:16.778453Z"
    }
   },
   "outputs": [
    {
     "data": {
      "text/plain": [
       "DataFrame[]"
      ]
     },
     "execution_count": 18,
     "metadata": {},
     "output_type": "execute_result"
    }
   ],
   "source": [
    "spark.sql(\n",
    "    \"\"\"\n",
    "    CREATE DATABASE IF NOT EXISTS hudi;\n",
    "    \"\"\"\n",
    ")"
   ]
  },
  {
   "cell_type": "code",
   "execution_count": 19,
   "id": "c2174cd8-7e0f-4f7e-93e5-ffb8923c2345",
   "metadata": {
    "execution": {
     "iopub.execute_input": "2025-01-14T18:34:21.099994Z",
     "iopub.status.busy": "2025-01-14T18:34:21.099486Z",
     "iopub.status.idle": "2025-01-14T18:34:21.347340Z",
     "shell.execute_reply": "2025-01-14T18:34:21.347042Z",
     "shell.execute_reply.started": "2025-01-14T18:34:21.099959Z"
    }
   },
   "outputs": [
    {
     "data": {
      "text/plain": [
       "DataFrame[]"
      ]
     },
     "execution_count": 19,
     "metadata": {},
     "output_type": "execute_result"
    }
   ],
   "source": [
    "spark.sql(\n",
    "    f\"\"\"\n",
    "    CREATE TABLE IF NOT EXISTS hudi.accounts\n",
    "        USING hudi\n",
    "        OPTIONS (\n",
    "          path = '{LOCAL_ACCOUNT_TABLE}'\n",
    "        );\n",
    "    \"\"\"\n",
    ")"
   ]
  },
  {
   "cell_type": "code",
   "execution_count": 20,
   "id": "b0e709c2-c898-4d1a-bae4-f835c6e06665",
   "metadata": {
    "execution": {
     "iopub.execute_input": "2025-01-14T18:34:26.050154Z",
     "iopub.status.busy": "2025-01-14T18:34:26.049578Z",
     "iopub.status.idle": "2025-01-14T18:34:26.137276Z",
     "shell.execute_reply": "2025-01-14T18:34:26.136950Z",
     "shell.execute_reply.started": "2025-01-14T18:34:26.050120Z"
    }
   },
   "outputs": [
    {
     "name": "stdout",
     "output_type": "stream",
     "text": [
      "-RECORD 0-----------------------------------------\n",
      " commit_time                  | 20250114153341605 \n",
      " state_transition_time        | 20250114153345583 \n",
      " action                       | commit            \n",
      " total_bytes_written          | 1760827           \n",
      " total_files_added            | 4                 \n",
      " total_files_updated          | 0                 \n",
      " total_partitions_written     | 4                 \n",
      " total_records_written        | 100               \n",
      " total_update_records_written | 0                 \n",
      " total_errors                 | 0                 \n",
      "\n"
     ]
    }
   ],
   "source": [
    "spark.sql(\"\"\"\n",
    "    call show_commits (\n",
    "        table => 'hudi.accounts',\n",
    "        from_commit => '10'\n",
    "    )    \n",
    "\"\"\").show(vertical=True, truncate=False)"
   ]
  },
  {
   "cell_type": "markdown",
   "id": "e4708cca-8b35-4a86-b7ff-ec0f79a8397c",
   "metadata": {},
   "source": [
    "## Using CDC and table history to identify the increments"
   ]
  },
  {
   "cell_type": "markdown",
   "id": "95ca7055-421f-45db-8acb-b8149e76445e",
   "metadata": {},
   "source": [
    "### Local folder with show_commits"
   ]
  },
  {
   "cell_type": "code",
   "execution_count": 21,
   "id": "4f1beaa9-3ced-4cb6-b0f1-978b9b080650",
   "metadata": {
    "execution": {
     "iopub.execute_input": "2025-01-14T18:34:32.777665Z",
     "iopub.status.busy": "2025-01-14T18:34:32.777124Z",
     "iopub.status.idle": "2025-01-14T18:34:32.830578Z",
     "shell.execute_reply": "2025-01-14T18:34:32.830171Z",
     "shell.execute_reply.started": "2025-01-14T18:34:32.777632Z"
    }
   },
   "outputs": [
    {
     "data": {
      "text/plain": [
       "'20250114153341605'"
      ]
     },
     "execution_count": 21,
     "metadata": {},
     "output_type": "execute_result"
    }
   ],
   "source": [
    "last_commig_time = spark.sql(\"\"\"\n",
    "    call show_commits (\n",
    "        table => 'hudi.accounts',\n",
    "        from_commit => '0'\n",
    "    )    \n",
    "\"\"\").collect()[0][0]\n",
    "\n",
    "last_commig_time"
   ]
  },
  {
   "cell_type": "markdown",
   "id": "3d7a110a-1295-48c0-9a8d-08a63936ec92",
   "metadata": {},
   "source": [
    "### Reading just the last table version using local catalog"
   ]
  },
  {
   "cell_type": "code",
   "execution_count": 30,
   "id": "e10aaddd-3f26-487d-8aa5-872c50c6da33",
   "metadata": {
    "execution": {
     "iopub.execute_input": "2025-01-14T18:36:11.350245Z",
     "iopub.status.busy": "2025-01-14T18:36:11.349907Z",
     "iopub.status.idle": "2025-01-14T18:36:11.516922Z",
     "shell.execute_reply": "2025-01-14T18:36:11.516560Z",
     "shell.execute_reply.started": "2025-01-14T18:36:11.350231Z"
    }
   },
   "outputs": [
    {
     "name": "stdout",
     "output_type": "stream",
     "text": [
      "+-------------------+--------------------+--------------------+----------------------+--------------------+------------+----------+--------------------+--------------------+--------------------+------------------+---------+-----------+----+-----+---+\n",
      "|_hoodie_commit_time|_hoodie_commit_seqno|  _hoodie_record_key|_hoodie_partition_path|   _hoodie_file_name|country_code|created_at|               email|                iban|                  id|              name| passport|      swift|year|month|day|\n",
      "+-------------------+--------------------+--------------------+----------------------+--------------------+------------+----------+--------------------+--------------------+--------------------+------------------+---------+-----------+----+-----+---+\n",
      "|  20250114153341605|20250114153341605...|5674b1aa-0418-4cb...|    year=2024/month=12|86e35a4b-42eb-429...|          GE|2024-12-24|  fmason@example.com|GB63XTWT081190002...|5674b1aa-0418-4cb...|     Ryan Robinson|742550816|JRRTGBWUN5K|2024|   12| 24|\n",
      "|  20250114153341605|20250114153341605...|4cbbf121-caae-42a...|    year=2024/month=12|86e35a4b-42eb-429...|          FR|2024-12-11|  tramos@example.com|GB02LAAF802721159...|4cbbf121-caae-42a...|       Kara Thomas|661814813|DULPGBWLTDU|2024|   12| 11|\n",
      "|  20250114153341605|20250114153341605...|a8d84eb4-4bc2-499...|    year=2024/month=12|86e35a4b-42eb-429...|          UK|2024-12-08|singletonscott@ex...|GB79DHPA883276481...|a8d84eb4-4bc2-499...|      Lisa Carlson|519487011|XEUZGBIG3OW|2024|   12|  8|\n",
      "|  20250114153341605|20250114153341605...|81f83220-3a5b-4b5...|    year=2024/month=12|86e35a4b-42eb-429...|          FR|2024-12-27|ronaldkelley@exam...|GB27EUVP278628423...|81f83220-3a5b-4b5...|   Angela Brown MD|F80856538|QSMXGBGCOU7|2024|   12| 27|\n",
      "|  20250114153341605|20250114153341605...|189b84f0-9527-45e...|    year=2024/month=12|86e35a4b-42eb-429...|          JP|2024-12-09|brightthomas@exam...|GB56NVYS608859440...|189b84f0-9527-45e...|    Brittany Heath|H58091059|BEBQGBVOSLL|2024|   12|  9|\n",
      "|  20250114153341605|20250114153341605...|bfdf4374-00a8-4a5...|    year=2024/month=12|86e35a4b-42eb-429...|          US|2024-12-10|  bwells@example.org|GB88JZVA601452711...|bfdf4374-00a8-4a5...|       Haley Evans|518676675|NFWZGBQLA0Q|2024|   12| 10|\n",
      "|  20250114153341605|20250114153341605...|92aa7f5e-8a29-4a2...|    year=2024/month=12|86e35a4b-42eb-429...|          BR|2024-12-16|manuel60@example.com|GB79NHFK274728181...|92aa7f5e-8a29-4a2...|      Amber Thomas|C66988631|MCALGBJLS2E|2024|   12| 16|\n",
      "|  20250114153341605|20250114153341605...|5eb832c2-755d-4a3...|    year=2024/month=12|86e35a4b-42eb-429...|          KR|2024-12-07|harpermelissa@exa...|GB93DEIL685503353...|5eb832c2-755d-4a3...|   Kimberly Benson|374808551|NEQQGBTV95M|2024|   12|  7|\n",
      "|  20250114153341605|20250114153341605...|198180d4-c8a8-454...|    year=2024/month=12|86e35a4b-42eb-429...|          AR|2024-12-27| sgentry@example.org|GB86KKJA827482406...|198180d4-c8a8-454...|      Linda Clarke|821336025|ACCUGB5IKZP|2024|   12| 27|\n",
      "|  20250114153341605|20250114153341605...|0c2348f8-730a-4ba...|    year=2024/month=12|86e35a4b-42eb-429...|          US|2024-12-01|joshua50@example.com|GB95AFHE946655622...|0c2348f8-730a-4ba...|     Jorge Collins|O40468471|AVLUGB8P8A4|2024|   12|  1|\n",
      "|  20250114153341605|20250114153341605...|0daad7bc-25b6-446...|    year=2024/month=12|86e35a4b-42eb-429...|          UK|2024-12-10|derrick15@example...|GB14AYNQ551881503...|0daad7bc-25b6-446...|  Cassidy Jones MD|595954695|VTHYGBZMNOI|2024|   12| 10|\n",
      "|  20250114153341605|20250114153341605...|f5d50f9b-6934-46e...|    year=2024/month=12|86e35a4b-42eb-429...|          UK|2024-12-22|  fmyers@example.net|GB35HTKH451377178...|f5d50f9b-6934-46e...|     Emily Sanchez|L59272715|HWWDGBWOKHM|2024|   12| 22|\n",
      "|  20250114153341605|20250114153341605...|c259352d-cb93-4cc...|    year=2024/month=12|86e35a4b-42eb-429...|          FR|2024-12-03|wilsondanielle@ex...|GB17AMVQ748992585...|c259352d-cb93-4cc...|  Andrew Gutierrez|E45216672|MDNRGBMG4X7|2024|   12|  3|\n",
      "|  20250114153341605|20250114153341605...|29f28a6e-c61b-47e...|    year=2024/month=12|86e35a4b-42eb-429...|          CA|2024-12-24|edwincase@example...|GB55ARJG258564545...|29f28a6e-c61b-47e...|Christopher Fuller|726691239|GNBVGB0FV9X|2024|   12| 24|\n",
      "|  20250114153341605|20250114153341605...|97c79880-e36f-4e1...|    year=2024/month=12|86e35a4b-42eb-429...|          US|2024-12-06|calvinthompson@ex...|GB05HSVR655512896...|97c79880-e36f-4e1...|       Kathy Clark|M63099467|MBNSGBQSJ53|2024|   12|  6|\n",
      "|  20250114153341605|20250114153341605...|b7e33adb-9bfe-465...|    year=2024/month=12|86e35a4b-42eb-429...|          AR|2024-12-16|donaldpierce@exam...|GB55LFTZ500270831...|b7e33adb-9bfe-465...|          Ann Cruz|T22953641|HMAQGBCSXE8|2024|   12| 16|\n",
      "|  20250114153341605|20250114153341605...|77e8d1e6-d645-457...|    year=2024/month=12|86e35a4b-42eb-429...|          US|2024-12-10|  fgarza@example.org|GB57MDMC876157428...|77e8d1e6-d645-457...|   Victoria Miller|258063386|QNLCGBNWN2O|2024|   12| 10|\n",
      "|  20250114153341605|20250114153341605...|ab30794f-80a1-428...|    year=2024/month=12|86e35a4b-42eb-429...|          JP|2024-12-17|  mary90@example.com|GB72OBXJ441563641...|ab30794f-80a1-428...|    Sherry Shelton|582609191|IANHGBWQLRT|2024|   12| 17|\n",
      "|  20250114153341605|20250114153341605...|f6c677c3-aefd-40e...|    year=2024/month=12|86e35a4b-42eb-429...|          GE|2024-12-11|barbersandra@exam...|GB58XYAO711989204...|f6c677c3-aefd-40e...|       Deanna Hart|D46037995|KKHIGBIOX2W|2024|   12| 11|\n",
      "|  20250114153341605|20250114153341605...|7672fded-0826-47e...|    year=2024/month=12|86e35a4b-42eb-429...|          AR|2024-12-23|michaelmcclure@ex...|GB30IAQP277779911...|7672fded-0826-47e...|      Cindy Cuevas|T15008281|XDZFGB9D5DW|2024|   12| 23|\n",
      "+-------------------+--------------------+--------------------+----------------------+--------------------+------------+----------+--------------------+--------------------+--------------------+------------------+---------+-----------+----+-----+---+\n",
      "only showing top 20 rows\n",
      "\n"
     ]
    }
   ],
   "source": [
    "spark.read.format(\"hudi\") \\\n",
    "    .option(\"hoodie.datasource.query.type\", \"incremental\") \\\n",
    "    .option(\"hoodie.datasource.read.begin.instanttime\", int(last_commig_time) - 1) \\\n",
    "    .load(LOCAL_ACCOUNT_TABLE).show()"
   ]
  },
  {
   "cell_type": "code",
   "execution_count": 34,
   "id": "50584e4a-1a9f-4e87-b229-f7ef5a390dcb",
   "metadata": {
    "execution": {
     "iopub.execute_input": "2025-01-14T18:36:41.343100Z",
     "iopub.status.busy": "2025-01-14T18:36:41.342273Z",
     "iopub.status.idle": "2025-01-14T18:36:41.498989Z",
     "shell.execute_reply": "2025-01-14T18:36:41.498668Z",
     "shell.execute_reply.started": "2025-01-14T18:36:41.343067Z"
    }
   },
   "outputs": [
    {
     "data": {
      "text/plain": [
       "100"
      ]
     },
     "execution_count": 34,
     "metadata": {},
     "output_type": "execute_result"
    }
   ],
   "source": [
    "spark.read.format(\"hudi\") \\\n",
    "    .option(\"hoodie.datasource.query.type\", \"incremental\") \\\n",
    "    .option(\"hoodie.datasource.read.begin.instanttime\", int(last_commig_time) - 1) \\\n",
    "    .load(LOCAL_ACCOUNT_TABLE).count()"
   ]
  },
  {
   "cell_type": "markdown",
   "id": "6741eb33-75a2-439a-a1fd-f99a400e29f2",
   "metadata": {},
   "source": [
    "## Creating the upsert"
   ]
  },
  {
   "cell_type": "markdown",
   "id": "f88b93cc-3d96-4b18-814f-8325e2177abd",
   "metadata": {},
   "source": [
    "### Upsert Dataset\n",
    "\n",
    "Editing 4 records and adding new 4 records"
   ]
  },
  {
   "cell_type": "code",
   "execution_count": 35,
   "id": "c16cd012-59a0-49c1-8219-a29bab71659f",
   "metadata": {
    "execution": {
     "iopub.execute_input": "2025-01-14T18:36:45.413447Z",
     "iopub.status.busy": "2025-01-14T18:36:45.413227Z",
     "iopub.status.idle": "2025-01-14T18:36:45.420004Z",
     "shell.execute_reply": "2025-01-14T18:36:45.419457Z",
     "shell.execute_reply.started": "2025-01-14T18:36:45.413431Z"
    }
   },
   "outputs": [],
   "source": [
    "entries = [\n",
    "    # Existing entries\n",
    "    dataset[2], \n",
    "    dataset[4], \n",
    "    dataset[7],\n",
    "    dataset[11],\n",
    "    # New entries\n",
    "    *generate_dataset(4, seed=1037)\n",
    "]"
   ]
  },
  {
   "cell_type": "code",
   "execution_count": 36,
   "id": "b22d6316-d4dc-44b8-839d-899558c86523",
   "metadata": {
    "execution": {
     "iopub.execute_input": "2025-01-14T18:36:45.592928Z",
     "iopub.status.busy": "2025-01-14T18:36:45.592540Z",
     "iopub.status.idle": "2025-01-14T18:36:45.595506Z",
     "shell.execute_reply": "2025-01-14T18:36:45.595180Z",
     "shell.execute_reply.started": "2025-01-14T18:36:45.592910Z"
    }
   },
   "outputs": [],
   "source": [
    "for entry in entries:\n",
    "    username = entry['name'].lower().replace(\" \", \".\")\n",
    "    entry['email'] = f\"{username}@domain.com\""
   ]
  },
  {
   "cell_type": "code",
   "execution_count": 37,
   "id": "d22fbc81-0bcd-4e97-bdff-eb3e448e18b6",
   "metadata": {
    "execution": {
     "iopub.execute_input": "2025-01-14T18:36:45.817746Z",
     "iopub.status.busy": "2025-01-14T18:36:45.817511Z",
     "iopub.status.idle": "2025-01-14T18:36:45.841710Z",
     "shell.execute_reply": "2025-01-14T18:36:45.841249Z",
     "shell.execute_reply.started": "2025-01-14T18:36:45.817716Z"
    }
   },
   "outputs": [],
   "source": [
    "upsert_df = spark.createDataFrame(entries)\\\n",
    "        .withColumn(\"year\", year(col(\"created_at\")))\\\n",
    "        .withColumn(\"month\", month(col(\"created_at\")))\\\n",
    "        .withColumn(\"day\", dayofmonth(col(\"created_at\")))"
   ]
  },
  {
   "cell_type": "code",
   "execution_count": 38,
   "id": "7d3e400a-8c87-49a5-8d14-aeb5b355c7ba",
   "metadata": {
    "execution": {
     "iopub.execute_input": "2025-01-14T18:36:46.268724Z",
     "iopub.status.busy": "2025-01-14T18:36:46.268430Z",
     "iopub.status.idle": "2025-01-14T18:36:46.810097Z",
     "shell.execute_reply": "2025-01-14T18:36:46.809755Z",
     "shell.execute_reply.started": "2025-01-14T18:36:46.268702Z"
    }
   },
   "outputs": [
    {
     "name": "stdout",
     "output_type": "stream",
     "text": [
      "+------------+----------+---------------------------+----------------------+------------------------------------+----------------+---------+-----------+----+-----+---+\n",
      "|country_code|created_at|email                      |iban                  |id                                  |name            |passport |swift      |year|month|day|\n",
      "+------------+----------+---------------------------+----------------------+------------------------------------+----------------+---------+-----------+----+-----+---+\n",
      "|AR          |2024-12-16|ann.cruz@domain.com        |GB55LFTZ50027083194346|b7e33adb-9bfe-465f-a533-1d57f8d9c9f6|Ann Cruz        |T22953641|HMAQGBCSXE8|2024|12   |16 |\n",
      "|UK          |2024-12-10|cassidy.jones.md@domain.com|GB14AYNQ55188150393152|0daad7bc-25b6-4469-8a2f-2ba767f86791|Cassidy Jones MD|595954695|VTHYGBZMNOI|2024|12   |10 |\n",
      "|FR          |2024-12-11|kara.thomas@domain.com     |GB02LAAF80272115976869|4cbbf121-caae-42aa-8508-3fd99bb2f762|Kara Thomas     |661814813|DULPGBWLTDU|2024|12   |11 |\n",
      "|UK          |2025-01-10|joseph.arellano@domain.com |GB83QLKQ49955494203274|eda0dc3f-2296-4859-bdc7-b1c8aa84e5c6|Joseph Arellano |N43772821|VDYQGB92ZCM|2025|1    |10 |\n",
      "|JP          |2025-01-05|amber.gomez@domain.com     |GB14JAMN32652852396677|7e1d1d6c-ac3b-478c-b0a0-901515929588|Amber Gomez     |V40815604|OEDJGBV2XYE|2025|1    |5  |\n",
      "|UK          |2024-11-08|david.flynn@domain.com     |GB02WPAU75504619793222|3b07d43d-e15f-4825-9cee-a937fceaeb81|David Flynn     |481064071|MKYOGBA7ENY|2024|11   |8  |\n",
      "|KR          |2024-12-14|anthony.blair@domain.com   |GB63BUEB96211985511216|511d51ba-54be-4f6e-a824-5657fc1eda1b|Anthony Blair   |G42414114|UJRFGBB7P9V|2024|12   |14 |\n",
      "|JP          |2024-11-21|jennifer.lamb@domain.com   |GB77NEUS86176381267948|52c2ae7c-6107-4095-98dc-7d797ebf2b05|Jennifer Lamb   |283291701|DZQUGBI6R85|2024|11   |21 |\n",
      "+------------+----------+---------------------------+----------------------+------------------------------------+----------------+---------+-----------+----+-----+---+\n",
      "\n"
     ]
    }
   ],
   "source": [
    "upsert_df.show(8, truncate=False)"
   ]
  },
  {
   "cell_type": "code",
   "execution_count": 39,
   "id": "8161f9aa-5f67-4a23-af72-66eeb628588a",
   "metadata": {
    "execution": {
     "iopub.execute_input": "2025-01-14T18:36:50.115568Z",
     "iopub.status.busy": "2025-01-14T18:36:50.115303Z",
     "iopub.status.idle": "2025-01-14T18:36:50.130416Z",
     "shell.execute_reply": "2025-01-14T18:36:50.130077Z",
     "shell.execute_reply.started": "2025-01-14T18:36:50.115546Z"
    }
   },
   "outputs": [],
   "source": [
    "upsert_df.createOrReplaceTempView(\"upsert_data\")"
   ]
  },
  {
   "cell_type": "markdown",
   "id": "d3e7a87c-53cc-4f9b-98db-98ab23d9ef83",
   "metadata": {},
   "source": [
    "# Upsert Strategy"
   ]
  },
  {
   "cell_type": "markdown",
   "id": "5437a646-2522-42f2-a3cb-f42f648aa45a",
   "metadata": {},
   "source": [
    "## Slowly Changing Dimension (SCD) Type 1\n",
    "\n",
    "In SCD Type 1, the existing records are overwritten with new data when there is a match, and new records are inserted when there is no match. This approach does not preserve historical changes; it simply updates the records with the latest data.\n"
   ]
  },
  {
   "cell_type": "markdown",
   "id": "4a4335a7-80ef-4f39-8009-5cab3bee6d4b",
   "metadata": {
    "execution": {
     "iopub.execute_input": "2025-01-13T15:25:57.417128Z",
     "iopub.status.busy": "2025-01-13T15:25:57.416460Z",
     "iopub.status.idle": "2025-01-13T15:25:57.420418Z",
     "shell.execute_reply": "2025-01-13T15:25:57.420055Z",
     "shell.execute_reply.started": "2025-01-13T15:25:57.417104Z"
    }
   },
   "source": [
    "HUDI Achive upsert SCD by default enabling the **\"hoodie.datasource.write.operation\", \"upsert\" and .mode(\"append\")**"
   ]
  },
  {
   "cell_type": "code",
   "execution_count": 41,
   "id": "b405d198-3732-41b7-8877-3357689ce574",
   "metadata": {
    "execution": {
     "iopub.execute_input": "2025-01-14T18:37:28.616282Z",
     "iopub.status.busy": "2025-01-14T18:37:28.615786Z",
     "iopub.status.idle": "2025-01-14T18:37:30.407217Z",
     "shell.execute_reply": "2025-01-14T18:37:30.406836Z",
     "shell.execute_reply.started": "2025-01-14T18:37:28.616260Z"
    }
   },
   "outputs": [
    {
     "name": "stderr",
     "output_type": "stream",
     "text": [
      "25/01/14 15:37:30 WARN HoodieSparkSqlWriterInternal: Closing write client\n"
     ]
    }
   ],
   "source": [
    "upsert_df.write.format(\"hudi\") \\\n",
    "    .option(\"hoodie.database.name\", \"hudi\") \\\n",
    "    .option(\"hoodie.table.name\", \"accounts\") \\\n",
    "    .option(\"hoodie.datasource.write.recordkey.field\", \"id\") \\\n",
    "    .option(\"hoodie.datasource.write.precombine.field\", \"created_at\") \\\n",
    "    .option(\"hoodie.datasource.write.table.type\", \"COPY_ON_WRITE\") \\\n",
    "    .option(\"hoodie.datasource.write.operation\", \"upsert\") \\\n",
    "    .option(\"hoodie.datasource.hive_sync.partition_fields\", \"year,month\") \\\n",
    "    .option(\"hoodie.datasource.hive_sync.partition_extractor_class\", \"org.apache.hudi.hive.MultiPartKeysValueExtractor\") \\\n",
    "    .option(\"hoodie.datasource.write.hive_style_partitioning\",\"true\") \\\n",
    "    .partitionBy(\"year\", \"month\") \\\n",
    "    .mode(\"append\") \\\n",
    "    .save(\"s3a://lakehouse-raw/hudi/accounts\") ## hudi needs the base full path"
   ]
  },
  {
   "cell_type": "code",
   "execution_count": 42,
   "id": "d018fef2-aeae-4162-bbd1-d4ff9ce27054",
   "metadata": {
    "execution": {
     "iopub.execute_input": "2025-01-14T18:37:33.631998Z",
     "iopub.status.busy": "2025-01-14T18:37:33.631698Z",
     "iopub.status.idle": "2025-01-14T18:37:33.646358Z",
     "shell.execute_reply": "2025-01-14T18:37:33.646021Z",
     "shell.execute_reply.started": "2025-01-14T18:37:33.631976Z"
    }
   },
   "outputs": [
    {
     "data": {
      "text/plain": [
       "DataFrame[]"
      ]
     },
     "execution_count": 42,
     "metadata": {},
     "output_type": "execute_result"
    }
   ],
   "source": [
    "spark.sql(\n",
    "    f\"\"\"\n",
    "    CREATE TABLE IF NOT EXISTS hudi.accounts\n",
    "        USING hudi\n",
    "        OPTIONS (\n",
    "          path = '{LOCAL_ACCOUNT_TABLE}'\n",
    "        );\n",
    "    \"\"\"\n",
    ")"
   ]
  },
  {
   "cell_type": "code",
   "execution_count": 44,
   "id": "ecfdd6e7-3fbf-4c47-bd30-f2d027bf2897",
   "metadata": {
    "execution": {
     "iopub.execute_input": "2025-01-14T18:37:40.023744Z",
     "iopub.status.busy": "2025-01-14T18:37:40.023280Z",
     "iopub.status.idle": "2025-01-14T18:37:40.064136Z",
     "shell.execute_reply": "2025-01-14T18:37:40.063754Z",
     "shell.execute_reply.started": "2025-01-14T18:37:40.023714Z"
    }
   },
   "outputs": [
    {
     "name": "stdout",
     "output_type": "stream",
     "text": [
      "-RECORD 0-----------------------------------------\n",
      " commit_time                  | 20250114153728648 \n",
      " state_transition_time        | 20250114153730233 \n",
      " action                       | commit            \n",
      " total_bytes_written          | 1321940           \n",
      " total_files_added            | 0                 \n",
      " total_files_updated          | 3                 \n",
      " total_partitions_written     | 3                 \n",
      " total_records_written        | 89                \n",
      " total_update_records_written | 4                 \n",
      " total_errors                 | 0                 \n",
      "-RECORD 1-----------------------------------------\n",
      " commit_time                  | 20250114153341605 \n",
      " state_transition_time        | 20250114153345583 \n",
      " action                       | commit            \n",
      " total_bytes_written          | 1760827           \n",
      " total_files_added            | 4                 \n",
      " total_files_updated          | 0                 \n",
      " total_partitions_written     | 4                 \n",
      " total_records_written        | 100               \n",
      " total_update_records_written | 0                 \n",
      " total_errors                 | 0                 \n",
      "\n"
     ]
    }
   ],
   "source": [
    "spark.sql(\"\"\"\n",
    "    call show_commits (\n",
    "        table => 'hudi.accounts',\n",
    "        from_commit => '2'\n",
    "    )    \n",
    "\"\"\").show(vertical=True, truncate=False)"
   ]
  },
  {
   "cell_type": "markdown",
   "id": "874bda21-6550-4597-a8b9-0d017ac9acd6",
   "metadata": {
    "execution": {
     "iopub.execute_input": "2025-01-13T15:32:13.681219Z",
     "iopub.status.busy": "2025-01-13T15:32:13.680689Z",
     "iopub.status.idle": "2025-01-13T15:32:13.683497Z",
     "shell.execute_reply": "2025-01-13T15:32:13.683068Z",
     "shell.execute_reply.started": "2025-01-13T15:32:13.681197Z"
    }
   },
   "source": [
    "### Reading the last changes"
   ]
  },
  {
   "cell_type": "code",
   "execution_count": 48,
   "id": "a37a34b3-a375-43bf-9ad5-6e7c5c510e8d",
   "metadata": {
    "execution": {
     "iopub.execute_input": "2025-01-14T18:38:12.198702Z",
     "iopub.status.busy": "2025-01-14T18:38:12.198410Z",
     "iopub.status.idle": "2025-01-14T18:38:12.235910Z",
     "shell.execute_reply": "2025-01-14T18:38:12.235454Z",
     "shell.execute_reply.started": "2025-01-14T18:38:12.198679Z"
    }
   },
   "outputs": [],
   "source": [
    "last_commig_time = spark.sql(\"\"\"\n",
    "    call show_commits (\n",
    "        table => 'hudi.accounts',\n",
    "        from_commit => '0'\n",
    "    )    \n",
    "\"\"\").collect()[0][0]\n",
    "\n",
    "last_commig_time = int(last_commig_time) - 1"
   ]
  },
  {
   "cell_type": "code",
   "execution_count": 49,
   "id": "a6000ff5-b25c-4c85-9d33-616e128cfd6c",
   "metadata": {
    "execution": {
     "iopub.execute_input": "2025-01-14T18:38:12.691500Z",
     "iopub.status.busy": "2025-01-14T18:38:12.691203Z",
     "iopub.status.idle": "2025-01-14T18:38:12.868004Z",
     "shell.execute_reply": "2025-01-14T18:38:12.867630Z",
     "shell.execute_reply.started": "2025-01-14T18:38:12.691478Z"
    }
   },
   "outputs": [
    {
     "name": "stdout",
     "output_type": "stream",
     "text": [
      "+-------------------+--------------------+--------------------+----------------------+--------------------+------------+----------+--------------------+--------------------+--------------------+----------------+---------+-----------+----+-----+---+\n",
      "|_hoodie_commit_time|_hoodie_commit_seqno|  _hoodie_record_key|_hoodie_partition_path|   _hoodie_file_name|country_code|created_at|               email|                iban|                  id|            name| passport|      swift|year|month|day|\n",
      "+-------------------+--------------------+--------------------+----------------------+--------------------+------------+----------+--------------------+--------------------+--------------------+----------------+---------+-----------+----+-----+---+\n",
      "|  20250114153728648|20250114153728648...|4cbbf121-caae-42a...|    year=2024/month=12|86e35a4b-42eb-429...|          FR|2024-12-11|kara.thomas@domai...|GB02LAAF802721159...|4cbbf121-caae-42a...|     Kara Thomas|661814813|DULPGBWLTDU|2024|   12| 11|\n",
      "|  20250114153728648|20250114153728648...|0daad7bc-25b6-446...|    year=2024/month=12|86e35a4b-42eb-429...|          UK|2024-12-10|cassidy.jones.md@...|GB14AYNQ551881503...|0daad7bc-25b6-446...|Cassidy Jones MD|595954695|VTHYGBZMNOI|2024|   12| 10|\n",
      "|  20250114153728648|20250114153728648...|b7e33adb-9bfe-465...|    year=2024/month=12|86e35a4b-42eb-429...|          AR|2024-12-16| ann.cruz@domain.com|GB55LFTZ500270831...|b7e33adb-9bfe-465...|        Ann Cruz|T22953641|HMAQGBCSXE8|2024|   12| 16|\n",
      "|  20250114153728648|20250114153728648...|511d51ba-54be-4f6...|    year=2024/month=12|86e35a4b-42eb-429...|          KR|2024-12-14|anthony.blair@dom...|GB63BUEB962119855...|511d51ba-54be-4f6...|   Anthony Blair|G42414114|UJRFGBB7P9V|2024|   12| 14|\n",
      "|  20250114153728648|20250114153728648...|3b07d43d-e15f-482...|    year=2024/month=11|e1e17749-52f8-42b...|          UK|2024-11-08|david.flynn@domai...|GB02WPAU755046197...|3b07d43d-e15f-482...|     David Flynn|481064071|MKYOGBA7ENY|2024|   11|  8|\n",
      "|  20250114153728648|20250114153728648...|52c2ae7c-6107-409...|    year=2024/month=11|e1e17749-52f8-42b...|          JP|2024-11-21|jennifer.lamb@dom...|GB77NEUS861763812...|52c2ae7c-6107-409...|   Jennifer Lamb|283291701|DZQUGBI6R85|2024|   11| 21|\n",
      "|  20250114153728648|20250114153728648...|eda0dc3f-2296-485...|     year=2025/month=1|26a34413-3fe5-4b4...|          UK|2025-01-10|joseph.arellano@d...|GB83QLKQ499554942...|eda0dc3f-2296-485...| Joseph Arellano|N43772821|VDYQGB92ZCM|2025|    1| 10|\n",
      "|  20250114153728648|20250114153728648...|7e1d1d6c-ac3b-478...|     year=2025/month=1|26a34413-3fe5-4b4...|          JP|2025-01-05|amber.gomez@domai...|GB14JAMN326528523...|7e1d1d6c-ac3b-478...|     Amber Gomez|V40815604|OEDJGBV2XYE|2025|    1|  5|\n",
      "+-------------------+--------------------+--------------------+----------------------+--------------------+------------+----------+--------------------+--------------------+--------------------+----------------+---------+-----------+----+-----+---+\n",
      "\n"
     ]
    }
   ],
   "source": [
    "spark.read.format(\"hudi\") \\\n",
    "    .option(\"hoodie.datasource.query.type\", \"incremental\") \\\n",
    "    .option(\"hoodie.datasource.read.begin.instanttime\", last_commig_time) \\\n",
    "    .load(LOCAL_ACCOUNT_TABLE).show()"
   ]
  },
  {
   "cell_type": "code",
   "execution_count": 50,
   "id": "56295003-114b-483d-ac9f-83cba3af005d",
   "metadata": {
    "execution": {
     "iopub.execute_input": "2025-01-14T18:38:15.435968Z",
     "iopub.status.busy": "2025-01-14T18:38:15.435728Z",
     "iopub.status.idle": "2025-01-14T18:38:15.585205Z",
     "shell.execute_reply": "2025-01-14T18:38:15.584899Z",
     "shell.execute_reply.started": "2025-01-14T18:38:15.435952Z"
    }
   },
   "outputs": [
    {
     "data": {
      "text/plain": [
       "8"
      ]
     },
     "execution_count": 50,
     "metadata": {},
     "output_type": "execute_result"
    }
   ],
   "source": [
    "spark.read.format(\"hudi\") \\\n",
    "    .option(\"hoodie.datasource.query.type\", \"incremental\") \\\n",
    "    .option(\"hoodie.datasource.read.begin.instanttime\", last_commig_time) \\\n",
    "    .load(LOCAL_ACCOUNT_TABLE).count()"
   ]
  },
  {
   "cell_type": "markdown",
   "id": "dc8ba405-b963-4029-8aa6-5aa8e88a840a",
   "metadata": {},
   "source": [
    "## TODO: Optimaze commands"
   ]
  },
  {
   "cell_type": "markdown",
   "id": "e0858f37-8b40-4abd-bf63-773403d2374a",
   "metadata": {},
   "source": [
    "## TODO: Miscellaneous on Hudi"
   ]
  },
  {
   "cell_type": "code",
   "execution_count": null,
   "id": "3e62f2bc-c05d-42fb-a309-dab810c24b2e",
   "metadata": {},
   "outputs": [],
   "source": []
  },
  {
   "cell_type": "code",
   "execution_count": null,
   "id": "782c6528-88ef-4520-8966-801413745208",
   "metadata": {},
   "outputs": [],
   "source": []
  },
  {
   "cell_type": "code",
   "execution_count": null,
   "id": "c606aaee-0f20-467b-833c-6df2f9b04f53",
   "metadata": {},
   "outputs": [],
   "source": []
  }
 ],
 "metadata": {
  "kernelspec": {
   "display_name": "Python 3 (ipykernel)",
   "language": "python",
   "name": "python3"
  },
  "language_info": {
   "codemirror_mode": {
    "name": "ipython",
    "version": 3
   },
   "file_extension": ".py",
   "mimetype": "text/x-python",
   "name": "python",
   "nbconvert_exporter": "python",
   "pygments_lexer": "ipython3",
   "version": "3.12.3"
  }
 },
 "nbformat": 4,
 "nbformat_minor": 5
}
