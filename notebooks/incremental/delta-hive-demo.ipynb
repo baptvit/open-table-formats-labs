{
 "cells": [
  {
   "cell_type": "code",
   "execution_count": 1,
   "id": "77b62605-913b-41a6-8920-4743e6865aa3",
   "metadata": {
    "execution": {
     "iopub.execute_input": "2025-01-10T19:37:58.902483Z",
     "iopub.status.busy": "2025-01-10T19:37:58.902312Z",
     "iopub.status.idle": "2025-01-10T19:37:58.947466Z",
     "shell.execute_reply": "2025-01-10T19:37:58.947166Z",
     "shell.execute_reply.started": "2025-01-10T19:37:58.902471Z"
    }
   },
   "outputs": [],
   "source": [
    "import random\n",
    "from faker import Faker"
   ]
  },
  {
   "cell_type": "code",
   "execution_count": 2,
   "id": "91d07b1d-2be6-4b5d-bbbb-00270bba8367",
   "metadata": {
    "execution": {
     "iopub.execute_input": "2025-01-10T19:37:59.080972Z",
     "iopub.status.busy": "2025-01-10T19:37:59.080757Z",
     "iopub.status.idle": "2025-01-10T19:37:59.122059Z",
     "shell.execute_reply": "2025-01-10T19:37:59.121703Z",
     "shell.execute_reply.started": "2025-01-10T19:37:59.080956Z"
    }
   },
   "outputs": [],
   "source": [
    "from pyspark.sql import SparkSession\n",
    "from pyspark.sql.functions import col, year, month, dayofmonth"
   ]
  },
  {
   "cell_type": "markdown",
   "id": "40940756-17f4-44f7-ade4-8cc6a448538a",
   "metadata": {},
   "source": [
    "### Spark Setup"
   ]
  },
  {
   "cell_type": "code",
   "execution_count": 3,
   "id": "d4d262d6-90c2-40f7-b4db-5ed3ec455956",
   "metadata": {
    "execution": {
     "iopub.execute_input": "2025-01-10T19:38:00.341316Z",
     "iopub.status.busy": "2025-01-10T19:38:00.341115Z",
     "iopub.status.idle": "2025-01-10T19:38:00.343458Z",
     "shell.execute_reply": "2025-01-10T19:38:00.343190Z",
     "shell.execute_reply.started": "2025-01-10T19:38:00.341299Z"
    }
   },
   "outputs": [],
   "source": [
    "spark_jar_packages = \",\".join([\n",
    "    \"io.delta:delta-spark_2.12:3.2.0\",\n",
    "    \"io.delta:delta-hive_2.12:3.2.0\",\n",
    "    \"org.apache.hive:hive-metastore:3.1.3\",\n",
    "    \"org.apache.hive:hive-exec:3.1.3\",\n",
    "    \"org.apache.hadoop:hadoop-aws:3.3.4\",\n",
    "    \"com.amazonaws:aws-java-sdk-bundle:1.12.262\",\n",
    "])"
   ]
  },
  {
   "cell_type": "code",
   "execution_count": 4,
   "id": "4d417510-85ba-4981-a1c1-4b949381e70a",
   "metadata": {
    "execution": {
     "iopub.execute_input": "2025-01-10T19:38:00.633221Z",
     "iopub.status.busy": "2025-01-10T19:38:00.633003Z",
     "iopub.status.idle": "2025-01-10T19:38:02.800606Z",
     "shell.execute_reply": "2025-01-10T19:38:02.800184Z",
     "shell.execute_reply.started": "2025-01-10T19:38:00.633205Z"
    },
    "scrolled": true
   },
   "outputs": [
    {
     "name": "stderr",
     "output_type": "stream",
     "text": [
      "25/01/10 16:38:01 WARN Utils: Your hostname, baptvit resolves to a loopback address: 127.0.1.1; using 192.168.2.129 instead (on interface wlp4s0)\n",
      "25/01/10 16:38:01 WARN Utils: Set SPARK_LOCAL_IP if you need to bind to another address\n",
      "Ivy Default Cache set to: /home/baptvit/.ivy2/cache\n",
      "The jars for the packages stored in: /home/baptvit/.ivy2/jars\n",
      "io.delta#delta-spark_2.12 added as a dependency\n",
      "io.delta#delta-hive_2.12 added as a dependency\n",
      ":: resolving dependencies :: org.apache.spark#spark-submit-parent-a2b809c4-813d-4f6b-be8d-5ff21090b631;1.0\n",
      "\tconfs: [default]\n"
     ]
    },
    {
     "name": "stdout",
     "output_type": "stream",
     "text": [
      ":: loading settings :: url = jar:file:/opt/spark/jars/ivy-2.5.1.jar!/org/apache/ivy/core/settings/ivysettings.xml\n"
     ]
    },
    {
     "name": "stderr",
     "output_type": "stream",
     "text": [
      "\tfound io.delta#delta-spark_2.12;3.2.0 in central\n",
      "\tfound io.delta#delta-storage;3.2.0 in central\n",
      "\tfound org.antlr#antlr4-runtime;4.9.3 in local-m2-cache\n",
      "\tfound io.delta#delta-hive_2.12;3.2.0 in central\n",
      "\tfound io.delta#delta-standalone_2.12;3.2.0 in central\n",
      "\tfound com.chuusai#shapeless_2.12;2.3.4 in central\n",
      "\tfound org.scala-lang.modules#scala-collection-compat_2.12;2.4.3 in central\n",
      ":: resolution report :: resolve 150ms :: artifacts dl 9ms\n",
      "\t:: modules in use:\n",
      "\tcom.chuusai#shapeless_2.12;2.3.4 from central in [default]\n",
      "\tio.delta#delta-hive_2.12;3.2.0 from central in [default]\n",
      "\tio.delta#delta-spark_2.12;3.2.0 from central in [default]\n",
      "\tio.delta#delta-standalone_2.12;3.2.0 from central in [default]\n",
      "\tio.delta#delta-storage;3.2.0 from central in [default]\n",
      "\torg.antlr#antlr4-runtime;4.9.3 from local-m2-cache in [default]\n",
      "\torg.scala-lang.modules#scala-collection-compat_2.12;2.4.3 from central in [default]\n",
      "\t---------------------------------------------------------------------\n",
      "\t|                  |            modules            ||   artifacts   |\n",
      "\t|       conf       | number| search|dwnlded|evicted|| number|dwnlded|\n",
      "\t---------------------------------------------------------------------\n",
      "\t|      default     |   7   |   0   |   0   |   0   ||   7   |   0   |\n",
      "\t---------------------------------------------------------------------\n",
      ":: retrieving :: org.apache.spark#spark-submit-parent-a2b809c4-813d-4f6b-be8d-5ff21090b631\n",
      "\tconfs: [default]\n",
      "\t0 artifacts copied, 7 already retrieved (0kB/5ms)\n",
      "25/01/10 16:38:01 WARN NativeCodeLoader: Unable to load native-hadoop library for your platform... using builtin-java classes where applicable\n",
      "Setting default log level to \"WARN\".\n",
      "To adjust logging level use sc.setLogLevel(newLevel). For SparkR, use setLogLevel(newLevel).\n",
      "25/01/10 16:38:02 WARN Utils: Service 'SparkUI' could not bind on port 4040. Attempting port 4041.\n"
     ]
    }
   ],
   "source": [
    "spark = (\n",
    "    SparkSession.builder\n",
    "    .appName(\"delta-hive-playground\")\n",
    "    .config(\"spark.jars.packages\", spark_jar_packages)\n",
    "\n",
    "    # Delta-Hive Integration\n",
    "     .config(\"spark.sql.extensions\", \"io.delta.sql.DeltaSparkSessionExtension\")\n",
    "     .config(\"spark.sql.catalog.spark_catalog\", \"org.apache.spark.sql.delta.catalog.DeltaCatalog\")\n",
    "    .config(\"spark.sql.catalog.spark_catalog.type\", \"hive\")\n",
    "    .config(\"spark.sql.catalogImplementation\", \"hive\")\n",
    "    .config(\"hive.metastore.uris\", \"thrift://localhost:10000\")\n",
    "\n",
    "    # S3 (MinIO Integration)\n",
    "    .config(\"spark.hadoop.fs.s3a.endpoint\", \"http://localhost:9000\")\n",
    "    .config(\"spark.hadoop.fs.s3a.access.key\", \"minioadmin\")\n",
    "    .config(\"spark.hadoop.fs.s3a.secret.key\", \"minioadmin\")\n",
    "    .config(\"spark.hadoop.fs.s3a.path.style.access\", \"true\")\n",
    "    .config(\"spark.hadoop.fs.s3a.impl\", \"org.apache.hadoop.fs.s3a.S3AFileSystem\")\n",
    "    .config(\"spark.hadoop.fs.s3a.aws.credentials.provider\", \"org.apache.hadoop.fs.s3a.SimpleAWSCredentialsProvider\")\n",
    "    .config(\"spark.hadoop.fs.s3a.region\", \"us-east-1\")\n",
    "\n",
    "    .getOrCreate()\n",
    ")"
   ]
  },
  {
   "cell_type": "markdown",
   "id": "e9789e3b-bdeb-42f9-9910-6a5a1d939ee6",
   "metadata": {},
   "source": [
    "### Dataset Generation"
   ]
  },
  {
   "cell_type": "code",
   "execution_count": 5,
   "id": "efa07f69-02fe-4deb-a14c-59de36b3c08b",
   "metadata": {
    "execution": {
     "iopub.execute_input": "2025-01-10T19:38:04.480944Z",
     "iopub.status.busy": "2025-01-10T19:38:04.480613Z",
     "iopub.status.idle": "2025-01-10T19:38:04.483775Z",
     "shell.execute_reply": "2025-01-10T19:38:04.483410Z",
     "shell.execute_reply.started": "2025-01-10T19:38:04.480927Z"
    }
   },
   "outputs": [],
   "source": [
    "def generate_entry(faker: Faker, country_codes: list):\n",
    "    return {\n",
    "        \"id\": faker.unique.uuid4(),\n",
    "        \"name\":  faker.name(),\n",
    "        \"email\": faker.email(),\n",
    "        \"passport\": faker.passport_number(),\n",
    "        \"country_code\": random.choice(country_codes),\n",
    "        \"iban\": faker.iban(),\n",
    "        \"swift\": faker.swift11(),\n",
    "        \"created_at\": faker.past_date(start_date='-90d').strftime('%Y-%m-%d')\n",
    "    }"
   ]
  },
  {
   "cell_type": "code",
   "execution_count": 6,
   "id": "53c245a4-9ace-4bf1-9897-4a8d186ac5f1",
   "metadata": {
    "execution": {
     "iopub.execute_input": "2025-01-10T19:38:04.640949Z",
     "iopub.status.busy": "2025-01-10T19:38:04.640598Z",
     "iopub.status.idle": "2025-01-10T19:38:04.643589Z",
     "shell.execute_reply": "2025-01-10T19:38:04.643294Z",
     "shell.execute_reply.started": "2025-01-10T19:38:04.640935Z"
    }
   },
   "outputs": [],
   "source": [
    "def generate_dataset(num: int, seed: int):\n",
    "    country_codes = ['US', 'CA', 'JP', 'KR', 'FR', 'GE', 'UK', 'BR', 'AR']\n",
    "    Faker.seed(seed)\n",
    "    faker = Faker()\n",
    "    return [generate_entry(faker, country_codes) for _ in range(num)]"
   ]
  },
  {
   "cell_type": "code",
   "execution_count": 7,
   "id": "599e5cd7-d544-4b4e-9b89-09b483fef953",
   "metadata": {
    "execution": {
     "iopub.execute_input": "2025-01-10T19:38:04.797220Z",
     "iopub.status.busy": "2025-01-10T19:38:04.796852Z",
     "iopub.status.idle": "2025-01-10T19:38:04.822332Z",
     "shell.execute_reply": "2025-01-10T19:38:04.821945Z",
     "shell.execute_reply.started": "2025-01-10T19:38:04.797206Z"
    }
   },
   "outputs": [],
   "source": [
    "dataset = generate_dataset(num=5, seed=739)"
   ]
  },
  {
   "cell_type": "code",
   "execution_count": 8,
   "id": "74e985a4-3ccc-4b2b-a30f-ee40107bc10e",
   "metadata": {
    "execution": {
     "iopub.execute_input": "2025-01-10T19:38:05.293250Z",
     "iopub.status.busy": "2025-01-10T19:38:05.292859Z",
     "iopub.status.idle": "2025-01-10T19:38:06.179722Z",
     "shell.execute_reply": "2025-01-10T19:38:06.179345Z",
     "shell.execute_reply.started": "2025-01-10T19:38:05.293233Z"
    }
   },
   "outputs": [],
   "source": [
    "df = spark.createDataFrame(dataset)\\\n",
    "        .withColumn(\"year\", year(col(\"created_at\")))\\\n",
    "        .withColumn(\"month\", month(col(\"created_at\")))\\\n",
    "        .withColumn(\"day\", dayofmonth(col(\"created_at\")))"
   ]
  },
  {
   "cell_type": "code",
   "execution_count": 9,
   "id": "4e09b8e4-a5ea-4bd8-9807-0681c182052d",
   "metadata": {
    "execution": {
     "iopub.execute_input": "2025-01-10T19:38:06.180417Z",
     "iopub.status.busy": "2025-01-10T19:38:06.180280Z",
     "iopub.status.idle": "2025-01-10T19:38:07.792251Z",
     "shell.execute_reply": "2025-01-10T19:38:07.791916Z",
     "shell.execute_reply.started": "2025-01-10T19:38:06.180406Z"
    }
   },
   "outputs": [
    {
     "name": "stdout",
     "output_type": "stream",
     "text": [
      "+------------+----------+--------------------+--------------------+--------------------+-----------+---------+-----------+----+-----+---+\n",
      "|country_code|created_at|               email|                iban|                  id|       name| passport|      swift|year|month|day|\n",
      "+------------+----------+--------------------+--------------------+--------------------+-----------+---------+-----------+----+-----+---+\n",
      "|          JP|2024-10-17|powelljason@examp...|GB77AKMZ560580635...|5a424412-b127-4f8...|Cody Taylor|895549199|INSEGB5PR6S|2024|   10| 17|\n",
      "+------------+----------+--------------------+--------------------+--------------------+-----------+---------+-----------+----+-----+---+\n",
      "only showing top 1 row\n",
      "\n"
     ]
    }
   ],
   "source": [
    "df.show(1)"
   ]
  },
  {
   "cell_type": "markdown",
   "id": "1feb1ff2-6a95-4e4f-8cce-443d04779f9f",
   "metadata": {},
   "source": [
    "### Delta-Hive Integration"
   ]
  },
  {
   "cell_type": "code",
   "execution_count": 10,
   "id": "20fc0012-cb3c-417a-b606-ebac5b2a94db",
   "metadata": {
    "execution": {
     "iopub.execute_input": "2025-01-10T19:38:07.792870Z",
     "iopub.status.busy": "2025-01-10T19:38:07.792757Z",
     "iopub.status.idle": "2025-01-10T19:38:07.904743Z",
     "shell.execute_reply": "2025-01-10T19:38:07.904374Z",
     "shell.execute_reply.started": "2025-01-10T19:38:07.792859Z"
    }
   },
   "outputs": [
    {
     "data": {
      "text/plain": [
       "DataFrame[]"
      ]
     },
     "execution_count": 10,
     "metadata": {},
     "output_type": "execute_result"
    }
   ],
   "source": [
    "spark.sql(\"\"\"\n",
    "    CREATE DATABASE IF NOT EXISTS deltalake_raw\n",
    "    LOCATION 'file:///home/baptvit/Documents/github/lakehouse-labs'\n",
    "\"\"\")"
   ]
  },
  {
   "cell_type": "code",
   "execution_count": null,
   "id": "cfe05cab-a79a-4114-be6d-dd5748c4de8e",
   "metadata": {
    "scrolled": true
   },
   "outputs": [],
   "source": [
    "spark.sql(\"\"\"\n",
    "    CREATE DATABASE IF NOT EXISTS deltalake_raw\n",
    "    LOCATION 's3a://lakehouse-raw/delta/'\n",
    "\"\"\")"
   ]
  },
  {
   "cell_type": "code",
   "execution_count": null,
   "id": "88be6b76-4dca-491b-89a2-eb81bbeb9c59",
   "metadata": {
    "scrolled": true
   },
   "outputs": [],
   "source": [
    "df.write.format(\"parquet\") \\\n",
    "    .mode(\"overwrite\") \\\n",
    "    .option(\"overwriteSchema\", \"true\") \\\n",
    "    .option(\"delta.enableChangeDataFeed\", \"true\") \\\n",
    "    .partitionBy(\"year\", \"month\") \\\n",
    "    .saveAsTable(\"deltalake_raw.accounts\")"
   ]
  },
  {
   "cell_type": "code",
   "execution_count": 11,
   "id": "be022e3c-0ef9-466e-8bcf-08c39ad97783",
   "metadata": {
    "execution": {
     "iopub.execute_input": "2025-01-10T19:38:16.518795Z",
     "iopub.status.busy": "2025-01-10T19:38:16.518309Z",
     "iopub.status.idle": "2025-01-10T19:38:19.166994Z",
     "shell.execute_reply": "2025-01-10T19:38:19.166624Z",
     "shell.execute_reply.started": "2025-01-10T19:38:16.518775Z"
    }
   },
   "outputs": [
    {
     "name": "stderr",
     "output_type": "stream",
     "text": [
      "                                                                                "
     ]
    }
   ],
   "source": [
    "df.write.format(\"delta\") \\\n",
    "    .mode(\"overwrite\") \\\n",
    "    .option(\"overwriteSchema\", \"true\") \\\n",
    "    .option(\"delta.enableChangeDataFeed\", \"true\") \\\n",
    "    .partitionBy(\"year\", \"month\") \\\n",
    "    .saveAsTable(\"deltalake_raw.accounts\")"
   ]
  },
  {
   "cell_type": "markdown",
   "id": "f0a276bc-ad1d-48d2-bfd8-fe9d8ada8fdd",
   "metadata": {},
   "source": [
    "### Upsert Dataset"
   ]
  },
  {
   "cell_type": "code",
   "execution_count": null,
   "id": "85f18f8e-f096-44c6-9212-d871cfbf44c4",
   "metadata": {},
   "outputs": [],
   "source": [
    "entries = [\n",
    "    # Existing entries\n",
    "    dataset[2], \n",
    "    dataset[4], \n",
    "    dataset[7],\n",
    "    dataset[11],\n",
    "    # New entries\n",
    "    *generate_dataset(4, seed=1037)\n",
    "]"
   ]
  },
  {
   "cell_type": "code",
   "execution_count": null,
   "id": "d8fc774e-2ded-4a09-a263-c91a5d3aa959",
   "metadata": {},
   "outputs": [],
   "source": [
    "for entry in entries:\n",
    "    username = entry['name'].lower().replace(\" \", \".\")\n",
    "    entry['email'] = f\"{username}@domain.com\""
   ]
  },
  {
   "cell_type": "code",
   "execution_count": null,
   "id": "9c7541ce-1cec-4dac-b371-db3d11daeed8",
   "metadata": {},
   "outputs": [],
   "source": [
    "upsert_df = spark.createDataFrame(entries)\\\n",
    "        .withColumn(\"year\", year(col(\"created_at\")))\\\n",
    "        .withColumn(\"month\", month(col(\"created_at\")))\\\n",
    "        .withColumn(\"day\", dayofmonth(col(\"created_at\")))"
   ]
  },
  {
   "cell_type": "code",
   "execution_count": null,
   "id": "34fe4ed2-dd0f-4704-9658-dd6fcb23f88e",
   "metadata": {},
   "outputs": [],
   "source": [
    "upsert_df.show(8, truncate=False)"
   ]
  },
  {
   "cell_type": "code",
   "execution_count": null,
   "id": "d7d1480a-c08f-40ae-8e59-75d9fdc4f7b2",
   "metadata": {},
   "outputs": [],
   "source": [
    "upsert_df.createOrReplaceTempView(\"upsert_data\")"
   ]
  },
  {
   "cell_type": "markdown",
   "id": "af465e53-845a-49e0-ba46-72f24a937791",
   "metadata": {},
   "source": [
    "### Upsert Strategy"
   ]
  },
  {
   "cell_type": "code",
   "execution_count": null,
   "id": "d75dc232-22af-4601-86e4-353ea04363d0",
   "metadata": {},
   "outputs": [],
   "source": [
    "spark.sql(\"\"\"\n",
    "    MERGE INTO deltalake_raw.accounts AS target\n",
    "    USING upsert_data AS source ON \n",
    "        target.id = source.id\n",
    "    WHEN MATCHED THEN UPDATE SET\n",
    "        target.country_code = source.country_code,\n",
    "        target.email = source.email,\n",
    "        target.name = source.name,\n",
    "        target.iban = source.iban,\n",
    "        target.swift = source.swift,\n",
    "        target.passport = source.passport\n",
    "    WHEN NOT MATCHED THEN INSERT *\n",
    "\"\"\")"
   ]
  },
  {
   "cell_type": "markdown",
   "id": "b61f2513-a6e0-4f81-9586-88bbaa9e0df8",
   "metadata": {},
   "source": [
    "### Delta Metadata (Changes)"
   ]
  },
  {
   "cell_type": "code",
   "execution_count": 12,
   "id": "41a7c3e2-dbbe-414a-8067-1c0aec8eddf1",
   "metadata": {
    "execution": {
     "iopub.execute_input": "2025-01-10T19:38:34.406304Z",
     "iopub.status.busy": "2025-01-10T19:38:34.405907Z",
     "iopub.status.idle": "2025-01-10T19:38:34.935469Z",
     "shell.execute_reply": "2025-01-10T19:38:34.935105Z",
     "shell.execute_reply.started": "2025-01-10T19:38:34.406285Z"
    }
   },
   "outputs": [
    {
     "name": "stdout",
     "output_type": "stream",
     "text": [
      "+------------+----------+--------------------------+----------------------+------------------------------------+----------------+---------+-----------+----+-----+---+------------+---------------+-----------------------+\n",
      "|country_code|created_at|email                     |iban                  |id                                  |name            |passport |swift      |year|month|day|_change_type|_commit_version|_commit_timestamp      |\n",
      "+------------+----------+--------------------------+----------------------+------------------------------------+----------------+---------+-----------+----+-----+---+------------+---------------+-----------------------+\n",
      "|GE          |2024-12-05|harrisondeanna@example.com|GB96EZYO16306776005871|bef2df38-4a7a-4b73-904d-c949dc8140c6|Destiny Jimenez |F75210547|WSHOGBQ55I9|2024|12   |5  |insert      |0              |2025-01-10 16:38:18.768|\n",
      "|JP          |2024-12-05|brightthomas@example.com  |GB56NVYS60885944026604|189b84f0-9527-45e4-a64b-c3f710a24fb9|Brittany Heath  |H58091059|BEBQGBVOSLL|2024|12   |5  |insert      |0              |2025-01-10 16:38:18.768|\n",
      "|FR          |2024-12-06|derrick15@example.com     |GB14AYNQ55188150393152|0daad7bc-25b6-4469-8a2f-2ba767f86791|Cassidy Jones MD|595954695|VTHYGBZMNOI|2024|12   |6  |insert      |0              |2025-01-10 16:38:18.768|\n",
      "|JP          |2024-10-17|powelljason@example.net   |GB77AKMZ56058063552925|5a424412-b127-4f86-be74-fba931df6c57|Cody Taylor     |895549199|INSEGB5PR6S|2024|10   |17 |insert      |0              |2025-01-10 16:38:18.768|\n",
      "|UK          |2024-12-12|donaldpierce@example.net  |GB55LFTZ50027083194346|b7e33adb-9bfe-465f-a533-1d57f8d9c9f6|Ann Cruz        |T22953641|HMAQGBCSXE8|2024|12   |12 |insert      |0              |2025-01-10 16:38:18.768|\n",
      "+------------+----------+--------------------------+----------------------+------------------------------------+----------------+---------+-----------+----+-----+---+------------+---------------+-----------------------+\n",
      "\n"
     ]
    }
   ],
   "source": [
    "spark.sql(\"\"\"\n",
    "    select \n",
    "        *\n",
    "    from\n",
    "        table_changes('deltalake_raw.accounts', 0)\n",
    "    where\n",
    "        _change_type in ('insert', 'update_postimage')\n",
    "\"\"\").show(truncate=False)"
   ]
  },
  {
   "cell_type": "markdown",
   "id": "de0750d4-659f-4d6a-adcd-359f6bca3395",
   "metadata": {},
   "source": [
    "### Delta Timetravel (version)"
   ]
  },
  {
   "cell_type": "code",
   "execution_count": 13,
   "id": "96148f31-f7e3-4f2f-9ecd-759bad1ef71c",
   "metadata": {
    "execution": {
     "iopub.execute_input": "2025-01-10T19:38:46.110590Z",
     "iopub.status.busy": "2025-01-10T19:38:46.110365Z",
     "iopub.status.idle": "2025-01-10T19:38:47.645867Z",
     "shell.execute_reply": "2025-01-10T19:38:47.645446Z",
     "shell.execute_reply.started": "2025-01-10T19:38:46.110577Z"
    }
   },
   "outputs": [
    {
     "name": "stderr",
     "output_type": "stream",
     "text": [
      "25/01/10 16:38:46 WARN SparkStringUtils: Truncated the string representation of a plan since it was too large. This behavior can be adjusted by setting 'spark.sql.debug.maxToStringFields'.\n"
     ]
    },
    {
     "name": "stdout",
     "output_type": "stream",
     "text": [
      "+------------+----------+---------------------+----------------------+------------------------------------+----------------+---------+-----------+----+-----+---+\n",
      "|country_code|created_at|email                |iban                  |id                                  |name            |passport |swift      |year|month|day|\n",
      "+------------+----------+---------------------+----------------------+------------------------------------+----------------+---------+-----------+----+-----+---+\n",
      "|FR          |2024-12-06|derrick15@example.com|GB14AYNQ55188150393152|0daad7bc-25b6-4469-8a2f-2ba767f86791|Cassidy Jones MD|595954695|VTHYGBZMNOI|2024|12   |6  |\n",
      "+------------+----------+---------------------+----------------------+------------------------------------+----------------+---------+-----------+----+-----+---+\n",
      "\n"
     ]
    }
   ],
   "source": [
    "spark.sql(\"\"\"\n",
    "    select \n",
    "        *\n",
    "    from\n",
    "        deltalake_raw.accounts version as of 0\n",
    "    where\n",
    "        id = '0daad7bc-25b6-4469-8a2f-2ba767f86791'\n",
    "\"\"\").show(truncate=False)"
   ]
  },
  {
   "cell_type": "code",
   "execution_count": 14,
   "id": "9320b58e-bb12-4d07-964e-2d0af2acce6b",
   "metadata": {
    "execution": {
     "iopub.execute_input": "2025-01-10T19:38:49.077237Z",
     "iopub.status.busy": "2025-01-10T19:38:49.077025Z",
     "iopub.status.idle": "2025-01-10T19:38:49.336280Z",
     "shell.execute_reply": "2025-01-10T19:38:49.335839Z",
     "shell.execute_reply.started": "2025-01-10T19:38:49.077220Z"
    }
   },
   "outputs": [
    {
     "ename": "AnalysisException",
     "evalue": "Cannot time travel Delta table to version 1. Available versions: [0, 0].",
     "output_type": "error",
     "traceback": [
      "\u001b[0;31m---------------------------------------------------------------------------\u001b[0m",
      "\u001b[0;31mAnalysisException\u001b[0m                         Traceback (most recent call last)",
      "Cell \u001b[0;32mIn[14], line 1\u001b[0m\n\u001b[0;32m----> 1\u001b[0m \u001b[43mspark\u001b[49m\u001b[38;5;241;43m.\u001b[39;49m\u001b[43msql\u001b[49m\u001b[43m(\u001b[49m\u001b[38;5;124;43m\"\"\"\u001b[39;49m\n\u001b[1;32m      2\u001b[0m \u001b[38;5;124;43m    select \u001b[39;49m\n\u001b[1;32m      3\u001b[0m \u001b[38;5;124;43m        *\u001b[39;49m\n\u001b[1;32m      4\u001b[0m \u001b[38;5;124;43m    from\u001b[39;49m\n\u001b[1;32m      5\u001b[0m \u001b[38;5;124;43m        deltalake_raw.accounts version as of 1\u001b[39;49m\n\u001b[1;32m      6\u001b[0m \u001b[38;5;124;43m    where\u001b[39;49m\n\u001b[1;32m      7\u001b[0m \u001b[38;5;124;43m        id = \u001b[39;49m\u001b[38;5;124;43m'\u001b[39;49m\u001b[38;5;124;43m0daad7bc-25b6-4469-8a2f-2ba767f86791\u001b[39;49m\u001b[38;5;124;43m'\u001b[39;49m\n\u001b[1;32m      8\u001b[0m \u001b[38;5;124;43m\"\"\"\u001b[39;49m\u001b[43m)\u001b[49m\u001b[38;5;241m.\u001b[39mshow(truncate\u001b[38;5;241m=\u001b[39m\u001b[38;5;28;01mFalse\u001b[39;00m)\n",
      "File \u001b[0;32m~/Documents/github/lakehouse-labs/.venv/lib/python3.11/site-packages/pyspark/sql/session.py:1631\u001b[0m, in \u001b[0;36mSparkSession.sql\u001b[0;34m(self, sqlQuery, args, **kwargs)\u001b[0m\n\u001b[1;32m   1627\u001b[0m         \u001b[38;5;28;01massert\u001b[39;00m \u001b[38;5;28mself\u001b[39m\u001b[38;5;241m.\u001b[39m_jvm \u001b[38;5;129;01mis\u001b[39;00m \u001b[38;5;129;01mnot\u001b[39;00m \u001b[38;5;28;01mNone\u001b[39;00m\n\u001b[1;32m   1628\u001b[0m         litArgs \u001b[38;5;241m=\u001b[39m \u001b[38;5;28mself\u001b[39m\u001b[38;5;241m.\u001b[39m_jvm\u001b[38;5;241m.\u001b[39mPythonUtils\u001b[38;5;241m.\u001b[39mtoArray(\n\u001b[1;32m   1629\u001b[0m             [_to_java_column(lit(v)) \u001b[38;5;28;01mfor\u001b[39;00m v \u001b[38;5;129;01min\u001b[39;00m (args \u001b[38;5;129;01mor\u001b[39;00m [])]\n\u001b[1;32m   1630\u001b[0m         )\n\u001b[0;32m-> 1631\u001b[0m     \u001b[38;5;28;01mreturn\u001b[39;00m DataFrame(\u001b[38;5;28;43mself\u001b[39;49m\u001b[38;5;241;43m.\u001b[39;49m\u001b[43m_jsparkSession\u001b[49m\u001b[38;5;241;43m.\u001b[39;49m\u001b[43msql\u001b[49m\u001b[43m(\u001b[49m\u001b[43msqlQuery\u001b[49m\u001b[43m,\u001b[49m\u001b[43m \u001b[49m\u001b[43mlitArgs\u001b[49m\u001b[43m)\u001b[49m, \u001b[38;5;28mself\u001b[39m)\n\u001b[1;32m   1632\u001b[0m \u001b[38;5;28;01mfinally\u001b[39;00m:\n\u001b[1;32m   1633\u001b[0m     \u001b[38;5;28;01mif\u001b[39;00m \u001b[38;5;28mlen\u001b[39m(kwargs) \u001b[38;5;241m>\u001b[39m \u001b[38;5;241m0\u001b[39m:\n",
      "File \u001b[0;32m~/Documents/github/lakehouse-labs/.venv/lib/python3.11/site-packages/py4j/java_gateway.py:1322\u001b[0m, in \u001b[0;36mJavaMember.__call__\u001b[0;34m(self, *args)\u001b[0m\n\u001b[1;32m   1316\u001b[0m command \u001b[38;5;241m=\u001b[39m proto\u001b[38;5;241m.\u001b[39mCALL_COMMAND_NAME \u001b[38;5;241m+\u001b[39m\\\n\u001b[1;32m   1317\u001b[0m     \u001b[38;5;28mself\u001b[39m\u001b[38;5;241m.\u001b[39mcommand_header \u001b[38;5;241m+\u001b[39m\\\n\u001b[1;32m   1318\u001b[0m     args_command \u001b[38;5;241m+\u001b[39m\\\n\u001b[1;32m   1319\u001b[0m     proto\u001b[38;5;241m.\u001b[39mEND_COMMAND_PART\n\u001b[1;32m   1321\u001b[0m answer \u001b[38;5;241m=\u001b[39m \u001b[38;5;28mself\u001b[39m\u001b[38;5;241m.\u001b[39mgateway_client\u001b[38;5;241m.\u001b[39msend_command(command)\n\u001b[0;32m-> 1322\u001b[0m return_value \u001b[38;5;241m=\u001b[39m \u001b[43mget_return_value\u001b[49m\u001b[43m(\u001b[49m\n\u001b[1;32m   1323\u001b[0m \u001b[43m    \u001b[49m\u001b[43manswer\u001b[49m\u001b[43m,\u001b[49m\u001b[43m \u001b[49m\u001b[38;5;28;43mself\u001b[39;49m\u001b[38;5;241;43m.\u001b[39;49m\u001b[43mgateway_client\u001b[49m\u001b[43m,\u001b[49m\u001b[43m \u001b[49m\u001b[38;5;28;43mself\u001b[39;49m\u001b[38;5;241;43m.\u001b[39;49m\u001b[43mtarget_id\u001b[49m\u001b[43m,\u001b[49m\u001b[43m \u001b[49m\u001b[38;5;28;43mself\u001b[39;49m\u001b[38;5;241;43m.\u001b[39;49m\u001b[43mname\u001b[49m\u001b[43m)\u001b[49m\n\u001b[1;32m   1325\u001b[0m \u001b[38;5;28;01mfor\u001b[39;00m temp_arg \u001b[38;5;129;01min\u001b[39;00m temp_args:\n\u001b[1;32m   1326\u001b[0m     \u001b[38;5;28;01mif\u001b[39;00m \u001b[38;5;28mhasattr\u001b[39m(temp_arg, \u001b[38;5;124m\"\u001b[39m\u001b[38;5;124m_detach\u001b[39m\u001b[38;5;124m\"\u001b[39m):\n",
      "File \u001b[0;32m~/Documents/github/lakehouse-labs/.venv/lib/python3.11/site-packages/pyspark/errors/exceptions/captured.py:185\u001b[0m, in \u001b[0;36mcapture_sql_exception.<locals>.deco\u001b[0;34m(*a, **kw)\u001b[0m\n\u001b[1;32m    181\u001b[0m converted \u001b[38;5;241m=\u001b[39m convert_exception(e\u001b[38;5;241m.\u001b[39mjava_exception)\n\u001b[1;32m    182\u001b[0m \u001b[38;5;28;01mif\u001b[39;00m \u001b[38;5;129;01mnot\u001b[39;00m \u001b[38;5;28misinstance\u001b[39m(converted, UnknownException):\n\u001b[1;32m    183\u001b[0m     \u001b[38;5;66;03m# Hide where the exception came from that shows a non-Pythonic\u001b[39;00m\n\u001b[1;32m    184\u001b[0m     \u001b[38;5;66;03m# JVM exception message.\u001b[39;00m\n\u001b[0;32m--> 185\u001b[0m     \u001b[38;5;28;01mraise\u001b[39;00m converted \u001b[38;5;28;01mfrom\u001b[39;00m\u001b[38;5;250m \u001b[39m\u001b[38;5;28;01mNone\u001b[39;00m\n\u001b[1;32m    186\u001b[0m \u001b[38;5;28;01melse\u001b[39;00m:\n\u001b[1;32m    187\u001b[0m     \u001b[38;5;28;01mraise\u001b[39;00m\n",
      "\u001b[0;31mAnalysisException\u001b[0m: Cannot time travel Delta table to version 1. Available versions: [0, 0]."
     ]
    }
   ],
   "source": [
    "spark.sql(\"\"\"\n",
    "    select \n",
    "        *\n",
    "    from\n",
    "        deltalake_raw.accounts version as of 1\n",
    "    where\n",
    "        id = '0daad7bc-25b6-4469-8a2f-2ba767f86791'\n",
    "\"\"\").show(truncate=False)"
   ]
  },
  {
   "cell_type": "code",
   "execution_count": null,
   "id": "c606aaee-0f20-467b-833c-6df2f9b04f53",
   "metadata": {},
   "outputs": [],
   "source": []
  }
 ],
 "metadata": {
  "kernelspec": {
   "display_name": "Python 3 (ipykernel)",
   "language": "python",
   "name": "python3"
  },
  "language_info": {
   "codemirror_mode": {
    "name": "ipython",
    "version": 3
   },
   "file_extension": ".py",
   "mimetype": "text/x-python",
   "name": "python",
   "nbconvert_exporter": "python",
   "pygments_lexer": "ipython3",
   "version": "3.12.3"
  }
 },
 "nbformat": 4,
 "nbformat_minor": 5
}
