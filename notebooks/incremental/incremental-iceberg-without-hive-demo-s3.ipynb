{
 "cells": [
  {
   "cell_type": "markdown",
   "id": "d5efcf0f-582f-4325-9aac-94f663297b7c",
   "metadata": {
    "execution": {
     "iopub.execute_input": "2025-01-13T16:10:53.258944Z",
     "iopub.status.busy": "2025-01-13T16:10:53.258766Z",
     "iopub.status.idle": "2025-01-13T16:10:53.262641Z",
     "shell.execute_reply": "2025-01-13T16:10:53.262282Z",
     "shell.execute_reply.started": "2025-01-13T16:10:53.258933Z"
    }
   },
   "source": [
    "# POC: Incremental reads on Iceberg without hive metastore integrate with S3 \n",
    "\n",
    "Using local metastore with incremental feactures"
   ]
  },
  {
   "cell_type": "markdown",
   "id": "a6a4f183-da96-413b-bacc-32b6eebb5ab2",
   "metadata": {},
   "source": [
    "# Use cases\n",
    "Change Data Feed is not enabled by default. The following use cases should drive when you enable the change data feed.\n",
    "\n",
    "1. Silver and Gold tables: Improve Delta performance by processing only row-level changes following initial MERGE, UPDATE, or DELETE operations to accelerate and simplify ETL and ELT operations.\n",
    "\n",
    "2. Transmit changes: Send a change data feed to downstream systems such as Kafka or RDBMS that can use it to incrementally process in later stages of data pipelines.\n",
    "\n",
    "3. Audit trail table: Capture the change data feed as a Delta table provides perpetual storage and efficient query capability to see all changes over time, including when deletes occur and what updates were made.\n",
    "\n"
   ]
  },
  {
   "cell_type": "markdown",
   "id": "7f9f460b-cac6-4a9e-b7fa-efafd1f9b1c8",
   "metadata": {},
   "source": [
    "# Known constrains:\n",
    "\n",
    "- The snapshots also has constrains in rentation policys. Therefore, if you run the Optimizations command, change data feed data is also deleted. Default is 5 days according to some documentations. [Reference](https://www.tabular.io/apache-iceberg-cookbook/data-operations-snapshot-expiration/)"
   ]
  },
  {
   "cell_type": "markdown",
   "id": "53195027-d1d3-4ff2-b78a-cba254ce2754",
   "metadata": {},
   "source": [
    "## Before run\n",
    "\n",
    "Checks if spark 3.5.3 and Hadoop are install\n",
    "also the pyiceberg>=0.8.1 and pyspark>=3.5.3 libraries.\n",
    "\n",
    "Remove if existis the /warehouse/ folder in this direcory"
   ]
  },
  {
   "cell_type": "code",
   "execution_count": 1,
   "id": "91d07b1d-2be6-4b5d-bbbb-00270bba8367",
   "metadata": {
    "execution": {
     "iopub.execute_input": "2025-01-14T18:44:43.761085Z",
     "iopub.status.busy": "2025-01-14T18:44:43.760880Z",
     "iopub.status.idle": "2025-01-14T18:44:43.805963Z",
     "shell.execute_reply": "2025-01-14T18:44:43.805571Z",
     "shell.execute_reply.started": "2025-01-14T18:44:43.761063Z"
    }
   },
   "outputs": [],
   "source": [
    "from pyspark.sql import SparkSession\n",
    "from pyspark.sql.functions import col, year, month, dayofmonth"
   ]
  },
  {
   "cell_type": "markdown",
   "id": "40940756-17f4-44f7-ade4-8cc6a448538a",
   "metadata": {},
   "source": [
    "### Spark Setup"
   ]
  },
  {
   "cell_type": "code",
   "execution_count": 2,
   "id": "d4d262d6-90c2-40f7-b4db-5ed3ec455956",
   "metadata": {
    "execution": {
     "iopub.execute_input": "2025-01-14T18:44:44.147512Z",
     "iopub.status.busy": "2025-01-14T18:44:44.147310Z",
     "iopub.status.idle": "2025-01-14T18:44:44.149818Z",
     "shell.execute_reply": "2025-01-14T18:44:44.149508Z",
     "shell.execute_reply.started": "2025-01-14T18:44:44.147496Z"
    }
   },
   "outputs": [],
   "source": [
    "spark_jar_packages = \",\".join([\n",
    "    \"org.apache.iceberg:iceberg-spark-runtime-3.5_2.12:1.7.1\",\n",
    "    \"org.apache.hadoop:hadoop-aws:3.3.4\",\n",
    "    \"com.amazonaws:aws-java-sdk-bundle:1.12.262\",\n",
    "])"
   ]
  },
  {
   "cell_type": "code",
   "execution_count": 3,
   "id": "617be8a3-b2b9-476d-a101-e32da2076fd5",
   "metadata": {
    "execution": {
     "iopub.execute_input": "2025-01-14T18:44:44.595985Z",
     "iopub.status.busy": "2025-01-14T18:44:44.595787Z",
     "iopub.status.idle": "2025-01-14T18:44:44.598060Z",
     "shell.execute_reply": "2025-01-14T18:44:44.597730Z",
     "shell.execute_reply.started": "2025-01-14T18:44:44.595970Z"
    }
   },
   "outputs": [],
   "source": [
    "LOCAL_WAREHOUSE_CATALOG = \"s3a://lakehouse-raw/\""
   ]
  },
  {
   "cell_type": "code",
   "execution_count": 4,
   "id": "4d417510-85ba-4981-a1c1-4b949381e70a",
   "metadata": {
    "execution": {
     "iopub.execute_input": "2025-01-14T18:44:44.844186Z",
     "iopub.status.busy": "2025-01-14T18:44:44.843963Z",
     "iopub.status.idle": "2025-01-14T18:44:47.884403Z",
     "shell.execute_reply": "2025-01-14T18:44:47.883698Z",
     "shell.execute_reply.started": "2025-01-14T18:44:44.844168Z"
    }
   },
   "outputs": [
    {
     "name": "stderr",
     "output_type": "stream",
     "text": [
      "25/01/14 15:44:45 WARN Utils: Your hostname, baptvit resolves to a loopback address: 127.0.1.1; using 192.168.2.129 instead (on interface wlp4s0)\n",
      "25/01/14 15:44:45 WARN Utils: Set SPARK_LOCAL_IP if you need to bind to another address\n",
      "Ivy Default Cache set to: /home/baptvit/.ivy2/cache\n",
      "The jars for the packages stored in: /home/baptvit/.ivy2/jars\n",
      "org.apache.iceberg#iceberg-spark-runtime-3.5_2.12 added as a dependency\n",
      "org.apache.hadoop#hadoop-aws added as a dependency\n",
      "com.amazonaws#aws-java-sdk-bundle added as a dependency\n",
      ":: resolving dependencies :: org.apache.spark#spark-submit-parent-8a390678-8f84-408d-8426-bb1c8c5e0bd4;1.0\n",
      "\tconfs: [default]\n",
      "\tfound org.apache.iceberg#iceberg-spark-runtime-3.5_2.12;1.7.1 in central\n"
     ]
    },
    {
     "name": "stdout",
     "output_type": "stream",
     "text": [
      ":: loading settings :: url = jar:file:/opt/spark/jars/ivy-2.5.1.jar!/org/apache/ivy/core/settings/ivysettings.xml\n"
     ]
    },
    {
     "name": "stderr",
     "output_type": "stream",
     "text": [
      "\tfound org.apache.hadoop#hadoop-aws;3.3.4 in central\n",
      "\tfound com.amazonaws#aws-java-sdk-bundle;1.12.262 in central\n",
      "\tfound org.wildfly.openssl#wildfly-openssl;1.0.7.Final in central\n",
      ":: resolution report :: resolve 127ms :: artifacts dl 4ms\n",
      "\t:: modules in use:\n",
      "\tcom.amazonaws#aws-java-sdk-bundle;1.12.262 from central in [default]\n",
      "\torg.apache.hadoop#hadoop-aws;3.3.4 from central in [default]\n",
      "\torg.apache.iceberg#iceberg-spark-runtime-3.5_2.12;1.7.1 from central in [default]\n",
      "\torg.wildfly.openssl#wildfly-openssl;1.0.7.Final from central in [default]\n",
      "\t---------------------------------------------------------------------\n",
      "\t|                  |            modules            ||   artifacts   |\n",
      "\t|       conf       | number| search|dwnlded|evicted|| number|dwnlded|\n",
      "\t---------------------------------------------------------------------\n",
      "\t|      default     |   4   |   0   |   0   |   0   ||   4   |   0   |\n",
      "\t---------------------------------------------------------------------\n",
      ":: retrieving :: org.apache.spark#spark-submit-parent-8a390678-8f84-408d-8426-bb1c8c5e0bd4\n",
      "\tconfs: [default]\n",
      "\t0 artifacts copied, 4 already retrieved (0kB/4ms)\n",
      "25/01/14 15:44:45 WARN NativeCodeLoader: Unable to load native-hadoop library for your platform... using builtin-java classes where applicable\n",
      "Setting default log level to \"WARN\".\n",
      "To adjust logging level use sc.setLogLevel(newLevel). For SparkR, use setLogLevel(newLevel).\n"
     ]
    }
   ],
   "source": [
    "spark = (\n",
    "    SparkSession.builder\n",
    "    .master(\"local[*]\")\n",
    "    .appName(\"iceberg-hive-playground\")\n",
    "    .config(\"spark.jars.packages\", spark_jar_packages)\n",
    "\n",
    "    .config(\"spark.sql.extensions\", \"org.apache.iceberg.spark.extensions.IcebergSparkSessionExtensions\")\n",
    "    .config(\"spark.sql.catalog.spark_catalog\", \"org.apache.iceberg.spark.SparkSessionCatalog\")\n",
    "\n",
    "    # local caralog\n",
    "    .config(\"spark.sql.catalog.local.type\", \"hadoop\")   # Use Hadoop catalog\n",
    "    .config(\"spark.sql.catalog.local.warehouse\", LOCAL_WAREHOUSE_CATALOG)   # Path to store metadata\n",
    "    .config(\"spark.sql.warehouse.dir\", LOCAL_WAREHOUSE_CATALOG)   # Path to store metadata\n",
    "    .config(\"spark.sql.defaultCatalog\", \"local\")\n",
    "    .config(\"spark.sql.catalog.local\", \"org.apache.iceberg.spark.SparkCatalog\")\n",
    "\n",
    "    # S3 (MinIO Integration)\n",
    "    .config(\"spark.hadoop.fs.s3a.endpoint\", \"http://localhost:9010\")\n",
    "    .config(\"spark.hadoop.fs.s3a.access.key\", \"minioadmin\")\n",
    "    .config(\"spark.hadoop.fs.s3a.secret.key\", \"minioadmin\")\n",
    "    .config(\"spark.hadoop.fs.s3a.path.style.access\", \"true\")\n",
    "    .config(\"spark.hadoop.fs.s3a.impl\", \"org.apache.hadoop.fs.s3a.S3AFileSystem\")\n",
    "    .config(\"spark.hadoop.fs.s3a.aws.credentials.provider\", \"org.apache.hadoop.fs.s3a.SimpleAWSCredentialsProvider\")\n",
    "    .config(\"spark.hadoop.fs.s3a.region\", \"us-east-1\")\n",
    "    .getOrCreate()\n",
    ")"
   ]
  },
  {
   "cell_type": "markdown",
   "id": "a323d6b0-8592-4035-b6f5-1806f330a5aa",
   "metadata": {
    "jp-MarkdownHeadingCollapsed": true
   },
   "source": [
    "## Creating a fake database"
   ]
  },
  {
   "cell_type": "code",
   "execution_count": 5,
   "id": "c1cd0eac-26bc-4c78-bdbb-f3d02fef42ff",
   "metadata": {
    "execution": {
     "iopub.execute_input": "2025-01-14T18:44:48.084466Z",
     "iopub.status.busy": "2025-01-14T18:44:48.084162Z",
     "iopub.status.idle": "2025-01-14T18:44:48.201955Z",
     "shell.execute_reply": "2025-01-14T18:44:48.201598Z",
     "shell.execute_reply.started": "2025-01-14T18:44:48.084437Z"
    }
   },
   "outputs": [],
   "source": [
    "import random\n",
    "from faker import Faker"
   ]
  },
  {
   "cell_type": "code",
   "execution_count": 6,
   "id": "5be3ca19-edf8-4feb-a052-59c45b82f2ad",
   "metadata": {
    "execution": {
     "iopub.execute_input": "2025-01-14T18:44:48.286533Z",
     "iopub.status.busy": "2025-01-14T18:44:48.286311Z",
     "iopub.status.idle": "2025-01-14T18:44:48.289174Z",
     "shell.execute_reply": "2025-01-14T18:44:48.288899Z",
     "shell.execute_reply.started": "2025-01-14T18:44:48.286515Z"
    }
   },
   "outputs": [],
   "source": [
    "def generate_entry(faker: Faker, country_codes: list):\n",
    "    return {\n",
    "        \"id\": faker.unique.uuid4(),\n",
    "        \"name\":  faker.name(),\n",
    "        \"email\": faker.email(),\n",
    "        \"passport\": faker.passport_number(),\n",
    "        \"country_code\": random.choice(country_codes),\n",
    "        \"iban\": faker.iban(),\n",
    "        \"swift\": faker.swift11(),\n",
    "        \"created_at\": faker.past_date(start_date='-90d').strftime('%Y-%m-%d')\n",
    "    }"
   ]
  },
  {
   "cell_type": "code",
   "execution_count": 7,
   "id": "37ed828b-6b0a-46ec-b763-bc4e286756c8",
   "metadata": {
    "execution": {
     "iopub.execute_input": "2025-01-14T18:44:48.602455Z",
     "iopub.status.busy": "2025-01-14T18:44:48.602222Z",
     "iopub.status.idle": "2025-01-14T18:44:48.605431Z",
     "shell.execute_reply": "2025-01-14T18:44:48.605048Z",
     "shell.execute_reply.started": "2025-01-14T18:44:48.602438Z"
    }
   },
   "outputs": [],
   "source": [
    "def generate_dataset(num: int, seed: int):\n",
    "    country_codes = ['US', 'CA', 'JP', 'KR', 'FR', 'GE', 'UK', 'BR', 'AR']\n",
    "    Faker.seed(seed)\n",
    "    faker = Faker()\n",
    "    return [generate_entry(faker, country_codes) for _ in range(num)]"
   ]
  },
  {
   "cell_type": "code",
   "execution_count": 8,
   "id": "99175bb4-fd54-414b-8483-b89cd53db00e",
   "metadata": {
    "execution": {
     "iopub.execute_input": "2025-01-14T18:44:49.119380Z",
     "iopub.status.busy": "2025-01-14T18:44:49.119140Z",
     "iopub.status.idle": "2025-01-14T18:44:49.174539Z",
     "shell.execute_reply": "2025-01-14T18:44:49.174221Z",
     "shell.execute_reply.started": "2025-01-14T18:44:49.119361Z"
    }
   },
   "outputs": [],
   "source": [
    "dataset = generate_dataset(num=100, seed=739)"
   ]
  },
  {
   "cell_type": "code",
   "execution_count": 9,
   "id": "760ce08e-557b-4d6d-81b9-4502b43685d3",
   "metadata": {
    "execution": {
     "iopub.execute_input": "2025-01-14T18:44:49.503011Z",
     "iopub.status.busy": "2025-01-14T18:44:49.502779Z",
     "iopub.status.idle": "2025-01-14T18:44:50.815434Z",
     "shell.execute_reply": "2025-01-14T18:44:50.815017Z",
     "shell.execute_reply.started": "2025-01-14T18:44:49.502993Z"
    }
   },
   "outputs": [
    {
     "name": "stderr",
     "output_type": "stream",
     "text": [
      "25/01/14 15:44:49 WARN MetricsConfig: Cannot locate configuration: tried hadoop-metrics2-s3a-file-system.properties,hadoop-metrics2.properties\n"
     ]
    }
   ],
   "source": [
    "df = spark.createDataFrame(dataset)\\\n",
    "        .withColumn(\"year\", year(col(\"created_at\")))\\\n",
    "        .withColumn(\"month\", month(col(\"created_at\")))\\\n",
    "        .withColumn(\"day\", dayofmonth(col(\"created_at\")))"
   ]
  },
  {
   "cell_type": "code",
   "execution_count": 10,
   "id": "fcb2b317-ddd0-42db-8de6-f4b2e7d24ed6",
   "metadata": {
    "execution": {
     "iopub.execute_input": "2025-01-14T18:44:50.816201Z",
     "iopub.status.busy": "2025-01-14T18:44:50.816066Z",
     "iopub.status.idle": "2025-01-14T18:44:52.342354Z",
     "shell.execute_reply": "2025-01-14T18:44:52.341924Z",
     "shell.execute_reply.started": "2025-01-14T18:44:50.816188Z"
    }
   },
   "outputs": [
    {
     "name": "stderr",
     "output_type": "stream",
     "text": [
      "                                                                                "
     ]
    },
    {
     "name": "stdout",
     "output_type": "stream",
     "text": [
      "+------------+----------+--------------------+--------------------+--------------------+-----------+---------+-----------+----+-----+---+\n",
      "|country_code|created_at|               email|                iban|                  id|       name| passport|      swift|year|month|day|\n",
      "+------------+----------+--------------------+--------------------+--------------------+-----------+---------+-----------+----+-----+---+\n",
      "|          BR|2024-10-21|powelljason@examp...|GB77AKMZ560580635...|5a424412-b127-4f8...|Cody Taylor|895549199|INSEGB5PR6S|2024|   10| 21|\n",
      "+------------+----------+--------------------+--------------------+--------------------+-----------+---------+-----------+----+-----+---+\n",
      "only showing top 1 row\n",
      "\n"
     ]
    }
   ],
   "source": [
    "df.show(1)"
   ]
  },
  {
   "cell_type": "code",
   "execution_count": 11,
   "id": "fe03de7f-cdf2-4aae-b81f-f29bb670f423",
   "metadata": {
    "execution": {
     "iopub.execute_input": "2025-01-14T18:44:52.343007Z",
     "iopub.status.busy": "2025-01-14T18:44:52.342895Z",
     "iopub.status.idle": "2025-01-14T18:44:52.921865Z",
     "shell.execute_reply": "2025-01-14T18:44:52.921542Z",
     "shell.execute_reply.started": "2025-01-14T18:44:52.342996Z"
    }
   },
   "outputs": [
    {
     "data": {
      "text/plain": [
       "100"
      ]
     },
     "execution_count": 11,
     "metadata": {},
     "output_type": "execute_result"
    }
   ],
   "source": [
    "df.count()"
   ]
  },
  {
   "cell_type": "code",
   "execution_count": 12,
   "id": "607d4249-1534-456c-bdb3-b06197663ae3",
   "metadata": {
    "execution": {
     "iopub.execute_input": "2025-01-14T18:44:52.969788Z",
     "iopub.status.busy": "2025-01-14T18:44:52.969384Z",
     "iopub.status.idle": "2025-01-14T18:44:53.000234Z",
     "shell.execute_reply": "2025-01-14T18:44:52.999851Z",
     "shell.execute_reply.started": "2025-01-14T18:44:52.969772Z"
    }
   },
   "outputs": [
    {
     "name": "stderr",
     "output_type": "stream",
     "text": [
      "25/01/14 15:44:58 WARN GarbageCollectionMetrics: To enable non-built-in garbage collector(s) List(G1 Concurrent GC), users should configure it(them) to spark.eventLog.gcMetrics.youngGenerationGarbageCollectors or spark.eventLog.gcMetrics.oldGenerationGarbageCollectors\n"
     ]
    }
   ],
   "source": [
    "df.createOrReplaceTempView(\"accounts\")"
   ]
  },
  {
   "cell_type": "markdown",
   "id": "bec8b8a5-7f9f-4d7b-8d77-a0b0774a8ad4",
   "metadata": {
    "jp-MarkdownHeadingCollapsed": true
   },
   "source": [
    "## Save using the default database"
   ]
  },
  {
   "cell_type": "code",
   "execution_count": 13,
   "id": "829f88a2-f31a-42fd-b9a1-9105c8e7ad85",
   "metadata": {
    "execution": {
     "iopub.execute_input": "2025-01-14T18:45:14.255443Z",
     "iopub.status.busy": "2025-01-14T18:45:14.254929Z",
     "iopub.status.idle": "2025-01-14T18:45:14.458972Z",
     "shell.execute_reply": "2025-01-14T18:45:14.458560Z",
     "shell.execute_reply.started": "2025-01-14T18:45:14.255419Z"
    }
   },
   "outputs": [
    {
     "data": {
      "text/plain": [
       "DataFrame[]"
      ]
     },
     "execution_count": 13,
     "metadata": {},
     "output_type": "execute_result"
    }
   ],
   "source": [
    "spark.sql(\"\"\"\n",
    "    CREATE DATABASE IF NOT EXISTS iceberg;\n",
    "\"\"\")"
   ]
  },
  {
   "cell_type": "markdown",
   "id": "d8bedd3c-f530-4df6-85c6-8eef428f20b0",
   "metadata": {},
   "source": [
    "Ideially we could specify the table schema to about the **overwriteSchem=true**\n",
    "\n",
    "````\n",
    "from pyspark.sql.types import DoubleType, FloatType, LongType, StructType,StructField, StringType\n",
    "schema = StructType([\n",
    "  StructField(\"vendor_id\", LongType(), True),\n",
    "  StructField(\"trip_id\", LongType(), True),\n",
    "  StructField(\"trip_distance\", FloatType(), True),\n",
    "  StructField(\"fare_amount\", DoubleType(), True),\n",
    "  StructField(\"store_and_fwd_flag\", StringType(), True)\n",
    "])\n",
    "\n",
    "df = spark.createDataFrame([], schema)\n",
    "df.writeTo(\"demo.nyc.taxis\").create()\n",
    "````"
   ]
  },
  {
   "cell_type": "code",
   "execution_count": 14,
   "id": "8ccb6b4b-a41e-427b-81c1-cef696837c20",
   "metadata": {
    "execution": {
     "iopub.execute_input": "2025-01-14T18:45:43.211945Z",
     "iopub.status.busy": "2025-01-14T18:45:43.211269Z",
     "iopub.status.idle": "2025-01-14T18:45:43.546119Z",
     "shell.execute_reply": "2025-01-14T18:45:43.545804Z",
     "shell.execute_reply.started": "2025-01-14T18:45:43.211910Z"
    }
   },
   "outputs": [
    {
     "data": {
      "text/plain": [
       "DataFrame[]"
      ]
     },
     "execution_count": 14,
     "metadata": {},
     "output_type": "execute_result"
    }
   ],
   "source": [
    "spark.sql(\n",
    "    \"\"\"\n",
    "    CREATE TABLE IF NOT EXISTS iceberg.accounts\n",
    "        USING iceberg\n",
    "    \"\"\"\n",
    ")"
   ]
  },
  {
   "cell_type": "code",
   "execution_count": 15,
   "id": "5e3b19a2-5f7c-4fc6-8207-58bc9b5e76f4",
   "metadata": {
    "execution": {
     "iopub.execute_input": "2025-01-14T18:45:54.934621Z",
     "iopub.status.busy": "2025-01-14T18:45:54.934066Z",
     "iopub.status.idle": "2025-01-14T18:45:56.118106Z",
     "shell.execute_reply": "2025-01-14T18:45:56.117760Z",
     "shell.execute_reply.started": "2025-01-14T18:45:54.934578Z"
    }
   },
   "outputs": [],
   "source": [
    "df.writeTo(\"iceberg.accounts\")\\\n",
    "    .tableProperty(\"changelog.enabled\", \"true\")\\\n",
    "    .tableProperty(\"overwriteSchema\", \"true\")\\\n",
    "    .partitionedBy(\"year\", \"month\")\\\n",
    "    .createOrReplace() ## FIrst time create or replace"
   ]
  },
  {
   "cell_type": "markdown",
   "id": "2806232d-b1df-4c79-8f1a-e36a42083b12",
   "metadata": {
    "jp-MarkdownHeadingCollapsed": true
   },
   "source": [
    "## Reading from local direct from file"
   ]
  },
  {
   "cell_type": "code",
   "execution_count": 16,
   "id": "4ad8eef5-0593-412a-bc7a-155d7c56bbed",
   "metadata": {
    "execution": {
     "iopub.execute_input": "2025-01-14T18:46:02.695350Z",
     "iopub.status.busy": "2025-01-14T18:46:02.695065Z",
     "iopub.status.idle": "2025-01-14T18:46:02.698439Z",
     "shell.execute_reply": "2025-01-14T18:46:02.697937Z",
     "shell.execute_reply.started": "2025-01-14T18:46:02.695328Z"
    }
   },
   "outputs": [],
   "source": [
    "LOCAL_ACCOUNT_TABLE = LOCAL_WAREHOUSE_CATALOG + \"iceberg/accounts\""
   ]
  },
  {
   "cell_type": "code",
   "execution_count": 17,
   "id": "f8e8edb4-e209-4c0c-abf3-682cf7fec228",
   "metadata": {
    "execution": {
     "iopub.execute_input": "2025-01-14T18:46:05.958622Z",
     "iopub.status.busy": "2025-01-14T18:46:05.958168Z",
     "iopub.status.idle": "2025-01-14T18:46:05.961171Z",
     "shell.execute_reply": "2025-01-14T18:46:05.960875Z",
     "shell.execute_reply.started": "2025-01-14T18:46:05.958602Z"
    }
   },
   "outputs": [
    {
     "data": {
      "text/plain": [
       "'s3a://lakehouse-raw/iceberg/accounts'"
      ]
     },
     "execution_count": 17,
     "metadata": {},
     "output_type": "execute_result"
    }
   ],
   "source": [
    "LOCAL_ACCOUNT_TABLE"
   ]
  },
  {
   "cell_type": "code",
   "execution_count": 18,
   "id": "4a5751e6-495e-4588-9682-0b5c361089c8",
   "metadata": {
    "execution": {
     "iopub.execute_input": "2025-01-14T18:46:11.404709Z",
     "iopub.status.busy": "2025-01-14T18:46:11.404195Z",
     "iopub.status.idle": "2025-01-14T18:46:11.517111Z",
     "shell.execute_reply": "2025-01-14T18:46:11.516763Z",
     "shell.execute_reply.started": "2025-01-14T18:46:11.404686Z"
    }
   },
   "outputs": [],
   "source": [
    "# providing a starting version\n",
    "df_read = spark.read.format(\"iceberg\") \\\n",
    "  .load(LOCAL_ACCOUNT_TABLE)"
   ]
  },
  {
   "cell_type": "code",
   "execution_count": 19,
   "id": "b99a128d-0345-42c6-ad80-58fd243be452",
   "metadata": {
    "execution": {
     "iopub.execute_input": "2025-01-14T18:46:12.032885Z",
     "iopub.status.busy": "2025-01-14T18:46:12.032648Z",
     "iopub.status.idle": "2025-01-14T18:46:12.192807Z",
     "shell.execute_reply": "2025-01-14T18:46:12.192474Z",
     "shell.execute_reply.started": "2025-01-14T18:46:12.032868Z"
    }
   },
   "outputs": [
    {
     "data": {
      "text/plain": [
       "100"
      ]
     },
     "execution_count": 19,
     "metadata": {},
     "output_type": "execute_result"
    }
   ],
   "source": [
    "df_read.count()"
   ]
  },
  {
   "cell_type": "markdown",
   "id": "a2ddc73c-4187-4a0c-b3b3-e8c72f44a60f",
   "metadata": {
    "jp-MarkdownHeadingCollapsed": true
   },
   "source": [
    "## Reading the table history from local folder\n",
    "\n",
    "Local folder and spark SQL"
   ]
  },
  {
   "cell_type": "code",
   "execution_count": 20,
   "id": "45ba2425-f864-4937-ae26-0cb6d6ec5037",
   "metadata": {
    "execution": {
     "iopub.execute_input": "2025-01-14T18:46:23.961113Z",
     "iopub.status.busy": "2025-01-14T18:46:23.960695Z",
     "iopub.status.idle": "2025-01-14T18:46:23.984091Z",
     "shell.execute_reply": "2025-01-14T18:46:23.983721Z",
     "shell.execute_reply.started": "2025-01-14T18:46:23.961095Z"
    }
   },
   "outputs": [
    {
     "data": {
      "text/plain": [
       "DataFrame[]"
      ]
     },
     "execution_count": 20,
     "metadata": {},
     "output_type": "execute_result"
    }
   ],
   "source": [
    "spark.sql(\"\"\"\n",
    "    CREATE DATABASE IF NOT EXISTS iceberg;\n",
    "\"\"\")"
   ]
  },
  {
   "cell_type": "code",
   "execution_count": 21,
   "id": "8b2f10f3-5193-4f95-864b-44113fcbb228",
   "metadata": {
    "execution": {
     "iopub.execute_input": "2025-01-14T18:46:41.374589Z",
     "iopub.status.busy": "2025-01-14T18:46:41.374257Z",
     "iopub.status.idle": "2025-01-14T18:46:41.424469Z",
     "shell.execute_reply": "2025-01-14T18:46:41.424142Z",
     "shell.execute_reply.started": "2025-01-14T18:46:41.374564Z"
    }
   },
   "outputs": [
    {
     "data": {
      "text/plain": [
       "DataFrame[]"
      ]
     },
     "execution_count": 21,
     "metadata": {},
     "output_type": "execute_result"
    }
   ],
   "source": [
    "spark.sql(\n",
    "    f\"\"\"\n",
    "    CREATE TABLE IF NOT EXISTS iceberg.accounts\n",
    "        USING iceberg\n",
    "        OPTIONS (\n",
    "          path = '{LOCAL_ACCOUNT_TABLE}'\n",
    "        );\n",
    "    \"\"\"\n",
    ")"
   ]
  },
  {
   "cell_type": "code",
   "execution_count": 22,
   "id": "aeb5bef3-3fe7-41db-aedc-9700da1a2ba6",
   "metadata": {
    "execution": {
     "iopub.execute_input": "2025-01-14T18:46:43.309131Z",
     "iopub.status.busy": "2025-01-14T18:46:43.308909Z",
     "iopub.status.idle": "2025-01-14T18:46:43.500966Z",
     "shell.execute_reply": "2025-01-14T18:46:43.500605Z",
     "shell.execute_reply.started": "2025-01-14T18:46:43.309114Z"
    }
   },
   "outputs": [
    {
     "name": "stdout",
     "output_type": "stream",
     "text": [
      "+-----------------------+-------------------+---------+-------------------+\n",
      "|made_current_at        |snapshot_id        |parent_id|is_current_ancestor|\n",
      "+-----------------------+-------------------+---------+-------------------+\n",
      "|2025-01-14 15:45:56.026|3427546640704181193|NULL     |true               |\n",
      "+-----------------------+-------------------+---------+-------------------+\n",
      "\n"
     ]
    }
   ],
   "source": [
    "spark.sql(\"\"\"\n",
    "    SELECT *\n",
    "    FROM iceberg.accounts.history\n",
    "\"\"\").show(truncate=False)\n"
   ]
  },
  {
   "cell_type": "markdown",
   "id": "18c5f1cb-573f-45ac-880b-32d17efe3f5a",
   "metadata": {
    "jp-MarkdownHeadingCollapsed": true
   },
   "source": [
    "## Using CDC and table history to identify the increments"
   ]
  },
  {
   "cell_type": "markdown",
   "id": "9110ff7d-ce69-4159-b89a-1af126b208c7",
   "metadata": {
    "execution": {
     "iopub.execute_input": "2025-01-13T17:23:05.195378Z",
     "iopub.status.busy": "2025-01-13T17:23:05.195024Z",
     "iopub.status.idle": "2025-01-13T17:23:05.197653Z",
     "shell.execute_reply": "2025-01-13T17:23:05.197263Z",
     "shell.execute_reply.started": "2025-01-13T17:23:05.195363Z"
    }
   },
   "source": [
    "### Local folder with describe history"
   ]
  },
  {
   "cell_type": "code",
   "execution_count": 23,
   "id": "630c588c-5b43-45e8-a0bb-62a6a8d0dd70",
   "metadata": {
    "execution": {
     "iopub.execute_input": "2025-01-14T18:46:59.666384Z",
     "iopub.status.busy": "2025-01-14T18:46:59.666093Z",
     "iopub.status.idle": "2025-01-14T18:46:59.782970Z",
     "shell.execute_reply": "2025-01-14T18:46:59.782577Z",
     "shell.execute_reply.started": "2025-01-14T18:46:59.666360Z"
    }
   },
   "outputs": [
    {
     "data": {
      "text/plain": [
       "3427546640704181193"
      ]
     },
     "execution_count": 23,
     "metadata": {},
     "output_type": "execute_result"
    }
   ],
   "source": [
    "latest_snapshot_id = spark.sql(\"\"\"\n",
    "    SELECT snapshot_id\n",
    "    FROM iceberg.accounts.snapshots\n",
    "    ORDER BY committed_at DESC\n",
    "    LIMIT 1;\n",
    "\"\"\").collect()[0][0]\n",
    "\n",
    "latest_snapshot_id"
   ]
  },
  {
   "cell_type": "markdown",
   "id": "6a1fb5b0-3a16-4261-a894-b3810ce38717",
   "metadata": {},
   "source": [
    "### Reading just the last table version using local catalog"
   ]
  },
  {
   "cell_type": "code",
   "execution_count": 24,
   "id": "5fe31452-38d7-4508-aee0-8406e4c98a19",
   "metadata": {
    "execution": {
     "iopub.execute_input": "2025-01-14T18:47:16.001933Z",
     "iopub.status.busy": "2025-01-14T18:47:16.001541Z",
     "iopub.status.idle": "2025-01-14T18:47:16.137830Z",
     "shell.execute_reply": "2025-01-14T18:47:16.137488Z",
     "shell.execute_reply.started": "2025-01-14T18:47:16.001908Z"
    }
   },
   "outputs": [
    {
     "data": {
      "text/plain": [
       "100"
      ]
     },
     "execution_count": 24,
     "metadata": {},
     "output_type": "execute_result"
    }
   ],
   "source": [
    "latest_changes_df = spark.read.format(\"iceberg\") \\\n",
    "    .option(\"snapshot-id\", latest_snapshot_id) \\\n",
    "    .load(\"iceberg.accounts\")\n",
    "\n",
    "latest_changes_df.count()"
   ]
  },
  {
   "cell_type": "code",
   "execution_count": 25,
   "id": "edc9c156-6812-4cbf-a3ca-39d3d47968a6",
   "metadata": {
    "execution": {
     "iopub.execute_input": "2025-01-14T18:47:34.229207Z",
     "iopub.status.busy": "2025-01-14T18:47:34.228543Z",
     "iopub.status.idle": "2025-01-14T18:47:34.448726Z",
     "shell.execute_reply": "2025-01-14T18:47:34.448346Z",
     "shell.execute_reply.started": "2025-01-14T18:47:34.229172Z"
    }
   },
   "outputs": [
    {
     "name": "stdout",
     "output_type": "stream",
     "text": [
      "+------------+----------+--------------------+--------------------+--------------------+----------------+---------+-----------+----+-----+---+\n",
      "|country_code|created_at|               email|                iban|                  id|            name| passport|      swift|year|month|day|\n",
      "+------------+----------+--------------------+--------------------+--------------------+----------------+---------+-----------+----+-----+---+\n",
      "|          JP|2024-12-09|brightthomas@exam...|GB56NVYS608859440...|189b84f0-9527-45e...|  Brittany Heath|H58091059|BEBQGBVOSLL|2024|   12|  9|\n",
      "|          US|2024-12-16|donaldpierce@exam...|GB55LFTZ500270831...|b7e33adb-9bfe-465...|        Ann Cruz|T22953641|HMAQGBCSXE8|2024|   12| 16|\n",
      "|          KR|2024-12-09|harrisondeanna@ex...|GB96EZYO163067760...|bef2df38-4a7a-4b7...| Destiny Jimenez|F75210547|WSHOGBQ55I9|2024|   12|  9|\n",
      "|          JP|2024-12-10|derrick15@example...|GB14AYNQ551881503...|0daad7bc-25b6-446...|Cassidy Jones MD|595954695|VTHYGBZMNOI|2024|   12| 10|\n",
      "|          CA|2024-12-28|seanhenderson@exa...|GB96HUZF241750671...|757daf25-ddd6-410...|  Sherri Hickman|529955944|OXTEGBB860C|2024|   12| 28|\n",
      "+------------+----------+--------------------+--------------------+--------------------+----------------+---------+-----------+----+-----+---+\n",
      "only showing top 5 rows\n",
      "\n"
     ]
    }
   ],
   "source": [
    "latest_changes_df.show(5)"
   ]
  },
  {
   "cell_type": "markdown",
   "id": "783a508f-7034-402a-9520-50aada820b59",
   "metadata": {},
   "source": [
    "## Creating the upsert"
   ]
  },
  {
   "cell_type": "markdown",
   "id": "a1af924c-2e1c-4d0b-8054-fddb76df2f1d",
   "metadata": {
    "execution": {
     "iopub.execute_input": "2025-01-13T16:25:40.766896Z",
     "iopub.status.busy": "2025-01-13T16:25:40.766716Z",
     "iopub.status.idle": "2025-01-13T16:25:40.769569Z",
     "shell.execute_reply": "2025-01-13T16:25:40.769192Z",
     "shell.execute_reply.started": "2025-01-13T16:25:40.766883Z"
    },
    "jp-MarkdownHeadingCollapsed": true
   },
   "source": [
    "### Upsert Dataset\n",
    "\n",
    "Editing 4 records and adding new 4 records"
   ]
  },
  {
   "cell_type": "code",
   "execution_count": 26,
   "id": "4bf3813d-2d55-47ce-9c90-7e0433f85c01",
   "metadata": {
    "execution": {
     "iopub.execute_input": "2025-01-14T18:47:38.481662Z",
     "iopub.status.busy": "2025-01-14T18:47:38.481429Z",
     "iopub.status.idle": "2025-01-14T18:47:38.487450Z",
     "shell.execute_reply": "2025-01-14T18:47:38.486957Z",
     "shell.execute_reply.started": "2025-01-14T18:47:38.481644Z"
    }
   },
   "outputs": [],
   "source": [
    "entries = [\n",
    "    # Existing entries\n",
    "    dataset[2], \n",
    "    dataset[4], \n",
    "    dataset[7],\n",
    "    dataset[11],\n",
    "    # New entries\n",
    "    *generate_dataset(4, seed=1037)\n",
    "]"
   ]
  },
  {
   "cell_type": "code",
   "execution_count": 27,
   "id": "398b3fa2-da9f-445c-a016-0c5fa2c46383",
   "metadata": {
    "execution": {
     "iopub.execute_input": "2025-01-14T18:47:55.423526Z",
     "iopub.status.busy": "2025-01-14T18:47:55.423109Z",
     "iopub.status.idle": "2025-01-14T18:47:55.427498Z",
     "shell.execute_reply": "2025-01-14T18:47:55.426887Z",
     "shell.execute_reply.started": "2025-01-14T18:47:55.423491Z"
    }
   },
   "outputs": [],
   "source": [
    "for entry in entries:\n",
    "    username = entry['name'].lower().replace(\" \", \".\")\n",
    "    entry['email'] = f\"{username}@domain.com\""
   ]
  },
  {
   "cell_type": "code",
   "execution_count": 28,
   "id": "791a8bec-634c-4bbb-9581-64e770c58fb5",
   "metadata": {
    "execution": {
     "iopub.execute_input": "2025-01-14T18:47:59.967932Z",
     "iopub.status.busy": "2025-01-14T18:47:59.967513Z",
     "iopub.status.idle": "2025-01-14T18:48:00.004123Z",
     "shell.execute_reply": "2025-01-14T18:48:00.003759Z",
     "shell.execute_reply.started": "2025-01-14T18:47:59.967897Z"
    }
   },
   "outputs": [],
   "source": [
    "upsert_df = spark.createDataFrame(entries)\\\n",
    "        .withColumn(\"year\", year(col(\"created_at\")))\\\n",
    "        .withColumn(\"month\", month(col(\"created_at\")))\\\n",
    "        .withColumn(\"day\", dayofmonth(col(\"created_at\")))"
   ]
  },
  {
   "cell_type": "code",
   "execution_count": 29,
   "id": "f841c5db-fdaf-4e26-9059-c062a5dcd2ec",
   "metadata": {
    "execution": {
     "iopub.execute_input": "2025-01-14T18:48:00.709604Z",
     "iopub.status.busy": "2025-01-14T18:48:00.709313Z",
     "iopub.status.idle": "2025-01-14T18:48:01.238874Z",
     "shell.execute_reply": "2025-01-14T18:48:01.238444Z",
     "shell.execute_reply.started": "2025-01-14T18:48:00.709582Z"
    }
   },
   "outputs": [
    {
     "name": "stdout",
     "output_type": "stream",
     "text": [
      "+------------+----------+---------------------------+----------------------+------------------------------------+----------------+---------+-----------+----+-----+---+\n",
      "|country_code|created_at|email                      |iban                  |id                                  |name            |passport |swift      |year|month|day|\n",
      "+------------+----------+---------------------------+----------------------+------------------------------------+----------------+---------+-----------+----+-----+---+\n",
      "|US          |2024-12-16|ann.cruz@domain.com        |GB55LFTZ50027083194346|b7e33adb-9bfe-465f-a533-1d57f8d9c9f6|Ann Cruz        |T22953641|HMAQGBCSXE8|2024|12   |16 |\n",
      "|JP          |2024-12-10|cassidy.jones.md@domain.com|GB14AYNQ55188150393152|0daad7bc-25b6-4469-8a2f-2ba767f86791|Cassidy Jones MD|595954695|VTHYGBZMNOI|2024|12   |10 |\n",
      "|AR          |2024-12-11|kara.thomas@domain.com     |GB02LAAF80272115976869|4cbbf121-caae-42aa-8508-3fd99bb2f762|Kara Thomas     |661814813|DULPGBWLTDU|2024|12   |11 |\n",
      "|BR          |2025-01-10|joseph.arellano@domain.com |GB83QLKQ49955494203274|eda0dc3f-2296-4859-bdc7-b1c8aa84e5c6|Joseph Arellano |N43772821|VDYQGB92ZCM|2025|1    |10 |\n",
      "|AR          |2025-01-05|amber.gomez@domain.com     |GB14JAMN32652852396677|7e1d1d6c-ac3b-478c-b0a0-901515929588|Amber Gomez     |V40815604|OEDJGBV2XYE|2025|1    |5  |\n",
      "|CA          |2024-11-08|david.flynn@domain.com     |GB02WPAU75504619793222|3b07d43d-e15f-4825-9cee-a937fceaeb81|David Flynn     |481064071|MKYOGBA7ENY|2024|11   |8  |\n",
      "|CA          |2024-12-14|anthony.blair@domain.com   |GB63BUEB96211985511216|511d51ba-54be-4f6e-a824-5657fc1eda1b|Anthony Blair   |G42414114|UJRFGBB7P9V|2024|12   |14 |\n",
      "|UK          |2024-11-21|jennifer.lamb@domain.com   |GB77NEUS86176381267948|52c2ae7c-6107-4095-98dc-7d797ebf2b05|Jennifer Lamb   |283291701|DZQUGBI6R85|2024|11   |21 |\n",
      "+------------+----------+---------------------------+----------------------+------------------------------------+----------------+---------+-----------+----+-----+---+\n",
      "\n"
     ]
    }
   ],
   "source": [
    "upsert_df.show(8, truncate=False)"
   ]
  },
  {
   "cell_type": "code",
   "execution_count": 31,
   "id": "c050bb9f-323a-4dd9-a730-136653fef5f4",
   "metadata": {
    "execution": {
     "iopub.execute_input": "2025-01-14T18:48:34.330303Z",
     "iopub.status.busy": "2025-01-14T18:48:34.329678Z",
     "iopub.status.idle": "2025-01-14T18:48:34.692975Z",
     "shell.execute_reply": "2025-01-14T18:48:34.692680Z",
     "shell.execute_reply.started": "2025-01-14T18:48:34.330272Z"
    }
   },
   "outputs": [
    {
     "data": {
      "text/plain": [
       "8"
      ]
     },
     "execution_count": 31,
     "metadata": {},
     "output_type": "execute_result"
    }
   ],
   "source": [
    "upsert_df.count()"
   ]
  },
  {
   "cell_type": "code",
   "execution_count": 32,
   "id": "4a3bff34-f2d8-4747-ab12-1053bc8b6a11",
   "metadata": {
    "execution": {
     "iopub.execute_input": "2025-01-14T18:48:44.746798Z",
     "iopub.status.busy": "2025-01-14T18:48:44.746288Z",
     "iopub.status.idle": "2025-01-14T18:48:44.756487Z",
     "shell.execute_reply": "2025-01-14T18:48:44.755962Z",
     "shell.execute_reply.started": "2025-01-14T18:48:44.746772Z"
    }
   },
   "outputs": [],
   "source": [
    "upsert_df.createOrReplaceTempView(\"upsert_data\")"
   ]
  },
  {
   "cell_type": "markdown",
   "id": "9640466a-4aae-496d-9cd0-cfd339a52fcf",
   "metadata": {},
   "source": [
    "# Upsert Strategy"
   ]
  },
  {
   "cell_type": "markdown",
   "id": "f40a146b-2aef-443b-a6d3-5942639371c2",
   "metadata": {
    "jp-MarkdownHeadingCollapsed": true
   },
   "source": [
    "## Slowly Changing Dimension (SCD) Type 1\n",
    "\n",
    "In SCD Type 1, the existing records are overwritten with new data when there is a match, and new records are inserted when there is no match. This approach does not preserve historical changes; it simply updates the records with the latest data.\n"
   ]
  },
  {
   "cell_type": "markdown",
   "id": "f3ce99ee-74d9-4cda-87e9-ca08371232f0",
   "metadata": {},
   "source": [
    "### Using upsert in SQL like syntax"
   ]
  },
  {
   "cell_type": "code",
   "execution_count": 33,
   "id": "ff721de9-3bc7-4e28-a685-eadbbf685941",
   "metadata": {
    "execution": {
     "iopub.execute_input": "2025-01-14T18:49:51.626274Z",
     "iopub.status.busy": "2025-01-14T18:49:51.625644Z",
     "iopub.status.idle": "2025-01-14T18:49:53.211559Z",
     "shell.execute_reply": "2025-01-14T18:49:53.211196Z",
     "shell.execute_reply.started": "2025-01-14T18:49:51.626249Z"
    }
   },
   "outputs": [
    {
     "data": {
      "text/plain": [
       "DataFrame[]"
      ]
     },
     "execution_count": 33,
     "metadata": {},
     "output_type": "execute_result"
    }
   ],
   "source": [
    "spark.sql(\"\"\"\n",
    "    MERGE INTO iceberg.accounts AS target\n",
    "    USING upsert_data AS source ON \n",
    "        target.id = source.id\n",
    "    WHEN MATCHED THEN \n",
    "        UPDATE SET\n",
    "            target.country_code = source.country_code,\n",
    "            target.email = source.email,\n",
    "            target.name = source.name,\n",
    "            target.iban = source.iban,\n",
    "            target.swift = source.swift,\n",
    "            target.passport = source.passport\n",
    "    WHEN NOT MATCHED THEN \n",
    "        INSERT *\n",
    "\"\"\")"
   ]
  },
  {
   "cell_type": "markdown",
   "id": "ce3ca4ec-a65f-4a80-aa38-4f5c7f3f6f03",
   "metadata": {
    "execution": {
     "iopub.execute_input": "2025-01-13T17:08:28.738100Z",
     "iopub.status.busy": "2025-01-13T17:08:28.737800Z",
     "iopub.status.idle": "2025-01-13T17:08:28.741670Z",
     "shell.execute_reply": "2025-01-13T17:08:28.741229Z",
     "shell.execute_reply.started": "2025-01-13T17:08:28.738075Z"
    }
   },
   "source": [
    "**but this trigges a snapshot creation with SCD 1, cant not isolate nativally the increments**"
   ]
  },
  {
   "cell_type": "markdown",
   "id": "3b8e37e4-6e39-440b-baf6-d0a84e65bace",
   "metadata": {
    "jp-MarkdownHeadingCollapsed": true
   },
   "source": [
    "## Slowly Changing Dimension (SCD) Type 2\n",
    "\n",
    "Slowly Changing Dimension Type 2 (SCD Type 2) is a method used in data warehousing to track historical changes in dimension data over time. Unlike SCD Type 1, which overwrites old data with new data, SCD Type 2 preserves the full history of changes by creating new records for each change. This allows you to analyze how data has evolved over time.\n",
    "\n"
   ]
  },
  {
   "cell_type": "markdown",
   "id": "18c23043-44be-47d6-9bbd-275d214d0c74",
   "metadata": {},
   "source": [
    "### Using append in python library"
   ]
  },
  {
   "cell_type": "markdown",
   "id": "5399ab8b-d180-4700-b6ce-a43bf8f06dd4",
   "metadata": {},
   "source": [
    "Not available"
   ]
  },
  {
   "cell_type": "code",
   "execution_count": null,
   "id": "3555bcba-1dcf-4e58-a05c-e55a15adf73c",
   "metadata": {},
   "outputs": [],
   "source": [
    "upsert_df.writeTo(\"iceberg_db.accounts\")\\\n",
    "    .tableProperty(\"changelog.enabled\", \"true\")\\\n",
    "    .tableProperty(\"overwriteSchema\", \"true\")\\\n",
    "    .partitionedBy(\"year\", \"month\")\\\n",
    "    .append() ## "
   ]
  },
  {
   "cell_type": "code",
   "execution_count": null,
   "id": "8c684f2f-3bbc-4e02-8c7e-45129a230fa2",
   "metadata": {},
   "outputs": [],
   "source": [
    "spark.sql(\"\"\"\n",
    "    SELECT *\n",
    "    FROM iceberg_db.accounts.history\n",
    "\"\"\").show(vertical=True, truncate=False)"
   ]
  },
  {
   "cell_type": "code",
   "execution_count": null,
   "id": "74d312d2-c4e9-42aa-a36a-42e67ea0877d",
   "metadata": {},
   "outputs": [],
   "source": [
    "spark.sql(\"\"\"\n",
    "    SELECT *\n",
    "    FROM iceberg_db.accounts.snapshots\n",
    "\"\"\").show(vertical=True, truncate=False)"
   ]
  },
  {
   "cell_type": "markdown",
   "id": "bc3e49f9-70f8-48fd-a342-1dcde932451e",
   "metadata": {
    "jp-MarkdownHeadingCollapsed": true
   },
   "source": [
    "## Reading incrementals\n",
    "\n",
    "Iceberg doesnt keep the incremental isolated. snapshot is then a consolidade of the most recent version of the table."
   ]
  },
  {
   "cell_type": "code",
   "execution_count": 34,
   "id": "05a07e36-739d-4bc6-b08b-478e9e94ae76",
   "metadata": {
    "execution": {
     "iopub.execute_input": "2025-01-14T18:50:00.602864Z",
     "iopub.status.busy": "2025-01-14T18:50:00.602618Z",
     "iopub.status.idle": "2025-01-14T18:50:00.743007Z",
     "shell.execute_reply": "2025-01-14T18:50:00.742588Z",
     "shell.execute_reply.started": "2025-01-14T18:50:00.602849Z"
    }
   },
   "outputs": [
    {
     "name": "stdout",
     "output_type": "stream",
     "text": [
      "+-------------------+-------------------+\n",
      "|        snapshot_id|          parent_id|\n",
      "+-------------------+-------------------+\n",
      "|8762264941598402107|3427546640704181193|\n",
      "|3427546640704181193|               NULL|\n",
      "+-------------------+-------------------+\n",
      "\n"
     ]
    }
   ],
   "source": [
    "spark.sql(\"\"\"\n",
    "    SELECT snapshot_id, parent_id\n",
    "    FROM iceberg.accounts.snapshots\n",
    "    ORDER BY committed_at DESC;\n",
    "\"\"\").show()"
   ]
  },
  {
   "cell_type": "markdown",
   "id": "53bd4026-3ab6-4df7-955a-47b18ac20769",
   "metadata": {},
   "source": [
    "### Reading the last changes"
   ]
  },
  {
   "cell_type": "code",
   "execution_count": 35,
   "id": "22cdb52c-99a9-4f51-b13b-96147ca48bea",
   "metadata": {
    "execution": {
     "iopub.execute_input": "2025-01-14T18:50:49.388620Z",
     "iopub.status.busy": "2025-01-14T18:50:49.388065Z",
     "iopub.status.idle": "2025-01-14T18:50:49.458860Z",
     "shell.execute_reply": "2025-01-14T18:50:49.458523Z",
     "shell.execute_reply.started": "2025-01-14T18:50:49.388595Z"
    }
   },
   "outputs": [
    {
     "data": {
      "text/plain": [
       "8762264941598402107"
      ]
     },
     "execution_count": 35,
     "metadata": {},
     "output_type": "execute_result"
    }
   ],
   "source": [
    "latest_snapshot_id, parent_snapshot_id = spark.sql(\"\"\"\n",
    "    SELECT snapshot_id, parent_id\n",
    "    FROM iceberg.accounts.snapshots\n",
    "    ORDER BY committed_at DESC\n",
    "    LIMIT 1;\n",
    "\"\"\").collect()[0]\n",
    "\n",
    "latest_snapshot_id"
   ]
  },
  {
   "cell_type": "code",
   "execution_count": 36,
   "id": "18740e9c-df7d-4ca0-87be-d864ab33e198",
   "metadata": {
    "execution": {
     "iopub.execute_input": "2025-01-14T18:50:50.195575Z",
     "iopub.status.busy": "2025-01-14T18:50:50.195330Z",
     "iopub.status.idle": "2025-01-14T18:50:50.199358Z",
     "shell.execute_reply": "2025-01-14T18:50:50.198888Z",
     "shell.execute_reply.started": "2025-01-14T18:50:50.195558Z"
    }
   },
   "outputs": [
    {
     "data": {
      "text/plain": [
       "3427546640704181193"
      ]
     },
     "execution_count": 36,
     "metadata": {},
     "output_type": "execute_result"
    }
   ],
   "source": [
    "parent_snapshot_id"
   ]
  },
  {
   "cell_type": "code",
   "execution_count": 37,
   "id": "afbef033-d56a-4fbf-b1d2-1504e7b72fb8",
   "metadata": {
    "execution": {
     "iopub.execute_input": "2025-01-14T18:51:10.092337Z",
     "iopub.status.busy": "2025-01-14T18:51:10.091683Z",
     "iopub.status.idle": "2025-01-14T18:51:10.185918Z",
     "shell.execute_reply": "2025-01-14T18:51:10.185500Z",
     "shell.execute_reply.started": "2025-01-14T18:51:10.092312Z"
    }
   },
   "outputs": [
    {
     "data": {
      "text/plain": [
       "104"
      ]
     },
     "execution_count": 37,
     "metadata": {},
     "output_type": "execute_result"
    }
   ],
   "source": [
    "last_snapshot = spark.read.format(\"iceberg\") \\\n",
    "    .option(\"snapshot-id\", latest_snapshot_id) \\\n",
    "    .load(\"iceberg.accounts\")\n",
    "\n",
    "last_snapshot.count()"
   ]
  },
  {
   "cell_type": "code",
   "execution_count": 38,
   "id": "d48484fa-0847-4962-843a-d074cefd5355",
   "metadata": {
    "execution": {
     "iopub.execute_input": "2025-01-14T18:51:34.820394Z",
     "iopub.status.busy": "2025-01-14T18:51:34.819920Z",
     "iopub.status.idle": "2025-01-14T18:51:34.869782Z",
     "shell.execute_reply": "2025-01-14T18:51:34.869451Z",
     "shell.execute_reply.started": "2025-01-14T18:51:34.820371Z"
    }
   },
   "outputs": [
    {
     "data": {
      "text/plain": [
       "0"
      ]
     },
     "execution_count": 38,
     "metadata": {},
     "output_type": "execute_result"
    }
   ],
   "source": [
    "increment = spark.read.format(\"iceberg\") \\\n",
    "    .option(\"start-snapshot-id\", parent_snapshot_id) \\\n",
    "    .option(\"end-snapshot-id\", latest_snapshot_id) \\\n",
    "    .load(\"iceberg.accounts\")\n",
    "\n",
    "increment.count()"
   ]
  },
  {
   "cell_type": "markdown",
   "id": "3a5c51d5-d718-40e0-a279-21bfe82334aa",
   "metadata": {
    "jp-MarkdownHeadingCollapsed": true
   },
   "source": [
    "### Create a changlog_view for the iceberg table SCD 2 \n",
    "\n",
    "In order to create identify the incrementals beetween diferent snapshot_ids we need to create a changelog_view  "
   ]
  },
  {
   "cell_type": "code",
   "execution_count": 39,
   "id": "5a9c68b8-1de8-4c4c-8e78-7718d84299bb",
   "metadata": {
    "execution": {
     "iopub.execute_input": "2025-01-14T18:52:25.270530Z",
     "iopub.status.busy": "2025-01-14T18:52:25.269889Z",
     "iopub.status.idle": "2025-01-14T18:52:25.403719Z",
     "shell.execute_reply": "2025-01-14T18:52:25.403405Z",
     "shell.execute_reply.started": "2025-01-14T18:52:25.270506Z"
    }
   },
   "outputs": [
    {
     "name": "stderr",
     "output_type": "stream",
     "text": [
      "25/01/14 15:52:25 WARN SparkStringUtils: Truncated the string representation of a plan since it was too large. This behavior can be adjusted by setting 'spark.sql.debug.maxToStringFields'.\n"
     ]
    },
    {
     "data": {
      "text/plain": [
       "DataFrame[changelog_view: string]"
      ]
     },
     "execution_count": 39,
     "metadata": {},
     "output_type": "execute_result"
    }
   ],
   "source": [
    "spark.sql(f\"\"\"\n",
    "CALL system.create_changelog_view(\n",
    "  table => 'iceberg.accounts',\n",
    "  options => map('start-snapshot-id', '{parent_snapshot_id}', 'end-snapshot-id', '{latest_snapshot_id}'),\n",
    "  changelog_view => 'accounts_cdc'\n",
    ")\"\"\")"
   ]
  },
  {
   "cell_type": "code",
   "execution_count": 40,
   "id": "1bb0929e-4c4f-4b1b-804b-bb43bce62a77",
   "metadata": {
    "execution": {
     "iopub.execute_input": "2025-01-14T18:52:35.756724Z",
     "iopub.status.busy": "2025-01-14T18:52:35.756121Z",
     "iopub.status.idle": "2025-01-14T18:52:36.028698Z",
     "shell.execute_reply": "2025-01-14T18:52:36.028303Z",
     "shell.execute_reply.started": "2025-01-14T18:52:35.756690Z"
    }
   },
   "outputs": [
    {
     "name": "stdout",
     "output_type": "stream",
     "text": [
      "+------------+----------+--------------------+--------------------+--------------------+----------------+---------+-----------+----+-----+---+------------+---------------+-------------------+\n",
      "|country_code|created_at|               email|                iban|                  id|            name| passport|      swift|year|month|day|_change_type|_change_ordinal|_commit_snapshot_id|\n",
      "+------------+----------+--------------------+--------------------+--------------------+----------------+---------+-----------+----+-----+---+------------+---------------+-------------------+\n",
      "|          AR|2024-12-11|kara.thomas@domai...|GB02LAAF802721159...|4cbbf121-caae-42a...|     Kara Thomas|661814813|DULPGBWLTDU|2024|   12| 11|      INSERT|              0|8762264941598402107|\n",
      "|          AR|2024-12-11|  tramos@example.com|GB02LAAF802721159...|4cbbf121-caae-42a...|     Kara Thomas|661814813|DULPGBWLTDU|2024|   12| 11|      DELETE|              0|8762264941598402107|\n",
      "|          AR|2025-01-05|amber.gomez@domai...|GB14JAMN326528523...|7e1d1d6c-ac3b-478...|     Amber Gomez|V40815604|OEDJGBV2XYE|2025|    1|  5|      INSERT|              0|8762264941598402107|\n",
      "|          BR|2025-01-10|joseph.arellano@d...|GB83QLKQ499554942...|eda0dc3f-2296-485...| Joseph Arellano|N43772821|VDYQGB92ZCM|2025|    1| 10|      INSERT|              0|8762264941598402107|\n",
      "|          BR|2025-01-10|michele99@example...|GB83QLKQ499554942...|eda0dc3f-2296-485...| Joseph Arellano|N43772821|VDYQGB92ZCM|2025|    1| 10|      DELETE|              0|8762264941598402107|\n",
      "|          CA|2024-11-08|david.flynn@domai...|GB02WPAU755046197...|3b07d43d-e15f-482...|     David Flynn|481064071|MKYOGBA7ENY|2024|   11|  8|      INSERT|              0|8762264941598402107|\n",
      "|          CA|2024-12-14|anthony.blair@dom...|GB63BUEB962119855...|511d51ba-54be-4f6...|   Anthony Blair|G42414114|UJRFGBB7P9V|2024|   12| 14|      INSERT|              0|8762264941598402107|\n",
      "|          JP|2024-12-10|cassidy.jones.md@...|GB14AYNQ551881503...|0daad7bc-25b6-446...|Cassidy Jones MD|595954695|VTHYGBZMNOI|2024|   12| 10|      INSERT|              0|8762264941598402107|\n",
      "|          JP|2024-12-10|derrick15@example...|GB14AYNQ551881503...|0daad7bc-25b6-446...|Cassidy Jones MD|595954695|VTHYGBZMNOI|2024|   12| 10|      DELETE|              0|8762264941598402107|\n",
      "|          UK|2024-11-21|jennifer.lamb@dom...|GB77NEUS861763812...|52c2ae7c-6107-409...|   Jennifer Lamb|283291701|DZQUGBI6R85|2024|   11| 21|      INSERT|              0|8762264941598402107|\n",
      "|          US|2024-12-16| ann.cruz@domain.com|GB55LFTZ500270831...|b7e33adb-9bfe-465...|        Ann Cruz|T22953641|HMAQGBCSXE8|2024|   12| 16|      INSERT|              0|8762264941598402107|\n",
      "|          US|2024-12-16|donaldpierce@exam...|GB55LFTZ500270831...|b7e33adb-9bfe-465...|        Ann Cruz|T22953641|HMAQGBCSXE8|2024|   12| 16|      DELETE|              0|8762264941598402107|\n",
      "+------------+----------+--------------------+--------------------+--------------------+----------------+---------+-----------+----+-----+---+------------+---------------+-------------------+\n",
      "\n"
     ]
    }
   ],
   "source": [
    "spark.sql(f\"\"\"\n",
    "    SELECT * FROM accounts_cdc\n",
    "    WHERE _commit_snapshot_id == {latest_snapshot_id} \n",
    "\"\"\").show()"
   ]
  },
  {
   "cell_type": "code",
   "execution_count": 41,
   "id": "652501b8-5ec6-4257-841c-634d3179e05a",
   "metadata": {
    "execution": {
     "iopub.execute_input": "2025-01-14T18:53:49.788204Z",
     "iopub.status.busy": "2025-01-14T18:53:49.787578Z",
     "iopub.status.idle": "2025-01-14T18:53:49.956125Z",
     "shell.execute_reply": "2025-01-14T18:53:49.955759Z",
     "shell.execute_reply.started": "2025-01-14T18:53:49.788170Z"
    }
   },
   "outputs": [
    {
     "data": {
      "text/plain": [
       "8"
      ]
     },
     "execution_count": 41,
     "metadata": {},
     "output_type": "execute_result"
    }
   ],
   "source": [
    "spark.sql(f\"\"\"\n",
    "    SELECT * FROM accounts_cdc\n",
    "    WHERE _change_type = 'INSERT'\n",
    "\"\"\").count()"
   ]
  },
  {
   "cell_type": "markdown",
   "id": "ce717778-3572-4077-8816-3f988d9b010c",
   "metadata": {},
   "source": [
    "### Isolate the increments "
   ]
  },
  {
   "cell_type": "code",
   "execution_count": 43,
   "id": "eff6358b-86ba-42ac-b171-2754248d4cc5",
   "metadata": {
    "execution": {
     "iopub.execute_input": "2025-01-14T18:53:58.270636Z",
     "iopub.status.busy": "2025-01-14T18:53:58.270262Z",
     "iopub.status.idle": "2025-01-14T18:53:58.453588Z",
     "shell.execute_reply": "2025-01-14T18:53:58.453169Z",
     "shell.execute_reply.started": "2025-01-14T18:53:58.270604Z"
    }
   },
   "outputs": [
    {
     "name": "stdout",
     "output_type": "stream",
     "text": [
      "+------------+----------+--------------------+--------------------+--------------------+----------------+---------+-----------+----+-----+---+------------+---------------+-------------------+\n",
      "|country_code|created_at|               email|                iban|                  id|            name| passport|      swift|year|month|day|_change_type|_change_ordinal|_commit_snapshot_id|\n",
      "+------------+----------+--------------------+--------------------+--------------------+----------------+---------+-----------+----+-----+---+------------+---------------+-------------------+\n",
      "|          AR|2024-12-11|kara.thomas@domai...|GB02LAAF802721159...|4cbbf121-caae-42a...|     Kara Thomas|661814813|DULPGBWLTDU|2024|   12| 11|      INSERT|              0|8762264941598402107|\n",
      "|          AR|2025-01-05|amber.gomez@domai...|GB14JAMN326528523...|7e1d1d6c-ac3b-478...|     Amber Gomez|V40815604|OEDJGBV2XYE|2025|    1|  5|      INSERT|              0|8762264941598402107|\n",
      "|          BR|2025-01-10|joseph.arellano@d...|GB83QLKQ499554942...|eda0dc3f-2296-485...| Joseph Arellano|N43772821|VDYQGB92ZCM|2025|    1| 10|      INSERT|              0|8762264941598402107|\n",
      "|          CA|2024-11-08|david.flynn@domai...|GB02WPAU755046197...|3b07d43d-e15f-482...|     David Flynn|481064071|MKYOGBA7ENY|2024|   11|  8|      INSERT|              0|8762264941598402107|\n",
      "|          CA|2024-12-14|anthony.blair@dom...|GB63BUEB962119855...|511d51ba-54be-4f6...|   Anthony Blair|G42414114|UJRFGBB7P9V|2024|   12| 14|      INSERT|              0|8762264941598402107|\n",
      "|          JP|2024-12-10|cassidy.jones.md@...|GB14AYNQ551881503...|0daad7bc-25b6-446...|Cassidy Jones MD|595954695|VTHYGBZMNOI|2024|   12| 10|      INSERT|              0|8762264941598402107|\n",
      "|          UK|2024-11-21|jennifer.lamb@dom...|GB77NEUS861763812...|52c2ae7c-6107-409...|   Jennifer Lamb|283291701|DZQUGBI6R85|2024|   11| 21|      INSERT|              0|8762264941598402107|\n",
      "|          US|2024-12-16| ann.cruz@domain.com|GB55LFTZ500270831...|b7e33adb-9bfe-465...|        Ann Cruz|T22953641|HMAQGBCSXE8|2024|   12| 16|      INSERT|              0|8762264941598402107|\n",
      "+------------+----------+--------------------+--------------------+--------------------+----------------+---------+-----------+----+-----+---+------------+---------------+-------------------+\n",
      "\n"
     ]
    }
   ],
   "source": [
    "spark.sql(f\"\"\"\n",
    "    SELECT * FROM accounts_cdc\n",
    "    WHERE _commit_snapshot_id == {latest_snapshot_id} AND _change_type = 'INSERT'\n",
    "\"\"\").show()"
   ]
  },
  {
   "cell_type": "markdown",
   "id": "c4045ceb-09c3-4a02-97cc-58635f2143b6",
   "metadata": {
    "jp-MarkdownHeadingCollapsed": true
   },
   "source": [
    "### Create a changlog_view for the iceberg table SCD 2 - with UPDATE_BEFORE and UPDATE_AFTER\n",
    "\n",
    "This feature can help achive SCD 3 in iceberg tables"
   ]
  },
  {
   "cell_type": "code",
   "execution_count": 44,
   "id": "0ae9c308-58a2-4b60-9d23-322ea2ac453a",
   "metadata": {
    "execution": {
     "iopub.execute_input": "2025-01-14T18:54:33.392743Z",
     "iopub.status.busy": "2025-01-14T18:54:33.392464Z",
     "iopub.status.idle": "2025-01-14T18:54:33.449897Z",
     "shell.execute_reply": "2025-01-14T18:54:33.449530Z",
     "shell.execute_reply.started": "2025-01-14T18:54:33.392723Z"
    }
   },
   "outputs": [
    {
     "data": {
      "text/plain": [
       "DataFrame[changelog_view: string]"
      ]
     },
     "execution_count": 44,
     "metadata": {},
     "output_type": "execute_result"
    }
   ],
   "source": [
    "spark.sql(f\"\"\"\n",
    "CALL system.create_changelog_view(\n",
    "  table => 'iceberg.accounts',\n",
    "  options => map('start-snapshot-id', '{parent_snapshot_id}', 'end-snapshot-id', '{latest_snapshot_id}'),\n",
    "  changelog_view => 'accounts_cdc_sdc3',\n",
    "  compute_updates => true,\n",
    "  identifier_columns => array('id')\n",
    ")\"\"\")"
   ]
  },
  {
   "cell_type": "code",
   "execution_count": 45,
   "id": "1fa582e3-3cad-4c69-9ee4-87f2311b9725",
   "metadata": {
    "execution": {
     "iopub.execute_input": "2025-01-14T18:54:34.001146Z",
     "iopub.status.busy": "2025-01-14T18:54:34.000453Z",
     "iopub.status.idle": "2025-01-14T18:54:34.179376Z",
     "shell.execute_reply": "2025-01-14T18:54:34.179015Z",
     "shell.execute_reply.started": "2025-01-14T18:54:34.001114Z"
    }
   },
   "outputs": [
    {
     "name": "stdout",
     "output_type": "stream",
     "text": [
      "+------------+----------+--------------------+--------------------+--------------------+----------------+---------+-----------+----+-----+---+-------------+---------------+-------------------+\n",
      "|country_code|created_at|               email|                iban|                  id|            name| passport|      swift|year|month|day| _change_type|_change_ordinal|_commit_snapshot_id|\n",
      "+------------+----------+--------------------+--------------------+--------------------+----------------+---------+-----------+----+-----+---+-------------+---------------+-------------------+\n",
      "|          JP|2024-12-10|derrick15@example...|GB14AYNQ551881503...|0daad7bc-25b6-446...|Cassidy Jones MD|595954695|VTHYGBZMNOI|2024|   12| 10|UPDATE_BEFORE|              0|8762264941598402107|\n",
      "|          JP|2024-12-10|cassidy.jones.md@...|GB14AYNQ551881503...|0daad7bc-25b6-446...|Cassidy Jones MD|595954695|VTHYGBZMNOI|2024|   12| 10| UPDATE_AFTER|              0|8762264941598402107|\n",
      "|          CA|2024-11-08|david.flynn@domai...|GB02WPAU755046197...|3b07d43d-e15f-482...|     David Flynn|481064071|MKYOGBA7ENY|2024|   11|  8|       INSERT|              0|8762264941598402107|\n",
      "|          AR|2024-12-11|  tramos@example.com|GB02LAAF802721159...|4cbbf121-caae-42a...|     Kara Thomas|661814813|DULPGBWLTDU|2024|   12| 11|UPDATE_BEFORE|              0|8762264941598402107|\n",
      "|          AR|2024-12-11|kara.thomas@domai...|GB02LAAF802721159...|4cbbf121-caae-42a...|     Kara Thomas|661814813|DULPGBWLTDU|2024|   12| 11| UPDATE_AFTER|              0|8762264941598402107|\n",
      "|          CA|2024-12-14|anthony.blair@dom...|GB63BUEB962119855...|511d51ba-54be-4f6...|   Anthony Blair|G42414114|UJRFGBB7P9V|2024|   12| 14|       INSERT|              0|8762264941598402107|\n",
      "|          UK|2024-11-21|jennifer.lamb@dom...|GB77NEUS861763812...|52c2ae7c-6107-409...|   Jennifer Lamb|283291701|DZQUGBI6R85|2024|   11| 21|       INSERT|              0|8762264941598402107|\n",
      "|          AR|2025-01-05|amber.gomez@domai...|GB14JAMN326528523...|7e1d1d6c-ac3b-478...|     Amber Gomez|V40815604|OEDJGBV2XYE|2025|    1|  5|       INSERT|              0|8762264941598402107|\n",
      "|          US|2024-12-16|donaldpierce@exam...|GB55LFTZ500270831...|b7e33adb-9bfe-465...|        Ann Cruz|T22953641|HMAQGBCSXE8|2024|   12| 16|UPDATE_BEFORE|              0|8762264941598402107|\n",
      "|          US|2024-12-16| ann.cruz@domain.com|GB55LFTZ500270831...|b7e33adb-9bfe-465...|        Ann Cruz|T22953641|HMAQGBCSXE8|2024|   12| 16| UPDATE_AFTER|              0|8762264941598402107|\n",
      "|          BR|2025-01-10|michele99@example...|GB83QLKQ499554942...|eda0dc3f-2296-485...| Joseph Arellano|N43772821|VDYQGB92ZCM|2025|    1| 10|UPDATE_BEFORE|              0|8762264941598402107|\n",
      "|          BR|2025-01-10|joseph.arellano@d...|GB83QLKQ499554942...|eda0dc3f-2296-485...| Joseph Arellano|N43772821|VDYQGB92ZCM|2025|    1| 10| UPDATE_AFTER|              0|8762264941598402107|\n",
      "+------------+----------+--------------------+--------------------+--------------------+----------------+---------+-----------+----+-----+---+-------------+---------------+-------------------+\n",
      "\n"
     ]
    }
   ],
   "source": [
    "spark.sql(f\"\"\"\n",
    "    SELECT * FROM accounts_cdc_sdc3\n",
    "    WHERE _commit_snapshot_id == {latest_snapshot_id}\n",
    "\"\"\").show()"
   ]
  },
  {
   "cell_type": "code",
   "execution_count": 46,
   "id": "238f37bd-9766-44e5-9ada-51c8c19c48f0",
   "metadata": {
    "execution": {
     "iopub.execute_input": "2025-01-14T18:54:47.751831Z",
     "iopub.status.busy": "2025-01-14T18:54:47.751588Z",
     "iopub.status.idle": "2025-01-14T18:54:47.976924Z",
     "shell.execute_reply": "2025-01-14T18:54:47.976473Z",
     "shell.execute_reply.started": "2025-01-14T18:54:47.751814Z"
    }
   },
   "outputs": [
    {
     "name": "stdout",
     "output_type": "stream",
     "text": [
      "+--------------------+----------------+--------------------+--------------------+------------+---------------------+----------+--------------------+---------+-----------+----+-----+---+\n",
      "|                  id|            name|               email|      previous_email|country_code|previous_country_code|created_at|                iban| passport|      swift|year|month|day|\n",
      "+--------------------+----------------+--------------------+--------------------+------------+---------------------+----------+--------------------+---------+-----------+----+-----+---+\n",
      "|0daad7bc-25b6-446...|Cassidy Jones MD|cassidy.jones.md@...|cassidy.jones.md@...|          JP|                   JP|2024-12-10|GB14AYNQ551881503...|595954695|VTHYGBZMNOI|2024|   12| 10|\n",
      "|3b07d43d-e15f-482...|     David Flynn|david.flynn@domai...|                NULL|          CA|                 NULL|2024-11-08|GB02WPAU755046197...|481064071|MKYOGBA7ENY|2024|   11|  8|\n",
      "|4cbbf121-caae-42a...|     Kara Thomas|kara.thomas@domai...|kara.thomas@domai...|          AR|                   AR|2024-12-11|GB02LAAF802721159...|661814813|DULPGBWLTDU|2024|   12| 11|\n",
      "|511d51ba-54be-4f6...|   Anthony Blair|anthony.blair@dom...|                NULL|          CA|                 NULL|2024-12-14|GB63BUEB962119855...|G42414114|UJRFGBB7P9V|2024|   12| 14|\n",
      "|52c2ae7c-6107-409...|   Jennifer Lamb|jennifer.lamb@dom...|                NULL|          UK|                 NULL|2024-11-21|GB77NEUS861763812...|283291701|DZQUGBI6R85|2024|   11| 21|\n",
      "|7e1d1d6c-ac3b-478...|     Amber Gomez|amber.gomez@domai...|                NULL|          AR|                 NULL|2025-01-05|GB14JAMN326528523...|V40815604|OEDJGBV2XYE|2025|    1|  5|\n",
      "|b7e33adb-9bfe-465...|        Ann Cruz| ann.cruz@domain.com| ann.cruz@domain.com|          US|                   US|2024-12-16|GB55LFTZ500270831...|T22953641|HMAQGBCSXE8|2024|   12| 16|\n",
      "|eda0dc3f-2296-485...| Joseph Arellano|joseph.arellano@d...|joseph.arellano@d...|          BR|                   BR|2025-01-10|GB83QLKQ499554942...|N43772821|VDYQGB92ZCM|2025|    1| 10|\n",
      "+--------------------+----------------+--------------------+--------------------+------------+---------------------+----------+--------------------+---------+-----------+----+-----+---+\n",
      "\n"
     ]
    }
   ],
   "source": [
    "from pyspark.sql.functions import lit, when\n",
    "\n",
    "cdc_data = spark.sql(f\"\"\"\n",
    "    SELECT * FROM accounts_cdc_sdc3\n",
    "    WHERE _commit_snapshot_id == {latest_snapshot_id}\n",
    "\"\"\")\n",
    "\n",
    "# Add previous value columns for SCD Type 3\n",
    "scd3_data = cdc_data.withColumn(\"previous_email\", lit(None)) \\\n",
    "                    .withColumn(\"previous_country_code\", lit(None))\n",
    "\n",
    "# Process updates to populate previous values\n",
    "scd3_data = scd3_data.withColumn(\n",
    "    \"previous_email\",\n",
    "    when(col(\"_change_type\") == \"UPDATE_AFTER\", col(\"email\")).otherwise(col(\"previous_email\"))\n",
    ").withColumn(\n",
    "    \"previous_country_code\",\n",
    "    when(col(\"_change_type\") == \"UPDATE_AFTER\", col(\"country_code\")).otherwise(col(\"previous_country_code\"))\n",
    ")\n",
    "\n",
    "# Filter out UPDATE_BEFORE rows (since we only need the latest state)\n",
    "scd3_data = scd3_data.filter(col(\"_change_type\") != \"UPDATE_BEFORE\")\n",
    "\n",
    "# Show the SCD Type 3 result\n",
    "scd3_data.select(\n",
    "    \"id\", \"name\", \"email\", \"previous_email\", \"country_code\", \"previous_country_code\",\n",
    "    \"created_at\", \"iban\", \"passport\", \"swift\", \"year\", \"month\", \"day\"\n",
    ").show()"
   ]
  },
  {
   "cell_type": "markdown",
   "id": "b716e851-9aee-4da0-be0b-4e5902f1e8a3",
   "metadata": {},
   "source": [
    "## TODO: Optimaze commands"
   ]
  },
  {
   "cell_type": "markdown",
   "id": "c8f5ece8-ba70-4ad8-bf64-75b648b13373",
   "metadata": {},
   "source": [
    "## TODO: Miscellaneous on Iceberg"
   ]
  },
  {
   "cell_type": "code",
   "execution_count": null,
   "id": "deaf1c7d-940c-492e-829a-9a893fa167fe",
   "metadata": {},
   "outputs": [],
   "source": []
  },
  {
   "cell_type": "code",
   "execution_count": null,
   "id": "d9281c35-af21-4ad7-905e-69b5dfb2170b",
   "metadata": {},
   "outputs": [],
   "source": []
  },
  {
   "cell_type": "code",
   "execution_count": null,
   "id": "c0da789f-8449-4104-908a-9d500499d938",
   "metadata": {},
   "outputs": [],
   "source": []
  },
  {
   "cell_type": "code",
   "execution_count": null,
   "id": "d97d32cc-b96a-46da-b989-4e0708c0b618",
   "metadata": {},
   "outputs": [],
   "source": []
  },
  {
   "cell_type": "code",
   "execution_count": null,
   "id": "b9358b22-799a-4148-822d-5db0f605d02b",
   "metadata": {},
   "outputs": [],
   "source": []
  },
  {
   "cell_type": "code",
   "execution_count": null,
   "id": "9f6686ab-1992-4678-81a2-1b4e085ea14f",
   "metadata": {},
   "outputs": [],
   "source": []
  },
  {
   "cell_type": "code",
   "execution_count": null,
   "id": "364f884d-9a4c-4ad7-8ece-a07f44dd7de3",
   "metadata": {},
   "outputs": [],
   "source": []
  },
  {
   "cell_type": "code",
   "execution_count": null,
   "id": "0683940a-d3d0-400c-9ea5-886ecb682237",
   "metadata": {},
   "outputs": [],
   "source": []
  },
  {
   "cell_type": "code",
   "execution_count": null,
   "id": "2c6e75b9-7c55-4cd1-81af-23940df7bad0",
   "metadata": {},
   "outputs": [],
   "source": []
  },
  {
   "cell_type": "code",
   "execution_count": null,
   "id": "ca6d99c9-6ca9-4d62-8c56-8d2f817b4540",
   "metadata": {},
   "outputs": [],
   "source": []
  },
  {
   "cell_type": "code",
   "execution_count": null,
   "id": "c1464420-2754-4a95-9055-d7e3d284c081",
   "metadata": {},
   "outputs": [],
   "source": []
  },
  {
   "cell_type": "code",
   "execution_count": null,
   "id": "c2556a1b-b1d4-45a7-a555-62acdfecfb64",
   "metadata": {},
   "outputs": [],
   "source": []
  },
  {
   "cell_type": "code",
   "execution_count": null,
   "id": "c606aaee-0f20-467b-833c-6df2f9b04f53",
   "metadata": {},
   "outputs": [],
   "source": []
  }
 ],
 "metadata": {
  "kernelspec": {
   "display_name": "Python 3 (ipykernel)",
   "language": "python",
   "name": "python3"
  },
  "language_info": {
   "codemirror_mode": {
    "name": "ipython",
    "version": 3
   },
   "file_extension": ".py",
   "mimetype": "text/x-python",
   "name": "python",
   "nbconvert_exporter": "python",
   "pygments_lexer": "ipython3",
   "version": "3.12.3"
  }
 },
 "nbformat": 4,
 "nbformat_minor": 5
}
