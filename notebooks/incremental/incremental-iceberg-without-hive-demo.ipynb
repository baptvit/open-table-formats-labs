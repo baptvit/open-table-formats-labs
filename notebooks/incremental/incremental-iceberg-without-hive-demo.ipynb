{
 "cells": [
  {
   "cell_type": "markdown",
   "id": "d5efcf0f-582f-4325-9aac-94f663297b7c",
   "metadata": {
    "execution": {
     "iopub.execute_input": "2025-01-13T16:10:53.258944Z",
     "iopub.status.busy": "2025-01-13T16:10:53.258766Z",
     "iopub.status.idle": "2025-01-13T16:10:53.262641Z",
     "shell.execute_reply": "2025-01-13T16:10:53.262282Z",
     "shell.execute_reply.started": "2025-01-13T16:10:53.258933Z"
    }
   },
   "source": [
    "# POC: Incremental reads on Iceberg without hive metastore\n",
    "\n",
    "Using local metastore with incremental feactures"
   ]
  },
  {
   "cell_type": "markdown",
   "id": "a6a4f183-da96-413b-bacc-32b6eebb5ab2",
   "metadata": {},
   "source": [
    "# Use cases\n",
    "Change Data Feed is not enabled by default. The following use cases should drive when you enable the change data feed.\n",
    "\n",
    "1. Silver and Gold tables: Improve Delta performance by processing only row-level changes following initial MERGE, UPDATE, or DELETE operations to accelerate and simplify ETL and ELT operations.\n",
    "\n",
    "2. Transmit changes: Send a change data feed to downstream systems such as Kafka or RDBMS that can use it to incrementally process in later stages of data pipelines.\n",
    "\n",
    "3. Audit trail table: Capture the change data feed as a Delta table provides perpetual storage and efficient query capability to see all changes over time, including when deletes occur and what updates were made.\n",
    "\n"
   ]
  },
  {
   "cell_type": "markdown",
   "id": "7f9f460b-cac6-4a9e-b7fa-efafd1f9b1c8",
   "metadata": {},
   "source": [
    "# Known constrains:\n",
    "\n",
    "- The snapshots also has constrains in rentation policys. Therefore, if you run the Optimizations command, change data feed data is also deleted. Default is 5 days according to some documentations. [Reference](https://www.tabular.io/apache-iceberg-cookbook/data-operations-snapshot-expiration/)"
   ]
  },
  {
   "cell_type": "markdown",
   "id": "53195027-d1d3-4ff2-b78a-cba254ce2754",
   "metadata": {},
   "source": [
    "## Before run\n",
    "\n",
    "Checks if spark 3.5.3 and Hadoop are install\n",
    "also the pyiceberg>=0.8.1 and pyspark>=3.5.3 libraries.\n",
    "\n",
    "Remove if existis the /warehouse/ folder in this direcory"
   ]
  },
  {
   "cell_type": "code",
   "execution_count": 1,
   "id": "91d07b1d-2be6-4b5d-bbbb-00270bba8367",
   "metadata": {
    "execution": {
     "iopub.execute_input": "2025-01-13T22:41:06.479822Z",
     "iopub.status.busy": "2025-01-13T22:41:06.479584Z",
     "iopub.status.idle": "2025-01-13T22:41:06.513802Z",
     "shell.execute_reply": "2025-01-13T22:41:06.513471Z",
     "shell.execute_reply.started": "2025-01-13T22:41:06.479804Z"
    }
   },
   "outputs": [],
   "source": [
    "from pyspark.sql import SparkSession\n",
    "from pyspark.sql.functions import col, year, month, dayofmonth"
   ]
  },
  {
   "cell_type": "markdown",
   "id": "40940756-17f4-44f7-ade4-8cc6a448538a",
   "metadata": {},
   "source": [
    "### Spark Setup"
   ]
  },
  {
   "cell_type": "code",
   "execution_count": 2,
   "id": "d4d262d6-90c2-40f7-b4db-5ed3ec455956",
   "metadata": {
    "execution": {
     "iopub.execute_input": "2025-01-13T22:41:07.195636Z",
     "iopub.status.busy": "2025-01-13T22:41:07.195170Z",
     "iopub.status.idle": "2025-01-13T22:41:07.197729Z",
     "shell.execute_reply": "2025-01-13T22:41:07.197452Z",
     "shell.execute_reply.started": "2025-01-13T22:41:07.195611Z"
    }
   },
   "outputs": [],
   "source": [
    "spark_jar_packages = \",\".join([\n",
    "    \"org.apache.iceberg:iceberg-spark-runtime-3.5_2.12:1.7.1\",\n",
    "])"
   ]
  },
  {
   "cell_type": "code",
   "execution_count": 3,
   "id": "617be8a3-b2b9-476d-a101-e32da2076fd5",
   "metadata": {
    "execution": {
     "iopub.execute_input": "2025-01-13T22:41:07.647126Z",
     "iopub.status.busy": "2025-01-13T22:41:07.646790Z",
     "iopub.status.idle": "2025-01-13T22:41:07.649086Z",
     "shell.execute_reply": "2025-01-13T22:41:07.648770Z",
     "shell.execute_reply.started": "2025-01-13T22:41:07.647109Z"
    }
   },
   "outputs": [],
   "source": [
    "LOCAL_WAREHOUSE_CATALOG = \"file:///home/baptvit/Documents/github/lakehouse-labs/notebooks/warehouse/iceberg/\""
   ]
  },
  {
   "cell_type": "code",
   "execution_count": 4,
   "id": "4d417510-85ba-4981-a1c1-4b949381e70a",
   "metadata": {
    "execution": {
     "iopub.execute_input": "2025-01-13T22:43:05.216801Z",
     "iopub.status.busy": "2025-01-13T22:43:05.216578Z",
     "iopub.status.idle": "2025-01-13T22:43:07.577702Z",
     "shell.execute_reply": "2025-01-13T22:43:07.577195Z",
     "shell.execute_reply.started": "2025-01-13T22:43:05.216788Z"
    }
   },
   "outputs": [
    {
     "name": "stderr",
     "output_type": "stream",
     "text": [
      "25/01/13 19:43:06 WARN Utils: Your hostname, baptvit resolves to a loopback address: 127.0.1.1; using 192.168.2.129 instead (on interface wlp4s0)\n",
      "25/01/13 19:43:06 WARN Utils: Set SPARK_LOCAL_IP if you need to bind to another address\n",
      "Ivy Default Cache set to: /home/baptvit/.ivy2/cache\n",
      "The jars for the packages stored in: /home/baptvit/.ivy2/jars\n",
      "org.apache.iceberg#iceberg-spark-runtime-3.5_2.12 added as a dependency\n",
      ":: resolving dependencies :: org.apache.spark#spark-submit-parent-894c97ed-c25d-4ad4-84dc-1deb9924a45d;1.0\n",
      "\tconfs: [default]\n"
     ]
    },
    {
     "name": "stdout",
     "output_type": "stream",
     "text": [
      ":: loading settings :: url = jar:file:/opt/spark/jars/ivy-2.5.1.jar!/org/apache/ivy/core/settings/ivysettings.xml\n"
     ]
    },
    {
     "name": "stderr",
     "output_type": "stream",
     "text": [
      "\tfound org.apache.iceberg#iceberg-spark-runtime-3.5_2.12;1.7.1 in central\n",
      ":: resolution report :: resolve 72ms :: artifacts dl 3ms\n",
      "\t:: modules in use:\n",
      "\torg.apache.iceberg#iceberg-spark-runtime-3.5_2.12;1.7.1 from central in [default]\n",
      "\t---------------------------------------------------------------------\n",
      "\t|                  |            modules            ||   artifacts   |\n",
      "\t|       conf       | number| search|dwnlded|evicted|| number|dwnlded|\n",
      "\t---------------------------------------------------------------------\n",
      "\t|      default     |   1   |   0   |   0   |   0   ||   1   |   0   |\n",
      "\t---------------------------------------------------------------------\n",
      ":: retrieving :: org.apache.spark#spark-submit-parent-894c97ed-c25d-4ad4-84dc-1deb9924a45d\n",
      "\tconfs: [default]\n",
      "\t0 artifacts copied, 1 already retrieved (0kB/3ms)\n",
      "25/01/13 19:43:06 WARN NativeCodeLoader: Unable to load native-hadoop library for your platform... using builtin-java classes where applicable\n",
      "Setting default log level to \"WARN\".\n",
      "To adjust logging level use sc.setLogLevel(newLevel). For SparkR, use setLogLevel(newLevel).\n",
      "25/01/13 19:43:07 WARN Utils: Service 'SparkUI' could not bind on port 4040. Attempting port 4041.\n"
     ]
    }
   ],
   "source": [
    "spark = (\n",
    "    SparkSession.builder\n",
    "    .master(\"local[*]\")\n",
    "    .appName(\"iceberg-hive-playground\")\n",
    "    .config(\"spark.jars.packages\", spark_jar_packages)\n",
    "\n",
    "    .config(\"spark.sql.extensions\", \"org.apache.iceberg.spark.extensions.IcebergSparkSessionExtensions\")\n",
    "    .config(\"spark.sql.catalog.spark_catalog\", \"org.apache.iceberg.spark.SparkSessionCatalog\")\n",
    "    \n",
    "    .config(\"spark.sql.catalog.local.type\", \"hadoop\")   # Use Hadoop catalog\n",
    "    .config(\"spark.sql.catalog.local.warehouse\", LOCAL_WAREHOUSE_CATALOG)   # Path to store metadata\n",
    "    .config(\"spark.sql.warehouse.dir\", LOCAL_WAREHOUSE_CATALOG)   # Path to store metadata\n",
    "    .config(\"spark.sql.defaultCatalog\", \"local\")\n",
    "    .config(\"spark.sql.catalog.local\", \"org.apache.iceberg.spark.SparkCatalog\")\n",
    "    .getOrCreate()\n",
    ")"
   ]
  },
  {
   "cell_type": "markdown",
   "id": "a323d6b0-8592-4035-b6f5-1806f330a5aa",
   "metadata": {},
   "source": [
    "## Creating a fake database"
   ]
  },
  {
   "cell_type": "code",
   "execution_count": 5,
   "id": "c1cd0eac-26bc-4c78-bdbb-f3d02fef42ff",
   "metadata": {
    "execution": {
     "iopub.execute_input": "2025-01-13T22:43:10.254969Z",
     "iopub.status.busy": "2025-01-13T22:43:10.254721Z",
     "iopub.status.idle": "2025-01-13T22:43:10.374347Z",
     "shell.execute_reply": "2025-01-13T22:43:10.374038Z",
     "shell.execute_reply.started": "2025-01-13T22:43:10.254950Z"
    }
   },
   "outputs": [],
   "source": [
    "import random\n",
    "from faker import Faker"
   ]
  },
  {
   "cell_type": "code",
   "execution_count": 6,
   "id": "5be3ca19-edf8-4feb-a052-59c45b82f2ad",
   "metadata": {
    "execution": {
     "iopub.execute_input": "2025-01-13T22:43:10.454807Z",
     "iopub.status.busy": "2025-01-13T22:43:10.454520Z",
     "iopub.status.idle": "2025-01-13T22:43:10.457136Z",
     "shell.execute_reply": "2025-01-13T22:43:10.456864Z",
     "shell.execute_reply.started": "2025-01-13T22:43:10.454794Z"
    }
   },
   "outputs": [],
   "source": [
    "def generate_entry(faker: Faker, country_codes: list):\n",
    "    return {\n",
    "        \"id\": faker.unique.uuid4(),\n",
    "        \"name\":  faker.name(),\n",
    "        \"email\": faker.email(),\n",
    "        \"passport\": faker.passport_number(),\n",
    "        \"country_code\": random.choice(country_codes),\n",
    "        \"iban\": faker.iban(),\n",
    "        \"swift\": faker.swift11(),\n",
    "        \"created_at\": faker.past_date(start_date='-90d').strftime('%Y-%m-%d')\n",
    "    }"
   ]
  },
  {
   "cell_type": "code",
   "execution_count": 7,
   "id": "37ed828b-6b0a-46ec-b763-bc4e286756c8",
   "metadata": {
    "execution": {
     "iopub.execute_input": "2025-01-13T22:43:10.659668Z",
     "iopub.status.busy": "2025-01-13T22:43:10.659422Z",
     "iopub.status.idle": "2025-01-13T22:43:10.662270Z",
     "shell.execute_reply": "2025-01-13T22:43:10.661901Z",
     "shell.execute_reply.started": "2025-01-13T22:43:10.659650Z"
    }
   },
   "outputs": [],
   "source": [
    "def generate_dataset(num: int, seed: int):\n",
    "    country_codes = ['US', 'CA', 'JP', 'KR', 'FR', 'GE', 'UK', 'BR', 'AR']\n",
    "    Faker.seed(seed)\n",
    "    faker = Faker()\n",
    "    return [generate_entry(faker, country_codes) for _ in range(num)]"
   ]
  },
  {
   "cell_type": "code",
   "execution_count": 8,
   "id": "99175bb4-fd54-414b-8483-b89cd53db00e",
   "metadata": {
    "execution": {
     "iopub.execute_input": "2025-01-13T22:43:10.863018Z",
     "iopub.status.busy": "2025-01-13T22:43:10.862643Z",
     "iopub.status.idle": "2025-01-13T22:43:10.916404Z",
     "shell.execute_reply": "2025-01-13T22:43:10.916051Z",
     "shell.execute_reply.started": "2025-01-13T22:43:10.862996Z"
    }
   },
   "outputs": [],
   "source": [
    "dataset = generate_dataset(num=100, seed=739)"
   ]
  },
  {
   "cell_type": "code",
   "execution_count": 9,
   "id": "760ce08e-557b-4d6d-81b9-4502b43685d3",
   "metadata": {
    "execution": {
     "iopub.execute_input": "2025-01-13T22:43:11.046773Z",
     "iopub.status.busy": "2025-01-13T22:43:11.046459Z",
     "iopub.status.idle": "2025-01-13T22:43:11.929118Z",
     "shell.execute_reply": "2025-01-13T22:43:11.928640Z",
     "shell.execute_reply.started": "2025-01-13T22:43:11.046755Z"
    }
   },
   "outputs": [],
   "source": [
    "df = spark.createDataFrame(dataset)\\\n",
    "        .withColumn(\"year\", year(col(\"created_at\")))\\\n",
    "        .withColumn(\"month\", month(col(\"created_at\")))\\\n",
    "        .withColumn(\"day\", dayofmonth(col(\"created_at\")))"
   ]
  },
  {
   "cell_type": "code",
   "execution_count": 10,
   "id": "fcb2b317-ddd0-42db-8de6-f4b2e7d24ed6",
   "metadata": {
    "execution": {
     "iopub.execute_input": "2025-01-13T22:43:12.415622Z",
     "iopub.status.busy": "2025-01-13T22:43:12.415285Z",
     "iopub.status.idle": "2025-01-13T22:43:13.885153Z",
     "shell.execute_reply": "2025-01-13T22:43:13.884733Z",
     "shell.execute_reply.started": "2025-01-13T22:43:12.415606Z"
    }
   },
   "outputs": [
    {
     "name": "stdout",
     "output_type": "stream",
     "text": [
      "+------------+----------+--------------------+--------------------+--------------------+-----------+---------+-----------+----+-----+---+\n",
      "|country_code|created_at|               email|                iban|                  id|       name| passport|      swift|year|month|day|\n",
      "+------------+----------+--------------------+--------------------+--------------------+-----------+---------+-----------+----+-----+---+\n",
      "|          US|2024-10-20|powelljason@examp...|GB77AKMZ560580635...|5a424412-b127-4f8...|Cody Taylor|895549199|INSEGB5PR6S|2024|   10| 20|\n",
      "+------------+----------+--------------------+--------------------+--------------------+-----------+---------+-----------+----+-----+---+\n",
      "only showing top 1 row\n",
      "\n"
     ]
    }
   ],
   "source": [
    "df.show(1)"
   ]
  },
  {
   "cell_type": "code",
   "execution_count": 11,
   "id": "fe03de7f-cdf2-4aae-b81f-f29bb670f423",
   "metadata": {
    "execution": {
     "iopub.execute_input": "2025-01-13T22:43:15.048043Z",
     "iopub.status.busy": "2025-01-13T22:43:15.047635Z",
     "iopub.status.idle": "2025-01-13T22:43:15.519186Z",
     "shell.execute_reply": "2025-01-13T22:43:15.518803Z",
     "shell.execute_reply.started": "2025-01-13T22:43:15.048023Z"
    }
   },
   "outputs": [
    {
     "data": {
      "text/plain": [
       "100"
      ]
     },
     "execution_count": 11,
     "metadata": {},
     "output_type": "execute_result"
    }
   ],
   "source": [
    "df.count()"
   ]
  },
  {
   "cell_type": "code",
   "execution_count": 12,
   "id": "607d4249-1534-456c-bdb3-b06197663ae3",
   "metadata": {
    "execution": {
     "iopub.execute_input": "2025-01-13T22:43:15.586861Z",
     "iopub.status.busy": "2025-01-13T22:43:15.586551Z",
     "iopub.status.idle": "2025-01-13T22:43:15.615559Z",
     "shell.execute_reply": "2025-01-13T22:43:15.615167Z",
     "shell.execute_reply.started": "2025-01-13T22:43:15.586844Z"
    }
   },
   "outputs": [],
   "source": [
    "df.createOrReplaceTempView(\"accounts\")"
   ]
  },
  {
   "cell_type": "markdown",
   "id": "bec8b8a5-7f9f-4d7b-8d77-a0b0774a8ad4",
   "metadata": {},
   "source": [
    "## Save using the default database"
   ]
  },
  {
   "cell_type": "code",
   "execution_count": 17,
   "id": "829f88a2-f31a-42fd-b9a1-9105c8e7ad85",
   "metadata": {
    "execution": {
     "iopub.execute_input": "2025-01-13T22:43:51.684882Z",
     "iopub.status.busy": "2025-01-13T22:43:51.684575Z",
     "iopub.status.idle": "2025-01-13T22:43:51.700212Z",
     "shell.execute_reply": "2025-01-13T22:43:51.699717Z",
     "shell.execute_reply.started": "2025-01-13T22:43:51.684864Z"
    }
   },
   "outputs": [
    {
     "data": {
      "text/plain": [
       "DataFrame[]"
      ]
     },
     "execution_count": 17,
     "metadata": {},
     "output_type": "execute_result"
    }
   ],
   "source": [
    "spark.sql(\"\"\"\n",
    "    CREATE DATABASE IF NOT EXISTS iceberg;\n",
    "\"\"\")"
   ]
  },
  {
   "cell_type": "markdown",
   "id": "d8bedd3c-f530-4df6-85c6-8eef428f20b0",
   "metadata": {},
   "source": [
    "Ideially we could specify the table schema to about the **overwriteSchem=true**\n",
    "\n",
    "````\n",
    "from pyspark.sql.types import DoubleType, FloatType, LongType, StructType,StructField, StringType\n",
    "schema = StructType([\n",
    "  StructField(\"vendor_id\", LongType(), True),\n",
    "  StructField(\"trip_id\", LongType(), True),\n",
    "  StructField(\"trip_distance\", FloatType(), True),\n",
    "  StructField(\"fare_amount\", DoubleType(), True),\n",
    "  StructField(\"store_and_fwd_flag\", StringType(), True)\n",
    "])\n",
    "\n",
    "df = spark.createDataFrame([], schema)\n",
    "df.writeTo(\"demo.nyc.taxis\").create()\n",
    "````"
   ]
  },
  {
   "cell_type": "code",
   "execution_count": 18,
   "id": "8ccb6b4b-a41e-427b-81c1-cef696837c20",
   "metadata": {
    "execution": {
     "iopub.execute_input": "2025-01-13T22:43:55.908828Z",
     "iopub.status.busy": "2025-01-13T22:43:55.908591Z",
     "iopub.status.idle": "2025-01-13T22:43:55.947100Z",
     "shell.execute_reply": "2025-01-13T22:43:55.946740Z",
     "shell.execute_reply.started": "2025-01-13T22:43:55.908812Z"
    }
   },
   "outputs": [
    {
     "data": {
      "text/plain": [
       "DataFrame[]"
      ]
     },
     "execution_count": 18,
     "metadata": {},
     "output_type": "execute_result"
    }
   ],
   "source": [
    "spark.sql(\n",
    "    \"\"\"\n",
    "    CREATE TABLE IF NOT EXISTS iceberg.accounts\n",
    "        USING iceberg\n",
    "    \"\"\"\n",
    ")"
   ]
  },
  {
   "cell_type": "code",
   "execution_count": 19,
   "id": "5e3b19a2-5f7c-4fc6-8207-58bc9b5e76f4",
   "metadata": {
    "execution": {
     "iopub.execute_input": "2025-01-13T22:43:59.800923Z",
     "iopub.status.busy": "2025-01-13T22:43:59.800336Z",
     "iopub.status.idle": "2025-01-13T22:44:00.226248Z",
     "shell.execute_reply": "2025-01-13T22:44:00.225857Z",
     "shell.execute_reply.started": "2025-01-13T22:43:59.800886Z"
    }
   },
   "outputs": [],
   "source": [
    "df.writeTo(\"iceberg.accounts\")\\\n",
    "    .tableProperty(\"changelog.enabled\", \"true\")\\\n",
    "    .tableProperty(\"overwriteSchema\", \"true\")\\\n",
    "    .partitionedBy(\"year\", \"month\")\\\n",
    "    .createOrReplace() ## FIrst time create or replace"
   ]
  },
  {
   "cell_type": "markdown",
   "id": "2806232d-b1df-4c79-8f1a-e36a42083b12",
   "metadata": {},
   "source": [
    "## Reading from local direct from file"
   ]
  },
  {
   "cell_type": "code",
   "execution_count": 20,
   "id": "4ad8eef5-0593-412a-bc7a-155d7c56bbed",
   "metadata": {
    "execution": {
     "iopub.execute_input": "2025-01-13T22:44:19.580987Z",
     "iopub.status.busy": "2025-01-13T22:44:19.580356Z",
     "iopub.status.idle": "2025-01-13T22:44:19.584192Z",
     "shell.execute_reply": "2025-01-13T22:44:19.583903Z",
     "shell.execute_reply.started": "2025-01-13T22:44:19.580950Z"
    }
   },
   "outputs": [],
   "source": [
    "LOCAL_ACCOUNT_TABLE = LOCAL_WAREHOUSE_CATALOG + \"iceberg/accounts\""
   ]
  },
  {
   "cell_type": "code",
   "execution_count": 21,
   "id": "4a5751e6-495e-4588-9682-0b5c361089c8",
   "metadata": {
    "execution": {
     "iopub.execute_input": "2025-01-13T22:44:20.770830Z",
     "iopub.status.busy": "2025-01-13T22:44:20.770657Z",
     "iopub.status.idle": "2025-01-13T22:44:20.852068Z",
     "shell.execute_reply": "2025-01-13T22:44:20.851683Z",
     "shell.execute_reply.started": "2025-01-13T22:44:20.770817Z"
    }
   },
   "outputs": [],
   "source": [
    "# providing a starting version\n",
    "df_read = spark.read.format(\"iceberg\") \\\n",
    "  .load(LOCAL_ACCOUNT_TABLE)"
   ]
  },
  {
   "cell_type": "code",
   "execution_count": 22,
   "id": "b99a128d-0345-42c6-ad80-58fd243be452",
   "metadata": {
    "execution": {
     "iopub.execute_input": "2025-01-13T22:44:21.379933Z",
     "iopub.status.busy": "2025-01-13T22:44:21.379465Z",
     "iopub.status.idle": "2025-01-13T22:44:21.560186Z",
     "shell.execute_reply": "2025-01-13T22:44:21.559728Z",
     "shell.execute_reply.started": "2025-01-13T22:44:21.379913Z"
    }
   },
   "outputs": [
    {
     "data": {
      "text/plain": [
       "100"
      ]
     },
     "execution_count": 22,
     "metadata": {},
     "output_type": "execute_result"
    }
   ],
   "source": [
    "df_read.count()"
   ]
  },
  {
   "cell_type": "markdown",
   "id": "a2ddc73c-4187-4a0c-b3b3-e8c72f44a60f",
   "metadata": {},
   "source": [
    "## Reading the table history from local folder\n",
    "\n",
    "Local folder and spark SQL"
   ]
  },
  {
   "cell_type": "code",
   "execution_count": 23,
   "id": "45ba2425-f864-4937-ae26-0cb6d6ec5037",
   "metadata": {
    "execution": {
     "iopub.execute_input": "2025-01-13T22:44:26.464813Z",
     "iopub.status.busy": "2025-01-13T22:44:26.464582Z",
     "iopub.status.idle": "2025-01-13T22:44:26.476773Z",
     "shell.execute_reply": "2025-01-13T22:44:26.476366Z",
     "shell.execute_reply.started": "2025-01-13T22:44:26.464798Z"
    }
   },
   "outputs": [
    {
     "data": {
      "text/plain": [
       "DataFrame[]"
      ]
     },
     "execution_count": 23,
     "metadata": {},
     "output_type": "execute_result"
    }
   ],
   "source": [
    "spark.sql(\"\"\"\n",
    "    CREATE DATABASE IF NOT EXISTS iceberg;\n",
    "\"\"\")"
   ]
  },
  {
   "cell_type": "code",
   "execution_count": 24,
   "id": "8b2f10f3-5193-4f95-864b-44113fcbb228",
   "metadata": {
    "execution": {
     "iopub.execute_input": "2025-01-13T22:44:33.830388Z",
     "iopub.status.busy": "2025-01-13T22:44:33.830136Z",
     "iopub.status.idle": "2025-01-13T22:44:33.860636Z",
     "shell.execute_reply": "2025-01-13T22:44:33.860239Z",
     "shell.execute_reply.started": "2025-01-13T22:44:33.830367Z"
    }
   },
   "outputs": [
    {
     "data": {
      "text/plain": [
       "DataFrame[]"
      ]
     },
     "execution_count": 24,
     "metadata": {},
     "output_type": "execute_result"
    }
   ],
   "source": [
    "spark.sql(\n",
    "    f\"\"\"\n",
    "    CREATE TABLE IF NOT EXISTS iceberg.accounts\n",
    "        USING iceberg\n",
    "        OPTIONS (\n",
    "          path = '{LOCAL_ACCOUNT_TABLE}'\n",
    "        );\n",
    "    \"\"\"\n",
    ")"
   ]
  },
  {
   "cell_type": "code",
   "execution_count": 25,
   "id": "aeb5bef3-3fe7-41db-aedc-9700da1a2ba6",
   "metadata": {
    "execution": {
     "iopub.execute_input": "2025-01-13T22:44:41.201517Z",
     "iopub.status.busy": "2025-01-13T22:44:41.201152Z",
     "iopub.status.idle": "2025-01-13T22:44:41.426302Z",
     "shell.execute_reply": "2025-01-13T22:44:41.425845Z",
     "shell.execute_reply.started": "2025-01-13T22:44:41.201494Z"
    }
   },
   "outputs": [
    {
     "name": "stdout",
     "output_type": "stream",
     "text": [
      "+-----------------------+-------------------+---------+-------------------+\n",
      "|made_current_at        |snapshot_id        |parent_id|is_current_ancestor|\n",
      "+-----------------------+-------------------+---------+-------------------+\n",
      "|2025-01-13 19:44:00.205|8107394393973872139|NULL     |true               |\n",
      "+-----------------------+-------------------+---------+-------------------+\n",
      "\n"
     ]
    }
   ],
   "source": [
    "spark.sql(\"\"\"\n",
    "    SELECT *\n",
    "    FROM iceberg.accounts.history\n",
    "\"\"\").show(truncate=False)\n"
   ]
  },
  {
   "cell_type": "markdown",
   "id": "18c5f1cb-573f-45ac-880b-32d17efe3f5a",
   "metadata": {},
   "source": [
    "## Using CDC and table history to identify the increments"
   ]
  },
  {
   "cell_type": "code",
   "execution_count": 22,
   "id": "b604bdd2-f8a0-4534-aed5-59da5c71851b",
   "metadata": {
    "execution": {
     "iopub.execute_input": "2025-01-13T17:23:05.195378Z",
     "iopub.status.busy": "2025-01-13T17:23:05.195024Z",
     "iopub.status.idle": "2025-01-13T17:23:05.197653Z",
     "shell.execute_reply": "2025-01-13T17:23:05.197263Z",
     "shell.execute_reply.started": "2025-01-13T17:23:05.195363Z"
    }
   },
   "outputs": [],
   "source": [
    "### Local folder with describe history"
   ]
  },
  {
   "cell_type": "code",
   "execution_count": 26,
   "id": "630c588c-5b43-45e8-a0bb-62a6a8d0dd70",
   "metadata": {
    "execution": {
     "iopub.execute_input": "2025-01-13T22:44:46.965190Z",
     "iopub.status.busy": "2025-01-13T22:44:46.964719Z",
     "iopub.status.idle": "2025-01-13T22:44:47.155270Z",
     "shell.execute_reply": "2025-01-13T22:44:47.154896Z",
     "shell.execute_reply.started": "2025-01-13T22:44:46.965167Z"
    }
   },
   "outputs": [
    {
     "data": {
      "text/plain": [
       "8107394393973872139"
      ]
     },
     "execution_count": 26,
     "metadata": {},
     "output_type": "execute_result"
    }
   ],
   "source": [
    "latest_snapshot_id = spark.sql(\"\"\"\n",
    "    SELECT snapshot_id\n",
    "    FROM iceberg.accounts.snapshots\n",
    "    ORDER BY committed_at DESC\n",
    "    LIMIT 1;\n",
    "\"\"\").collect()[0][0]\n",
    "\n",
    "latest_snapshot_id"
   ]
  },
  {
   "cell_type": "markdown",
   "id": "6a1fb5b0-3a16-4261-a894-b3810ce38717",
   "metadata": {},
   "source": [
    "### Reading just the last table version using local catalog"
   ]
  },
  {
   "cell_type": "code",
   "execution_count": 28,
   "id": "5fe31452-38d7-4508-aee0-8406e4c98a19",
   "metadata": {
    "execution": {
     "iopub.execute_input": "2025-01-13T22:45:01.637677Z",
     "iopub.status.busy": "2025-01-13T22:45:01.637280Z",
     "iopub.status.idle": "2025-01-13T22:45:01.721475Z",
     "shell.execute_reply": "2025-01-13T22:45:01.721055Z",
     "shell.execute_reply.started": "2025-01-13T22:45:01.637642Z"
    }
   },
   "outputs": [
    {
     "data": {
      "text/plain": [
       "100"
      ]
     },
     "execution_count": 28,
     "metadata": {},
     "output_type": "execute_result"
    }
   ],
   "source": [
    "latest_changes_df = spark.read.format(\"iceberg\") \\\n",
    "    .option(\"snapshot-id\", latest_snapshot_id) \\\n",
    "    .load(\"iceberg.accounts\")\n",
    "\n",
    "latest_changes_df.count()"
   ]
  },
  {
   "cell_type": "code",
   "execution_count": 29,
   "id": "edc9c156-6812-4cbf-a3ca-39d3d47968a6",
   "metadata": {
    "execution": {
     "iopub.execute_input": "2025-01-13T22:45:04.735732Z",
     "iopub.status.busy": "2025-01-13T22:45:04.735355Z",
     "iopub.status.idle": "2025-01-13T22:45:04.974594Z",
     "shell.execute_reply": "2025-01-13T22:45:04.974163Z",
     "shell.execute_reply.started": "2025-01-13T22:45:04.735716Z"
    }
   },
   "outputs": [
    {
     "name": "stdout",
     "output_type": "stream",
     "text": [
      "+------------+----------+--------------------+--------------------+--------------------+----------------+---------+-----------+----+-----+---+\n",
      "|country_code|created_at|               email|                iban|                  id|            name| passport|      swift|year|month|day|\n",
      "+------------+----------+--------------------+--------------------+--------------------+----------------+---------+-----------+----+-----+---+\n",
      "|          GE|2024-12-08|brightthomas@exam...|GB56NVYS608859440...|189b84f0-9527-45e...|  Brittany Heath|H58091059|BEBQGBVOSLL|2024|   12|  8|\n",
      "|          KR|2024-12-15|donaldpierce@exam...|GB55LFTZ500270831...|b7e33adb-9bfe-465...|        Ann Cruz|T22953641|HMAQGBCSXE8|2024|   12| 15|\n",
      "|          GE|2024-12-08|harrisondeanna@ex...|GB96EZYO163067760...|bef2df38-4a7a-4b7...| Destiny Jimenez|F75210547|WSHOGBQ55I9|2024|   12|  8|\n",
      "|          GE|2024-12-09|derrick15@example...|GB14AYNQ551881503...|0daad7bc-25b6-446...|Cassidy Jones MD|595954695|VTHYGBZMNOI|2024|   12|  9|\n",
      "|          KR|2024-12-27|seanhenderson@exa...|GB96HUZF241750671...|757daf25-ddd6-410...|  Sherri Hickman|529955944|OXTEGBB860C|2024|   12| 27|\n",
      "+------------+----------+--------------------+--------------------+--------------------+----------------+---------+-----------+----+-----+---+\n",
      "only showing top 5 rows\n",
      "\n"
     ]
    }
   ],
   "source": [
    "latest_changes_df.show(5)"
   ]
  },
  {
   "cell_type": "markdown",
   "id": "783a508f-7034-402a-9520-50aada820b59",
   "metadata": {},
   "source": [
    "## Creating the upsert"
   ]
  },
  {
   "cell_type": "markdown",
   "id": "a1af924c-2e1c-4d0b-8054-fddb76df2f1d",
   "metadata": {
    "execution": {
     "iopub.execute_input": "2025-01-13T16:25:40.766896Z",
     "iopub.status.busy": "2025-01-13T16:25:40.766716Z",
     "iopub.status.idle": "2025-01-13T16:25:40.769569Z",
     "shell.execute_reply": "2025-01-13T16:25:40.769192Z",
     "shell.execute_reply.started": "2025-01-13T16:25:40.766883Z"
    }
   },
   "source": [
    "### Upsert Dataset\n",
    "\n",
    "Editing 4 records and adding new 4 records"
   ]
  },
  {
   "cell_type": "code",
   "execution_count": 30,
   "id": "4bf3813d-2d55-47ce-9c90-7e0433f85c01",
   "metadata": {
    "execution": {
     "iopub.execute_input": "2025-01-13T22:45:07.526873Z",
     "iopub.status.busy": "2025-01-13T22:45:07.526547Z",
     "iopub.status.idle": "2025-01-13T22:45:07.530905Z",
     "shell.execute_reply": "2025-01-13T22:45:07.530568Z",
     "shell.execute_reply.started": "2025-01-13T22:45:07.526856Z"
    }
   },
   "outputs": [],
   "source": [
    "entries = [\n",
    "    # Existing entries\n",
    "    dataset[2], \n",
    "    dataset[4], \n",
    "    dataset[7],\n",
    "    dataset[11],\n",
    "    # New entries\n",
    "    *generate_dataset(4, seed=1037)\n",
    "]"
   ]
  },
  {
   "cell_type": "code",
   "execution_count": 110,
   "id": "58392ccb-303d-443a-b242-5b2ae02d2318",
   "metadata": {
    "execution": {
     "iopub.execute_input": "2025-01-13T23:05:47.612855Z",
     "iopub.status.busy": "2025-01-13T23:05:47.612420Z",
     "iopub.status.idle": "2025-01-13T23:05:47.617775Z",
     "shell.execute_reply": "2025-01-13T23:05:47.617403Z",
     "shell.execute_reply.started": "2025-01-13T23:05:47.612834Z"
    }
   },
   "outputs": [],
   "source": [
    "entries = [\n",
    "    # Existing entries\n",
    "    dataset[3], \n",
    "    dataset[5], \n",
    "    dataset[8],\n",
    "    dataset[12],\n",
    "    # New entries\n",
    "    *generate_dataset(4, seed=11037)\n",
    "]"
   ]
  },
  {
   "cell_type": "code",
   "execution_count": 111,
   "id": "398b3fa2-da9f-445c-a016-0c5fa2c46383",
   "metadata": {
    "execution": {
     "iopub.execute_input": "2025-01-13T23:05:48.711286Z",
     "iopub.status.busy": "2025-01-13T23:05:48.710830Z",
     "iopub.status.idle": "2025-01-13T23:05:48.713501Z",
     "shell.execute_reply": "2025-01-13T23:05:48.713097Z",
     "shell.execute_reply.started": "2025-01-13T23:05:48.711265Z"
    }
   },
   "outputs": [],
   "source": [
    "for entry in entries:\n",
    "    username = entry['name'].lower().replace(\" \", \".\")\n",
    "    entry['email'] = f\"{username}@domain.com\""
   ]
  },
  {
   "cell_type": "code",
   "execution_count": 112,
   "id": "791a8bec-634c-4bbb-9581-64e770c58fb5",
   "metadata": {
    "execution": {
     "iopub.execute_input": "2025-01-13T23:05:49.592140Z",
     "iopub.status.busy": "2025-01-13T23:05:49.591719Z",
     "iopub.status.idle": "2025-01-13T23:05:49.617579Z",
     "shell.execute_reply": "2025-01-13T23:05:49.617228Z",
     "shell.execute_reply.started": "2025-01-13T23:05:49.592119Z"
    }
   },
   "outputs": [],
   "source": [
    "upsert_df = spark.createDataFrame(entries)\\\n",
    "        .withColumn(\"year\", year(col(\"created_at\")))\\\n",
    "        .withColumn(\"month\", month(col(\"created_at\")))\\\n",
    "        .withColumn(\"day\", dayofmonth(col(\"created_at\")))"
   ]
  },
  {
   "cell_type": "code",
   "execution_count": 113,
   "id": "f841c5db-fdaf-4e26-9059-c062a5dcd2ec",
   "metadata": {
    "execution": {
     "iopub.execute_input": "2025-01-13T23:05:50.356588Z",
     "iopub.status.busy": "2025-01-13T23:05:50.356324Z",
     "iopub.status.idle": "2025-01-13T23:05:50.597672Z",
     "shell.execute_reply": "2025-01-13T23:05:50.597325Z",
     "shell.execute_reply.started": "2025-01-13T23:05:50.356568Z"
    }
   },
   "outputs": [
    {
     "name": "stdout",
     "output_type": "stream",
     "text": [
      "+------------+----------+-----------------------------+----------------------+------------------------------------+------------------+---------+-----------+----+-----+---+\n",
      "|country_code|created_at|email                        |iban                  |id                                  |name              |passport |swift      |year|month|day|\n",
      "+------------+----------+-----------------------------+----------------------+------------------------------------+------------------+---------+-----------+----+-----+---+\n",
      "|GE          |2024-12-08|destiny.jimenez@domain.com   |GB96EZYO16306776005871|bef2df38-4a7a-4b73-904d-c949dc8140c6|Destiny Jimenez   |F75210547|WSHOGBQ55I9|2024|12   |8  |\n",
      "|BR          |2024-10-30|evan.jordan@domain.com       |GB17EPUZ66764518981680|4709d52f-517d-4907-b01b-2620c70146e1|Evan Jordan       |D83053040|HASPGB7OGUX|2024|10   |30 |\n",
      "|JP          |2024-11-09|christine.crawford@domain.com|GB72XSCN85943044334322|019aea9a-35bf-4a7c-be65-a783924affd0|Christine Crawford|G48667446|YWABGB5TK1G|2024|11   |9  |\n",
      "|FR          |2024-11-03|robert.bauer@domain.com      |GB70XIHK82464115195968|d6b7aa62-5544-4caa-85fe-bfd9e60423bf|Robert Bauer      |655971569|QTKTGB8IS80|2024|11   |3  |\n",
      "|FR          |2024-12-11|robert.nelson@domain.com     |GB87YBCI34305337222787|ba8f69c7-2f71-4a8d-b792-150d753b4ce4|Robert Nelson     |908173196|ICHVGBIREUN|2024|12   |11 |\n",
      "|GE          |2025-01-03|ruth.anderson@domain.com     |GB52ORLJ01637271781027|2900fb67-efb7-431e-8b3c-dd0c71fd9d1b|Ruth Anderson     |947116847|RRQBGB4M1IG|2025|1    |3  |\n",
      "|KR          |2024-11-10|jeremy.jordan@domain.com     |GB90PPJR83139297369649|1476d58e-1527-4932-865a-b7008e74da0e|Jeremy Jordan     |448312596|EMMPGB9XAXJ|2024|11   |10 |\n",
      "|BR          |2024-11-01|cheyenne.douglas@domain.com  |GB20GJLK22203402721817|b63a0cc7-26e6-4722-b038-2dd348acac5e|Cheyenne Douglas  |F14468209|NLDGGBEW561|2024|11   |1  |\n",
      "+------------+----------+-----------------------------+----------------------+------------------------------------+------------------+---------+-----------+----+-----+---+\n",
      "\n"
     ]
    }
   ],
   "source": [
    "upsert_df.show(8, truncate=False)"
   ]
  },
  {
   "cell_type": "code",
   "execution_count": 114,
   "id": "4a3bff34-f2d8-4747-ab12-1053bc8b6a11",
   "metadata": {
    "execution": {
     "iopub.execute_input": "2025-01-13T23:05:52.291058Z",
     "iopub.status.busy": "2025-01-13T23:05:52.290777Z",
     "iopub.status.idle": "2025-01-13T23:05:52.298408Z",
     "shell.execute_reply": "2025-01-13T23:05:52.297955Z",
     "shell.execute_reply.started": "2025-01-13T23:05:52.291045Z"
    }
   },
   "outputs": [],
   "source": [
    "upsert_df.createOrReplaceTempView(\"upsert_data\")"
   ]
  },
  {
   "cell_type": "markdown",
   "id": "9640466a-4aae-496d-9cd0-cfd339a52fcf",
   "metadata": {},
   "source": [
    "# Upsert Strategy"
   ]
  },
  {
   "cell_type": "markdown",
   "id": "f40a146b-2aef-443b-a6d3-5942639371c2",
   "metadata": {},
   "source": [
    "## Slowly Changing Dimension (SCD) Type 1\n",
    "\n",
    "In SCD Type 1, the existing records are overwritten with new data when there is a match, and new records are inserted when there is no match. This approach does not preserve historical changes; it simply updates the records with the latest data.\n"
   ]
  },
  {
   "cell_type": "markdown",
   "id": "f3ce99ee-74d9-4cda-87e9-ca08371232f0",
   "metadata": {},
   "source": [
    "### Using upsert in SQL like syntax"
   ]
  },
  {
   "cell_type": "code",
   "execution_count": 115,
   "id": "ff721de9-3bc7-4e28-a685-eadbbf685941",
   "metadata": {
    "execution": {
     "iopub.execute_input": "2025-01-13T23:05:54.452305Z",
     "iopub.status.busy": "2025-01-13T23:05:54.451849Z",
     "iopub.status.idle": "2025-01-13T23:05:55.024676Z",
     "shell.execute_reply": "2025-01-13T23:05:55.024357Z",
     "shell.execute_reply.started": "2025-01-13T23:05:54.452283Z"
    }
   },
   "outputs": [
    {
     "data": {
      "text/plain": [
       "DataFrame[]"
      ]
     },
     "execution_count": 115,
     "metadata": {},
     "output_type": "execute_result"
    }
   ],
   "source": [
    "spark.sql(\"\"\"\n",
    "    MERGE INTO iceberg.accounts AS target\n",
    "    USING upsert_data AS source ON \n",
    "        target.id = source.id\n",
    "    WHEN MATCHED THEN \n",
    "        UPDATE SET\n",
    "            target.country_code = source.country_code,\n",
    "            target.email = source.email,\n",
    "            target.name = source.name,\n",
    "            target.iban = source.iban,\n",
    "            target.swift = source.swift,\n",
    "            target.passport = source.passport\n",
    "    WHEN NOT MATCHED THEN \n",
    "        INSERT *\n",
    "\"\"\")"
   ]
  },
  {
   "cell_type": "markdown",
   "id": "ce3ca4ec-a65f-4a80-aa38-4f5c7f3f6f03",
   "metadata": {
    "execution": {
     "iopub.execute_input": "2025-01-13T17:08:28.738100Z",
     "iopub.status.busy": "2025-01-13T17:08:28.737800Z",
     "iopub.status.idle": "2025-01-13T17:08:28.741670Z",
     "shell.execute_reply": "2025-01-13T17:08:28.741229Z",
     "shell.execute_reply.started": "2025-01-13T17:08:28.738075Z"
    }
   },
   "source": [
    "**but this trigges a snapshot creation with SCD 1, cant not isolate nativally the increments**"
   ]
  },
  {
   "cell_type": "markdown",
   "id": "3b8e37e4-6e39-440b-baf6-d0a84e65bace",
   "metadata": {},
   "source": [
    "## Slowly Changing Dimension (SCD) Type 2\n",
    "\n",
    "Slowly Changing Dimension Type 2 (SCD Type 2) is a method used in data warehousing to track historical changes in dimension data over time. Unlike SCD Type 1, which overwrites old data with new data, SCD Type 2 preserves the full history of changes by creating new records for each change. This allows you to analyze how data has evolved over time.\n",
    "\n"
   ]
  },
  {
   "cell_type": "markdown",
   "id": "18c23043-44be-47d6-9bbd-275d214d0c74",
   "metadata": {},
   "source": [
    "### Using append in python library"
   ]
  },
  {
   "cell_type": "markdown",
   "id": "5399ab8b-d180-4700-b6ce-a43bf8f06dd4",
   "metadata": {},
   "source": [
    "Not available"
   ]
  },
  {
   "cell_type": "code",
   "execution_count": null,
   "id": "3555bcba-1dcf-4e58-a05c-e55a15adf73c",
   "metadata": {},
   "outputs": [],
   "source": [
    "upsert_df.writeTo(\"iceberg_db.accounts\")\\\n",
    "    .tableProperty(\"changelog.enabled\", \"true\")\\\n",
    "    .tableProperty(\"overwriteSchema\", \"true\")\\\n",
    "    .partitionedBy(\"year\", \"month\")\\\n",
    "    .append() ## "
   ]
  },
  {
   "cell_type": "code",
   "execution_count": null,
   "id": "8c684f2f-3bbc-4e02-8c7e-45129a230fa2",
   "metadata": {},
   "outputs": [],
   "source": [
    "spark.sql(\"\"\"\n",
    "    SELECT *\n",
    "    FROM iceberg_db.accounts.history\n",
    "\"\"\").show(vertical=True, truncate=False)"
   ]
  },
  {
   "cell_type": "code",
   "execution_count": null,
   "id": "74d312d2-c4e9-42aa-a36a-42e67ea0877d",
   "metadata": {},
   "outputs": [],
   "source": [
    "spark.sql(\"\"\"\n",
    "    SELECT *\n",
    "    FROM iceberg_db.accounts.snapshots\n",
    "\"\"\").show(vertical=True, truncate=False)"
   ]
  },
  {
   "cell_type": "markdown",
   "id": "bc3e49f9-70f8-48fd-a342-1dcde932451e",
   "metadata": {},
   "source": [
    "## Reading incrementals\n",
    "\n",
    "Iceberg doesnt keep the incremental isolated. snapshot is then a consolidade of the most recent version of the table."
   ]
  },
  {
   "cell_type": "code",
   "execution_count": 116,
   "id": "05a07e36-739d-4bc6-b08b-478e9e94ae76",
   "metadata": {
    "execution": {
     "iopub.execute_input": "2025-01-13T23:05:59.424155Z",
     "iopub.status.busy": "2025-01-13T23:05:59.423775Z",
     "iopub.status.idle": "2025-01-13T23:05:59.461237Z",
     "shell.execute_reply": "2025-01-13T23:05:59.460817Z",
     "shell.execute_reply.started": "2025-01-13T23:05:59.424134Z"
    }
   },
   "outputs": [
    {
     "name": "stdout",
     "output_type": "stream",
     "text": [
      "+-------------------+-------------------+\n",
      "|        snapshot_id|          parent_id|\n",
      "+-------------------+-------------------+\n",
      "|1292336618355848037|5319772249300913325|\n",
      "|5319772249300913325|1766843850123313138|\n",
      "|1766843850123313138|8107394393973872139|\n",
      "|8107394393973872139|               NULL|\n",
      "+-------------------+-------------------+\n",
      "\n"
     ]
    }
   ],
   "source": [
    "spark.sql(\"\"\"\n",
    "    SELECT snapshot_id, parent_id\n",
    "    FROM iceberg.accounts.snapshots\n",
    "    ORDER BY committed_at DESC;\n",
    "\"\"\").show()"
   ]
  },
  {
   "cell_type": "markdown",
   "id": "53bd4026-3ab6-4df7-955a-47b18ac20769",
   "metadata": {},
   "source": [
    "### Reading the last changes"
   ]
  },
  {
   "cell_type": "code",
   "execution_count": 117,
   "id": "22cdb52c-99a9-4f51-b13b-96147ca48bea",
   "metadata": {
    "execution": {
     "iopub.execute_input": "2025-01-13T23:06:03.159459Z",
     "iopub.status.busy": "2025-01-13T23:06:03.159158Z",
     "iopub.status.idle": "2025-01-13T23:06:03.186708Z",
     "shell.execute_reply": "2025-01-13T23:06:03.186393Z",
     "shell.execute_reply.started": "2025-01-13T23:06:03.159445Z"
    }
   },
   "outputs": [
    {
     "data": {
      "text/plain": [
       "1292336618355848037"
      ]
     },
     "execution_count": 117,
     "metadata": {},
     "output_type": "execute_result"
    }
   ],
   "source": [
    "latest_snapshot_id, parent_snapshot_id = spark.sql(\"\"\"\n",
    "    SELECT snapshot_id, parent_id\n",
    "    FROM iceberg.accounts.snapshots\n",
    "    ORDER BY committed_at DESC\n",
    "    LIMIT 1;\n",
    "\"\"\").collect()[0]\n",
    "\n",
    "latest_snapshot_id"
   ]
  },
  {
   "cell_type": "code",
   "execution_count": 118,
   "id": "18740e9c-df7d-4ca0-87be-d864ab33e198",
   "metadata": {
    "execution": {
     "iopub.execute_input": "2025-01-13T23:06:03.608567Z",
     "iopub.status.busy": "2025-01-13T23:06:03.608224Z",
     "iopub.status.idle": "2025-01-13T23:06:03.611049Z",
     "shell.execute_reply": "2025-01-13T23:06:03.610735Z",
     "shell.execute_reply.started": "2025-01-13T23:06:03.608555Z"
    }
   },
   "outputs": [
    {
     "data": {
      "text/plain": [
       "5319772249300913325"
      ]
     },
     "execution_count": 118,
     "metadata": {},
     "output_type": "execute_result"
    }
   ],
   "source": [
    "parent_snapshot_id"
   ]
  },
  {
   "cell_type": "code",
   "execution_count": 119,
   "id": "afbef033-d56a-4fbf-b1d2-1504e7b72fb8",
   "metadata": {
    "execution": {
     "iopub.execute_input": "2025-01-13T23:06:04.171872Z",
     "iopub.status.busy": "2025-01-13T23:06:04.171656Z",
     "iopub.status.idle": "2025-01-13T23:06:04.225478Z",
     "shell.execute_reply": "2025-01-13T23:06:04.225175Z",
     "shell.execute_reply.started": "2025-01-13T23:06:04.171855Z"
    }
   },
   "outputs": [
    {
     "data": {
      "text/plain": [
       "108"
      ]
     },
     "execution_count": 119,
     "metadata": {},
     "output_type": "execute_result"
    }
   ],
   "source": [
    "last_snapshot = spark.read.format(\"iceberg\") \\\n",
    "    .option(\"snapshot-id\", latest_snapshot_id) \\\n",
    "    .load(\"iceberg.accounts\")\n",
    "\n",
    "last_snapshot.count()"
   ]
  },
  {
   "cell_type": "code",
   "execution_count": 122,
   "id": "d48484fa-0847-4962-843a-d074cefd5355",
   "metadata": {
    "execution": {
     "iopub.execute_input": "2025-01-13T23:06:36.953309Z",
     "iopub.status.busy": "2025-01-13T23:06:36.952873Z",
     "iopub.status.idle": "2025-01-13T23:06:36.993761Z",
     "shell.execute_reply": "2025-01-13T23:06:36.993340Z",
     "shell.execute_reply.started": "2025-01-13T23:06:36.953291Z"
    }
   },
   "outputs": [
    {
     "data": {
      "text/plain": [
       "0"
      ]
     },
     "execution_count": 122,
     "metadata": {},
     "output_type": "execute_result"
    }
   ],
   "source": [
    "increment = spark.read.format(\"iceberg\") \\\n",
    "    .option(\"start-snapshot-id\", parent_snapshot_id) \\\n",
    "    .option(\"end-snapshot-id\", latest_snapshot_id) \\\n",
    "    .load(\"iceberg.accounts\")\n",
    "\n",
    "increment.count()"
   ]
  },
  {
   "cell_type": "markdown",
   "id": "3a5c51d5-d718-40e0-a279-21bfe82334aa",
   "metadata": {},
   "source": [
    "### Create a changlog_view for the iceberg table SCD 2 \n",
    "\n",
    "In order to create identify the incrementals beetween diferent snapshot_ids we need to create a changelog_view  "
   ]
  },
  {
   "cell_type": "code",
   "execution_count": 130,
   "id": "5a9c68b8-1de8-4c4c-8e78-7718d84299bb",
   "metadata": {
    "execution": {
     "iopub.execute_input": "2025-01-13T23:08:09.521990Z",
     "iopub.status.busy": "2025-01-13T23:08:09.521361Z",
     "iopub.status.idle": "2025-01-13T23:08:09.545473Z",
     "shell.execute_reply": "2025-01-13T23:08:09.545182Z",
     "shell.execute_reply.started": "2025-01-13T23:08:09.521958Z"
    }
   },
   "outputs": [
    {
     "data": {
      "text/plain": [
       "DataFrame[changelog_view: string]"
      ]
     },
     "execution_count": 130,
     "metadata": {},
     "output_type": "execute_result"
    }
   ],
   "source": [
    "spark.sql(f\"\"\"\n",
    "CALL system.create_changelog_view(\n",
    "  table => 'iceberg.accounts',\n",
    "  options => map('start-snapshot-id', '{\"8107394393973872139\"}', 'end-snapshot-id', '{latest_snapshot_id}'),\n",
    "  changelog_view => 'accounts_cdc'\n",
    ")\"\"\")"
   ]
  },
  {
   "cell_type": "code",
   "execution_count": 131,
   "id": "1bb0929e-4c4f-4b1b-804b-bb43bce62a77",
   "metadata": {
    "execution": {
     "iopub.execute_input": "2025-01-13T23:08:09.904047Z",
     "iopub.status.busy": "2025-01-13T23:08:09.903687Z",
     "iopub.status.idle": "2025-01-13T23:08:10.022724Z",
     "shell.execute_reply": "2025-01-13T23:08:10.022130Z",
     "shell.execute_reply.started": "2025-01-13T23:08:09.904030Z"
    }
   },
   "outputs": [
    {
     "name": "stdout",
     "output_type": "stream",
     "text": [
      "+------------+----------+--------------------+--------------------+--------------------+------------------+---------+-----------+----+-----+---+------------+---------------+-------------------+\n",
      "|country_code|created_at|               email|                iban|                  id|              name| passport|      swift|year|month|day|_change_type|_change_ordinal|_commit_snapshot_id|\n",
      "+------------+----------+--------------------+--------------------+--------------------+------------------+---------+-----------+----+-----+---+------------+---------------+-------------------+\n",
      "|          BR|2024-10-30|dalebrown@example...|GB17EPUZ667645189...|4709d52f-517d-490...|       Evan Jordan|D83053040|HASPGB7OGUX|2024|   10| 30|      DELETE|              2|1292336618355848037|\n",
      "|          BR|2024-10-30|evan.jordan@domai...|GB17EPUZ667645189...|4709d52f-517d-490...|       Evan Jordan|D83053040|HASPGB7OGUX|2024|   10| 30|      INSERT|              2|1292336618355848037|\n",
      "|          BR|2024-11-01|cheyenne.douglas@...|GB20GJLK222034027...|b63a0cc7-26e6-472...|  Cheyenne Douglas|F14468209|NLDGGBEW561|2024|   11|  1|      INSERT|              2|1292336618355848037|\n",
      "|          FR|2024-11-03|flynnbryan@exampl...|GB70XIHK824641151...|d6b7aa62-5544-4ca...|      Robert Bauer|655971569|QTKTGB8IS80|2024|   11|  3|      DELETE|              2|1292336618355848037|\n",
      "|          FR|2024-11-03|robert.bauer@doma...|GB70XIHK824641151...|d6b7aa62-5544-4ca...|      Robert Bauer|655971569|QTKTGB8IS80|2024|   11|  3|      INSERT|              2|1292336618355848037|\n",
      "|          FR|2024-12-11|robert.nelson@dom...|GB87YBCI343053372...|ba8f69c7-2f71-4a8...|     Robert Nelson|908173196|ICHVGBIREUN|2024|   12| 11|      INSERT|              2|1292336618355848037|\n",
      "|          GE|2024-12-08|destiny.jimenez@d...|GB96EZYO163067760...|bef2df38-4a7a-4b7...|   Destiny Jimenez|F75210547|WSHOGBQ55I9|2024|   12|  8|      INSERT|              2|1292336618355848037|\n",
      "|          GE|2024-12-08|harrisondeanna@ex...|GB96EZYO163067760...|bef2df38-4a7a-4b7...|   Destiny Jimenez|F75210547|WSHOGBQ55I9|2024|   12|  8|      DELETE|              2|1292336618355848037|\n",
      "|          GE|2025-01-03|ruth.anderson@dom...|GB52ORLJ016372717...|2900fb67-efb7-431...|     Ruth Anderson|947116847|RRQBGB4M1IG|2025|    1|  3|      INSERT|              2|1292336618355848037|\n",
      "|          JP|2024-11-09|christine.crawfor...|GB72XSCN859430443...|019aea9a-35bf-4a7...|Christine Crawford|G48667446|YWABGB5TK1G|2024|   11|  9|      INSERT|              2|1292336618355848037|\n",
      "|          JP|2024-11-09|robertlynch@examp...|GB72XSCN859430443...|019aea9a-35bf-4a7...|Christine Crawford|G48667446|YWABGB5TK1G|2024|   11|  9|      DELETE|              2|1292336618355848037|\n",
      "|          KR|2024-11-10|jeremy.jordan@dom...|GB90PPJR831392973...|1476d58e-1527-493...|     Jeremy Jordan|448312596|EMMPGB9XAXJ|2024|   11| 10|      INSERT|              2|1292336618355848037|\n",
      "+------------+----------+--------------------+--------------------+--------------------+------------------+---------+-----------+----+-----+---+------------+---------------+-------------------+\n",
      "\n"
     ]
    }
   ],
   "source": [
    "spark.sql(f\"\"\"\n",
    "    SELECT * FROM accounts_cdc\n",
    "    WHERE _commit_snapshot_id == {latest_snapshot_id} \n",
    "\"\"\").show()"
   ]
  },
  {
   "cell_type": "code",
   "execution_count": 132,
   "id": "652501b8-5ec6-4257-841c-634d3179e05a",
   "metadata": {
    "execution": {
     "iopub.execute_input": "2025-01-13T23:08:24.057695Z",
     "iopub.status.busy": "2025-01-13T23:08:24.057005Z",
     "iopub.status.idle": "2025-01-13T23:08:24.194737Z",
     "shell.execute_reply": "2025-01-13T23:08:24.194377Z",
     "shell.execute_reply.started": "2025-01-13T23:08:24.057661Z"
    }
   },
   "outputs": [
    {
     "data": {
      "text/plain": [
       "16"
      ]
     },
     "execution_count": 132,
     "metadata": {},
     "output_type": "execute_result"
    }
   ],
   "source": [
    "spark.sql(f\"\"\"\n",
    "    SELECT * FROM accounts_cdc\n",
    "    WHERE _change_type = 'INSERT'\n",
    "\"\"\").count()"
   ]
  },
  {
   "cell_type": "markdown",
   "id": "ce717778-3572-4077-8816-3f988d9b010c",
   "metadata": {},
   "source": [
    "### Isolate the increments "
   ]
  },
  {
   "cell_type": "code",
   "execution_count": 129,
   "id": "eff6358b-86ba-42ac-b171-2754248d4cc5",
   "metadata": {
    "execution": {
     "iopub.execute_input": "2025-01-13T23:07:30.146343Z",
     "iopub.status.busy": "2025-01-13T23:07:30.146067Z",
     "iopub.status.idle": "2025-01-13T23:07:30.260943Z",
     "shell.execute_reply": "2025-01-13T23:07:30.260642Z",
     "shell.execute_reply.started": "2025-01-13T23:07:30.146330Z"
    }
   },
   "outputs": [
    {
     "data": {
      "text/plain": [
       "8"
      ]
     },
     "execution_count": 129,
     "metadata": {},
     "output_type": "execute_result"
    }
   ],
   "source": [
    "spark.sql(f\"\"\"\n",
    "    SELECT * FROM accounts_cdc\n",
    "    WHERE _commit_snapshot_id == {latest_snapshot_id} AND _change_type = 'INSERT'\n",
    "\"\"\").count()"
   ]
  },
  {
   "cell_type": "markdown",
   "id": "c4045ceb-09c3-4a02-97cc-58635f2143b6",
   "metadata": {},
   "source": [
    "### Create a changlog_view for the iceberg table SCD 2 - with UPDATE_BEFORE and UPDATE_AFTER\n",
    "\n",
    "This feature can help achive SCD 3 in iceberg tables"
   ]
  },
  {
   "cell_type": "code",
   "execution_count": 108,
   "id": "0ae9c308-58a2-4b60-9d23-322ea2ac453a",
   "metadata": {
    "execution": {
     "iopub.execute_input": "2025-01-13T23:05:16.584290Z",
     "iopub.status.busy": "2025-01-13T23:05:16.584026Z",
     "iopub.status.idle": "2025-01-13T23:05:16.604832Z",
     "shell.execute_reply": "2025-01-13T23:05:16.604556Z",
     "shell.execute_reply.started": "2025-01-13T23:05:16.584270Z"
    }
   },
   "outputs": [
    {
     "data": {
      "text/plain": [
       "DataFrame[changelog_view: string]"
      ]
     },
     "execution_count": 108,
     "metadata": {},
     "output_type": "execute_result"
    }
   ],
   "source": [
    "spark.sql(f\"\"\"\n",
    "CALL system.create_changelog_view(\n",
    "  table => 'iceberg.accounts',\n",
    "  options => map('start-snapshot-id', '{parent_snapshot_id}', 'end-snapshot-id', '{latest_snapshot_id}'),\n",
    "  changelog_view => 'accounts_cdc_sdc3',\n",
    "  compute_updates => true,\n",
    "  identifier_columns => array('id')\n",
    ")\"\"\")"
   ]
  },
  {
   "cell_type": "code",
   "execution_count": 109,
   "id": "1fa582e3-3cad-4c69-9ee4-87f2311b9725",
   "metadata": {
    "execution": {
     "iopub.execute_input": "2025-01-13T23:05:17.143600Z",
     "iopub.status.busy": "2025-01-13T23:05:17.143385Z",
     "iopub.status.idle": "2025-01-13T23:05:17.251225Z",
     "shell.execute_reply": "2025-01-13T23:05:17.250882Z",
     "shell.execute_reply.started": "2025-01-13T23:05:17.143585Z"
    }
   },
   "outputs": [
    {
     "name": "stdout",
     "output_type": "stream",
     "text": [
      "+------------+----------+-----+----+---+----+--------+-----+----+-----+---+------------+---------------+-------------------+\n",
      "|country_code|created_at|email|iban| id|name|passport|swift|year|month|day|_change_type|_change_ordinal|_commit_snapshot_id|\n",
      "+------------+----------+-----+----+---+----+--------+-----+----+-----+---+------------+---------------+-------------------+\n",
      "+------------+----------+-----+----+---+----+--------+-----+----+-----+---+------------+---------------+-------------------+\n",
      "\n"
     ]
    }
   ],
   "source": [
    "spark.sql(f\"\"\"\n",
    "    SELECT * FROM accounts_cdc_sdc3\n",
    "    WHERE _commit_snapshot_id == {latest_snapshot_id}\n",
    "\"\"\").show()"
   ]
  },
  {
   "cell_type": "code",
   "execution_count": 80,
   "id": "238f37bd-9766-44e5-9ada-51c8c19c48f0",
   "metadata": {
    "execution": {
     "iopub.execute_input": "2025-01-13T23:03:34.431390Z",
     "iopub.status.busy": "2025-01-13T23:03:34.430964Z",
     "iopub.status.idle": "2025-01-13T23:03:34.560398Z",
     "shell.execute_reply": "2025-01-13T23:03:34.560051Z",
     "shell.execute_reply.started": "2025-01-13T23:03:34.431373Z"
    }
   },
   "outputs": [
    {
     "name": "stdout",
     "output_type": "stream",
     "text": [
      "+---+----+-----+--------------+------------+---------------------+----------+----+--------+-----+----+-----+---+\n",
      "| id|name|email|previous_email|country_code|previous_country_code|created_at|iban|passport|swift|year|month|day|\n",
      "+---+----+-----+--------------+------------+---------------------+----------+----+--------+-----+----+-----+---+\n",
      "+---+----+-----+--------------+------------+---------------------+----------+----+--------+-----+----+-----+---+\n",
      "\n"
     ]
    }
   ],
   "source": [
    "from pyspark.sql.functions import lit, when\n",
    "\n",
    "cdc_data = spark.sql(f\"\"\"\n",
    "    SELECT * FROM accounts_cdc_sdc3\n",
    "    WHERE _commit_snapshot_id == {latest_snapshot_id}\n",
    "\"\"\")\n",
    "\n",
    "# Add previous value columns for SCD Type 3\n",
    "scd3_data = cdc_data.withColumn(\"previous_email\", lit(None)) \\\n",
    "                    .withColumn(\"previous_country_code\", lit(None))\n",
    "\n",
    "# Process updates to populate previous values\n",
    "scd3_data = scd3_data.withColumn(\n",
    "    \"previous_email\",\n",
    "    when(col(\"_change_type\") == \"UPDATE_AFTER\", col(\"email\")).otherwise(col(\"previous_email\"))\n",
    ").withColumn(\n",
    "    \"previous_country_code\",\n",
    "    when(col(\"_change_type\") == \"UPDATE_AFTER\", col(\"country_code\")).otherwise(col(\"previous_country_code\"))\n",
    ")\n",
    "\n",
    "# Filter out UPDATE_BEFORE rows (since we only need the latest state)\n",
    "scd3_data = scd3_data.filter(col(\"_change_type\") != \"UPDATE_BEFORE\")\n",
    "\n",
    "# Show the SCD Type 3 result\n",
    "scd3_data.select(\n",
    "    \"id\", \"name\", \"email\", \"previous_email\", \"country_code\", \"previous_country_code\",\n",
    "    \"created_at\", \"iban\", \"passport\", \"swift\", \"year\", \"month\", \"day\"\n",
    ").show()"
   ]
  },
  {
   "cell_type": "markdown",
   "id": "b716e851-9aee-4da0-be0b-4e5902f1e8a3",
   "metadata": {},
   "source": [
    "## TODO: Optimaze commands"
   ]
  },
  {
   "cell_type": "markdown",
   "id": "c8f5ece8-ba70-4ad8-bf64-75b648b13373",
   "metadata": {},
   "source": [
    "## TODO: Miscellaneous on Iceberg"
   ]
  },
  {
   "cell_type": "code",
   "execution_count": null,
   "id": "deaf1c7d-940c-492e-829a-9a893fa167fe",
   "metadata": {},
   "outputs": [],
   "source": []
  },
  {
   "cell_type": "code",
   "execution_count": null,
   "id": "d9281c35-af21-4ad7-905e-69b5dfb2170b",
   "metadata": {},
   "outputs": [],
   "source": []
  },
  {
   "cell_type": "code",
   "execution_count": null,
   "id": "c0da789f-8449-4104-908a-9d500499d938",
   "metadata": {},
   "outputs": [],
   "source": []
  },
  {
   "cell_type": "code",
   "execution_count": null,
   "id": "d97d32cc-b96a-46da-b989-4e0708c0b618",
   "metadata": {},
   "outputs": [],
   "source": []
  },
  {
   "cell_type": "code",
   "execution_count": null,
   "id": "b9358b22-799a-4148-822d-5db0f605d02b",
   "metadata": {},
   "outputs": [],
   "source": []
  },
  {
   "cell_type": "code",
   "execution_count": null,
   "id": "9f6686ab-1992-4678-81a2-1b4e085ea14f",
   "metadata": {},
   "outputs": [],
   "source": []
  },
  {
   "cell_type": "code",
   "execution_count": null,
   "id": "364f884d-9a4c-4ad7-8ece-a07f44dd7de3",
   "metadata": {},
   "outputs": [],
   "source": []
  },
  {
   "cell_type": "code",
   "execution_count": null,
   "id": "0683940a-d3d0-400c-9ea5-886ecb682237",
   "metadata": {},
   "outputs": [],
   "source": []
  },
  {
   "cell_type": "code",
   "execution_count": null,
   "id": "2c6e75b9-7c55-4cd1-81af-23940df7bad0",
   "metadata": {},
   "outputs": [],
   "source": []
  },
  {
   "cell_type": "code",
   "execution_count": null,
   "id": "ca6d99c9-6ca9-4d62-8c56-8d2f817b4540",
   "metadata": {},
   "outputs": [],
   "source": []
  },
  {
   "cell_type": "code",
   "execution_count": null,
   "id": "c1464420-2754-4a95-9055-d7e3d284c081",
   "metadata": {},
   "outputs": [],
   "source": []
  },
  {
   "cell_type": "code",
   "execution_count": null,
   "id": "c2556a1b-b1d4-45a7-a555-62acdfecfb64",
   "metadata": {},
   "outputs": [],
   "source": []
  },
  {
   "cell_type": "code",
   "execution_count": null,
   "id": "c606aaee-0f20-467b-833c-6df2f9b04f53",
   "metadata": {},
   "outputs": [],
   "source": []
  }
 ],
 "metadata": {
  "kernelspec": {
   "display_name": "Python 3 (ipykernel)",
   "language": "python",
   "name": "python3"
  },
  "language_info": {
   "codemirror_mode": {
    "name": "ipython",
    "version": 3
   },
   "file_extension": ".py",
   "mimetype": "text/x-python",
   "name": "python",
   "nbconvert_exporter": "python",
   "pygments_lexer": "ipython3",
   "version": "3.12.3"
  }
 },
 "nbformat": 4,
 "nbformat_minor": 5
}
