{
 "cells": [
  {
   "cell_type": "markdown",
   "id": "18487f50-49e7-4c91-956e-08220158ebca",
   "metadata": {},
   "source": [
    "# POC: Incremental reads on Delta without hive metastore\n",
    "\n",
    "Using local metastore with incremental feactures"
   ]
  },
  {
   "cell_type": "markdown",
   "id": "8536ac2e-33b5-40fd-9441-1d6a3b939206",
   "metadata": {},
   "source": [
    "# Use cases\n",
    "Change Data Feed is not enabled by default. The following use cases should drive when you enable the change data feed.\n",
    "\n",
    "1. Silver and Gold tables: Improve Delta performance by processing only row-level changes following initial MERGE, UPDATE, or DELETE operations to accelerate and simplify ETL and ELT operations.\n",
    "\n",
    "2. Transmit changes: Send a change data feed to downstream systems such as Kafka or RDBMS that can use it to incrementally process in later stages of data pipelines.\n",
    "\n",
    "3. Audit trail table: Capture the change data feed as a Delta table provides perpetual storage and efficient query capability to see all changes over time, including when deletes occur and what updates were made.\n",
    "\n"
   ]
  },
  {
   "cell_type": "markdown",
   "id": "a208455e-e4a2-4b9a-9e6a-6fa25611dee7",
   "metadata": {},
   "source": [
    "# Known constrains:\n",
    "\n",
    "- The files in the _change_data folder follow the retention policy of the table. Therefore, if you run the VACUUM command, change data feed data is also deleted. Default is 7 days. [Reference](https://docs.delta.io/latest/delta-utility.html#remove-files-no-longer-referenced-by-a-delta-table)\n",
    "\n",
    "- With **column mapping** enabled on a Delta table, you can drop or rename columns in the table without rewriting data files for existing data. With column mapping enabled, change data feed has limitations after performing non-additive schema changes such as renaming or dropping a column, changing data type, or nullability changes. [Reference](https://docs.delta.io/latest/delta-change-data-feed.html#change-data-feed-limitations-for-tables-with-column-mapping-enabled)\n"
   ]
  },
  {
   "cell_type": "markdown",
   "id": "981d38af-6102-4418-ab9e-c3034de4d76d",
   "metadata": {},
   "source": [
    "## Before run\n",
    "\n",
    "Checks if spark 3.5.3 and Hadoop are install\n",
    "also the delta-spark>=3.2.1 and pyspark>=3.5.3 libraries.\n",
    "\n",
    "Remove if existis the /warehouse/ folder in this direcory"
   ]
  },
  {
   "cell_type": "code",
   "execution_count": 1,
   "id": "91d07b1d-2be6-4b5d-bbbb-00270bba8367",
   "metadata": {
    "execution": {
     "iopub.execute_input": "2025-01-13T18:07:37.891057Z",
     "iopub.status.busy": "2025-01-13T18:07:37.890899Z",
     "iopub.status.idle": "2025-01-13T18:07:37.929048Z",
     "shell.execute_reply": "2025-01-13T18:07:37.927748Z",
     "shell.execute_reply.started": "2025-01-13T18:07:37.891046Z"
    }
   },
   "outputs": [],
   "source": [
    "from pyspark.sql import SparkSession\n",
    "from pyspark.sql.functions import col, year, month, dayofmonth"
   ]
  },
  {
   "cell_type": "markdown",
   "id": "40940756-17f4-44f7-ade4-8cc6a448538a",
   "metadata": {},
   "source": [
    "## Spark Setup"
   ]
  },
  {
   "cell_type": "code",
   "execution_count": 2,
   "id": "d4d262d6-90c2-40f7-b4db-5ed3ec455956",
   "metadata": {
    "execution": {
     "iopub.execute_input": "2025-01-13T18:07:37.930314Z",
     "iopub.status.busy": "2025-01-13T18:07:37.930146Z",
     "iopub.status.idle": "2025-01-13T18:07:37.932845Z",
     "shell.execute_reply": "2025-01-13T18:07:37.932490Z",
     "shell.execute_reply.started": "2025-01-13T18:07:37.930298Z"
    }
   },
   "outputs": [],
   "source": [
    "spark_jar_packages = \",\".join([\n",
    "    \"io.delta:delta-spark_2.12:3.2.0\",\n",
    "])"
   ]
  },
  {
   "cell_type": "code",
   "execution_count": 3,
   "id": "e86afb24-b5e8-4469-9522-6bd3ead5b25a",
   "metadata": {
    "execution": {
     "iopub.execute_input": "2025-01-13T18:07:38.307324Z",
     "iopub.status.busy": "2025-01-13T18:07:38.307060Z",
     "iopub.status.idle": "2025-01-13T18:07:38.310251Z",
     "shell.execute_reply": "2025-01-13T18:07:38.309927Z",
     "shell.execute_reply.started": "2025-01-13T18:07:38.307303Z"
    }
   },
   "outputs": [],
   "source": [
    "LOCAL_WAREHOUSE_CATALOG = \"file:///home/baptvit/Documents/github/lakehouse-labs/notebooks/warehouse/\""
   ]
  },
  {
   "cell_type": "code",
   "execution_count": 4,
   "id": "4d417510-85ba-4981-a1c1-4b949381e70a",
   "metadata": {
    "execution": {
     "iopub.execute_input": "2025-01-13T18:07:38.917340Z",
     "iopub.status.busy": "2025-01-13T18:07:38.917120Z",
     "iopub.status.idle": "2025-01-13T18:07:42.388904Z",
     "shell.execute_reply": "2025-01-13T18:07:42.388460Z",
     "shell.execute_reply.started": "2025-01-13T18:07:38.917324Z"
    },
    "scrolled": true
   },
   "outputs": [
    {
     "name": "stderr",
     "output_type": "stream",
     "text": [
      "25/01/13 15:07:39 WARN Utils: Your hostname, baptvit resolves to a loopback address: 127.0.1.1; using 192.168.2.129 instead (on interface wlp4s0)\n",
      "25/01/13 15:07:39 WARN Utils: Set SPARK_LOCAL_IP if you need to bind to another address\n"
     ]
    },
    {
     "name": "stdout",
     "output_type": "stream",
     "text": [
      ":: loading settings :: url = jar:file:/opt/spark/jars/ivy-2.5.1.jar!/org/apache/ivy/core/settings/ivysettings.xml\n"
     ]
    },
    {
     "name": "stderr",
     "output_type": "stream",
     "text": [
      "Ivy Default Cache set to: /home/baptvit/.ivy2/cache\n",
      "The jars for the packages stored in: /home/baptvit/.ivy2/jars\n",
      "io.delta#delta-spark_2.12 added as a dependency\n",
      ":: resolving dependencies :: org.apache.spark#spark-submit-parent-9f04eedb-aa9f-411b-a7b6-961b7ae704e7;1.0\n",
      "\tconfs: [default]\n",
      "\tfound io.delta#delta-spark_2.12;3.2.0 in central\n",
      "\tfound io.delta#delta-storage;3.2.0 in central\n",
      "\tfound org.antlr#antlr4-runtime;4.9.3 in local-m2-cache\n",
      ":: resolution report :: resolve 93ms :: artifacts dl 3ms\n",
      "\t:: modules in use:\n",
      "\tio.delta#delta-spark_2.12;3.2.0 from central in [default]\n",
      "\tio.delta#delta-storage;3.2.0 from central in [default]\n",
      "\torg.antlr#antlr4-runtime;4.9.3 from local-m2-cache in [default]\n",
      "\t---------------------------------------------------------------------\n",
      "\t|                  |            modules            ||   artifacts   |\n",
      "\t|       conf       | number| search|dwnlded|evicted|| number|dwnlded|\n",
      "\t---------------------------------------------------------------------\n",
      "\t|      default     |   3   |   0   |   0   |   0   ||   3   |   0   |\n",
      "\t---------------------------------------------------------------------\n",
      ":: retrieving :: org.apache.spark#spark-submit-parent-9f04eedb-aa9f-411b-a7b6-961b7ae704e7\n",
      "\tconfs: [default]\n",
      "\t0 artifacts copied, 3 already retrieved (0kB/2ms)\n",
      "25/01/13 15:07:41 WARN NativeCodeLoader: Unable to load native-hadoop library for your platform... using builtin-java classes where applicable\n",
      "Setting default log level to \"WARN\".\n",
      "To adjust logging level use sc.setLogLevel(newLevel). For SparkR, use setLogLevel(newLevel).\n"
     ]
    }
   ],
   "source": [
    "spark = (\n",
    "    SparkSession.builder\n",
    "    .appName(\"delta-without-playground\")\n",
    "    .config(\"spark.jars.packages\", spark_jar_packages)\n",
    "\n",
    "    # Delta-Hive Integration\n",
    "     .config(\"spark.sql.extensions\", \"io.delta.sql.DeltaSparkSessionExtension\")\n",
    "     .config(\"spark.sql.catalog.spark_catalog\", \"org.apache.spark.sql.delta.catalog.DeltaCatalog\")\n",
    "     .config(\"spark.sql.catalog.local.type\", \"hadoop\")   # Use Hadoop catalog\n",
    "     .config(\"spark.sql.warehouse.dir\", LOCAL_WAREHOUSE_CATALOG)   # Path to store metadata\n",
    "    .getOrCreate()\n",
    ")"
   ]
  },
  {
   "cell_type": "markdown",
   "id": "298217af-cd85-46d1-86e1-5b29ec517125",
   "metadata": {},
   "source": [
    "## Creating a fake database"
   ]
  },
  {
   "cell_type": "code",
   "execution_count": 5,
   "id": "59aaeae6-fc3a-4f76-aa2a-6a69b82b5e61",
   "metadata": {
    "execution": {
     "iopub.execute_input": "2025-01-13T18:07:43.751664Z",
     "iopub.status.busy": "2025-01-13T18:07:43.751374Z",
     "iopub.status.idle": "2025-01-13T18:07:43.808120Z",
     "shell.execute_reply": "2025-01-13T18:07:43.807787Z",
     "shell.execute_reply.started": "2025-01-13T18:07:43.751627Z"
    }
   },
   "outputs": [],
   "source": [
    "import random\n",
    "from faker import Faker"
   ]
  },
  {
   "cell_type": "code",
   "execution_count": 6,
   "id": "9398e546-4d7b-4fa1-830b-3ce3b4f60802",
   "metadata": {
    "execution": {
     "iopub.execute_input": "2025-01-13T18:07:43.930716Z",
     "iopub.status.busy": "2025-01-13T18:07:43.930519Z",
     "iopub.status.idle": "2025-01-13T18:07:43.933985Z",
     "shell.execute_reply": "2025-01-13T18:07:43.933498Z",
     "shell.execute_reply.started": "2025-01-13T18:07:43.930703Z"
    }
   },
   "outputs": [],
   "source": [
    "def generate_entry(faker: Faker, country_codes: list):\n",
    "    return {\n",
    "        \"id\": faker.unique.uuid4(),\n",
    "        \"name\":  faker.name(),\n",
    "        \"email\": faker.email(),\n",
    "        \"passport\": faker.passport_number(),\n",
    "        \"country_code\": random.choice(country_codes),\n",
    "        \"iban\": faker.iban(),\n",
    "        \"swift\": faker.swift11(),\n",
    "        \"created_at\": faker.past_date(start_date='-90d').strftime('%Y-%m-%d')\n",
    "    }"
   ]
  },
  {
   "cell_type": "code",
   "execution_count": 7,
   "id": "d45c96b0-71ee-4841-aa5c-3c2ab4f5429c",
   "metadata": {
    "execution": {
     "iopub.execute_input": "2025-01-13T18:07:44.315657Z",
     "iopub.status.busy": "2025-01-13T18:07:44.315383Z",
     "iopub.status.idle": "2025-01-13T18:07:44.319509Z",
     "shell.execute_reply": "2025-01-13T18:07:44.318982Z",
     "shell.execute_reply.started": "2025-01-13T18:07:44.315636Z"
    }
   },
   "outputs": [],
   "source": [
    "def generate_dataset(num: int, seed: int):\n",
    "    country_codes = ['US', 'CA', 'JP', 'KR', 'FR', 'GE', 'UK', 'BR', 'AR']\n",
    "    Faker.seed(seed)\n",
    "    faker = Faker()\n",
    "    return [generate_entry(faker, country_codes) for _ in range(num)]"
   ]
  },
  {
   "cell_type": "code",
   "execution_count": 8,
   "id": "e3d6bf4c-4a93-4c83-b7bf-44bcc512fcd9",
   "metadata": {
    "execution": {
     "iopub.execute_input": "2025-01-13T18:07:44.562642Z",
     "iopub.status.busy": "2025-01-13T18:07:44.562442Z",
     "iopub.status.idle": "2025-01-13T18:07:44.620593Z",
     "shell.execute_reply": "2025-01-13T18:07:44.620267Z",
     "shell.execute_reply.started": "2025-01-13T18:07:44.562629Z"
    }
   },
   "outputs": [],
   "source": [
    "dataset = generate_dataset(num=100, seed=739)"
   ]
  },
  {
   "cell_type": "code",
   "execution_count": 9,
   "id": "796200e4-93af-4431-8a10-69447fe60695",
   "metadata": {
    "execution": {
     "iopub.execute_input": "2025-01-13T18:07:44.807478Z",
     "iopub.status.busy": "2025-01-13T18:07:44.807290Z",
     "iopub.status.idle": "2025-01-13T18:07:45.667798Z",
     "shell.execute_reply": "2025-01-13T18:07:45.667412Z",
     "shell.execute_reply.started": "2025-01-13T18:07:44.807467Z"
    }
   },
   "outputs": [],
   "source": [
    "df = spark.createDataFrame(dataset)\\\n",
    "        .withColumn(\"year\", year(col(\"created_at\")))\\\n",
    "        .withColumn(\"month\", month(col(\"created_at\")))\\\n",
    "        .withColumn(\"day\", dayofmonth(col(\"created_at\")))"
   ]
  },
  {
   "cell_type": "code",
   "execution_count": 10,
   "id": "c7239a48-2615-42af-83c9-72ce3135d7f4",
   "metadata": {
    "execution": {
     "iopub.execute_input": "2025-01-13T18:07:45.668486Z",
     "iopub.status.busy": "2025-01-13T18:07:45.668367Z",
     "iopub.status.idle": "2025-01-13T18:07:46.892354Z",
     "shell.execute_reply": "2025-01-13T18:07:46.891993Z",
     "shell.execute_reply.started": "2025-01-13T18:07:45.668474Z"
    }
   },
   "outputs": [
    {
     "name": "stderr",
     "output_type": "stream",
     "text": [
      "                                                                                "
     ]
    },
    {
     "data": {
      "text/plain": [
       "100"
      ]
     },
     "execution_count": 10,
     "metadata": {},
     "output_type": "execute_result"
    }
   ],
   "source": [
    "df.count()"
   ]
  },
  {
   "cell_type": "code",
   "execution_count": 11,
   "id": "df5c12af-1090-4a64-8b2d-2a2ec6e099dc",
   "metadata": {
    "execution": {
     "iopub.execute_input": "2025-01-13T18:07:46.893135Z",
     "iopub.status.busy": "2025-01-13T18:07:46.892992Z",
     "iopub.status.idle": "2025-01-13T18:07:46.921164Z",
     "shell.execute_reply": "2025-01-13T18:07:46.920806Z",
     "shell.execute_reply.started": "2025-01-13T18:07:46.893120Z"
    }
   },
   "outputs": [],
   "source": [
    "df.createOrReplaceTempView(\"accounts\")"
   ]
  },
  {
   "cell_type": "code",
   "execution_count": 13,
   "id": "59b96fc9-8459-447a-ac29-84431234056c",
   "metadata": {
    "execution": {
     "iopub.execute_input": "2025-01-13T18:07:55.882820Z",
     "iopub.status.busy": "2025-01-13T18:07:55.882556Z",
     "iopub.status.idle": "2025-01-13T18:07:56.005035Z",
     "shell.execute_reply": "2025-01-13T18:07:56.004701Z",
     "shell.execute_reply.started": "2025-01-13T18:07:55.882799Z"
    }
   },
   "outputs": [
    {
     "name": "stdout",
     "output_type": "stream",
     "text": [
      "-RECORD 0----------------------------\n",
      " country_code | GE                   \n",
      " created_at   | 2024-10-20           \n",
      " email        | powelljason@examp... \n",
      " iban         | GB77AKMZ560580635... \n",
      " id           | 5a424412-b127-4f8... \n",
      " name         | Cody Taylor          \n",
      " passport     | 895549199            \n",
      " swift        | INSEGB5PR6S          \n",
      " year         | 2024                 \n",
      " month        | 10                   \n",
      " day          | 20                   \n",
      "\n"
     ]
    }
   ],
   "source": [
    "spark.sql(\"SELECT * FROM accounts LIMIT 1;\").show(vertical=True)"
   ]
  },
  {
   "cell_type": "markdown",
   "id": "a7892de8-a5d0-425a-b04d-84f19e2a0d2a",
   "metadata": {},
   "source": [
    "## Save using the default database\n",
    "\n",
    "Using the CDF Enable.\n",
    "delta.enableChangeDataFeed = true"
   ]
  },
  {
   "cell_type": "code",
   "execution_count": 14,
   "id": "c7509ab0-0562-4c53-b523-436487f62336",
   "metadata": {
    "execution": {
     "iopub.execute_input": "2025-01-13T18:07:59.325168Z",
     "iopub.status.busy": "2025-01-13T18:07:59.324731Z",
     "iopub.status.idle": "2025-01-13T18:07:59.422844Z",
     "shell.execute_reply": "2025-01-13T18:07:59.422574Z",
     "shell.execute_reply.started": "2025-01-13T18:07:59.325151Z"
    }
   },
   "outputs": [
    {
     "data": {
      "text/plain": [
       "DataFrame[]"
      ]
     },
     "execution_count": 14,
     "metadata": {},
     "output_type": "execute_result"
    }
   ],
   "source": [
    "spark.sql(\"\"\"\n",
    "    CREATE DATABASE IF NOT EXISTS delta;\n",
    "\"\"\")"
   ]
  },
  {
   "cell_type": "code",
   "execution_count": 15,
   "id": "658d39e9-69e4-41f6-aa29-6effce618c77",
   "metadata": {
    "execution": {
     "iopub.execute_input": "2025-01-13T18:08:01.864763Z",
     "iopub.status.busy": "2025-01-13T18:08:01.864324Z",
     "iopub.status.idle": "2025-01-13T18:08:04.768243Z",
     "shell.execute_reply": "2025-01-13T18:08:04.767685Z",
     "shell.execute_reply.started": "2025-01-13T18:08:01.864746Z"
    }
   },
   "outputs": [
    {
     "name": "stderr",
     "output_type": "stream",
     "text": [
      "25/01/13 15:08:03 WARN MemoryManager: Total allocation exceeds 95,00% (1.020.054.720 bytes) of heap memory\n",
      "Scaling row group sizes to 95,00% for 8 writers\n",
      "25/01/13 15:08:03 WARN MemoryManager: Total allocation exceeds 95,00% (1.020.054.720 bytes) of heap memory\n",
      "Scaling row group sizes to 84,44% for 9 writers\n",
      "25/01/13 15:08:03 WARN MemoryManager: Total allocation exceeds 95,00% (1.020.054.720 bytes) of heap memory\n",
      "Scaling row group sizes to 76,00% for 10 writers\n",
      "25/01/13 15:08:03 WARN MemoryManager: Total allocation exceeds 95,00% (1.020.054.720 bytes) of heap memory\n",
      "Scaling row group sizes to 69,09% for 11 writers\n",
      "25/01/13 15:08:03 WARN MemoryManager: Total allocation exceeds 95,00% (1.020.054.720 bytes) of heap memory\n",
      "Scaling row group sizes to 63,33% for 12 writers\n",
      "25/01/13 15:08:03 WARN MemoryManager: Total allocation exceeds 95,00% (1.020.054.720 bytes) of heap memory\n",
      "Scaling row group sizes to 58,46% for 13 writers\n",
      "25/01/13 15:08:03 WARN MemoryManager: Total allocation exceeds 95,00% (1.020.054.720 bytes) of heap memory\n",
      "Scaling row group sizes to 54,29% for 14 writers\n",
      "25/01/13 15:08:03 WARN MemoryManager: Total allocation exceeds 95,00% (1.020.054.720 bytes) of heap memory\n",
      "Scaling row group sizes to 50,67% for 15 writers\n",
      "25/01/13 15:08:03 WARN MemoryManager: Total allocation exceeds 95,00% (1.020.054.720 bytes) of heap memory\n",
      "Scaling row group sizes to 47,50% for 16 writers\n",
      "25/01/13 15:08:03 WARN MemoryManager: Total allocation exceeds 95,00% (1.020.054.720 bytes) of heap memory\n",
      "Scaling row group sizes to 50,67% for 15 writers\n",
      "25/01/13 15:08:03 WARN MemoryManager: Total allocation exceeds 95,00% (1.020.054.720 bytes) of heap memory\n",
      "Scaling row group sizes to 54,29% for 14 writers\n",
      "25/01/13 15:08:03 WARN MemoryManager: Total allocation exceeds 95,00% (1.020.054.720 bytes) of heap memory\n",
      "Scaling row group sizes to 58,46% for 13 writers\n",
      "25/01/13 15:08:03 WARN MemoryManager: Total allocation exceeds 95,00% (1.020.054.720 bytes) of heap memory\n",
      "Scaling row group sizes to 63,33% for 12 writers\n",
      "25/01/13 15:08:03 WARN MemoryManager: Total allocation exceeds 95,00% (1.020.054.720 bytes) of heap memory\n",
      "Scaling row group sizes to 69,09% for 11 writers\n",
      "25/01/13 15:08:03 WARN MemoryManager: Total allocation exceeds 95,00% (1.020.054.720 bytes) of heap memory\n",
      "Scaling row group sizes to 76,00% for 10 writers\n",
      "25/01/13 15:08:03 WARN MemoryManager: Total allocation exceeds 95,00% (1.020.054.720 bytes) of heap memory\n",
      "Scaling row group sizes to 84,44% for 9 writers\n",
      "25/01/13 15:08:03 WARN MemoryManager: Total allocation exceeds 95,00% (1.020.054.720 bytes) of heap memory\n",
      "Scaling row group sizes to 95,00% for 8 writers\n",
      "25/01/13 15:08:03 WARN MemoryManager: Total allocation exceeds 95,00% (1.020.054.720 bytes) of heap memory\n",
      "Scaling row group sizes to 95,00% for 8 writers\n",
      "25/01/13 15:08:03 WARN MemoryManager: Total allocation exceeds 95,00% (1.020.054.720 bytes) of heap memory\n",
      "Scaling row group sizes to 84,44% for 9 writers\n",
      "25/01/13 15:08:03 WARN MemoryManager: Total allocation exceeds 95,00% (1.020.054.720 bytes) of heap memory\n",
      "Scaling row group sizes to 76,00% for 10 writers\n",
      "25/01/13 15:08:03 WARN MemoryManager: Total allocation exceeds 95,00% (1.020.054.720 bytes) of heap memory\n",
      "Scaling row group sizes to 69,09% for 11 writers\n",
      "25/01/13 15:08:03 WARN MemoryManager: Total allocation exceeds 95,00% (1.020.054.720 bytes) of heap memory\n",
      "Scaling row group sizes to 76,00% for 10 writers\n",
      "25/01/13 15:08:03 WARN MemoryManager: Total allocation exceeds 95,00% (1.020.054.720 bytes) of heap memory\n",
      "Scaling row group sizes to 84,44% for 9 writers\n",
      "25/01/13 15:08:03 WARN MemoryManager: Total allocation exceeds 95,00% (1.020.054.720 bytes) of heap memory\n",
      "Scaling row group sizes to 95,00% for 8 writers\n",
      "25/01/13 15:08:03 WARN MemoryManager: Total allocation exceeds 95,00% (1.020.054.720 bytes) of heap memory\n",
      "Scaling row group sizes to 84,44% for 9 writers\n",
      "25/01/13 15:08:03 WARN MemoryManager: Total allocation exceeds 95,00% (1.020.054.720 bytes) of heap memory\n",
      "Scaling row group sizes to 95,00% for 8 writers\n",
      "25/01/13 15:08:03 WARN MemoryManager: Total allocation exceeds 95,00% (1.020.054.720 bytes) of heap memory\n",
      "Scaling row group sizes to 95,00% for 8 writers\n",
      "                                                                                "
     ]
    }
   ],
   "source": [
    "df.write.format(\"delta\") \\\n",
    "    .mode(\"overwrite\") \\\n",
    "    .option(\"overwriteSchema\", \"true\") \\\n",
    "    .option(\"delta.enableChangeDataFeed\", \"true\") \\\n",
    "    .partitionBy(\"year\", \"month\") \\\n",
    "    .saveAsTable(\"delta.accounts\")"
   ]
  },
  {
   "cell_type": "markdown",
   "id": "b99b63d0-2322-4aea-a099-bb2c3a0597c0",
   "metadata": {},
   "source": [
    "## Reading from local direct from file"
   ]
  },
  {
   "cell_type": "code",
   "execution_count": 18,
   "id": "79404a6d-3fda-4640-9a34-6ec814918545",
   "metadata": {
    "execution": {
     "iopub.execute_input": "2025-01-13T18:08:14.130126Z",
     "iopub.status.busy": "2025-01-13T18:08:14.129610Z",
     "iopub.status.idle": "2025-01-13T18:08:14.133668Z",
     "shell.execute_reply": "2025-01-13T18:08:14.133385Z",
     "shell.execute_reply.started": "2025-01-13T18:08:14.130105Z"
    }
   },
   "outputs": [
    {
     "data": {
      "text/plain": [
       "'file:///home/baptvit/Documents/github/lakehouse-labs/notebooks/warehouse/delta.db/accounts'"
      ]
     },
     "execution_count": 18,
     "metadata": {},
     "output_type": "execute_result"
    }
   ],
   "source": [
    "LOCAL_ACCOUNT_TABLE = LOCAL_WAREHOUSE_CATALOG + \"delta.db/accounts\"\n",
    "LOCAL_ACCOUNT_TABLE"
   ]
  },
  {
   "cell_type": "code",
   "execution_count": 19,
   "id": "57c207a7-b228-4b50-953c-2fa48f71b036",
   "metadata": {
    "execution": {
     "iopub.execute_input": "2025-01-13T18:08:23.892581Z",
     "iopub.status.busy": "2025-01-13T18:08:23.892317Z",
     "iopub.status.idle": "2025-01-13T18:08:23.901237Z",
     "shell.execute_reply": "2025-01-13T18:08:23.900844Z",
     "shell.execute_reply.started": "2025-01-13T18:08:23.892561Z"
    }
   },
   "outputs": [],
   "source": [
    "# providing a starting version\n",
    "df_read = spark.read.format(\"delta\") \\\n",
    "  .load(LOCAL_ACCOUNT_TABLE)"
   ]
  },
  {
   "cell_type": "code",
   "execution_count": 20,
   "id": "24431a87-abcd-427d-a292-7ae05b4926d0",
   "metadata": {
    "execution": {
     "iopub.execute_input": "2025-01-13T18:08:25.852656Z",
     "iopub.status.busy": "2025-01-13T18:08:25.852444Z",
     "iopub.status.idle": "2025-01-13T18:08:27.354054Z",
     "shell.execute_reply": "2025-01-13T18:08:27.353684Z",
     "shell.execute_reply.started": "2025-01-13T18:08:25.852641Z"
    }
   },
   "outputs": [
    {
     "name": "stderr",
     "output_type": "stream",
     "text": [
      "25/01/13 15:08:26 WARN SparkStringUtils: Truncated the string representation of a plan since it was too large. This behavior can be adjusted by setting 'spark.sql.debug.maxToStringFields'.\n",
      "                                                                                "
     ]
    },
    {
     "data": {
      "text/plain": [
       "100"
      ]
     },
     "execution_count": 20,
     "metadata": {},
     "output_type": "execute_result"
    }
   ],
   "source": [
    "df_read.count()"
   ]
  },
  {
   "cell_type": "markdown",
   "id": "9f952e84-15dc-4412-ac92-5f24bef256ff",
   "metadata": {},
   "source": [
    "## Reading the table history from local folder\n",
    "\n",
    "Local folder and spark SQL"
   ]
  },
  {
   "cell_type": "code",
   "execution_count": 21,
   "id": "e102addc-63ff-425e-883a-20c0fb9ec875",
   "metadata": {
    "execution": {
     "iopub.execute_input": "2025-01-13T18:08:29.539745Z",
     "iopub.status.busy": "2025-01-13T18:08:29.539530Z",
     "iopub.status.idle": "2025-01-13T18:08:29.939933Z",
     "shell.execute_reply": "2025-01-13T18:08:29.939489Z",
     "shell.execute_reply.started": "2025-01-13T18:08:29.539730Z"
    }
   },
   "outputs": [
    {
     "name": "stdout",
     "output_type": "stream",
     "text": [
      "-RECORD 0--------------------------------------------------------------------------------------------------------------------------------------------------------------\n",
      " version             | 0                                                                                                                                               \n",
      " timestamp           | 2025-01-13 15:08:04.344                                                                                                                         \n",
      " userId              | NULL                                                                                                                                            \n",
      " userName            | NULL                                                                                                                                            \n",
      " operation           | CREATE OR REPLACE TABLE AS SELECT                                                                                                               \n",
      " operationParameters | {partitionBy -> [\"year\",\"month\"], clusterBy -> [], description -> NULL, isManaged -> true, properties -> {\"delta.enableChangeDataFeed\":\"true\"}} \n",
      " job                 | NULL                                                                                                                                            \n",
      " notebook            | NULL                                                                                                                                            \n",
      " clusterId           | NULL                                                                                                                                            \n",
      " readVersion         | NULL                                                                                                                                            \n",
      " isolationLevel      | Serializable                                                                                                                                    \n",
      " isBlindAppend       | false                                                                                                                                           \n",
      " operationMetrics    | {numFiles -> 51, numOutputRows -> 100, numOutputBytes -> 154892}                                                                                \n",
      " userMetadata        | NULL                                                                                                                                            \n",
      " engineInfo          | Apache-Spark/3.5.3 Delta-Lake/3.2.0                                                                                                             \n",
      "\n"
     ]
    }
   ],
   "source": [
    "spark.sql(f\"DESCRIBE HISTORY '{LOCAL_ACCOUNT_TABLE}'\").show(vertical=True, truncate=False)"
   ]
  },
  {
   "cell_type": "markdown",
   "id": "45c16963-957c-4c5a-b2ee-5496f4a2122d",
   "metadata": {},
   "source": [
    "## As the local catalog is set\n",
    "\n",
    "spark.sql.catalog.local.warehouse\", \"file:///home/baptvit/Documents/github/lakehouse-labs/notebooks/warehouse/delta/"
   ]
  },
  {
   "cell_type": "code",
   "execution_count": 22,
   "id": "3a8ca114-0ef1-491f-8da4-e9331be1daab",
   "metadata": {
    "execution": {
     "iopub.execute_input": "2025-01-13T18:08:32.196575Z",
     "iopub.status.busy": "2025-01-13T18:08:32.196396Z",
     "iopub.status.idle": "2025-01-13T18:08:32.326428Z",
     "shell.execute_reply": "2025-01-13T18:08:32.326098Z",
     "shell.execute_reply.started": "2025-01-13T18:08:32.196562Z"
    }
   },
   "outputs": [
    {
     "name": "stdout",
     "output_type": "stream",
     "text": [
      "-RECORD 0--------------------------------------------------------------------------------------------------------------------------------------------------------------\n",
      " version             | 0                                                                                                                                               \n",
      " timestamp           | 2025-01-13 15:08:04.344                                                                                                                         \n",
      " userId              | NULL                                                                                                                                            \n",
      " userName            | NULL                                                                                                                                            \n",
      " operation           | CREATE OR REPLACE TABLE AS SELECT                                                                                                               \n",
      " operationParameters | {partitionBy -> [\"year\",\"month\"], clusterBy -> [], description -> NULL, isManaged -> true, properties -> {\"delta.enableChangeDataFeed\":\"true\"}} \n",
      " job                 | NULL                                                                                                                                            \n",
      " notebook            | NULL                                                                                                                                            \n",
      " clusterId           | NULL                                                                                                                                            \n",
      " readVersion         | NULL                                                                                                                                            \n",
      " isolationLevel      | Serializable                                                                                                                                    \n",
      " isBlindAppend       | false                                                                                                                                           \n",
      " operationMetrics    | {numFiles -> 51, numOutputRows -> 100, numOutputBytes -> 154892}                                                                                \n",
      " userMetadata        | NULL                                                                                                                                            \n",
      " engineInfo          | Apache-Spark/3.5.3 Delta-Lake/3.2.0                                                                                                             \n",
      "\n"
     ]
    }
   ],
   "source": [
    "spark.sql(\"DESCRIBE HISTORY delta.accounts\").show(vertical=True, truncate=False)"
   ]
  },
  {
   "cell_type": "markdown",
   "id": "3c1fa209-da74-4808-a88b-c449c02d9875",
   "metadata": {},
   "source": [
    "## Using CDC and table history to identify the increments"
   ]
  },
  {
   "cell_type": "markdown",
   "id": "04b289ed-bafe-4f6e-b4a9-d5eca562d46c",
   "metadata": {},
   "source": [
    "### Local folder with describe history"
   ]
  },
  {
   "cell_type": "code",
   "execution_count": 25,
   "id": "01ea5dec-726b-4c76-8f1c-fbcdab128b50",
   "metadata": {
    "execution": {
     "iopub.execute_input": "2025-01-13T18:08:42.072573Z",
     "iopub.status.busy": "2025-01-13T18:08:42.072117Z",
     "iopub.status.idle": "2025-01-13T18:08:42.230446Z",
     "shell.execute_reply": "2025-01-13T18:08:42.230117Z",
     "shell.execute_reply.started": "2025-01-13T18:08:42.072550Z"
    }
   },
   "outputs": [],
   "source": [
    "# Get the latest version of the Delta table\n",
    "latest_version = spark.sql(f\"DESCRIBE HISTORY '{LOCAL_ACCOUNT_TABLE}'\") \\\n",
    "    .selectExpr(\"max(version)\") \\\n",
    "    .collect()[0][0]"
   ]
  },
  {
   "cell_type": "code",
   "execution_count": 26,
   "id": "a882e304-1c63-4b94-a3ee-666e7494525d",
   "metadata": {
    "execution": {
     "iopub.execute_input": "2025-01-13T18:08:42.343659Z",
     "iopub.status.busy": "2025-01-13T18:08:42.343275Z",
     "iopub.status.idle": "2025-01-13T18:08:42.346488Z",
     "shell.execute_reply": "2025-01-13T18:08:42.346170Z",
     "shell.execute_reply.started": "2025-01-13T18:08:42.343640Z"
    }
   },
   "outputs": [
    {
     "data": {
      "text/plain": [
       "0"
      ]
     },
     "execution_count": 26,
     "metadata": {},
     "output_type": "execute_result"
    }
   ],
   "source": [
    "latest_version"
   ]
  },
  {
   "cell_type": "markdown",
   "id": "18f51db5-a02d-4b27-891f-126390a66219",
   "metadata": {
    "execution": {
     "iopub.execute_input": "2025-01-13T14:33:11.580564Z",
     "iopub.status.busy": "2025-01-13T14:33:11.580255Z",
     "iopub.status.idle": "2025-01-13T14:33:11.582446Z",
     "shell.execute_reply": "2025-01-13T14:33:11.582105Z",
     "shell.execute_reply.started": "2025-01-13T14:33:11.580552Z"
    }
   },
   "source": [
    "### Reading just the last table version using local catalog"
   ]
  },
  {
   "cell_type": "code",
   "execution_count": 27,
   "id": "1166b65f-32ee-42a5-bf28-6f11a96777e5",
   "metadata": {
    "execution": {
     "iopub.execute_input": "2025-01-13T18:08:50.872731Z",
     "iopub.status.busy": "2025-01-13T18:08:50.872520Z",
     "iopub.status.idle": "2025-01-13T18:08:51.133129Z",
     "shell.execute_reply": "2025-01-13T18:08:51.132750Z",
     "shell.execute_reply.started": "2025-01-13T18:08:50.872716Z"
    }
   },
   "outputs": [
    {
     "data": {
      "text/plain": [
       "100"
      ]
     },
     "execution_count": 27,
     "metadata": {},
     "output_type": "execute_result"
    }
   ],
   "source": [
    "# Query changes for the latest version\n",
    "latest_changes_df = spark.read.format(\"delta\") \\\n",
    "    .option(\"readChangeFeed\", \"true\") \\\n",
    "    .option(\"startingVersion\", latest_version) \\\n",
    "    .load(f\"{LOCAL_ACCOUNT_TABLE}\")\n",
    "\n",
    "latest_changes_df.count()"
   ]
  },
  {
   "cell_type": "markdown",
   "id": "37d8159d-9576-4904-b6f2-f41476b57f90",
   "metadata": {},
   "source": [
    "## Creating the upsert"
   ]
  },
  {
   "cell_type": "markdown",
   "id": "f0a276bc-ad1d-48d2-bfd8-fe9d8ada8fdd",
   "metadata": {},
   "source": [
    "### Upsert Dataset\n",
    "\n",
    "Editing 4 records and adding new 4 records"
   ]
  },
  {
   "cell_type": "code",
   "execution_count": 28,
   "id": "85f18f8e-f096-44c6-9212-d871cfbf44c4",
   "metadata": {
    "execution": {
     "iopub.execute_input": "2025-01-13T18:08:54.695430Z",
     "iopub.status.busy": "2025-01-13T18:08:54.695216Z",
     "iopub.status.idle": "2025-01-13T18:08:54.700902Z",
     "shell.execute_reply": "2025-01-13T18:08:54.700493Z",
     "shell.execute_reply.started": "2025-01-13T18:08:54.695414Z"
    }
   },
   "outputs": [],
   "source": [
    "entries = [\n",
    "    # Existing entries\n",
    "    dataset[2], \n",
    "    dataset[4], \n",
    "    dataset[7],\n",
    "    dataset[11],\n",
    "    # New entries\n",
    "    *generate_dataset(4, seed=1037)\n",
    "]"
   ]
  },
  {
   "cell_type": "code",
   "execution_count": 29,
   "id": "d8fc774e-2ded-4a09-a263-c91a5d3aa959",
   "metadata": {
    "execution": {
     "iopub.execute_input": "2025-01-13T18:08:55.147855Z",
     "iopub.status.busy": "2025-01-13T18:08:55.147641Z",
     "iopub.status.idle": "2025-01-13T18:08:55.150586Z",
     "shell.execute_reply": "2025-01-13T18:08:55.150206Z",
     "shell.execute_reply.started": "2025-01-13T18:08:55.147839Z"
    }
   },
   "outputs": [],
   "source": [
    "for entry in entries:\n",
    "    username = entry['name'].lower().replace(\" \", \".\")\n",
    "    entry['email'] = f\"{username}@domain.com\""
   ]
  },
  {
   "cell_type": "code",
   "execution_count": 30,
   "id": "9c7541ce-1cec-4dac-b371-db3d11daeed8",
   "metadata": {
    "execution": {
     "iopub.execute_input": "2025-01-13T18:08:55.639712Z",
     "iopub.status.busy": "2025-01-13T18:08:55.639498Z",
     "iopub.status.idle": "2025-01-13T18:08:55.660433Z",
     "shell.execute_reply": "2025-01-13T18:08:55.660032Z",
     "shell.execute_reply.started": "2025-01-13T18:08:55.639697Z"
    }
   },
   "outputs": [],
   "source": [
    "upsert_df = spark.createDataFrame(entries)\\\n",
    "        .withColumn(\"year\", year(col(\"created_at\")))\\\n",
    "        .withColumn(\"month\", month(col(\"created_at\")))\\\n",
    "        .withColumn(\"day\", dayofmonth(col(\"created_at\")))"
   ]
  },
  {
   "cell_type": "code",
   "execution_count": 31,
   "id": "34fe4ed2-dd0f-4704-9658-dd6fcb23f88e",
   "metadata": {
    "execution": {
     "iopub.execute_input": "2025-01-13T18:08:56.452876Z",
     "iopub.status.busy": "2025-01-13T18:08:56.452606Z",
     "iopub.status.idle": "2025-01-13T18:08:56.630022Z",
     "shell.execute_reply": "2025-01-13T18:08:56.629661Z",
     "shell.execute_reply.started": "2025-01-13T18:08:56.452856Z"
    }
   },
   "outputs": [
    {
     "data": {
      "text/plain": [
       "8"
      ]
     },
     "execution_count": 31,
     "metadata": {},
     "output_type": "execute_result"
    }
   ],
   "source": [
    "upsert_df.count()"
   ]
  },
  {
   "cell_type": "code",
   "execution_count": 32,
   "id": "d7d1480a-c08f-40ae-8e59-75d9fdc4f7b2",
   "metadata": {
    "execution": {
     "iopub.execute_input": "2025-01-13T18:09:02.534361Z",
     "iopub.status.busy": "2025-01-13T18:09:02.533635Z",
     "iopub.status.idle": "2025-01-13T18:09:02.542722Z",
     "shell.execute_reply": "2025-01-13T18:09:02.542390Z",
     "shell.execute_reply.started": "2025-01-13T18:09:02.534331Z"
    }
   },
   "outputs": [],
   "source": [
    "upsert_df.createOrReplaceTempView(\"upsert_data\")"
   ]
  },
  {
   "cell_type": "markdown",
   "id": "af465e53-845a-49e0-ba46-72f24a937791",
   "metadata": {},
   "source": [
    "# Upsert Strategy"
   ]
  },
  {
   "cell_type": "markdown",
   "id": "06983c86-5b47-45f2-b844-8d0dcf9db13a",
   "metadata": {},
   "source": [
    "## Slowly Changing Dimension (SCD) Type 1\n",
    "\n",
    "In SCD Type 1, the existing records are overwritten with new data when there is a match, and new records are inserted when there is no match. This approach does not preserve historical changes; it simply updates the records with the latest data.\n",
    "\n"
   ]
  },
  {
   "cell_type": "markdown",
   "id": "7a5f86e0-aaab-423b-b096-652bb8e7b424",
   "metadata": {
    "execution": {
     "iopub.execute_input": "2025-01-13T14:52:27.927952Z",
     "iopub.status.busy": "2025-01-13T14:52:27.927643Z",
     "iopub.status.idle": "2025-01-13T14:52:27.929987Z",
     "shell.execute_reply": "2025-01-13T14:52:27.929623Z",
     "shell.execute_reply.started": "2025-01-13T14:52:27.927937Z"
    }
   },
   "source": [
    "### Using upsert in SQL like syntax"
   ]
  },
  {
   "cell_type": "code",
   "execution_count": 33,
   "id": "d75dc232-22af-4601-86e4-353ea04363d0",
   "metadata": {
    "execution": {
     "iopub.execute_input": "2025-01-13T18:09:09.119988Z",
     "iopub.status.busy": "2025-01-13T18:09:09.119507Z",
     "iopub.status.idle": "2025-01-13T18:09:09.122549Z",
     "shell.execute_reply": "2025-01-13T18:09:09.122043Z",
     "shell.execute_reply.started": "2025-01-13T18:09:09.119966Z"
    }
   },
   "outputs": [],
   "source": [
    "# spark.sql(\"\"\"\n",
    "#     MERGE INTO deltalake_raw.accounts AS target\n",
    "#     USING upsert_data AS source ON \n",
    "#         target.id = source.id\n",
    "#     WHEN MATCHED THEN UPDATE SET\n",
    "#         target.country_code = source.country_code,\n",
    "#         target.email = source.email,\n",
    "#         target.name = source.name,\n",
    "#         target.iban = source.iban,\n",
    "#         target.swift = source.swift,\n",
    "#         target.passport = source.passport\n",
    "#     WHEN NOT MATCHED THEN INSERT *\n",
    "# \"\"\")"
   ]
  },
  {
   "cell_type": "markdown",
   "id": "270b8687-7720-4563-b9a9-ff708cf91769",
   "metadata": {},
   "source": [
    "### Using upsert in python library"
   ]
  },
  {
   "cell_type": "code",
   "execution_count": 34,
   "id": "ab33baf1-a166-4bc8-9309-1b1159f554c4",
   "metadata": {
    "execution": {
     "iopub.execute_input": "2025-01-13T18:09:14.024086Z",
     "iopub.status.busy": "2025-01-13T18:09:14.023872Z",
     "iopub.status.idle": "2025-01-13T18:09:15.947121Z",
     "shell.execute_reply": "2025-01-13T18:09:15.946714Z",
     "shell.execute_reply.started": "2025-01-13T18:09:14.024070Z"
    }
   },
   "outputs": [],
   "source": [
    "from delta.tables import DeltaTable\n",
    "\n",
    "# Load the Delta table\n",
    "delta_table = DeltaTable.forName(spark, \"delta.accounts\")\n",
    "\n",
    "# Perform the merge operation\n",
    "delta_table.alias(\"target\").merge(\n",
    "    source=upsert_df.alias(\"upsert_data\"),\n",
    "    condition=\"target.id = upsert_data.id\"\n",
    ").whenMatchedUpdate(set={\n",
    "    \"country_code\": \"upsert_data.country_code\",\n",
    "    \"email\": \"upsert_data.email\",\n",
    "    \"name\": \"upsert_data.name\",\n",
    "    \"iban\": \"upsert_data.iban\",\n",
    "    \"swift\": \"upsert_data.swift\",\n",
    "    \"passport\": \"upsert_data.passport\"\n",
    "}).whenNotMatchedInsertAll().execute()"
   ]
  },
  {
   "cell_type": "code",
   "execution_count": 35,
   "id": "e5bba175-9d4c-4c97-9f2b-c3a6a308bc2f",
   "metadata": {
    "execution": {
     "iopub.execute_input": "2025-01-13T18:09:16.227810Z",
     "iopub.status.busy": "2025-01-13T18:09:16.227491Z",
     "iopub.status.idle": "2025-01-13T18:09:16.399888Z",
     "shell.execute_reply": "2025-01-13T18:09:16.399573Z",
     "shell.execute_reply.started": "2025-01-13T18:09:16.227794Z"
    }
   },
   "outputs": [
    {
     "name": "stdout",
     "output_type": "stream",
     "text": [
      "-RECORD 0-----------------------------------------------------------------------------------------------------------------------------------------------------------------------------------------------------------------------------------------------------------------------------------------------------------------------------------------------------------------------------------------------------------------------------------------------------------------------------------------------------------------------------------------------------------------------------------------------------------------------------------------------------------------------\n",
      " version             | 1                                                                                                                                                                                                                                                                                                                                                                                                                                                                                                                                                                                                                                                        \n",
      " timestamp           | 2025-01-13 15:09:15.802                                                                                                                                                                                                                                                                                                                                                                                                                                                                                                                                                                                                                                  \n",
      " userId              | NULL                                                                                                                                                                                                                                                                                                                                                                                                                                                                                                                                                                                                                                                     \n",
      " userName            | NULL                                                                                                                                                                                                                                                                                                                                                                                                                                                                                                                                                                                                                                                     \n",
      " operation           | MERGE                                                                                                                                                                                                                                                                                                                                                                                                                                                                                                                                                                                                                                                    \n",
      " operationParameters | {predicate -> [\"(id#2530 = id#2465)\"], matchedPredicates -> [{\"actionType\":\"update\"}], notMatchedPredicates -> [{\"actionType\":\"insert\"}], notMatchedBySourcePredicates -> []}                                                                                                                                                                                                                                                                                                                                                                                                                                                                            \n",
      " job                 | NULL                                                                                                                                                                                                                                                                                                                                                                                                                                                                                                                                                                                                                                                     \n",
      " notebook            | NULL                                                                                                                                                                                                                                                                                                                                                                                                                                                                                                                                                                                                                                                     \n",
      " clusterId           | NULL                                                                                                                                                                                                                                                                                                                                                                                                                                                                                                                                                                                                                                                     \n",
      " readVersion         | 0                                                                                                                                                                                                                                                                                                                                                                                                                                                                                                                                                                                                                                                        \n",
      " isolationLevel      | Serializable                                                                                                                                                                                                                                                                                                                                                                                                                                                                                                                                                                                                                                             \n",
      " isBlindAppend       | false                                                                                                                                                                                                                                                                                                                                                                                                                                                                                                                                                                                                                                                    \n",
      " operationMetrics    | {numTargetRowsCopied -> 4, numTargetRowsDeleted -> 0, numTargetFilesAdded -> 3, numTargetBytesAdded -> 10330, numTargetBytesRemoved -> 9365, numTargetDeletionVectorsAdded -> 0, numTargetRowsMatchedUpdated -> 4, executionTimeMs -> 1682, numTargetRowsInserted -> 4, numTargetRowsMatchedDeleted -> 0, numTargetDeletionVectorsUpdated -> 0, scanTimeMs -> 915, numTargetRowsUpdated -> 4, numOutputRows -> 12, numTargetDeletionVectorsRemoved -> 0, numTargetRowsNotMatchedBySourceUpdated -> 0, numTargetChangeFilesAdded -> 3, numSourceRows -> 8, numTargetFilesRemoved -> 3, numTargetRowsNotMatchedBySourceDeleted -> 0, rewriteTimeMs -> 584} \n",
      " userMetadata        | NULL                                                                                                                                                                                                                                                                                                                                                                                                                                                                                                                                                                                                                                                     \n",
      " engineInfo          | Apache-Spark/3.5.3 Delta-Lake/3.2.0                                                                                                                                                                                                                                                                                                                                                                                                                                                                                                                                                                                                                      \n",
      "-RECORD 1-----------------------------------------------------------------------------------------------------------------------------------------------------------------------------------------------------------------------------------------------------------------------------------------------------------------------------------------------------------------------------------------------------------------------------------------------------------------------------------------------------------------------------------------------------------------------------------------------------------------------------------------------------------------------\n",
      " version             | 0                                                                                                                                                                                                                                                                                                                                                                                                                                                                                                                                                                                                                                                        \n",
      " timestamp           | 2025-01-13 15:08:04.344                                                                                                                                                                                                                                                                                                                                                                                                                                                                                                                                                                                                                                  \n",
      " userId              | NULL                                                                                                                                                                                                                                                                                                                                                                                                                                                                                                                                                                                                                                                     \n",
      " userName            | NULL                                                                                                                                                                                                                                                                                                                                                                                                                                                                                                                                                                                                                                                     \n",
      " operation           | CREATE OR REPLACE TABLE AS SELECT                                                                                                                                                                                                                                                                                                                                                                                                                                                                                                                                                                                                                        \n",
      " operationParameters | {partitionBy -> [\"year\",\"month\"], clusterBy -> [], description -> NULL, isManaged -> true, properties -> {\"delta.enableChangeDataFeed\":\"true\"}}                                                                                                                                                                                                                                                                                                                                                                                                                                                                                                          \n",
      " job                 | NULL                                                                                                                                                                                                                                                                                                                                                                                                                                                                                                                                                                                                                                                     \n",
      " notebook            | NULL                                                                                                                                                                                                                                                                                                                                                                                                                                                                                                                                                                                                                                                     \n",
      " clusterId           | NULL                                                                                                                                                                                                                                                                                                                                                                                                                                                                                                                                                                                                                                                     \n",
      " readVersion         | NULL                                                                                                                                                                                                                                                                                                                                                                                                                                                                                                                                                                                                                                                     \n",
      " isolationLevel      | Serializable                                                                                                                                                                                                                                                                                                                                                                                                                                                                                                                                                                                                                                             \n",
      " isBlindAppend       | false                                                                                                                                                                                                                                                                                                                                                                                                                                                                                                                                                                                                                                                    \n",
      " operationMetrics    | {numFiles -> 51, numOutputRows -> 100, numOutputBytes -> 154892}                                                                                                                                                                                                                                                                                                                                                                                                                                                                                                                                                                                         \n",
      " userMetadata        | NULL                                                                                                                                                                                                                                                                                                                                                                                                                                                                                                                                                                                                                                                     \n",
      " engineInfo          | Apache-Spark/3.5.3 Delta-Lake/3.2.0                                                                                                                                                                                                                                                                                                                                                                                                                                                                                                                                                                                                                      \n",
      "\n"
     ]
    }
   ],
   "source": [
    "spark.sql(\"DESCRIBE HISTORY delta.accounts\").show(vertical=True, truncate=False)"
   ]
  },
  {
   "cell_type": "markdown",
   "id": "b61f2513-a6e0-4f81-9586-88bbaa9e0df8",
   "metadata": {},
   "source": [
    "## Delta Metadata using table_changes (Changes)"
   ]
  },
  {
   "cell_type": "markdown",
   "id": "ef8434cb-2b72-44b5-8eb1-a442a2d454a8",
   "metadata": {},
   "source": [
    "### Slowly Changing Dimension (SCD) Type 2\n",
    "\n",
    "Key Characteristics of SCD Type 2:\n",
    "    \n",
    "    1. Preservation of History: SCD Type 2 retains historical changes by creating new records for each change, rather than overwriting existing records.\n",
    "\n",
    "    2. Versioning: Each change is tracked with a version or timestamp, allowing you to see the state of a record at any point in time.\n",
    "\n",
    "    3. Pre- and Post-Images: The update_preimage and update_postimage change types indicate that the table is capturing the state of a record before and after an update, which is a hallmark of SCD Type 2."
   ]
  },
  {
   "cell_type": "code",
   "execution_count": 37,
   "id": "41a7c3e2-dbbe-414a-8067-1c0aec8eddf1",
   "metadata": {
    "execution": {
     "iopub.execute_input": "2025-01-13T18:09:40.083807Z",
     "iopub.status.busy": "2025-01-13T18:09:40.083490Z",
     "iopub.status.idle": "2025-01-13T18:09:40.253117Z",
     "shell.execute_reply": "2025-01-13T18:09:40.252693Z",
     "shell.execute_reply.started": "2025-01-13T18:09:40.083787Z"
    }
   },
   "outputs": [
    {
     "name": "stdout",
     "output_type": "stream",
     "text": [
      "+------------+----------+---------------------------+----------------------+------------------------------------+----------------+---------+-----------+----+-----+---+----------------+---------------+-----------------------+\n",
      "|country_code|created_at|email                      |iban                  |id                                  |name            |passport |swift      |year|month|day|_change_type    |_commit_version|_commit_timestamp      |\n",
      "+------------+----------+---------------------------+----------------------+------------------------------------+----------------+---------+-----------+----+-----+---+----------------+---------------+-----------------------+\n",
      "|BR          |2024-12-09|derrick15@example.com      |GB14AYNQ55188150393152|0daad7bc-25b6-4469-8a2f-2ba767f86791|Cassidy Jones MD|595954695|VTHYGBZMNOI|2024|12   |9  |update_preimage |1              |2025-01-13 15:09:15.802|\n",
      "|BR          |2024-12-09|cassidy.jones.md@domain.com|GB14AYNQ55188150393152|0daad7bc-25b6-4469-8a2f-2ba767f86791|Cassidy Jones MD|595954695|VTHYGBZMNOI|2024|12   |9  |update_postimage|1              |2025-01-13 15:09:15.802|\n",
      "|GE          |2024-12-10|tramos@example.com         |GB02LAAF80272115976869|4cbbf121-caae-42aa-8508-3fd99bb2f762|Kara Thomas     |661814813|DULPGBWLTDU|2024|12   |10 |update_preimage |1              |2025-01-13 15:09:15.802|\n",
      "|GE          |2024-12-10|kara.thomas@domain.com     |GB02LAAF80272115976869|4cbbf121-caae-42aa-8508-3fd99bb2f762|Kara Thomas     |661814813|DULPGBWLTDU|2024|12   |10 |update_postimage|1              |2025-01-13 15:09:15.802|\n",
      "|GE          |2024-12-13|anthony.blair@domain.com   |GB63BUEB96211985511216|511d51ba-54be-4f6e-a824-5657fc1eda1b|Anthony Blair   |G42414114|UJRFGBB7P9V|2024|12   |13 |insert          |1              |2025-01-13 15:09:15.802|\n",
      "|US          |2024-12-15|donaldpierce@example.net   |GB55LFTZ50027083194346|b7e33adb-9bfe-465f-a533-1d57f8d9c9f6|Ann Cruz        |T22953641|HMAQGBCSXE8|2024|12   |15 |update_preimage |1              |2025-01-13 15:09:15.802|\n",
      "|US          |2024-12-15|ann.cruz@domain.com        |GB55LFTZ50027083194346|b7e33adb-9bfe-465f-a533-1d57f8d9c9f6|Ann Cruz        |T22953641|HMAQGBCSXE8|2024|12   |15 |update_postimage|1              |2025-01-13 15:09:15.802|\n",
      "|UK          |2025-01-04|amber.gomez@domain.com     |GB14JAMN32652852396677|7e1d1d6c-ac3b-478c-b0a0-901515929588|Amber Gomez     |V40815604|OEDJGBV2XYE|2025|1    |4  |insert          |1              |2025-01-13 15:09:15.802|\n",
      "|GE          |2025-01-09|michele99@example.net      |GB83QLKQ49955494203274|eda0dc3f-2296-4859-bdc7-b1c8aa84e5c6|Joseph Arellano |N43772821|VDYQGB92ZCM|2025|1    |9  |update_preimage |1              |2025-01-13 15:09:15.802|\n",
      "|GE          |2025-01-09|joseph.arellano@domain.com |GB83QLKQ49955494203274|eda0dc3f-2296-4859-bdc7-b1c8aa84e5c6|Joseph Arellano |N43772821|VDYQGB92ZCM|2025|1    |9  |update_postimage|1              |2025-01-13 15:09:15.802|\n",
      "|US          |2024-11-07|david.flynn@domain.com     |GB02WPAU75504619793222|3b07d43d-e15f-4825-9cee-a937fceaeb81|David Flynn     |481064071|MKYOGBA7ENY|2024|11   |7  |insert          |1              |2025-01-13 15:09:15.802|\n",
      "|JP          |2024-11-20|jennifer.lamb@domain.com   |GB77NEUS86176381267948|52c2ae7c-6107-4095-98dc-7d797ebf2b05|Jennifer Lamb   |283291701|DZQUGBI6R85|2024|11   |20 |insert          |1              |2025-01-13 15:09:15.802|\n",
      "+------------+----------+---------------------------+----------------------+------------------------------------+----------------+---------+-----------+----+-----+---+----------------+---------------+-----------------------+\n",
      "\n"
     ]
    }
   ],
   "source": [
    "spark.sql(\"\"\"\n",
    "    SELECT \n",
    "        *\n",
    "    FROM\n",
    "        table_changes('delta.accounts', 1)\n",
    "\"\"\").show(truncate=False)"
   ]
  },
  {
   "cell_type": "markdown",
   "id": "8d4fbac1-1c50-4464-bde2-7c0f89cafe5c",
   "metadata": {},
   "source": [
    "### Get only the changes in the last version"
   ]
  },
  {
   "cell_type": "code",
   "execution_count": 39,
   "id": "492576c8-bd98-4e5d-b0b8-8998779ca5f2",
   "metadata": {
    "execution": {
     "iopub.execute_input": "2025-01-13T18:10:07.668838Z",
     "iopub.status.busy": "2025-01-13T18:10:07.668631Z",
     "iopub.status.idle": "2025-01-13T18:10:07.790512Z",
     "shell.execute_reply": "2025-01-13T18:10:07.790081Z",
     "shell.execute_reply.started": "2025-01-13T18:10:07.668826Z"
    }
   },
   "outputs": [
    {
     "name": "stdout",
     "output_type": "stream",
     "text": [
      "+------------+----------+---------------------------+----------------------+------------------------------------+----------------+---------+-----------+----+-----+---+----------------+---------------+-----------------------+\n",
      "|country_code|created_at|email                      |iban                  |id                                  |name            |passport |swift      |year|month|day|_change_type    |_commit_version|_commit_timestamp      |\n",
      "+------------+----------+---------------------------+----------------------+------------------------------------+----------------+---------+-----------+----+-----+---+----------------+---------------+-----------------------+\n",
      "|BR          |2024-12-09|cassidy.jones.md@domain.com|GB14AYNQ55188150393152|0daad7bc-25b6-4469-8a2f-2ba767f86791|Cassidy Jones MD|595954695|VTHYGBZMNOI|2024|12   |9  |update_postimage|1              |2025-01-13 15:09:15.802|\n",
      "|GE          |2024-12-10|kara.thomas@domain.com     |GB02LAAF80272115976869|4cbbf121-caae-42aa-8508-3fd99bb2f762|Kara Thomas     |661814813|DULPGBWLTDU|2024|12   |10 |update_postimage|1              |2025-01-13 15:09:15.802|\n",
      "|GE          |2024-12-13|anthony.blair@domain.com   |GB63BUEB96211985511216|511d51ba-54be-4f6e-a824-5657fc1eda1b|Anthony Blair   |G42414114|UJRFGBB7P9V|2024|12   |13 |insert          |1              |2025-01-13 15:09:15.802|\n",
      "|US          |2024-12-15|ann.cruz@domain.com        |GB55LFTZ50027083194346|b7e33adb-9bfe-465f-a533-1d57f8d9c9f6|Ann Cruz        |T22953641|HMAQGBCSXE8|2024|12   |15 |update_postimage|1              |2025-01-13 15:09:15.802|\n",
      "|UK          |2025-01-04|amber.gomez@domain.com     |GB14JAMN32652852396677|7e1d1d6c-ac3b-478c-b0a0-901515929588|Amber Gomez     |V40815604|OEDJGBV2XYE|2025|1    |4  |insert          |1              |2025-01-13 15:09:15.802|\n",
      "|GE          |2025-01-09|joseph.arellano@domain.com |GB83QLKQ49955494203274|eda0dc3f-2296-4859-bdc7-b1c8aa84e5c6|Joseph Arellano |N43772821|VDYQGB92ZCM|2025|1    |9  |update_postimage|1              |2025-01-13 15:09:15.802|\n",
      "|US          |2024-11-07|david.flynn@domain.com     |GB02WPAU75504619793222|3b07d43d-e15f-4825-9cee-a937fceaeb81|David Flynn     |481064071|MKYOGBA7ENY|2024|11   |7  |insert          |1              |2025-01-13 15:09:15.802|\n",
      "|JP          |2024-11-20|jennifer.lamb@domain.com   |GB77NEUS86176381267948|52c2ae7c-6107-4095-98dc-7d797ebf2b05|Jennifer Lamb   |283291701|DZQUGBI6R85|2024|11   |20 |insert          |1              |2025-01-13 15:09:15.802|\n",
      "+------------+----------+---------------------------+----------------------+------------------------------------+----------------+---------+-----------+----+-----+---+----------------+---------------+-----------------------+\n",
      "\n"
     ]
    }
   ],
   "source": [
    "spark.sql(\"\"\"\n",
    "    SELECT \n",
    "        *\n",
    "    FROM\n",
    "        table_changes('delta.accounts', 1)\n",
    "    WHERE\n",
    "        _change_type IN ('insert', 'update_postimage')\n",
    "\"\"\").show(truncate=False)"
   ]
  },
  {
   "cell_type": "markdown",
   "id": "de0750d4-659f-4d6a-adcd-359f6bca3395",
   "metadata": {},
   "source": [
    "### Version 0 of the data"
   ]
  },
  {
   "cell_type": "code",
   "execution_count": 40,
   "id": "96148f31-f7e3-4f2f-9ecd-759bad1ef71c",
   "metadata": {
    "execution": {
     "iopub.execute_input": "2025-01-13T18:10:23.554602Z",
     "iopub.status.busy": "2025-01-13T18:10:23.554231Z",
     "iopub.status.idle": "2025-01-13T18:10:24.678965Z",
     "shell.execute_reply": "2025-01-13T18:10:24.678617Z",
     "shell.execute_reply.started": "2025-01-13T18:10:23.554587Z"
    }
   },
   "outputs": [
    {
     "name": "stdout",
     "output_type": "stream",
     "text": [
      "+------------+----------+---------------------+----------------------+------------------------------------+----------------+---------+-----------+----+-----+---+\n",
      "|country_code|created_at|email                |iban                  |id                                  |name            |passport |swift      |year|month|day|\n",
      "+------------+----------+---------------------+----------------------+------------------------------------+----------------+---------+-----------+----+-----+---+\n",
      "|BR          |2024-12-09|derrick15@example.com|GB14AYNQ55188150393152|0daad7bc-25b6-4469-8a2f-2ba767f86791|Cassidy Jones MD|595954695|VTHYGBZMNOI|2024|12   |9  |\n",
      "+------------+----------+---------------------+----------------------+------------------------------------+----------------+---------+-----------+----+-----+---+\n",
      "\n"
     ]
    },
    {
     "name": "stderr",
     "output_type": "stream",
     "text": [
      "                                                                                "
     ]
    }
   ],
   "source": [
    "spark.sql(\"\"\"\n",
    "    SELECT \n",
    "        *\n",
    "    FROM\n",
    "        delta.accounts version as of 0\n",
    "    WHERE\n",
    "        id = '0daad7bc-25b6-4469-8a2f-2ba767f86791'\n",
    "\"\"\").show(truncate=False)"
   ]
  },
  {
   "cell_type": "markdown",
   "id": "6dd6d4de-2349-4768-be67-e8cb132acb88",
   "metadata": {},
   "source": [
    "### Version 1 of the data"
   ]
  },
  {
   "cell_type": "code",
   "execution_count": 42,
   "id": "9320b58e-bb12-4d07-964e-2d0af2acce6b",
   "metadata": {
    "execution": {
     "iopub.execute_input": "2025-01-13T18:10:40.245979Z",
     "iopub.status.busy": "2025-01-13T18:10:40.245370Z",
     "iopub.status.idle": "2025-01-13T18:10:40.833864Z",
     "shell.execute_reply": "2025-01-13T18:10:40.833536Z",
     "shell.execute_reply.started": "2025-01-13T18:10:40.245955Z"
    }
   },
   "outputs": [
    {
     "name": "stdout",
     "output_type": "stream",
     "text": [
      "+------------+----------+---------------------------+----------------------+------------------------------------+----------------+---------+-----------+----+-----+---+\n",
      "|country_code|created_at|email                      |iban                  |id                                  |name            |passport |swift      |year|month|day|\n",
      "+------------+----------+---------------------------+----------------------+------------------------------------+----------------+---------+-----------+----+-----+---+\n",
      "|BR          |2024-12-09|cassidy.jones.md@domain.com|GB14AYNQ55188150393152|0daad7bc-25b6-4469-8a2f-2ba767f86791|Cassidy Jones MD|595954695|VTHYGBZMNOI|2024|12   |9  |\n",
      "+------------+----------+---------------------------+----------------------+------------------------------------+----------------+---------+-----------+----+-----+---+\n",
      "\n"
     ]
    }
   ],
   "source": [
    "spark.sql(\"\"\"\n",
    "    SELECT \n",
    "        *\n",
    "    FROM\n",
    "        delta.accounts version as of 1\n",
    "    WHERE\n",
    "        id = '0daad7bc-25b6-4469-8a2f-2ba767f86791'\n",
    "\"\"\").show(truncate=False)"
   ]
  },
  {
   "cell_type": "markdown",
   "id": "05bbda5e-4200-478c-a570-917089b95fd6",
   "metadata": {},
   "source": [
    "## TODO: Optimaze commands"
   ]
  },
  {
   "cell_type": "markdown",
   "id": "5a7705bd-f635-4269-b220-28ab2d75b1eb",
   "metadata": {},
   "source": [
    "## TODO: Liquid clustering"
   ]
  },
  {
   "cell_type": "markdown",
   "id": "1d0a7ab4-5633-4b6e-8215-3f8574f187a6",
   "metadata": {},
   "source": [
    "## TODO: Miscellaneous on delta"
   ]
  },
  {
   "cell_type": "code",
   "execution_count": null,
   "id": "ee5020db-d5aa-4b9a-abdc-7af4270a2e7a",
   "metadata": {},
   "outputs": [],
   "source": []
  }
 ],
 "metadata": {
  "kernelspec": {
   "display_name": "Python 3 (ipykernel)",
   "language": "python",
   "name": "python3"
  },
  "language_info": {
   "codemirror_mode": {
    "name": "ipython",
    "version": 3
   },
   "file_extension": ".py",
   "mimetype": "text/x-python",
   "name": "python",
   "nbconvert_exporter": "python",
   "pygments_lexer": "ipython3",
   "version": "3.12.3"
  }
 },
 "nbformat": 4,
 "nbformat_minor": 5
}
