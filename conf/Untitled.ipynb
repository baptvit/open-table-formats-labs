{
 "cells": [
  {
   "cell_type": "code",
   "execution_count": null,
   "id": "9672c321-7591-4428-bee4-ba0a5782a0c1",
   "metadata": {},
   "outputs": [],
   "source": [
    "from pyspark.sql import SparkSession\n",
    "\n",
    "spark = SparkSession.builder \\\n",
    "    .appName(\"HiveAuthExample\") \\\n",
    "    .enableHiveSupport() \\\n",
    "    .config(\"hive.metastore.uris\", \"thrift://localhost:9083\") \\\n",
    "    .config(\"javax.jdo.option.ConnectionUserName\", \"hive\") \\\n",
    "    .config(\"javax.jdo.option.ConnectionPassword\", \"rangerR0cks!\") \\\n",
    "    .config(\"spark.hadoop.fs.defaultFS\", \"hdfs://ranger-hadoop:9000/\") \\\n",
    "    .getOrCreate()"
   ]
  },
  {
   "cell_type": "code",
   "execution_count": null,
   "id": "e08279f3-c653-40b8-9322-0cab6548e83f",
   "metadata": {},
   "outputs": [],
   "source": [
    "spark.sql(\"\"\"\n",
    "INSERT INTO mock_db.mock_table VALUES\n",
    "(1, 'Alice', 25, 'New York'),\n",
    "(2, 'Bob', 30, 'San Francisco'),\n",
    "(3, 'Charlie', 35, 'Los Angeles'),\n",
    "(4, 'David', 40, 'Chicago'),\n",
    "(5, 'Eve', 45, 'Miami');\n",
    "\"\"\").show()"
   ]
  },
  {
   "cell_type": "code",
   "execution_count": null,
   "id": "d502899e-2cfb-49c7-81c3-0d5dceb63707",
   "metadata": {},
   "outputs": [],
   "source": [
    "spark.sql(\"SELECT * FROM mock_db.mock_table;\").show()"
   ]
  },
  {
   "cell_type": "code",
   "execution_count": null,
   "id": "a9f8d9bb-2183-465d-86eb-19435cd40194",
   "metadata": {},
   "outputs": [],
   "source": []
  }
 ],
 "metadata": {
  "kernelspec": {
   "display_name": "Python 3 (ipykernel)",
   "language": "python",
   "name": "python3"
  },
  "language_info": {
   "codemirror_mode": {
    "name": "ipython",
    "version": 3
   },
   "file_extension": ".py",
   "mimetype": "text/x-python",
   "name": "python",
   "nbconvert_exporter": "python",
   "pygments_lexer": "ipython3",
   "version": "3.11.6"
  }
 },
 "nbformat": 4,
 "nbformat_minor": 5
}
