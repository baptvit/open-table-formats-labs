{
 "cells": [
  {
   "cell_type": "code",
   "execution_count": 1,
   "id": "77b62605-913b-41a6-8920-4743e6865aa3",
   "metadata": {
    "execution": {
     "iopub.execute_input": "2025-01-09T22:05:07.298597Z",
     "iopub.status.busy": "2025-01-09T22:05:07.298482Z",
     "iopub.status.idle": "2025-01-09T22:05:07.332419Z",
     "shell.execute_reply": "2025-01-09T22:05:07.332019Z",
     "shell.execute_reply.started": "2025-01-09T22:05:07.298586Z"
    }
   },
   "outputs": [],
   "source": [
    "import random\n",
    "from faker import Faker"
   ]
  },
  {
   "cell_type": "code",
   "execution_count": 2,
   "id": "91d07b1d-2be6-4b5d-bbbb-00270bba8367",
   "metadata": {
    "execution": {
     "iopub.execute_input": "2025-01-09T22:05:07.332879Z",
     "iopub.status.busy": "2025-01-09T22:05:07.332781Z",
     "iopub.status.idle": "2025-01-09T22:05:07.359471Z",
     "shell.execute_reply": "2025-01-09T22:05:07.359216Z",
     "shell.execute_reply.started": "2025-01-09T22:05:07.332869Z"
    }
   },
   "outputs": [],
   "source": [
    "from pyspark.sql import SparkSession\n",
    "from pyspark.sql.functions import col, year, month, dayofmonth"
   ]
  },
  {
   "cell_type": "markdown",
   "id": "40940756-17f4-44f7-ade4-8cc6a448538a",
   "metadata": {},
   "source": [
    "### Spark Setup"
   ]
  },
  {
   "cell_type": "code",
   "execution_count": 3,
   "id": "d4d262d6-90c2-40f7-b4db-5ed3ec455956",
   "metadata": {
    "execution": {
     "iopub.execute_input": "2025-01-09T22:05:07.360170Z",
     "iopub.status.busy": "2025-01-09T22:05:07.360068Z",
     "iopub.status.idle": "2025-01-09T22:05:07.361971Z",
     "shell.execute_reply": "2025-01-09T22:05:07.361736Z",
     "shell.execute_reply.started": "2025-01-09T22:05:07.360160Z"
    }
   },
   "outputs": [],
   "source": [
    "spark_jar_packages = \",\".join([\n",
    "    \"org.apache.hudi:hudi-spark3.3-bundle_2.12:1.0.0\",\n",
    "    \"org.apache.hudi:hudi-utilities-slim-bundle_2.12:1.0.0\",\n",
    "    \"org.apache.hudi:hudi-datahub-sync-bundle:1.0.0\",\n",
    "    \"org.apache.thrift:libthrift:0.14.0\",\n",
    "    # \"org.slf4j:slf4j-api:1.7.36\",\n",
    "    # \"org.apache.logging.log4j:log4j-slf4j-impl:2.24.3\",\n",
    "    # \"org.apache.hive:hive-metastore:3.1.3\",\n",
    "    # \"org.apache.hive:hive-exec:3.1.3\",\n",
    "    # \"org.apache.hadoop:hadoop-aws:3.3.4\",\n",
    "    # \"com.amazonaws:aws-java-sdk-bundle:1.12.262\",\n",
    "])"
   ]
  },
  {
   "cell_type": "code",
   "execution_count": 4,
   "id": "4d417510-85ba-4981-a1c1-4b949381e70a",
   "metadata": {
    "execution": {
     "iopub.execute_input": "2025-01-09T22:05:07.362416Z",
     "iopub.status.busy": "2025-01-09T22:05:07.362229Z",
     "iopub.status.idle": "2025-01-09T22:05:14.668547Z",
     "shell.execute_reply": "2025-01-09T22:05:14.668144Z",
     "shell.execute_reply.started": "2025-01-09T22:05:07.362407Z"
    },
    "scrolled": true
   },
   "outputs": [
    {
     "name": "stderr",
     "output_type": "stream",
     "text": [
      "Warning: Ignoring non-Spark config property: hoodie.datasource.meta.sync.enable\n",
      "Warning: Ignoring non-Spark config property: hoodie.meta.sync.datahub.emitter.server\n",
      "Warning: Ignoring non-Spark config property: hoodie.meta.sync.client.tool.class\n",
      "Ivy Default Cache set to: /home/baptvit/.ivy2/cache\n",
      "The jars for the packages stored in: /home/baptvit/.ivy2/jars\n",
      "org.apache.hudi#hudi-spark3.3-bundle_2.12 added as a dependency\n",
      "org.apache.hudi#hudi-utilities-slim-bundle_2.12 added as a dependency\n",
      "org.apache.hudi#hudi-datahub-sync-bundle added as a dependency\n",
      "org.apache.thrift#libthrift added as a dependency\n",
      ":: resolving dependencies :: org.apache.spark#spark-submit-parent-b59f8909-3c93-40ed-8c73-edc9b40efb16;1.0\n",
      "\tconfs: [default]\n"
     ]
    },
    {
     "name": "stdout",
     "output_type": "stream",
     "text": [
      "25/01/09 19:05:08 WARN Utils: Your hostname, baptvit resolves to a loopback address: 127.0.1.1; using 192.168.2.129 instead (on interface wlp4s0)\n",
      "25/01/09 19:05:08 WARN Utils: Set SPARK_LOCAL_IP if you need to bind to another address\n",
      ":: loading settings :: url = jar:file:/opt/spark/jars/ivy-2.5.0.jar!/org/apache/ivy/core/settings/ivysettings.xml\n"
     ]
    },
    {
     "name": "stderr",
     "output_type": "stream",
     "text": [
      "\tfound org.apache.hudi#hudi-spark3.3-bundle_2.12;1.0.0 in central\n",
      "\tfound org.apache.hive#hive-storage-api;2.8.1 in central\n",
      "\tfound org.slf4j#slf4j-api;1.7.36 in central\n",
      "\tfound org.apache.hudi#hudi-utilities-slim-bundle_2.12;1.0.0 in central\n",
      "\tfound org.apache.hudi#hudi-spark-client;1.0.0 in central\n",
      "\tfound org.scala-lang.modules#scala-collection-compat_2.12;2.8.1 in central\n",
      "\tfound org.apache.hudi#hudi-client-common;1.0.0 in central\n",
      "\tfound org.apache.hudi#hudi-common;1.0.0 in central\n",
      "\tfound org.apache.hudi#hudi-io;1.0.0 in central\n",
      "\tfound com.google.protobuf#protobuf-java;3.25.5 in central\n",
      "\tfound io.airlift#aircompressor;0.27 in central\n",
      "\tfound org.openjdk.jol#jol-core;0.16 in central\n",
      "\tfound com.fasterxml.jackson.core#jackson-annotations;2.10.0 in central\n",
      "\tfound com.fasterxml.jackson.core#jackson-databind;2.10.0 in central\n",
      "\tfound com.fasterxml.jackson.core#jackson-core;2.10.0 in central\n",
      "\tfound com.fasterxml.jackson.datatype#jackson-datatype-jsr310;2.10.0 in central\n",
      "\tfound com.fasterxml.jackson.module#jackson-module-afterburner;2.10.0 in central\n",
      "\tfound com.github.ben-manes.caffeine#caffeine;2.9.1 in central\n",
      "\tfound org.checkerframework#checker-qual;3.10.0 in central\n",
      "\tfound com.google.errorprone#error_prone_annotations;2.5.1 in central\n",
      "\tfound org.apache.orc#orc-core;1.6.0 in central\n",
      "\tfound org.apache.orc#orc-shims;1.6.0 in central\n",
      "\tfound commons-lang#commons-lang;2.6 in local-m2-cache\n",
      "\tfound javax.xml.bind#jaxb-api;2.2.11 in central\n",
      "\tfound org.jetbrains#annotations;17.0.0 in central\n",
      "\tfound org.roaringbitmap#RoaringBitmap;0.9.47 in central\n",
      "\tfound org.apache.httpcomponents#fluent-hc;4.4.1 in central\n",
      "\tfound org.apache.httpcomponents#httpclient;4.4.1 in central\n",
      "\tfound org.apache.httpcomponents#httpcore;4.4.1 in central\n",
      "\tfound commons-logging#commons-logging;1.2 in local-m2-cache\n",
      "\tfound commons-codec#commons-codec;1.9 in central\n",
      "\tfound org.rocksdb#rocksdbjni;7.5.3 in central\n",
      "\tfound org.apache.hbase#hbase-client;2.4.13 in central\n",
      "\tfound org.apache.hbase.thirdparty#hbase-shaded-protobuf;4.1.1 in central\n",
      "\tfound org.apache.hbase#hbase-protocol-shaded;2.4.13 in central\n",
      "\tfound org.apache.yetus#audience-annotations;0.5.0 in local-m2-cache\n",
      "\tfound org.apache.hbase#hbase-protocol;2.4.13 in central\n",
      "\tfound javax.annotation#javax.annotation-api;1.2 in central\n",
      "\tfound commons-codec#commons-codec;1.13 in central\n",
      "\tfound commons-io#commons-io;2.11.0 in central\n",
      "\tfound org.apache.commons#commons-lang3;3.9 in local-m2-cache\n",
      "\tfound org.apache.hbase.thirdparty#hbase-shaded-miscellaneous;4.1.1 in central\n",
      "\tfound com.google.errorprone#error_prone_annotations;2.14.0 in central\n",
      "\tfound org.apache.hbase.thirdparty#hbase-shaded-netty;4.1.1 in central\n",
      "\tfound org.apache.zookeeper#zookeeper;3.5.7 in central\n",
      "\tfound org.apache.zookeeper#zookeeper-jute;3.5.7 in central\n",
      "\tfound io.netty#netty-handler;4.1.45.Final in central\n",
      "\tfound io.netty#netty-common;4.1.45.Final in central\n",
      "\tfound io.netty#netty-buffer;4.1.45.Final in central\n",
      "\tfound io.netty#netty-transport;4.1.45.Final in central\n",
      "\tfound io.netty#netty-resolver;4.1.45.Final in central\n",
      "\tfound io.netty#netty-codec;4.1.45.Final in central\n",
      "\tfound io.netty#netty-transport-native-epoll;4.1.45.Final in central\n",
      "\tfound io.netty#netty-transport-native-unix-common;4.1.45.Final in central\n",
      "\tfound org.apache.htrace#htrace-core4;4.2.0-incubating in central\n",
      "\tfound org.jruby.jcodings#jcodings;1.0.55 in central\n",
      "\tfound org.jruby.joni#joni;2.1.31 in central\n",
      "\tfound io.dropwizard.metrics#metrics-core;4.1.1 in central\n",
      "\tfound org.apache.commons#commons-crypto;1.0.0 in central\n",
      "\tfound org.apache.hadoop#hadoop-auth;2.10.2 in central\n",
      "\tfound com.nimbusds#nimbus-jose-jwt;7.9 in central\n",
      "\tfound com.github.stephenc.jcip#jcip-annotations;1.0-1 in local-m2-cache\n",
      "\tfound org.apache.directory.server#apacheds-kerberos-codec;2.0.0-M15 in central\n",
      "\tfound org.apache.directory.server#apacheds-i18n;2.0.0-M15 in central\n",
      "\tfound org.apache.directory.api#api-asn1-api;1.0.0-M20 in central\n",
      "\tfound org.apache.directory.api#api-util;1.0.0-M20 in central\n",
      "\tfound org.apache.curator#curator-framework;2.7.1 in central\n",
      "\tfound org.apache.curator#curator-client;2.7.1 in central\n",
      "\tfound com.google.guava#guava;11.0.2 in central\n",
      "\tfound com.google.code.findbugs#jsr305;3.0.2 in central\n",
      "\tfound org.apache.hbase#hbase-server;2.4.13 in central\n",
      "\tfound org.apache.hbase#hbase-procedure;2.4.13 in central\n",
      "\tfound org.apache.hbase#hbase-replication;2.4.13 in central\n",
      "\tfound org.glassfish.web#javax.servlet.jsp;2.3.2 in central\n",
      "\tfound org.glassfish#javax.el;3.0.1-b12 in central\n",
      "\tfound javax.servlet.jsp#javax.servlet.jsp-api;2.3.1 in central\n",
      "\tfound org.apache.commons#commons-math3;3.6.1 in central\n",
      "\tfound org.jamon#jamon-runtime;2.4.1 in central\n",
      "\tfound com.lmax#disruptor;3.4.2 in central\n",
      "\tfound org.apache.hadoop#hadoop-distcp;2.10.0 in central\n",
      "\tfound org.apache.hadoop#hadoop-annotations;2.10.0 in central\n",
      "\tfound org.apache.hadoop#hadoop-mapreduce-client-core;2.10.2 in central\n",
      "\tfound org.apache.hadoop#hadoop-yarn-client;2.10.2 in central\n",
      "\tfound commons-cli#commons-cli;1.2 in local-m2-cache\n",
      "\tfound ch.qos.reload4j#reload4j;1.2.19 in central\n",
      "\tfound org.apache.hadoop#hadoop-yarn-api;2.10.2 in central\n",
      "\tfound org.apache.hadoop#hadoop-yarn-common;2.10.2 in central\n",
      "\tfound org.apache.commons#commons-compress;1.21 in central\n",
      "\tfound com.sun.jersey#jersey-core;1.9 in central\n",
      "\tfound com.sun.jersey#jersey-client;1.9 in central\n",
      "\tfound com.google.inject.extensions#guice-servlet;3.0 in central\n",
      "\tfound com.google.inject#guice;3.0 in central\n",
      "\tfound javax.inject#javax.inject;1 in local-m2-cache\n",
      "\tfound aopalliance#aopalliance;1.0 in local-m2-cache\n",
      "\tfound org.sonatype.sisu.inject#cglib;2.2.1-v20090111 in central\n",
      "\tfound asm#asm;3.2 in central\n",
      "\tfound com.sun.jersey#jersey-server;1.9 in central\n",
      "\tfound com.sun.jersey#jersey-json;1.9 in central\n",
      "\tfound org.codehaus.jettison#jettison;1.3.8 in central\n",
      "\tfound com.sun.xml.bind#jaxb-impl;2.2.3-1 in local-m2-cache\n",
      "\tfound com.sun.jersey.contribs#jersey-guice;1.9 in central\n",
      "\tfound org.apache.avro#avro;1.8.2 in central\n",
      "\tfound com.thoughtworks.paranamer#paranamer;2.7 in central\n",
      "\tfound org.xerial.snappy#snappy-java;1.1.8.3 in central\n",
      "\tfound org.tukaani#xz;1.5 in local-m2-cache\n",
      "\tfound org.slf4j#slf4j-reload4j;1.7.33 in central\n",
      "\tfound io.netty#netty;3.10.6.Final in central\n",
      "\tfound org.lz4#lz4-java;1.8.0 in central\n",
      "\tfound io.dropwizard.metrics#metrics-graphite;4.1.1 in central\n",
      "\tfound io.dropwizard.metrics#metrics-jmx;4.1.1 in central\n",
      "\tfound io.prometheus#simpleclient;0.8.0 in central\n",
      "\tfound io.prometheus#simpleclient_httpserver;0.8.0 in central\n",
      "\tfound io.prometheus#simpleclient_common;0.8.0 in central\n",
      "\tfound io.prometheus#simpleclient_dropwizard;0.8.0 in central\n",
      "\tfound io.prometheus#simpleclient_pushgateway;0.8.0 in central\n",
      "\tfound com.uber.m3#tally-m3;0.13.0 in central\n",
      "\tfound com.uber.m3#tally-core;0.13.0 in central\n",
      "\tfound org.apache.hudi#hudi-timeline-service;1.0.0 in central\n",
      "\tfound org.apache.hudi#hudi-hadoop-common;1.0.0 in central\n",
      "\tfound org.eclipse.jetty#jetty-util;9.4.53.v20231009 in central\n",
      "\tfound io.javalin#javalin;4.6.7 in central\n",
      "\tfound org.eclipse.jetty#jetty-server;9.4.48.v20220622 in central\n",
      "\tfound javax.servlet#javax.servlet-api;3.1.0 in local-m2-cache\n",
      "\tfound org.eclipse.jetty#jetty-http;9.4.48.v20220622 in central\n",
      "\tfound org.eclipse.jetty#jetty-io;9.4.48.v20220622 in central\n",
      "\tfound org.eclipse.jetty#jetty-webapp;9.4.48.v20220622 in central\n",
      "\tfound org.eclipse.jetty#jetty-xml;9.4.48.v20220622 in central\n",
      "\tfound org.eclipse.jetty#jetty-servlet;9.4.48.v20220622 in central\n",
      "\tfound org.eclipse.jetty#jetty-security;9.4.48.v20220622 in central\n",
      "\tfound org.eclipse.jetty#jetty-util-ajax;9.4.48.v20220622 in central\n",
      "\tfound org.eclipse.jetty.websocket#websocket-server;9.4.48.v20220622 in central\n",
      "\tfound org.eclipse.jetty.websocket#websocket-common;9.4.48.v20220622 in central\n",
      "\tfound org.eclipse.jetty.websocket#websocket-api;9.4.48.v20220622 in central\n",
      "\tfound org.eclipse.jetty.websocket#websocket-client;9.4.48.v20220622 in central\n",
      "\tfound org.eclipse.jetty#jetty-client;9.4.48.v20220622 in central\n",
      "\tfound org.eclipse.jetty.websocket#websocket-servlet;9.4.48.v20220622 in central\n",
      "\tfound org.jetbrains.kotlin#kotlin-stdlib-jdk8;1.5.32 in central\n",
      "\tfound org.jetbrains.kotlin#kotlin-stdlib;1.5.32 in central\n",
      "\tfound org.jetbrains.kotlin#kotlin-stdlib-common;1.5.32 in central\n",
      "\tfound org.jetbrains.kotlin#kotlin-stdlib-jdk7;1.5.32 in central\n",
      "\tfound com.beust#jcommander;1.78 in central\n",
      "\tfound joda-time#joda-time;2.9.9 in local-m2-cache\n",
      "\tfound com.github.davidmoten#hilbert-curve;0.2.2 in central\n",
      "\tfound com.github.davidmoten#guava-mini;0.1.3 in central\n",
      "\tfound org.apache.curator#curator-recipes;2.7.1 in central\n",
      "\tfound com.google.guava#guava;16.0.1 in central\n",
      "\tfound org.roaringbitmap#shims;0.9.47 in central\n",
      "\tfound log4j#log4j;1.2.17 in central\n",
      "\tfound org.apache.hudi#hudi-datahub-sync-bundle;1.0.0 in central\n",
      "\tfound org.apache.hudi#hudi-sync-common;1.0.0 in central\n",
      "\tfound org.apache.hudi#hudi-datahub-sync;1.0.0 in central\n",
      "\tfound io.acryl#datahub-client;0.8.45 in central\n",
      "\tfound org.apache.httpcomponents#httpasyncclient;4.1.5 in central\n",
      "\tfound org.apache.httpcomponents#httpcore-nio;4.4.1 in central\n",
      "\tfound org.apache.thrift#libthrift;0.14.0 in central\n",
      "\tfound org.apache.httpcomponents#httpclient;4.5.10 in central\n",
      "\tfound org.apache.httpcomponents#httpcore;4.4.12 in central\n",
      "\tfound org.apache.tomcat.embed#tomcat-embed-core;8.5.46 in central\n",
      "\tfound org.apache.tomcat#tomcat-annotations-api;8.5.46 in central\n",
      "\tfound javax.annotation#javax.annotation-api;1.3.2 in central\n",
      ":: resolution report :: resolve 1484ms :: artifacts dl 37ms\n",
      "\t:: modules in use:\n",
      "\taopalliance#aopalliance;1.0 from local-m2-cache in [default]\n",
      "\tasm#asm;3.2 from central in [default]\n",
      "\tch.qos.reload4j#reload4j;1.2.19 from central in [default]\n",
      "\tcom.beust#jcommander;1.78 from central in [default]\n",
      "\tcom.fasterxml.jackson.core#jackson-annotations;2.10.0 from central in [default]\n",
      "\tcom.fasterxml.jackson.core#jackson-core;2.10.0 from central in [default]\n",
      "\tcom.fasterxml.jackson.core#jackson-databind;2.10.0 from central in [default]\n",
      "\tcom.fasterxml.jackson.datatype#jackson-datatype-jsr310;2.10.0 from central in [default]\n",
      "\tcom.fasterxml.jackson.module#jackson-module-afterburner;2.10.0 from central in [default]\n",
      "\tcom.github.ben-manes.caffeine#caffeine;2.9.1 from central in [default]\n",
      "\tcom.github.davidmoten#guava-mini;0.1.3 from central in [default]\n",
      "\tcom.github.davidmoten#hilbert-curve;0.2.2 from central in [default]\n",
      "\tcom.github.stephenc.jcip#jcip-annotations;1.0-1 from local-m2-cache in [default]\n",
      "\tcom.google.code.findbugs#jsr305;3.0.2 from central in [default]\n",
      "\tcom.google.errorprone#error_prone_annotations;2.14.0 from central in [default]\n",
      "\tcom.google.guava#guava;16.0.1 from central in [default]\n",
      "\tcom.google.inject#guice;3.0 from central in [default]\n",
      "\tcom.google.inject.extensions#guice-servlet;3.0 from central in [default]\n",
      "\tcom.google.protobuf#protobuf-java;3.25.5 from central in [default]\n",
      "\tcom.lmax#disruptor;3.4.2 from central in [default]\n",
      "\tcom.nimbusds#nimbus-jose-jwt;7.9 from central in [default]\n",
      "\tcom.sun.jersey#jersey-client;1.9 from central in [default]\n",
      "\tcom.sun.jersey#jersey-core;1.9 from central in [default]\n",
      "\tcom.sun.jersey#jersey-json;1.9 from central in [default]\n",
      "\tcom.sun.jersey#jersey-server;1.9 from central in [default]\n",
      "\tcom.sun.jersey.contribs#jersey-guice;1.9 from central in [default]\n",
      "\tcom.sun.xml.bind#jaxb-impl;2.2.3-1 from local-m2-cache in [default]\n",
      "\tcom.thoughtworks.paranamer#paranamer;2.7 from central in [default]\n",
      "\tcom.uber.m3#tally-core;0.13.0 from central in [default]\n",
      "\tcom.uber.m3#tally-m3;0.13.0 from central in [default]\n",
      "\tcommons-cli#commons-cli;1.2 from local-m2-cache in [default]\n",
      "\tcommons-codec#commons-codec;1.13 from central in [default]\n",
      "\tcommons-io#commons-io;2.11.0 from central in [default]\n",
      "\tcommons-lang#commons-lang;2.6 from local-m2-cache in [default]\n",
      "\tcommons-logging#commons-logging;1.2 from local-m2-cache in [default]\n",
      "\tio.acryl#datahub-client;0.8.45 from central in [default]\n",
      "\tio.airlift#aircompressor;0.27 from central in [default]\n",
      "\tio.dropwizard.metrics#metrics-core;4.1.1 from central in [default]\n",
      "\tio.dropwizard.metrics#metrics-graphite;4.1.1 from central in [default]\n",
      "\tio.dropwizard.metrics#metrics-jmx;4.1.1 from central in [default]\n",
      "\tio.javalin#javalin;4.6.7 from central in [default]\n",
      "\tio.netty#netty;3.10.6.Final from central in [default]\n",
      "\tio.netty#netty-buffer;4.1.45.Final from central in [default]\n",
      "\tio.netty#netty-codec;4.1.45.Final from central in [default]\n",
      "\tio.netty#netty-common;4.1.45.Final from central in [default]\n",
      "\tio.netty#netty-handler;4.1.45.Final from central in [default]\n",
      "\tio.netty#netty-resolver;4.1.45.Final from central in [default]\n",
      "\tio.netty#netty-transport;4.1.45.Final from central in [default]\n",
      "\tio.netty#netty-transport-native-epoll;4.1.45.Final from central in [default]\n",
      "\tio.netty#netty-transport-native-unix-common;4.1.45.Final from central in [default]\n",
      "\tio.prometheus#simpleclient;0.8.0 from central in [default]\n",
      "\tio.prometheus#simpleclient_common;0.8.0 from central in [default]\n",
      "\tio.prometheus#simpleclient_dropwizard;0.8.0 from central in [default]\n",
      "\tio.prometheus#simpleclient_httpserver;0.8.0 from central in [default]\n",
      "\tio.prometheus#simpleclient_pushgateway;0.8.0 from central in [default]\n",
      "\tjavax.annotation#javax.annotation-api;1.3.2 from central in [default]\n",
      "\tjavax.inject#javax.inject;1 from local-m2-cache in [default]\n",
      "\tjavax.servlet#javax.servlet-api;3.1.0 from local-m2-cache in [default]\n",
      "\tjavax.servlet.jsp#javax.servlet.jsp-api;2.3.1 from central in [default]\n",
      "\tjavax.xml.bind#jaxb-api;2.2.11 from central in [default]\n",
      "\tjoda-time#joda-time;2.9.9 from local-m2-cache in [default]\n",
      "\tlog4j#log4j;1.2.17 from central in [default]\n",
      "\torg.apache.avro#avro;1.8.2 from central in [default]\n",
      "\torg.apache.commons#commons-compress;1.21 from central in [default]\n",
      "\torg.apache.commons#commons-crypto;1.0.0 from central in [default]\n",
      "\torg.apache.commons#commons-lang3;3.9 from local-m2-cache in [default]\n",
      "\torg.apache.commons#commons-math3;3.6.1 from central in [default]\n",
      "\torg.apache.curator#curator-client;2.7.1 from central in [default]\n",
      "\torg.apache.curator#curator-framework;2.7.1 from central in [default]\n",
      "\torg.apache.curator#curator-recipes;2.7.1 from central in [default]\n",
      "\torg.apache.directory.api#api-asn1-api;1.0.0-M20 from central in [default]\n",
      "\torg.apache.directory.api#api-util;1.0.0-M20 from central in [default]\n",
      "\torg.apache.directory.server#apacheds-i18n;2.0.0-M15 from central in [default]\n",
      "\torg.apache.directory.server#apacheds-kerberos-codec;2.0.0-M15 from central in [default]\n",
      "\torg.apache.hadoop#hadoop-annotations;2.10.0 from central in [default]\n",
      "\torg.apache.hadoop#hadoop-auth;2.10.2 from central in [default]\n",
      "\torg.apache.hadoop#hadoop-distcp;2.10.0 from central in [default]\n",
      "\torg.apache.hadoop#hadoop-mapreduce-client-core;2.10.2 from central in [default]\n",
      "\torg.apache.hadoop#hadoop-yarn-api;2.10.2 from central in [default]\n",
      "\torg.apache.hadoop#hadoop-yarn-client;2.10.2 from central in [default]\n",
      "\torg.apache.hadoop#hadoop-yarn-common;2.10.2 from central in [default]\n",
      "\torg.apache.hbase#hbase-client;2.4.13 from central in [default]\n",
      "\torg.apache.hbase#hbase-procedure;2.4.13 from central in [default]\n",
      "\torg.apache.hbase#hbase-protocol;2.4.13 from central in [default]\n",
      "\torg.apache.hbase#hbase-protocol-shaded;2.4.13 from central in [default]\n",
      "\torg.apache.hbase#hbase-replication;2.4.13 from central in [default]\n",
      "\torg.apache.hbase#hbase-server;2.4.13 from central in [default]\n",
      "\torg.apache.hbase.thirdparty#hbase-shaded-miscellaneous;4.1.1 from central in [default]\n",
      "\torg.apache.hbase.thirdparty#hbase-shaded-netty;4.1.1 from central in [default]\n",
      "\torg.apache.hbase.thirdparty#hbase-shaded-protobuf;4.1.1 from central in [default]\n",
      "\torg.apache.hive#hive-storage-api;2.8.1 from central in [default]\n",
      "\torg.apache.htrace#htrace-core4;4.2.0-incubating from central in [default]\n",
      "\torg.apache.httpcomponents#fluent-hc;4.4.1 from central in [default]\n",
      "\torg.apache.httpcomponents#httpasyncclient;4.1.5 from central in [default]\n",
      "\torg.apache.httpcomponents#httpclient;4.5.10 from central in [default]\n",
      "\torg.apache.httpcomponents#httpcore;4.4.12 from central in [default]\n",
      "\torg.apache.httpcomponents#httpcore-nio;4.4.1 from central in [default]\n",
      "\torg.apache.hudi#hudi-client-common;1.0.0 from central in [default]\n",
      "\torg.apache.hudi#hudi-common;1.0.0 from central in [default]\n",
      "\torg.apache.hudi#hudi-datahub-sync;1.0.0 from central in [default]\n",
      "\torg.apache.hudi#hudi-datahub-sync-bundle;1.0.0 from central in [default]\n",
      "\torg.apache.hudi#hudi-hadoop-common;1.0.0 from central in [default]\n",
      "\torg.apache.hudi#hudi-io;1.0.0 from central in [default]\n",
      "\torg.apache.hudi#hudi-spark-client;1.0.0 from central in [default]\n",
      "\torg.apache.hudi#hudi-spark3.3-bundle_2.12;1.0.0 from central in [default]\n",
      "\torg.apache.hudi#hudi-sync-common;1.0.0 from central in [default]\n",
      "\torg.apache.hudi#hudi-timeline-service;1.0.0 from central in [default]\n",
      "\torg.apache.hudi#hudi-utilities-slim-bundle_2.12;1.0.0 from central in [default]\n",
      "\torg.apache.orc#orc-core;1.6.0 from central in [default]\n",
      "\torg.apache.orc#orc-shims;1.6.0 from central in [default]\n",
      "\torg.apache.thrift#libthrift;0.14.0 from central in [default]\n",
      "\torg.apache.tomcat#tomcat-annotations-api;8.5.46 from central in [default]\n",
      "\torg.apache.tomcat.embed#tomcat-embed-core;8.5.46 from central in [default]\n",
      "\torg.apache.yetus#audience-annotations;0.5.0 from local-m2-cache in [default]\n",
      "\torg.apache.zookeeper#zookeeper;3.5.7 from central in [default]\n",
      "\torg.apache.zookeeper#zookeeper-jute;3.5.7 from central in [default]\n",
      "\torg.checkerframework#checker-qual;3.10.0 from central in [default]\n",
      "\torg.codehaus.jettison#jettison;1.3.8 from central in [default]\n",
      "\torg.eclipse.jetty#jetty-client;9.4.48.v20220622 from central in [default]\n",
      "\torg.eclipse.jetty#jetty-http;9.4.48.v20220622 from central in [default]\n",
      "\torg.eclipse.jetty#jetty-io;9.4.48.v20220622 from central in [default]\n",
      "\torg.eclipse.jetty#jetty-security;9.4.48.v20220622 from central in [default]\n",
      "\torg.eclipse.jetty#jetty-server;9.4.48.v20220622 from central in [default]\n",
      "\torg.eclipse.jetty#jetty-servlet;9.4.48.v20220622 from central in [default]\n",
      "\torg.eclipse.jetty#jetty-util;9.4.53.v20231009 from central in [default]\n",
      "\torg.eclipse.jetty#jetty-util-ajax;9.4.48.v20220622 from central in [default]\n",
      "\torg.eclipse.jetty#jetty-webapp;9.4.48.v20220622 from central in [default]\n",
      "\torg.eclipse.jetty#jetty-xml;9.4.48.v20220622 from central in [default]\n",
      "\torg.eclipse.jetty.websocket#websocket-api;9.4.48.v20220622 from central in [default]\n",
      "\torg.eclipse.jetty.websocket#websocket-client;9.4.48.v20220622 from central in [default]\n",
      "\torg.eclipse.jetty.websocket#websocket-common;9.4.48.v20220622 from central in [default]\n",
      "\torg.eclipse.jetty.websocket#websocket-server;9.4.48.v20220622 from central in [default]\n",
      "\torg.eclipse.jetty.websocket#websocket-servlet;9.4.48.v20220622 from central in [default]\n",
      "\torg.glassfish#javax.el;3.0.1-b12 from central in [default]\n",
      "\torg.glassfish.web#javax.servlet.jsp;2.3.2 from central in [default]\n",
      "\torg.jamon#jamon-runtime;2.4.1 from central in [default]\n",
      "\torg.jetbrains#annotations;17.0.0 from central in [default]\n",
      "\torg.jetbrains.kotlin#kotlin-stdlib;1.5.32 from central in [default]\n",
      "\torg.jetbrains.kotlin#kotlin-stdlib-common;1.5.32 from central in [default]\n",
      "\torg.jetbrains.kotlin#kotlin-stdlib-jdk7;1.5.32 from central in [default]\n",
      "\torg.jetbrains.kotlin#kotlin-stdlib-jdk8;1.5.32 from central in [default]\n",
      "\torg.jruby.jcodings#jcodings;1.0.55 from central in [default]\n",
      "\torg.jruby.joni#joni;2.1.31 from central in [default]\n",
      "\torg.lz4#lz4-java;1.8.0 from central in [default]\n",
      "\torg.openjdk.jol#jol-core;0.16 from central in [default]\n",
      "\torg.roaringbitmap#RoaringBitmap;0.9.47 from central in [default]\n",
      "\torg.roaringbitmap#shims;0.9.47 from central in [default]\n",
      "\torg.rocksdb#rocksdbjni;7.5.3 from central in [default]\n",
      "\torg.scala-lang.modules#scala-collection-compat_2.12;2.8.1 from central in [default]\n",
      "\torg.slf4j#slf4j-api;1.7.36 from central in [default]\n",
      "\torg.slf4j#slf4j-reload4j;1.7.33 from central in [default]\n",
      "\torg.sonatype.sisu.inject#cglib;2.2.1-v20090111 from central in [default]\n",
      "\torg.tukaani#xz;1.5 from local-m2-cache in [default]\n",
      "\torg.xerial.snappy#snappy-java;1.1.8.3 from central in [default]\n",
      "\t:: evicted modules:\n",
      "\tcom.google.errorprone#error_prone_annotations;2.5.1 by [com.google.errorprone#error_prone_annotations;2.14.0] in [default]\n",
      "\torg.apache.hive#hive-storage-api;2.6.0 by [org.apache.hive#hive-storage-api;2.8.1] in [default]\n",
      "\torg.apache.httpcomponents#httpclient;4.4.1 by [org.apache.httpcomponents#httpclient;4.5.10] in [default]\n",
      "\torg.apache.httpcomponents#httpcore;4.4.1 by [org.apache.httpcomponents#httpcore;4.4.12] in [default]\n",
      "\tcommons-codec#commons-codec;1.9 by [commons-codec#commons-codec;1.13] in [default]\n",
      "\tjavax.annotation#javax.annotation-api;1.2 by [javax.annotation#javax.annotation-api;1.3.2] in [default]\n",
      "\tcom.google.guava#guava;11.0.2 by [com.google.guava#guava;16.0.1] in [default]\n",
      "\torg.apache.thrift#libthrift;0.9.3 by [org.apache.thrift#libthrift;0.14.0] in [default]\n",
      "\torg.eclipse.jetty#jetty-util;9.4.48.v20220622 by [org.eclipse.jetty#jetty-util;9.4.53.v20231009] in [default]\n",
      "\torg.jetbrains#annotations;13.0 by [org.jetbrains#annotations;17.0.0] in [default]\n",
      "\torg.apache.zookeeper#zookeeper;3.4.6 by [org.apache.zookeeper#zookeeper;3.5.7] in [default]\n",
      "\torg.apache.httpcomponents#httpcore-nio;4.4.15 by [org.apache.httpcomponents#httpcore-nio;4.4.1] in [default]\n",
      "\torg.slf4j#slf4j-api;1.7.28 by [org.slf4j#slf4j-api;1.7.36] in [default]\n",
      "\tcommons-codec#commons-codec;1.11 by [commons-codec#commons-codec;1.13] in [default]\n",
      "\t---------------------------------------------------------------------\n",
      "\t|                  |            modules            ||   artifacts   |\n",
      "\t|       conf       | number| search|dwnlded|evicted|| number|dwnlded|\n",
      "\t---------------------------------------------------------------------\n",
      "\t|      default     |  168  |   0   |   0   |   14  ||  154  |   0   |\n",
      "\t---------------------------------------------------------------------\n",
      ":: retrieving :: org.apache.spark#spark-submit-parent-b59f8909-3c93-40ed-8c73-edc9b40efb16\n",
      "\tconfs: [default]\n",
      "\t0 artifacts copied, 154 already retrieved (0kB/20ms)\n"
     ]
    },
    {
     "name": "stdout",
     "output_type": "stream",
     "text": [
      "25/01/09 19:05:10 WARN NativeCodeLoader: Unable to load native-hadoop library for your platform... using builtin-java classes where applicable\n"
     ]
    },
    {
     "name": "stderr",
     "output_type": "stream",
     "text": [
      "Setting default log level to \"WARN\".\n",
      "To adjust logging level use sc.setLogLevel(newLevel). For SparkR, use setLogLevel(newLevel).\n"
     ]
    },
    {
     "name": "stdout",
     "output_type": "stream",
     "text": [
      "25/01/09 19:05:10 WARN Utils: Service 'SparkUI' could not bind on port 4040. Attempting port 4041.\n",
      "25/01/09 19:05:10 WARN Utils: Service 'SparkUI' could not bind on port 4041. Attempting port 4042.\n"
     ]
    }
   ],
   "source": [
    "spark = (\n",
    "    SparkSession.builder\n",
    "    .master(\"local[*]\")\n",
    "    .appName(\"HudiWithDataHub\")\n",
    "    .config(\"spark.jars.packages\", spark_jar_packages)\n",
    "\n",
    "    # Hudi-Hive Integration\n",
    "    .config(\"spark.serializer\", \"org.apache.spark.serializer.KryoSerializer\")\n",
    "    .config(\"spark.kryo.registrator\", \"org.apache.spark.HoodieSparkKryoRegistrar\")\n",
    "    .config(\"spark.sql.extensions\", \"org.apache.spark.sql.hudi.HoodieSparkSessionExtension\")\n",
    "    .config(\"hoodie.meta.sync.client.tool.class\", \"org.apache.hudi.sync.datahub.DataHubSyncTool\")\n",
    "    .config(\"hoodie.meta.sync.datahub.emitter.server\", \"http://localhost:8080\")\n",
    "    .config(\"hoodie.datasource.meta.sync.enable\", \"true\")\n",
    "    #.config(\"spark.sql.catalog.spark_catalog\", \"org.apache.spark.sql.hudi.catalog.HoodieCatalog\")\n",
    "\n",
    "    # # S3 (MinIO Integration)\n",
    "    # .config(\"spark.hadoop.fs.s3a.endpoint\", \"http://localhost:9000\")\n",
    "    # .config(\"spark.hadoop.fs.s3a.access.key\", \"minioadmin\")\n",
    "    # .config(\"spark.hadoop.fs.s3a.secret.key\", \"minioadmin\")\n",
    "    # .config(\"spark.hadoop.fs.s3a.path.style.access\", \"true\")\n",
    "    # .config(\"spark.hadoop.fs.s3a.impl\", \"org.apache.hadoop.fs.s3a.S3AFileSystem\")\n",
    "    # .config(\"spark.hadoop.fs.s3a.aws.credentials.provider\", \"org.apache.hadoop.fs.s3a.SimpleAWSCredentialsProvider\")\n",
    "    # .config(\"spark.hadoop.fs.s3a.region\", \"us-east-1\")\n",
    "\n",
    "    .getOrCreate()\n",
    ")"
   ]
  },
  {
   "cell_type": "code",
   "execution_count": 5,
   "id": "7f880658-ec91-4643-96c6-ef9ca63b1f66",
   "metadata": {
    "execution": {
     "iopub.execute_input": "2025-01-09T22:05:14.669114Z",
     "iopub.status.busy": "2025-01-09T22:05:14.668985Z",
     "iopub.status.idle": "2025-01-09T22:05:14.961606Z",
     "shell.execute_reply": "2025-01-09T22:05:14.961252Z",
     "shell.execute_reply.started": "2025-01-09T22:05:14.669100Z"
    }
   },
   "outputs": [
    {
     "data": {
      "text/html": [
       "\n",
       "            <div>\n",
       "                <p><b>SparkSession - in-memory</b></p>\n",
       "                \n",
       "        <div>\n",
       "            <p><b>SparkContext</b></p>\n",
       "\n",
       "            <p><a href=\"http://192.168.2.129:4042\">Spark UI</a></p>\n",
       "\n",
       "            <dl>\n",
       "              <dt>Version</dt>\n",
       "                <dd><code>v3.3.0</code></dd>\n",
       "              <dt>Master</dt>\n",
       "                <dd><code>local[*]</code></dd>\n",
       "              <dt>AppName</dt>\n",
       "                <dd><code>HudiWithDataHub</code></dd>\n",
       "            </dl>\n",
       "        </div>\n",
       "        \n",
       "            </div>\n",
       "        "
      ],
      "text/plain": [
       "<pyspark.sql.session.SparkSession at 0x79226e240490>"
      ]
     },
     "execution_count": 5,
     "metadata": {},
     "output_type": "execute_result"
    }
   ],
   "source": [
    "spark"
   ]
  },
  {
   "cell_type": "code",
   "execution_count": 6,
   "id": "c490bcd8-ebe1-4a93-b422-4ffffbf6d598",
   "metadata": {
    "execution": {
     "iopub.execute_input": "2025-01-09T22:05:14.962098Z",
     "iopub.status.busy": "2025-01-09T22:05:14.961980Z",
     "iopub.status.idle": "2025-01-09T22:05:14.964168Z",
     "shell.execute_reply": "2025-01-09T22:05:14.963873Z",
     "shell.execute_reply.started": "2025-01-09T22:05:14.962085Z"
    }
   },
   "outputs": [],
   "source": [
    "# Hudi and DataHub configurations\n",
    "hudi_configs = {\n",
    "    \"hoodie.datasource.hive_sync.database\": \"my_hudi_db\",\n",
    "    \"hoodie.datasource.hive_sync.table\": \"my_hudi_table\",\n",
    "    \"hoodie.datasource.write.recordkey.field\": \"Industry\",\n",
    "    \"hoodie.datasource.write.partitionpath.field\": \"partition\",\n",
    "    \"hoodie.datasource.write.table.name\": \"mytable\",\n",
    "    \"hoodie.datasource.write.operation\": \"upsert\",\n",
    "    \"hoodie.datasource.write.precombine.field\": \"ts\"\n",
    "}\n"
   ]
  },
  {
   "cell_type": "code",
   "execution_count": 7,
   "id": "e7beffcc-9d51-4125-866a-617b37145c0c",
   "metadata": {
    "execution": {
     "iopub.execute_input": "2025-01-09T22:05:14.965030Z",
     "iopub.status.busy": "2025-01-09T22:05:14.964818Z",
     "iopub.status.idle": "2025-01-09T22:05:16.872560Z",
     "shell.execute_reply": "2025-01-09T22:05:16.872217Z",
     "shell.execute_reply.started": "2025-01-09T22:05:14.965019Z"
    }
   },
   "outputs": [
    {
     "name": "stdout",
     "output_type": "stream",
     "text": [
      "25/01/09 19:05:15 WARN DFSPropertiesConfiguration: Properties file file:/etc/hudi/conf/hudi-defaults.conf not found. Ignoring to load props file\n",
      "25/01/09 19:05:15 WARN DFSPropertiesConfiguration: Cannot find HUDI_CONF_DIR, please set it as the dir of hudi-defaults.conf\n"
     ]
    }
   ],
   "source": [
    "from pyspark.sql.functions import current_timestamp\n",
    "\n",
    "# Load a dataset\n",
    "df = spark.read.csv(\"industry.csv\", header=True, inferSchema=True)\n",
    "df_with_ts = df.withColumn(\"ts\", current_timestamp())"
   ]
  },
  {
   "cell_type": "code",
   "execution_count": 8,
   "id": "c7df8bff-24b4-4879-9c75-c308ca6ce881",
   "metadata": {
    "execution": {
     "iopub.execute_input": "2025-01-09T22:05:16.873043Z",
     "iopub.status.busy": "2025-01-09T22:05:16.872914Z",
     "iopub.status.idle": "2025-01-09T22:05:16.990105Z",
     "shell.execute_reply": "2025-01-09T22:05:16.989763Z",
     "shell.execute_reply.started": "2025-01-09T22:05:16.873031Z"
    }
   },
   "outputs": [
    {
     "name": "stdout",
     "output_type": "stream",
     "text": [
      "+--------------------+--------------------+\n",
      "|            Industry|                  ts|\n",
      "+--------------------+--------------------+\n",
      "|  Accounting/Finance|2025-01-09 19:05:...|\n",
      "|Advertising/Publi...|2025-01-09 19:05:...|\n",
      "|  Aerospace/Aviation|2025-01-09 19:05:...|\n",
      "|Arts/Entertainmen...|2025-01-09 19:05:...|\n",
      "|          Automotive|2025-01-09 19:05:...|\n",
      "|    Banking/Mortgage|2025-01-09 19:05:...|\n",
      "|Business Development|2025-01-09 19:05:...|\n",
      "|Business Opportunity|2025-01-09 19:05:...|\n",
      "|Clerical/Administ...|2025-01-09 19:05:...|\n",
      "|Construction/Faci...|2025-01-09 19:05:...|\n",
      "|      Consumer Goods|2025-01-09 19:05:...|\n",
      "|    Customer Service|2025-01-09 19:05:...|\n",
      "|  Education/Training|2025-01-09 19:05:...|\n",
      "|    Energy/Utilities|2025-01-09 19:05:...|\n",
      "|         Engineering|2025-01-09 19:05:...|\n",
      "| Government/Military|2025-01-09 19:05:...|\n",
      "|               Green|2025-01-09 19:05:...|\n",
      "|          Healthcare|2025-01-09 19:05:...|\n",
      "|  Hospitality/Travel|2025-01-09 19:05:...|\n",
      "|     Human Resources|2025-01-09 19:05:...|\n",
      "+--------------------+--------------------+\n",
      "only showing top 20 rows\n",
      "\n"
     ]
    }
   ],
   "source": [
    "df_with_ts.show()"
   ]
  },
  {
   "cell_type": "code",
   "execution_count": 9,
   "id": "255424a7-8443-4863-929c-2570be4394de",
   "metadata": {
    "execution": {
     "iopub.execute_input": "2025-01-09T22:05:16.990648Z",
     "iopub.status.busy": "2025-01-09T22:05:16.990525Z",
     "iopub.status.idle": "2025-01-09T22:05:20.132862Z",
     "shell.execute_reply": "2025-01-09T22:05:20.132541Z",
     "shell.execute_reply.started": "2025-01-09T22:05:16.990635Z"
    }
   },
   "outputs": [
    {
     "name": "stdout",
     "output_type": "stream",
     "text": [
      "# WARNING: Unable to get Instrumentation. Dynamic Attach failed. You may add this JAR as -javaagent manually, or supply -Djdk.attach.allowAttachSelf\n",
      "# WARNING: Unable to attach Serviceability Agent. Unable to attach even with module exceptions: [org.apache.hudi.org.openjdk.jol.vm.sa.SASupportException: Sense failed., org.apache.hudi.org.openjdk.jol.vm.sa.SASupportException: Sense failed., org.apache.hudi.org.openjdk.jol.vm.sa.SASupportException: Sense failed.]\n",
      "25/01/09 19:05:19 WARN MetricsConfig: Cannot locate configuration: tried hadoop-metrics2-hbase.properties,hadoop-metrics2.properties\n"
     ]
    }
   ],
   "source": [
    "df_with_ts.write.format(\"hudi\") \\\n",
    "    .options(**hudi_configs) \\\n",
    "    .mode(\"append\") \\\n",
    "    .save(\"file:///home/baptvit/Documents/github/lakehouse-labs/datahub/path/to/hudi/table\")"
   ]
  },
  {
   "cell_type": "markdown",
   "id": "e9789e3b-bdeb-42f9-9910-6a5a1d939ee6",
   "metadata": {},
   "source": [
    "### Dataset Generation"
   ]
  },
  {
   "cell_type": "code",
   "execution_count": null,
   "id": "efa07f69-02fe-4deb-a14c-59de36b3c08b",
   "metadata": {},
   "outputs": [],
   "source": [
    "def generate_entry(faker: Faker, country_codes: list):\n",
    "    return {\n",
    "        \"id\": faker.unique.uuid4(),\n",
    "        \"name\":  faker.name(),\n",
    "        \"email\": faker.email(),\n",
    "        \"passport\": faker.passport_number(),\n",
    "        \"country_code\": random.choice(country_codes),\n",
    "        \"iban\": faker.iban(),\n",
    "        \"swift\": faker.swift11(),\n",
    "        \"created_at\": faker.past_date(start_date='-90d').strftime('%Y-%m-%d')\n",
    "    }"
   ]
  },
  {
   "cell_type": "code",
   "execution_count": null,
   "id": "53c245a4-9ace-4bf1-9897-4a8d186ac5f1",
   "metadata": {},
   "outputs": [],
   "source": [
    "def generate_dataset(num: int, seed: int):\n",
    "    country_codes = ['US', 'CA', 'JP', 'KR', 'FR', 'GE', 'UK', 'BR', 'AR']\n",
    "    Faker.seed(seed)\n",
    "    faker = Faker()\n",
    "    return [generate_entry(faker, country_codes) for _ in range(num)]"
   ]
  },
  {
   "cell_type": "code",
   "execution_count": null,
   "id": "599e5cd7-d544-4b4e-9b89-09b483fef953",
   "metadata": {},
   "outputs": [],
   "source": [
    "dataset = generate_dataset(num=100_000, seed=739)"
   ]
  },
  {
   "cell_type": "code",
   "execution_count": null,
   "id": "74e985a4-3ccc-4b2b-a30f-ee40107bc10e",
   "metadata": {},
   "outputs": [],
   "source": [
    "df = spark.createDataFrame(dataset)\\\n",
    "        .withColumn(\"year\", year(col(\"created_at\")))\\\n",
    "        .withColumn(\"month\", month(col(\"created_at\")))\\\n",
    "        .withColumn(\"day\", dayofmonth(col(\"created_at\")))"
   ]
  },
  {
   "cell_type": "markdown",
   "id": "1feb1ff2-6a95-4e4f-8cce-443d04779f9f",
   "metadata": {},
   "source": [
    "### Hudi-Hive Integration"
   ]
  },
  {
   "cell_type": "code",
   "execution_count": null,
   "id": "be022e3c-0ef9-466e-8bcf-08c39ad97783",
   "metadata": {},
   "outputs": [],
   "source": [
    "df.write.format(\"hudi\") \\\n",
    "    .option(\"hoodie.database.name\", \"hudi_raw\") \\\n",
    "    .option(\"hoodie.table.name\", \"accounts\") \\\n",
    "    .option(\"hoodie.datasource.write.recordkey.field\", \"id\") \\\n",
    "    .option(\"hoodie.datasource.write.precombine.field\", \"created_at\") \\\n",
    "    .option(\"hoodie.datasource.write.table.type\", \"COPY_ON_WRITE\") \\\n",
    "    .option(\"hoodie.datasource.write.operation\", \"upsert\") \\\n",
    "    .option(\"hoodie.datasource.meta.sync.enable\", \"true\") \\\n",
    "    .option(\"hoodie.datasource.hive_sync.mode\", \"hms\") \\\n",
    "    .option(\"hoodie.datasource.hive_sync.metastore.uris\", \"thrift://localhost:9083\") \\\n",
    "    .option(\"hoodie.datasource.hive_sync.partition_fields\", \"year,month\") \\\n",
    "    .option(\"hoodie.datasource.hive_sync.partition_extractor_class\", \"org.apache.hudi.hive.MultiPartKeysValueExtractor\") \\\n",
    "    .option(\"hoodie.datasource.write.hive_style_partitioning\",\"true\") \\\n",
    "    .partitionBy(\"year\", \"month\") \\\n",
    "    .mode(\"overwrite\") \\\n",
    "    .save(\"s3a://lakehouse-raw/hudi/accounts\")"
   ]
  },
  {
   "cell_type": "markdown",
   "id": "f0a276bc-ad1d-48d2-bfd8-fe9d8ada8fdd",
   "metadata": {},
   "source": [
    "### Upsert Dataset"
   ]
  },
  {
   "cell_type": "code",
   "execution_count": null,
   "id": "85f18f8e-f096-44c6-9212-d871cfbf44c4",
   "metadata": {},
   "outputs": [],
   "source": [
    "entries = [\n",
    "    # Existing entries\n",
    "    dataset[2], \n",
    "    dataset[4], \n",
    "    dataset[7],\n",
    "    dataset[11],\n",
    "    # New entries\n",
    "    *generate_dataset(4, seed=1037)\n",
    "]"
   ]
  },
  {
   "cell_type": "code",
   "execution_count": null,
   "id": "d8fc774e-2ded-4a09-a263-c91a5d3aa959",
   "metadata": {},
   "outputs": [],
   "source": [
    "for entry in entries:\n",
    "    username = entry['name'].lower().replace(\" \", \".\")\n",
    "    entry['email'] = f\"{username}@domain.com\""
   ]
  },
  {
   "cell_type": "code",
   "execution_count": null,
   "id": "9c7541ce-1cec-4dac-b371-db3d11daeed8",
   "metadata": {},
   "outputs": [],
   "source": [
    "upsert_df = spark.createDataFrame(entries)\\\n",
    "        .withColumn(\"year\", year(col(\"created_at\")))\\\n",
    "        .withColumn(\"month\", month(col(\"created_at\")))\\\n",
    "        .withColumn(\"day\", dayofmonth(col(\"created_at\")))"
   ]
  },
  {
   "cell_type": "code",
   "execution_count": null,
   "id": "34fe4ed2-dd0f-4704-9658-dd6fcb23f88e",
   "metadata": {},
   "outputs": [],
   "source": [
    "upsert_df.show(8, truncate=False)"
   ]
  },
  {
   "cell_type": "code",
   "execution_count": null,
   "id": "d7d1480a-c08f-40ae-8e59-75d9fdc4f7b2",
   "metadata": {},
   "outputs": [],
   "source": [
    "upsert_df.createOrReplaceTempView(\"upsert_data\")"
   ]
  },
  {
   "cell_type": "markdown",
   "id": "af465e53-845a-49e0-ba46-72f24a937791",
   "metadata": {},
   "source": [
    "### Upsert Strategy"
   ]
  },
  {
   "cell_type": "code",
   "execution_count": null,
   "id": "d75dc232-22af-4601-86e4-353ea04363d0",
   "metadata": {},
   "outputs": [],
   "source": [
    "upsert_df.write.format(\"hudi\") \\\n",
    "    .option(\"hoodie.database.name\", \"hudi_raw\") \\\n",
    "    .option(\"hoodie.table.name\", \"accounts\") \\\n",
    "    .option(\"hoodie.datasource.write.recordkey.field\", \"id\") \\\n",
    "    .option(\"hoodie.datasource.write.precombine.field\", \"created_at\") \\\n",
    "    .option(\"hoodie.datasource.write.table.type\", \"COPY_ON_WRITE\") \\\n",
    "    .option(\"hoodie.datasource.write.operation\", \"upsert\") \\\n",
    "    .option(\"hoodie.datasource.meta.sync.enable\", \"true\") \\\n",
    "    .option(\"hoodie.datasource.hive_sync.mode\", \"hms\") \\\n",
    "    .option(\"hoodie.datasource.hive_sync.metastore.uris\", \"thrift://localhost:9083\") \\\n",
    "    .option(\"hoodie.datasource.hive_sync.partition_fields\", \"year,month\") \\\n",
    "    .option(\"hoodie.datasource.hive_sync.partition_extractor_class\", \"org.apache.hudi.hive.MultiPartKeysValueExtractor\") \\\n",
    "    .option(\"hoodie.datasource.write.hive_style_partitioning\",\"true\") \\\n",
    "    .partitionBy(\"year\", \"month\") \\\n",
    "    .mode(\"append\") \\\n",
    "    .save(\"s3a://lakehouse-raw/hudi/accounts\")"
   ]
  },
  {
   "cell_type": "markdown",
   "id": "b61f2513-a6e0-4f81-9586-88bbaa9e0df8",
   "metadata": {},
   "source": [
    "### Hudi Metadata (WIP)"
   ]
  },
  {
   "cell_type": "code",
   "execution_count": null,
   "id": "41a7c3e2-dbbe-414a-8067-1c0aec8eddf1",
   "metadata": {},
   "outputs": [],
   "source": [
    "spark.sql(\"\"\"\n",
    "    call show_commits (\n",
    "        table => 'hudi_raw.accounts',\n",
    "        from_commit => '0'\n",
    "    )    \n",
    "\"\"\").show(truncate=False)"
   ]
  },
  {
   "cell_type": "code",
   "execution_count": null,
   "id": "6f22e223-78d2-4117-a016-751e2f32bd38",
   "metadata": {},
   "outputs": [],
   "source": [
    "hudi_changes = spark.read.format(\"hudi\") \\\n",
    "    .option(\"hoodie.datasource.query.type\", \"incremental\") \\\n",
    "    .option(\"hoodie.datasource.read.begin.instanttime\", 0) \\\n",
    "    .load(\"s3a://lakehouse-raw/hudi/accounts\")"
   ]
  },
  {
   "cell_type": "code",
   "execution_count": null,
   "id": "c087c0a8-4dbf-4414-ab94-226d87c07d52",
   "metadata": {},
   "outputs": [],
   "source": [
    "hudi_changes.show()"
   ]
  },
  {
   "cell_type": "code",
   "execution_count": null,
   "id": "c606aaee-0f20-467b-833c-6df2f9b04f53",
   "metadata": {},
   "outputs": [],
   "source": []
  }
 ],
 "metadata": {
  "kernelspec": {
   "display_name": "Python 3 (ipykernel)",
   "language": "python",
   "name": "python3"
  },
  "language_info": {
   "codemirror_mode": {
    "name": "ipython",
    "version": 3
   },
   "file_extension": ".py",
   "mimetype": "text/x-python",
   "name": "python",
   "nbconvert_exporter": "python",
   "pygments_lexer": "ipython3",
   "version": "3.11.6"
  }
 },
 "nbformat": 4,
 "nbformat_minor": 5
}
