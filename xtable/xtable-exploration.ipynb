{
 "cells": [
  {
   "cell_type": "markdown",
   "id": "6aee7477-f0fc-4314-bb90-574232171a56",
   "metadata": {},
   "source": [
    "# POC: Using XTable for interopability between open table formats \n",
    "\n",
    "Usin Xtable for transition period while migrating HUDI to delta"
   ]
  },
  {
   "cell_type": "markdown",
   "id": "7a653480-c1ca-4ea0-b9a4-5a67e7a06b0b",
   "metadata": {},
   "source": [
    "# Use cases\n",
    "\n",
    "Apache XTable™ provides cross-table omni-directional interop between lakehouse table formats\n",
    "Apache XTable™ is NOT a new or separate format, Apache XTable™ provides abstractions and tools for the translation of lakehouse table format metadata\n",
    "Apache XTable™ is formerly known as OneTable\n",
    "\n",
    "Apache XTable™ can be used to easily switch between any of the table formats or even benefit from more than one simultaneously. Some organizations use Apache XTable™ today because they have a diverse ecosystem of tools with polarized vendor support of table formats. Some users want lightning fast ingestion or indexing from Hudi and photon query accelerations of Delta Lake inside of Databricks. Some users want managed table services from Hudi, but also want write operations from Trino to Iceberg. Regardless of which combination of formats you need, Apache XTable™ ensures you can benefit from all 3 projects."
   ]
  },
  {
   "cell_type": "markdown",
   "id": "8fd86a9c-12b3-4721-9f6d-adc266416bfd",
   "metadata": {},
   "source": [
    "# Known constrains\n",
    "\n",
    "1. Aparently HUDI CoW 1.0.0 is not working\n",
    "\n",
    "2. Hudi and Iceberg MoR tables not supported\n",
    "   \n",
    "3. Delta Delete Vectors are not supported\n",
    "   \n",
    "4. **Synchronized transaction timestamps**\n",
    "   \n",
    "\n",
    "With Apache XTable™ you pick one primary format and one or more secondary formats. The write operations with the **primary format work as normal**. Apache XTable™ than translates the metadata from the primary format to the secondaries. When committing the metadata of the secondary formats, **the timestamp of the commit will not be the exact same timestamp as shown in the primary.**"
   ]
  },
  {
   "cell_type": "markdown",
   "id": "46c7363d-cab2-46e9-886e-0faecfaee8cc",
   "metadata": {},
   "source": [
    "# Before run\n",
    "\n",
    "Make sure to compile XTable project with Java 11 and Meaven"
   ]
  },
  {
   "cell_type": "markdown",
   "id": "ebb7f8f7-7289-4355-893f-b857ee9aad21",
   "metadata": {},
   "source": [
    "# Working with XTable"
   ]
  },
  {
   "cell_type": "markdown",
   "id": "9e85a3ab-21fe-4fd8-b8eb-080cb529deab",
   "metadata": {
    "execution": {
     "iopub.execute_input": "2025-01-14T19:13:31.313969Z",
     "iopub.status.busy": "2025-01-14T19:13:31.313467Z",
     "iopub.status.idle": "2025-01-14T19:13:31.316365Z",
     "shell.execute_reply": "2025-01-14T19:13:31.316024Z",
     "shell.execute_reply.started": "2025-01-14T19:13:31.313946Z"
    }
   },
   "source": [
    "## Setup HUDI example"
   ]
  },
  {
   "cell_type": "markdown",
   "id": "a4147f7b-d675-4435-99a1-fb0c73570320",
   "metadata": {},
   "source": [
    "Using HUDI CoW 0.15.0 version"
   ]
  },
  {
   "cell_type": "code",
   "execution_count": 1,
   "id": "a4598320-6b6c-47fd-9c0a-96c4952a25b2",
   "metadata": {
    "execution": {
     "iopub.execute_input": "2025-01-14T20:23:57.014837Z",
     "iopub.status.busy": "2025-01-14T20:23:57.014512Z",
     "iopub.status.idle": "2025-01-14T20:23:57.017246Z",
     "shell.execute_reply": "2025-01-14T20:23:57.016957Z",
     "shell.execute_reply.started": "2025-01-14T20:23:57.014822Z"
    }
   },
   "outputs": [],
   "source": [
    "spark_jar_packages = \",\".join([\n",
    "    \"org.apache.hudi:hudi-spark3.5-bundle_2.12:0.15.0\"\n",
    "])"
   ]
  },
  {
   "cell_type": "code",
   "execution_count": 2,
   "id": "a36c8e71-23d5-463b-9be7-da865cbb7a56",
   "metadata": {
    "execution": {
     "iopub.execute_input": "2025-01-14T20:23:58.004183Z",
     "iopub.status.busy": "2025-01-14T20:23:58.003840Z",
     "iopub.status.idle": "2025-01-14T20:23:58.006850Z",
     "shell.execute_reply": "2025-01-14T20:23:58.006277Z",
     "shell.execute_reply.started": "2025-01-14T20:23:58.004168Z"
    }
   },
   "outputs": [],
   "source": [
    "LOCAL_WAREHOUSE_CATALOG = \"file:///home/baptvit/Documents/github/lakehouse-labs/xtable/warehouse/\""
   ]
  },
  {
   "cell_type": "code",
   "execution_count": 3,
   "id": "f4b1ba58-7070-4c29-983a-09169733cce2",
   "metadata": {
    "execution": {
     "iopub.execute_input": "2025-01-14T20:23:58.342267Z",
     "iopub.status.busy": "2025-01-14T20:23:58.341856Z",
     "iopub.status.idle": "2025-01-14T20:24:00.900594Z",
     "shell.execute_reply": "2025-01-14T20:24:00.900107Z",
     "shell.execute_reply.started": "2025-01-14T20:23:58.342250Z"
    }
   },
   "outputs": [
    {
     "name": "stderr",
     "output_type": "stream",
     "text": [
      "25/01/14 17:23:59 WARN Utils: Your hostname, baptvit resolves to a loopback address: 127.0.1.1; using 192.168.2.129 instead (on interface wlp4s0)\n",
      "25/01/14 17:23:59 WARN Utils: Set SPARK_LOCAL_IP if you need to bind to another address\n",
      "Ivy Default Cache set to: /home/baptvit/.ivy2/cache\n",
      "The jars for the packages stored in: /home/baptvit/.ivy2/jars\n",
      "org.apache.hudi#hudi-spark3.5-bundle_2.12 added as a dependency\n",
      ":: resolving dependencies :: org.apache.spark#spark-submit-parent-10384895-3c75-4a93-9e9e-74d5480c1301;1.0\n",
      "\tconfs: [default]\n"
     ]
    },
    {
     "name": "stdout",
     "output_type": "stream",
     "text": [
      ":: loading settings :: url = jar:file:/opt/spark/jars/ivy-2.5.1.jar!/org/apache/ivy/core/settings/ivysettings.xml\n"
     ]
    },
    {
     "name": "stderr",
     "output_type": "stream",
     "text": [
      "\tfound org.apache.hudi#hudi-spark3.5-bundle_2.12;0.15.0 in central\n",
      "\tfound org.apache.hive#hive-storage-api;2.8.1 in central\n",
      "\tfound org.slf4j#slf4j-api;1.7.36 in central\n",
      ":: resolution report :: resolve 125ms :: artifacts dl 4ms\n",
      "\t:: modules in use:\n",
      "\torg.apache.hive#hive-storage-api;2.8.1 from central in [default]\n",
      "\torg.apache.hudi#hudi-spark3.5-bundle_2.12;0.15.0 from central in [default]\n",
      "\torg.slf4j#slf4j-api;1.7.36 from central in [default]\n",
      "\t---------------------------------------------------------------------\n",
      "\t|                  |            modules            ||   artifacts   |\n",
      "\t|       conf       | number| search|dwnlded|evicted|| number|dwnlded|\n",
      "\t---------------------------------------------------------------------\n",
      "\t|      default     |   3   |   0   |   0   |   0   ||   3   |   0   |\n",
      "\t---------------------------------------------------------------------\n",
      ":: retrieving :: org.apache.spark#spark-submit-parent-10384895-3c75-4a93-9e9e-74d5480c1301\n",
      "\tconfs: [default]\n",
      "\t0 artifacts copied, 3 already retrieved (0kB/4ms)\n",
      "25/01/14 17:23:59 WARN NativeCodeLoader: Unable to load native-hadoop library for your platform... using builtin-java classes where applicable\n",
      "Setting default log level to \"WARN\".\n",
      "To adjust logging level use sc.setLogLevel(newLevel). For SparkR, use setLogLevel(newLevel).\n",
      "25/01/14 17:24:00 WARN Utils: Service 'SparkUI' could not bind on port 4040. Attempting port 4041.\n"
     ]
    }
   ],
   "source": [
    "from pyspark.sql import SparkSession\n",
    "from pyspark.sql.functions import col, year, month, dayofmonth\n",
    "\n",
    "spark = (\n",
    "    SparkSession.builder\n",
    "    .master(\"local[*]\")\n",
    "    .appName(\"xtable-hudi-local-playground\")\n",
    "    .config(\"spark.jars.packages\", spark_jar_packages)\n",
    "\n",
    "    # Hudi Integration\n",
    "    .config(\"spark.serializer\", \"org.apache.spark.serializer.KryoSerializer\")\n",
    "    .config(\"spark.kryo.registrator\", \"org.apache.spark.HoodieSparkKryoRegistrar\")\n",
    "    .config(\"spark.sql.extensions\", \"org.apache.spark.sql.hudi.HoodieSparkSessionExtension\")\n",
    "    .config(\"spark.sql.catalog.spark_catalog\", \"org.apache.spark.sql.hudi.catalog.HoodieCatalog\")\n",
    "\n",
    "    # Local catalog\n",
    "    .config(\"spark.sql.catalog.local.type\", \"hadoop\")   # Use Hadoop catalog\n",
    "    .config(\"spark.sql.warehouse.dir\", LOCAL_WAREHOUSE_CATALOG)   # Path to store metadata\n",
    "    \n",
    "    .getOrCreate()\n",
    ")"
   ]
  },
  {
   "cell_type": "code",
   "execution_count": 7,
   "id": "5e6bcd4f-19b4-4278-bcd0-941a8dd02eaf",
   "metadata": {
    "execution": {
     "iopub.execute_input": "2025-01-14T20:24:22.755421Z",
     "iopub.status.busy": "2025-01-14T20:24:22.755185Z",
     "iopub.status.idle": "2025-01-14T20:24:22.899382Z",
     "shell.execute_reply": "2025-01-14T20:24:22.899072Z",
     "shell.execute_reply.started": "2025-01-14T20:24:22.755406Z"
    }
   },
   "outputs": [],
   "source": [
    "import random\n",
    "from faker import Faker\n",
    "\n",
    "def generate_entry(faker: Faker, country_codes: list):\n",
    "    return {\n",
    "        \"id\": faker.unique.uuid4(),\n",
    "        \"name\":  faker.name(),\n",
    "        \"email\": faker.email(),\n",
    "        \"passport\": faker.passport_number(),\n",
    "        \"country_code\": random.choice(country_codes),\n",
    "        \"iban\": faker.iban(),\n",
    "        \"swift\": faker.swift11(),\n",
    "        \"created_at\": faker.past_date(start_date='-90d').strftime('%Y-%m-%d')\n",
    "    }"
   ]
  },
  {
   "cell_type": "code",
   "execution_count": 8,
   "id": "f77d3932-498b-4246-9d17-fd77122fa75c",
   "metadata": {
    "execution": {
     "iopub.execute_input": "2025-01-14T20:24:22.956863Z",
     "iopub.status.busy": "2025-01-14T20:24:22.956667Z",
     "iopub.status.idle": "2025-01-14T20:24:22.959224Z",
     "shell.execute_reply": "2025-01-14T20:24:22.958947Z",
     "shell.execute_reply.started": "2025-01-14T20:24:22.956850Z"
    }
   },
   "outputs": [],
   "source": [
    "def generate_dataset(num: int, seed: int):\n",
    "    country_codes = ['US', 'CA', 'JP', 'KR', 'FR', 'GE', 'UK', 'BR', 'AR']\n",
    "    Faker.seed(seed)\n",
    "    faker = Faker()\n",
    "    return [generate_entry(faker, country_codes) for _ in range(num)]"
   ]
  },
  {
   "cell_type": "code",
   "execution_count": 9,
   "id": "d45f38e8-069c-4407-9da3-e76752dfa736",
   "metadata": {
    "execution": {
     "iopub.execute_input": "2025-01-14T20:24:23.113565Z",
     "iopub.status.busy": "2025-01-14T20:24:23.113367Z",
     "iopub.status.idle": "2025-01-14T20:24:23.159184Z",
     "shell.execute_reply": "2025-01-14T20:24:23.158858Z",
     "shell.execute_reply.started": "2025-01-14T20:24:23.113550Z"
    }
   },
   "outputs": [],
   "source": [
    "dataset = generate_dataset(num=100, seed=739)"
   ]
  },
  {
   "cell_type": "code",
   "execution_count": 10,
   "id": "78990aa2-fa3c-49f9-a104-1b5b09e0a53f",
   "metadata": {
    "execution": {
     "iopub.execute_input": "2025-01-14T20:24:23.272963Z",
     "iopub.status.busy": "2025-01-14T20:24:23.272518Z",
     "iopub.status.idle": "2025-01-14T20:24:23.618950Z",
     "shell.execute_reply": "2025-01-14T20:24:23.618377Z",
     "shell.execute_reply.started": "2025-01-14T20:24:23.272945Z"
    }
   },
   "outputs": [],
   "source": [
    "df = spark.createDataFrame(dataset)\\\n",
    "        .withColumn(\"year\", year(col(\"created_at\")))\\\n",
    "        .withColumn(\"month\", month(col(\"created_at\")))\\\n",
    "        .withColumn(\"day\", dayofmonth(col(\"created_at\")))"
   ]
  },
  {
   "cell_type": "code",
   "execution_count": 11,
   "id": "bc05fb05-a57b-47a2-b258-011e51cd268a",
   "metadata": {
    "execution": {
     "iopub.execute_input": "2025-01-14T20:24:24.419916Z",
     "iopub.status.busy": "2025-01-14T20:24:24.419646Z",
     "iopub.status.idle": "2025-01-14T20:24:25.906935Z",
     "shell.execute_reply": "2025-01-14T20:24:25.906564Z",
     "shell.execute_reply.started": "2025-01-14T20:24:24.419901Z"
    }
   },
   "outputs": [
    {
     "name": "stderr",
     "output_type": "stream",
     "text": [
      "                                                                                "
     ]
    },
    {
     "data": {
      "text/plain": [
       "100"
      ]
     },
     "execution_count": 11,
     "metadata": {},
     "output_type": "execute_result"
    }
   ],
   "source": [
    "df.count()"
   ]
  },
  {
   "cell_type": "code",
   "execution_count": 18,
   "id": "bbaed7e9-b4d2-4e8f-88d2-079d86306e4a",
   "metadata": {
    "execution": {
     "iopub.execute_input": "2025-01-14T20:25:30.640224Z",
     "iopub.status.busy": "2025-01-14T20:25:30.639815Z",
     "iopub.status.idle": "2025-01-14T20:25:30.651175Z",
     "shell.execute_reply": "2025-01-14T20:25:30.650712Z",
     "shell.execute_reply.started": "2025-01-14T20:25:30.640207Z"
    }
   },
   "outputs": [
    {
     "data": {
      "text/plain": [
       "DataFrame[]"
      ]
     },
     "execution_count": 18,
     "metadata": {},
     "output_type": "execute_result"
    }
   ],
   "source": [
    "spark.sql(\"\"\"\n",
    "    CREATE DATABASE IF NOT EXISTS hudi;\n",
    "\"\"\")"
   ]
  },
  {
   "cell_type": "code",
   "execution_count": 5,
   "id": "32425324-5cee-4c5a-9ae2-8b1bbcf76b68",
   "metadata": {
    "execution": {
     "iopub.execute_input": "2025-01-14T20:24:06.263948Z",
     "iopub.status.busy": "2025-01-14T20:24:06.263816Z",
     "iopub.status.idle": "2025-01-14T20:24:06.265794Z",
     "shell.execute_reply": "2025-01-14T20:24:06.265525Z",
     "shell.execute_reply.started": "2025-01-14T20:24:06.263936Z"
    }
   },
   "outputs": [
    {
     "name": "stderr",
     "output_type": "stream",
     "text": [
      "25/01/14 17:24:16 WARN GarbageCollectionMetrics: To enable non-built-in garbage collector(s) List(G1 Concurrent GC), users should configure it(them) to spark.eventLog.gcMetrics.youngGenerationGarbageCollectors or spark.eventLog.gcMetrics.oldGenerationGarbageCollectors\n"
     ]
    }
   ],
   "source": [
    "HUDI_FOLDER_PATH = \"file:///home/baptvit/Documents/github/lakehouse-labs/xtable/warehouse/hudi.db/accounts\""
   ]
  },
  {
   "cell_type": "code",
   "execution_count": null,
   "id": "5f234f00-fd95-480b-9f59-1031b46595a4",
   "metadata": {},
   "outputs": [],
   "source": [
    "df.write.format(\"hudi\") \\\n",
    "    .option(\"hoodie.database.name\", \"hudi\") \\\n",
    "    .option(\"hoodie.table.name\", \"accounts\") \\\n",
    "    .option(\"hoodie.datasource.write.recordkey.field\", \"id\") \\\n",
    "    .option(\"hoodie.datasource.write.precombine.field\", \"created_at\") \\\n",
    "    .option(\"hoodie.datasource.write.table.type\", \"COPY_ON_WRITE\") \\\n",
    "    .option(\"hoodie.datasource.write.operation\", \"upsert\") \\\n",
    "    .option(\"hoodie.datasource.hive_sync.partition_fields\", \"year\") \\\n",
    "    .option(\"hoodie.datasource.hive_sync.partition_extractor_class\", \"org.apache.hudi.hive.MultiPartKeysValueExtractor\") \\\n",
    "    .option(\"hoodie.datasource.write.hive_style_partitioning\",\"true\") \\\n",
    "    .partitionBy(\"year\") \\\n",
    "    .mode(\"append\") \\\n",
    "    .save(HUDI_FOLDER_PATH) ## hudi needs the base full path"
   ]
  },
  {
   "cell_type": "markdown",
   "id": "8bda1b42-9a79-4993-bbf7-046e04afb5bf",
   "metadata": {
    "execution": {
     "iopub.execute_input": "2025-01-14T19:13:44.496010Z",
     "iopub.status.busy": "2025-01-14T19:13:44.495687Z",
     "iopub.status.idle": "2025-01-14T19:13:44.498265Z",
     "shell.execute_reply": "2025-01-14T19:13:44.497596Z",
     "shell.execute_reply.started": "2025-01-14T19:13:44.495995Z"
    },
    "jp-MarkdownHeadingCollapsed": true
   },
   "source": [
    "## Creating yaml config"
   ]
  },
  {
   "cell_type": "code",
   "execution_count": null,
   "id": "b8590cac-2f98-41a5-a24f-62b62f54caaf",
   "metadata": {},
   "outputs": [],
   "source": [
    "import yaml\n",
    "\n",
    "# Define the YAML structure as a Python dictionary\n",
    "config = {\n",
    "    \"sourceFormat\": \"HUDI\",\n",
    "    \"targetFormats\": [\"DELTA\", \"ICEBERG\"],\n",
    "    \"datasets\": [\n",
    "        {\n",
    "            \"tableBasePath\": HUDI_FOLDER_PATH,\n",
    "            \"tableName\": \"accounts\",\n",
    "            \"partitionSpec\": \"year:VALUE\"\n",
    "        }\n",
    "    ]\n",
    "}\n",
    "\n",
    "# Write the YAML file\n",
    "with open(\"./manifests/config.yml\", \"w\") as yaml_file:\n",
    "    yaml.dump(config, yaml_file, default_flow_style=False)\n",
    "\n",
    "print(\"YAML file created successfully!\")"
   ]
  },
  {
   "cell_type": "markdown",
   "id": "e18fc47d-f324-4e32-b292-1e350be1fd03",
   "metadata": {
    "jp-MarkdownHeadingCollapsed": true
   },
   "source": [
    "## Convering to Delta and Iceberg"
   ]
  },
  {
   "cell_type": "code",
   "execution_count": null,
   "id": "8c0ee33c-2523-4bb1-be8a-632777ab12c2",
   "metadata": {
    "scrolled": true
   },
   "outputs": [],
   "source": [
    "!/usr/lib/jvm/java-11-openjdk-amd64/bin/java -jar /home/baptvit/Documents/github/lakehouse-labs/xtable/incubator-xtable/xtable-utilities/target/xtable-utilities_2.12-0.2.0-SNAPSHOT-bundled.jar --datasetConfig ./manifests/config.yml"
   ]
  },
  {
   "cell_type": "markdown",
   "id": "b0b6ec38-ba6d-48aa-96bb-941d121474c0",
   "metadata": {
    "jp-MarkdownHeadingCollapsed": true
   },
   "source": [
    "## Read as Delta and Iceberg"
   ]
  },
  {
   "cell_type": "markdown",
   "id": "b26de025-176f-489c-b183-bce724a5233a",
   "metadata": {},
   "source": [
    "### Read as delta table"
   ]
  },
  {
   "cell_type": "code",
   "execution_count": null,
   "id": "f2d252f3-26fd-45ec-a736-1e07e439327e",
   "metadata": {},
   "outputs": [],
   "source": [
    "from deltalake import DeltaTable\n",
    "\n",
    "delta_table_path = HUDI_FOLDER_PATH\n",
    "\n",
    "delta_table = DeltaTable(delta_table_path)\n",
    "\n",
    "df = delta_table.to_pandas()\n",
    "\n",
    "print(df.shape)\n",
    "\n",
    "df.head()"
   ]
  },
  {
   "cell_type": "markdown",
   "id": "00999805-b970-4081-a5fd-618a9dc9e8d4",
   "metadata": {},
   "source": [
    "### Read as Iceberg table"
   ]
  },
  {
   "cell_type": "markdown",
   "id": "a8bb4941-37a7-46c2-8a11-b1395e414fac",
   "metadata": {},
   "source": [
    "TODO: (Reference)[https://iceberg.apache.org/docs/1.7.1/daft/] setup with minion"
   ]
  },
  {
   "cell_type": "markdown",
   "id": "9f0d0a5b-c488-41d9-a2b9-6b9ebf25ad8f",
   "metadata": {
    "execution": {
     "iopub.execute_input": "2025-01-14T19:53:25.884190Z",
     "iopub.status.busy": "2025-01-14T19:53:25.883825Z",
     "iopub.status.idle": "2025-01-14T19:53:25.886870Z",
     "shell.execute_reply": "2025-01-14T19:53:25.886449Z",
     "shell.execute_reply.started": "2025-01-14T19:53:25.884176Z"
    }
   },
   "source": [
    "Need create a data catalog"
   ]
  },
  {
   "cell_type": "code",
   "execution_count": null,
   "id": "254721a1-1f2b-4dd6-bc1e-c4e178123283",
   "metadata": {},
   "outputs": [],
   "source": [
    "import polars as pl\n",
    "\n",
    "table_path = HUDI_FOLDER_PATH + \"/metadata/v2.metadata.json\"\n",
    "pd_lz = pl.scan_iceberg(table_path)"
   ]
  },
  {
   "cell_type": "code",
   "execution_count": null,
   "id": "b51623e7-ecdd-46a7-b03f-114f9da2dc57",
   "metadata": {},
   "outputs": [],
   "source": [
    "pd_lz.count().collect()"
   ]
  },
  {
   "cell_type": "code",
   "execution_count": null,
   "id": "5ed2ff41-cfa4-48f5-8b77-8a692b9909f5",
   "metadata": {},
   "outputs": [],
   "source": [
    "pd_lz.head().collect()"
   ]
  },
  {
   "cell_type": "markdown",
   "id": "ea63de8f-e42b-4f74-9e9d-75c3c9d5f716",
   "metadata": {
    "jp-MarkdownHeadingCollapsed": true
   },
   "source": [
    "## Updating the HUDI Table"
   ]
  },
  {
   "cell_type": "markdown",
   "id": "9dd36ddb-a3ec-42b7-ab0b-c49dfcde9f5b",
   "metadata": {},
   "source": [
    "### Upsert Dataset\n",
    "\n",
    "Editing 4 records and adding new 4 records"
   ]
  },
  {
   "cell_type": "code",
   "execution_count": 12,
   "id": "3ae4cdba-97e2-4d46-99ca-2eebc0cdc777",
   "metadata": {
    "execution": {
     "iopub.execute_input": "2025-01-14T20:24:28.922937Z",
     "iopub.status.busy": "2025-01-14T20:24:28.922526Z",
     "iopub.status.idle": "2025-01-14T20:24:28.931471Z",
     "shell.execute_reply": "2025-01-14T20:24:28.931184Z",
     "shell.execute_reply.started": "2025-01-14T20:24:28.922900Z"
    }
   },
   "outputs": [],
   "source": [
    "entries = [\n",
    "    # Existing entries\n",
    "    dataset[2], \n",
    "    dataset[4], \n",
    "    dataset[7],\n",
    "    dataset[11],\n",
    "    # New entries\n",
    "    *generate_dataset(4, seed=1037)\n",
    "]"
   ]
  },
  {
   "cell_type": "code",
   "execution_count": 13,
   "id": "1a7787f3-7098-4e61-86a2-f11af94241f9",
   "metadata": {
    "execution": {
     "iopub.execute_input": "2025-01-14T20:24:29.909999Z",
     "iopub.status.busy": "2025-01-14T20:24:29.909676Z",
     "iopub.status.idle": "2025-01-14T20:24:29.912089Z",
     "shell.execute_reply": "2025-01-14T20:24:29.911829Z",
     "shell.execute_reply.started": "2025-01-14T20:24:29.909986Z"
    }
   },
   "outputs": [],
   "source": [
    "for entry in entries:\n",
    "    username = entry['name'].lower().replace(\" \", \".\")\n",
    "    entry['email'] = f\"{username}@domain.com\""
   ]
  },
  {
   "cell_type": "code",
   "execution_count": 14,
   "id": "c78b4ea2-4308-41d5-8259-a86cb0b0aaae",
   "metadata": {
    "execution": {
     "iopub.execute_input": "2025-01-14T20:24:30.225248Z",
     "iopub.status.busy": "2025-01-14T20:24:30.224872Z",
     "iopub.status.idle": "2025-01-14T20:24:30.271860Z",
     "shell.execute_reply": "2025-01-14T20:24:30.271411Z",
     "shell.execute_reply.started": "2025-01-14T20:24:30.225221Z"
    }
   },
   "outputs": [],
   "source": [
    "upsert_df = spark.createDataFrame(entries)\\\n",
    "        .withColumn(\"year\", year(col(\"created_at\")))\\\n",
    "        .withColumn(\"month\", month(col(\"created_at\")))\\\n",
    "        .withColumn(\"day\", dayofmonth(col(\"created_at\")))"
   ]
  },
  {
   "cell_type": "code",
   "execution_count": 15,
   "id": "974e6e1d-8166-47f1-ab63-cb4d802cb22c",
   "metadata": {
    "execution": {
     "iopub.execute_input": "2025-01-14T20:24:30.765035Z",
     "iopub.status.busy": "2025-01-14T20:24:30.764567Z",
     "iopub.status.idle": "2025-01-14T20:24:31.843629Z",
     "shell.execute_reply": "2025-01-14T20:24:31.843142Z",
     "shell.execute_reply.started": "2025-01-14T20:24:30.765018Z"
    }
   },
   "outputs": [
    {
     "name": "stdout",
     "output_type": "stream",
     "text": [
      "+------------+----------+---------------------------+----------------------+------------------------------------+----------------+---------+-----------+----+-----+---+\n",
      "|country_code|created_at|email                      |iban                  |id                                  |name            |passport |swift      |year|month|day|\n",
      "+------------+----------+---------------------------+----------------------+------------------------------------+----------------+---------+-----------+----+-----+---+\n",
      "|US          |2024-12-16|ann.cruz@domain.com        |GB55LFTZ50027083194346|b7e33adb-9bfe-465f-a533-1d57f8d9c9f6|Ann Cruz        |T22953641|HMAQGBCSXE8|2024|12   |16 |\n",
      "|BR          |2024-12-10|cassidy.jones.md@domain.com|GB14AYNQ55188150393152|0daad7bc-25b6-4469-8a2f-2ba767f86791|Cassidy Jones MD|595954695|VTHYGBZMNOI|2024|12   |10 |\n",
      "|JP          |2024-12-11|kara.thomas@domain.com     |GB02LAAF80272115976869|4cbbf121-caae-42aa-8508-3fd99bb2f762|Kara Thomas     |661814813|DULPGBWLTDU|2024|12   |11 |\n",
      "|UK          |2025-01-10|joseph.arellano@domain.com |GB83QLKQ49955494203274|eda0dc3f-2296-4859-bdc7-b1c8aa84e5c6|Joseph Arellano |N43772821|VDYQGB92ZCM|2025|1    |10 |\n",
      "|KR          |2025-01-05|amber.gomez@domain.com     |GB14JAMN32652852396677|7e1d1d6c-ac3b-478c-b0a0-901515929588|Amber Gomez     |V40815604|OEDJGBV2XYE|2025|1    |5  |\n",
      "|JP          |2024-11-08|david.flynn@domain.com     |GB02WPAU75504619793222|3b07d43d-e15f-4825-9cee-a937fceaeb81|David Flynn     |481064071|MKYOGBA7ENY|2024|11   |8  |\n",
      "|AR          |2024-12-14|anthony.blair@domain.com   |GB63BUEB96211985511216|511d51ba-54be-4f6e-a824-5657fc1eda1b|Anthony Blair   |G42414114|UJRFGBB7P9V|2024|12   |14 |\n",
      "|UK          |2024-11-21|jennifer.lamb@domain.com   |GB77NEUS86176381267948|52c2ae7c-6107-4095-98dc-7d797ebf2b05|Jennifer Lamb   |283291701|DZQUGBI6R85|2024|11   |21 |\n",
      "+------------+----------+---------------------------+----------------------+------------------------------------+----------------+---------+-----------+----+-----+---+\n",
      "\n"
     ]
    }
   ],
   "source": [
    "upsert_df.show(8, truncate=False)"
   ]
  },
  {
   "cell_type": "code",
   "execution_count": 16,
   "id": "45041b28-eddf-44f3-974d-69a75524876c",
   "metadata": {
    "execution": {
     "iopub.execute_input": "2025-01-14T20:25:03.910020Z",
     "iopub.status.busy": "2025-01-14T20:25:03.909628Z",
     "iopub.status.idle": "2025-01-14T20:25:07.384486Z",
     "shell.execute_reply": "2025-01-14T20:25:07.384176Z",
     "shell.execute_reply.started": "2025-01-14T20:25:03.909999Z"
    }
   },
   "outputs": [
    {
     "name": "stderr",
     "output_type": "stream",
     "text": [
      "25/01/14 17:25:04 WARN DFSPropertiesConfiguration: Cannot find HUDI_CONF_DIR, please set it as the dir of hudi-defaults.conf\n",
      "25/01/14 17:25:04 WARN DFSPropertiesConfiguration: Properties file file:/etc/hudi/conf/hudi-defaults.conf not found. Ignoring to load props file\n"
     ]
    },
    {
     "name": "stdout",
     "output_type": "stream",
     "text": [
      "# WARNING: Unable to get Instrumentation. Dynamic Attach failed. You may add this JAR as -javaagent manually, or supply -Djdk.attach.allowAttachSelf\n",
      "# WARNING: Unable to attach Serviceability Agent. Unable to attach even with module exceptions: [org.apache.hudi.org.openjdk.jol.vm.sa.SASupportException: Sense failed., org.apache.hudi.org.openjdk.jol.vm.sa.SASupportException: Sense failed., org.apache.hudi.org.openjdk.jol.vm.sa.SASupportException: Sense failed.]\n"
     ]
    },
    {
     "name": "stderr",
     "output_type": "stream",
     "text": [
      "25/01/14 17:25:05 WARN MetricsConfig: Cannot locate configuration: tried hadoop-metrics2-hbase.properties,hadoop-metrics2.properties\n",
      "25/01/14 17:25:07 WARN HoodieSparkSqlWriterInternal: Closing write client       \n"
     ]
    }
   ],
   "source": [
    "upsert_df.write.format(\"hudi\") \\\n",
    "    .option(\"hoodie.database.name\", \"hudi\") \\\n",
    "    .option(\"hoodie.table.name\", \"accounts\") \\\n",
    "    .option(\"hoodie.datasource.write.recordkey.field\", \"id\") \\\n",
    "    .option(\"hoodie.datasource.write.precombine.field\", \"created_at\") \\\n",
    "    .option(\"hoodie.datasource.write.table.type\", \"COPY_ON_WRITE\") \\\n",
    "    .option(\"hoodie.datasource.write.operation\", \"upsert\") \\\n",
    "    .option(\"hoodie.datasource.hive_sync.partition_fields\", \"year\") \\\n",
    "    .option(\"hoodie.datasource.hive_sync.partition_extractor_class\", \"org.apache.hudi.hive.MultiPartKeysValueExtractor\") \\\n",
    "    .option(\"hoodie.datasource.write.hive_style_partitioning\",\"true\") \\\n",
    "    .partitionBy(\"year\") \\\n",
    "    .mode(\"append\") \\\n",
    "    .save(HUDI_FOLDER_PATH) ## hudi needs the base full path"
   ]
  },
  {
   "cell_type": "code",
   "execution_count": 21,
   "id": "ee1d59bf-d277-4ab9-ac3e-716b6049fc7c",
   "metadata": {
    "execution": {
     "iopub.execute_input": "2025-01-14T20:25:50.239913Z",
     "iopub.status.busy": "2025-01-14T20:25:50.239396Z",
     "iopub.status.idle": "2025-01-14T20:25:50.335443Z",
     "shell.execute_reply": "2025-01-14T20:25:50.335135Z",
     "shell.execute_reply.started": "2025-01-14T20:25:50.239891Z"
    }
   },
   "outputs": [
    {
     "data": {
      "text/plain": [
       "DataFrame[]"
      ]
     },
     "execution_count": 21,
     "metadata": {},
     "output_type": "execute_result"
    }
   ],
   "source": [
    "spark.sql(\n",
    "    f\"\"\"\n",
    "    CREATE TABLE IF NOT EXISTS hudi.accounts\n",
    "        USING hudi\n",
    "        OPTIONS (\n",
    "          path = '{HUDI_FOLDER_PATH}'\n",
    "        );\n",
    "    \"\"\"\n",
    ")"
   ]
  },
  {
   "cell_type": "code",
   "execution_count": 22,
   "id": "7c5a6a9a-ec25-488d-a716-953303d0aa70",
   "metadata": {
    "execution": {
     "iopub.execute_input": "2025-01-14T20:25:53.679657Z",
     "iopub.status.busy": "2025-01-14T20:25:53.679350Z",
     "iopub.status.idle": "2025-01-14T20:25:53.743834Z",
     "shell.execute_reply": "2025-01-14T20:25:53.743421Z",
     "shell.execute_reply.started": "2025-01-14T20:25:53.679643Z"
    }
   },
   "outputs": [
    {
     "name": "stdout",
     "output_type": "stream",
     "text": [
      "-RECORD 0-----------------------------------------\n",
      " commit_time                  | 20250114172504047 \n",
      " state_transition_time        | 20250114172507314 \n",
      " action                       | commit            \n",
      " total_bytes_written          | 885548            \n",
      " total_files_added            | 0                 \n",
      " total_files_updated          | 2                 \n",
      " total_partitions_written     | 2                 \n",
      " total_records_written        | 104               \n",
      " total_update_records_written | 4                 \n",
      " total_errors                 | 0                 \n",
      "-RECORD 1-----------------------------------------\n",
      " commit_time                  | 20250114162008677 \n",
      " state_transition_time        | 20250114162011988 \n",
      " action                       | commit            \n",
      " total_bytes_written          | 885144            \n",
      " total_files_added            | 2                 \n",
      " total_files_updated          | 0                 \n",
      " total_partitions_written     | 2                 \n",
      " total_records_written        | 100               \n",
      " total_update_records_written | 0                 \n",
      " total_errors                 | 0                 \n",
      "\n"
     ]
    }
   ],
   "source": [
    "spark.sql(\"\"\"\n",
    "    call show_commits (\n",
    "        table => 'hudi.accounts',\n",
    "        from_commit => '2'\n",
    "    )    \n",
    "\"\"\").show(vertical=True, truncate=False)"
   ]
  },
  {
   "cell_type": "markdown",
   "id": "4538c09c-b5e9-4de3-a36b-e9b16f6f56b1",
   "metadata": {
    "jp-MarkdownHeadingCollapsed": true
   },
   "source": [
    "## Read as Delta and Iceberg without sync"
   ]
  },
  {
   "cell_type": "markdown",
   "id": "dfe91240-eb7c-4600-84f8-394b9243bfa7",
   "metadata": {},
   "source": [
    "### Read as delta table"
   ]
  },
  {
   "cell_type": "code",
   "execution_count": 23,
   "id": "518139ad-237f-424e-9390-35aba6391732",
   "metadata": {
    "execution": {
     "iopub.execute_input": "2025-01-14T20:26:57.355316Z",
     "iopub.status.busy": "2025-01-14T20:26:57.355103Z",
     "iopub.status.idle": "2025-01-14T20:26:57.396818Z",
     "shell.execute_reply": "2025-01-14T20:26:57.396531Z",
     "shell.execute_reply.started": "2025-01-14T20:26:57.355300Z"
    }
   },
   "outputs": [
    {
     "name": "stdout",
     "output_type": "stream",
     "text": [
      "(100, 16)\n"
     ]
    },
    {
     "data": {
      "text/html": [
       "<div>\n",
       "<style scoped>\n",
       "    .dataframe tbody tr th:only-of-type {\n",
       "        vertical-align: middle;\n",
       "    }\n",
       "\n",
       "    .dataframe tbody tr th {\n",
       "        vertical-align: top;\n",
       "    }\n",
       "\n",
       "    .dataframe thead th {\n",
       "        text-align: right;\n",
       "    }\n",
       "</style>\n",
       "<table border=\"1\" class=\"dataframe\">\n",
       "  <thead>\n",
       "    <tr style=\"text-align: right;\">\n",
       "      <th></th>\n",
       "      <th>_hoodie_commit_time</th>\n",
       "      <th>_hoodie_commit_seqno</th>\n",
       "      <th>_hoodie_record_key</th>\n",
       "      <th>_hoodie_partition_path</th>\n",
       "      <th>_hoodie_file_name</th>\n",
       "      <th>country_code</th>\n",
       "      <th>created_at</th>\n",
       "      <th>email</th>\n",
       "      <th>iban</th>\n",
       "      <th>id</th>\n",
       "      <th>name</th>\n",
       "      <th>passport</th>\n",
       "      <th>swift</th>\n",
       "      <th>year</th>\n",
       "      <th>month</th>\n",
       "      <th>day</th>\n",
       "    </tr>\n",
       "  </thead>\n",
       "  <tbody>\n",
       "    <tr>\n",
       "      <th>0</th>\n",
       "      <td>20250114162008677</td>\n",
       "      <td>20250114162008677_1_0</td>\n",
       "      <td>8da2d590-9035-4f97-9064-e4508ffc47d6</td>\n",
       "      <td>year=2024</td>\n",
       "      <td>2744bc50-8dfa-42fa-b547-da83e2f96038-0_1-26-14...</td>\n",
       "      <td>JP</td>\n",
       "      <td>2024-12-10</td>\n",
       "      <td>cgarcia@example.org</td>\n",
       "      <td>GB56KBQA28505176292677</td>\n",
       "      <td>8da2d590-9035-4f97-9064-e4508ffc47d6</td>\n",
       "      <td>John Morris</td>\n",
       "      <td>G04565275</td>\n",
       "      <td>ENVXGBFG8LH</td>\n",
       "      <td>2024</td>\n",
       "      <td>12</td>\n",
       "      <td>10</td>\n",
       "    </tr>\n",
       "    <tr>\n",
       "      <th>1</th>\n",
       "      <td>20250114162008677</td>\n",
       "      <td>20250114162008677_1_1</td>\n",
       "      <td>ee99b01d-ee7e-45b6-ae7d-954a4fc810fa</td>\n",
       "      <td>year=2024</td>\n",
       "      <td>2744bc50-8dfa-42fa-b547-da83e2f96038-0_1-26-14...</td>\n",
       "      <td>CA</td>\n",
       "      <td>2024-12-03</td>\n",
       "      <td>heathstephanie@example.net</td>\n",
       "      <td>GB06KGXT72498366139972</td>\n",
       "      <td>ee99b01d-ee7e-45b6-ae7d-954a4fc810fa</td>\n",
       "      <td>Lisa Krueger</td>\n",
       "      <td>W64138100</td>\n",
       "      <td>WZHEGB02AH6</td>\n",
       "      <td>2024</td>\n",
       "      <td>12</td>\n",
       "      <td>3</td>\n",
       "    </tr>\n",
       "    <tr>\n",
       "      <th>2</th>\n",
       "      <td>20250114162008677</td>\n",
       "      <td>20250114162008677_1_2</td>\n",
       "      <td>d8797d55-a4cd-4354-a7ae-f7454a82bde8</td>\n",
       "      <td>year=2024</td>\n",
       "      <td>2744bc50-8dfa-42fa-b547-da83e2f96038-0_1-26-14...</td>\n",
       "      <td>AR</td>\n",
       "      <td>2024-10-28</td>\n",
       "      <td>mwinters@example.com</td>\n",
       "      <td>GB30DUBO07081102663473</td>\n",
       "      <td>d8797d55-a4cd-4354-a7ae-f7454a82bde8</td>\n",
       "      <td>Lisa Murray</td>\n",
       "      <td>A07022327</td>\n",
       "      <td>GXWXGBLYODL</td>\n",
       "      <td>2024</td>\n",
       "      <td>10</td>\n",
       "      <td>28</td>\n",
       "    </tr>\n",
       "    <tr>\n",
       "      <th>3</th>\n",
       "      <td>20250114162008677</td>\n",
       "      <td>20250114162008677_1_3</td>\n",
       "      <td>019aea9a-35bf-4a7c-be65-a783924affd0</td>\n",
       "      <td>year=2024</td>\n",
       "      <td>2744bc50-8dfa-42fa-b547-da83e2f96038-0_1-26-14...</td>\n",
       "      <td>UK</td>\n",
       "      <td>2024-11-10</td>\n",
       "      <td>robertlynch@example.com</td>\n",
       "      <td>GB72XSCN85943044334322</td>\n",
       "      <td>019aea9a-35bf-4a7c-be65-a783924affd0</td>\n",
       "      <td>Christine Crawford</td>\n",
       "      <td>G48667446</td>\n",
       "      <td>YWABGB5TK1G</td>\n",
       "      <td>2024</td>\n",
       "      <td>11</td>\n",
       "      <td>10</td>\n",
       "    </tr>\n",
       "    <tr>\n",
       "      <th>4</th>\n",
       "      <td>20250114162008677</td>\n",
       "      <td>20250114162008677_1_4</td>\n",
       "      <td>757daf25-ddd6-410d-874b-f13836813553</td>\n",
       "      <td>year=2024</td>\n",
       "      <td>2744bc50-8dfa-42fa-b547-da83e2f96038-0_1-26-14...</td>\n",
       "      <td>UK</td>\n",
       "      <td>2024-12-28</td>\n",
       "      <td>seanhenderson@example.org</td>\n",
       "      <td>GB96HUZF24175067188304</td>\n",
       "      <td>757daf25-ddd6-410d-874b-f13836813553</td>\n",
       "      <td>Sherri Hickman</td>\n",
       "      <td>529955944</td>\n",
       "      <td>OXTEGBB860C</td>\n",
       "      <td>2024</td>\n",
       "      <td>12</td>\n",
       "      <td>28</td>\n",
       "    </tr>\n",
       "  </tbody>\n",
       "</table>\n",
       "</div>"
      ],
      "text/plain": [
       "  _hoodie_commit_time   _hoodie_commit_seqno  \\\n",
       "0   20250114162008677  20250114162008677_1_0   \n",
       "1   20250114162008677  20250114162008677_1_1   \n",
       "2   20250114162008677  20250114162008677_1_2   \n",
       "3   20250114162008677  20250114162008677_1_3   \n",
       "4   20250114162008677  20250114162008677_1_4   \n",
       "\n",
       "                     _hoodie_record_key _hoodie_partition_path  \\\n",
       "0  8da2d590-9035-4f97-9064-e4508ffc47d6              year=2024   \n",
       "1  ee99b01d-ee7e-45b6-ae7d-954a4fc810fa              year=2024   \n",
       "2  d8797d55-a4cd-4354-a7ae-f7454a82bde8              year=2024   \n",
       "3  019aea9a-35bf-4a7c-be65-a783924affd0              year=2024   \n",
       "4  757daf25-ddd6-410d-874b-f13836813553              year=2024   \n",
       "\n",
       "                                   _hoodie_file_name country_code  created_at  \\\n",
       "0  2744bc50-8dfa-42fa-b547-da83e2f96038-0_1-26-14...           JP  2024-12-10   \n",
       "1  2744bc50-8dfa-42fa-b547-da83e2f96038-0_1-26-14...           CA  2024-12-03   \n",
       "2  2744bc50-8dfa-42fa-b547-da83e2f96038-0_1-26-14...           AR  2024-10-28   \n",
       "3  2744bc50-8dfa-42fa-b547-da83e2f96038-0_1-26-14...           UK  2024-11-10   \n",
       "4  2744bc50-8dfa-42fa-b547-da83e2f96038-0_1-26-14...           UK  2024-12-28   \n",
       "\n",
       "                        email                    iban  \\\n",
       "0         cgarcia@example.org  GB56KBQA28505176292677   \n",
       "1  heathstephanie@example.net  GB06KGXT72498366139972   \n",
       "2        mwinters@example.com  GB30DUBO07081102663473   \n",
       "3     robertlynch@example.com  GB72XSCN85943044334322   \n",
       "4   seanhenderson@example.org  GB96HUZF24175067188304   \n",
       "\n",
       "                                     id                name   passport  \\\n",
       "0  8da2d590-9035-4f97-9064-e4508ffc47d6         John Morris  G04565275   \n",
       "1  ee99b01d-ee7e-45b6-ae7d-954a4fc810fa        Lisa Krueger  W64138100   \n",
       "2  d8797d55-a4cd-4354-a7ae-f7454a82bde8         Lisa Murray  A07022327   \n",
       "3  019aea9a-35bf-4a7c-be65-a783924affd0  Christine Crawford  G48667446   \n",
       "4  757daf25-ddd6-410d-874b-f13836813553      Sherri Hickman  529955944   \n",
       "\n",
       "         swift  year  month  day  \n",
       "0  ENVXGBFG8LH  2024     12   10  \n",
       "1  WZHEGB02AH6  2024     12    3  \n",
       "2  GXWXGBLYODL  2024     10   28  \n",
       "3  YWABGB5TK1G  2024     11   10  \n",
       "4  OXTEGBB860C  2024     12   28  "
      ]
     },
     "execution_count": 23,
     "metadata": {},
     "output_type": "execute_result"
    }
   ],
   "source": [
    "from deltalake import DeltaTable\n",
    "\n",
    "delta_table_path = HUDI_FOLDER_PATH\n",
    "\n",
    "delta_table = DeltaTable(delta_table_path)\n",
    "\n",
    "df = delta_table.to_pandas()\n",
    "\n",
    "print(df.shape)\n",
    "\n",
    "df.head()"
   ]
  },
  {
   "cell_type": "markdown",
   "id": "5081ec55-0342-437a-b54f-c817f046eb68",
   "metadata": {
    "jp-MarkdownHeadingCollapsed": true
   },
   "source": [
    "### Read as Iceberg table"
   ]
  },
  {
   "cell_type": "code",
   "execution_count": 24,
   "id": "58741662-7a9e-4d8e-8f38-5d4f3c356d3e",
   "metadata": {
    "execution": {
     "iopub.execute_input": "2025-01-14T20:27:00.235106Z",
     "iopub.status.busy": "2025-01-14T20:27:00.234690Z",
     "iopub.status.idle": "2025-01-14T20:27:00.802946Z",
     "shell.execute_reply": "2025-01-14T20:27:00.802608Z",
     "shell.execute_reply.started": "2025-01-14T20:27:00.235087Z"
    }
   },
   "outputs": [],
   "source": [
    "import polars as pl\n",
    "\n",
    "table_path = HUDI_FOLDER_PATH + \"/metadata/v2.metadata.json\"\n",
    "pd_lz = pl.scan_iceberg(table_path)"
   ]
  },
  {
   "cell_type": "code",
   "execution_count": 25,
   "id": "9c886c18-2a4d-4161-93d0-d759a9d4d434",
   "metadata": {
    "execution": {
     "iopub.execute_input": "2025-01-14T20:27:02.193469Z",
     "iopub.status.busy": "2025-01-14T20:27:02.193138Z",
     "iopub.status.idle": "2025-01-14T20:27:02.212658Z",
     "shell.execute_reply": "2025-01-14T20:27:02.212327Z",
     "shell.execute_reply.started": "2025-01-14T20:27:02.193453Z"
    }
   },
   "outputs": [
    {
     "data": {
      "text/html": [
       "<div><style>\n",
       ".dataframe > thead > tr,\n",
       ".dataframe > tbody > tr {\n",
       "  text-align: right;\n",
       "  white-space: pre-wrap;\n",
       "}\n",
       "</style>\n",
       "<small>shape: (1, 16)</small><table border=\"1\" class=\"dataframe\"><thead><tr><th>_hoodie_commit_time</th><th>_hoodie_commit_seqno</th><th>_hoodie_record_key</th><th>_hoodie_partition_path</th><th>_hoodie_file_name</th><th>country_code</th><th>created_at</th><th>email</th><th>iban</th><th>id</th><th>name</th><th>passport</th><th>swift</th><th>year</th><th>month</th><th>day</th></tr><tr><td>u32</td><td>u32</td><td>u32</td><td>u32</td><td>u32</td><td>u32</td><td>u32</td><td>u32</td><td>u32</td><td>u32</td><td>u32</td><td>u32</td><td>u32</td><td>u32</td><td>u32</td><td>u32</td></tr></thead><tbody><tr><td>100</td><td>100</td><td>100</td><td>100</td><td>100</td><td>100</td><td>100</td><td>100</td><td>100</td><td>100</td><td>100</td><td>100</td><td>100</td><td>100</td><td>100</td><td>100</td></tr></tbody></table></div>"
      ],
      "text/plain": [
       "shape: (1, 16)\n",
       "┌────────────────┬────────────────┬───────────────┬───────────────┬───┬───────┬──────┬───────┬─────┐\n",
       "│ _hoodie_commit ┆ _hoodie_commit ┆ _hoodie_recor ┆ _hoodie_parti ┆ … ┆ swift ┆ year ┆ month ┆ day │\n",
       "│ _time          ┆ _seqno         ┆ d_key         ┆ tion_path     ┆   ┆ ---   ┆ ---  ┆ ---   ┆ --- │\n",
       "│ ---            ┆ ---            ┆ ---           ┆ ---           ┆   ┆ u32   ┆ u32  ┆ u32   ┆ u32 │\n",
       "│ u32            ┆ u32            ┆ u32           ┆ u32           ┆   ┆       ┆      ┆       ┆     │\n",
       "╞════════════════╪════════════════╪═══════════════╪═══════════════╪═══╪═══════╪══════╪═══════╪═════╡\n",
       "│ 100            ┆ 100            ┆ 100           ┆ 100           ┆ … ┆ 100   ┆ 100  ┆ 100   ┆ 100 │\n",
       "└────────────────┴────────────────┴───────────────┴───────────────┴───┴───────┴──────┴───────┴─────┘"
      ]
     },
     "execution_count": 25,
     "metadata": {},
     "output_type": "execute_result"
    }
   ],
   "source": [
    "pd_lz.count().collect()"
   ]
  },
  {
   "cell_type": "code",
   "execution_count": 26,
   "id": "2819275e-aa59-41bf-9d1d-15503ffc5b04",
   "metadata": {
    "execution": {
     "iopub.execute_input": "2025-01-14T20:27:02.350056Z",
     "iopub.status.busy": "2025-01-14T20:27:02.349503Z",
     "iopub.status.idle": "2025-01-14T20:27:02.364407Z",
     "shell.execute_reply": "2025-01-14T20:27:02.363761Z",
     "shell.execute_reply.started": "2025-01-14T20:27:02.350029Z"
    }
   },
   "outputs": [
    {
     "data": {
      "text/html": [
       "<div><style>\n",
       ".dataframe > thead > tr,\n",
       ".dataframe > tbody > tr {\n",
       "  text-align: right;\n",
       "  white-space: pre-wrap;\n",
       "}\n",
       "</style>\n",
       "<small>shape: (5, 16)</small><table border=\"1\" class=\"dataframe\"><thead><tr><th>_hoodie_commit_time</th><th>_hoodie_commit_seqno</th><th>_hoodie_record_key</th><th>_hoodie_partition_path</th><th>_hoodie_file_name</th><th>country_code</th><th>created_at</th><th>email</th><th>iban</th><th>id</th><th>name</th><th>passport</th><th>swift</th><th>year</th><th>month</th><th>day</th></tr><tr><td>str</td><td>str</td><td>str</td><td>str</td><td>str</td><td>str</td><td>str</td><td>str</td><td>str</td><td>str</td><td>str</td><td>str</td><td>str</td><td>i32</td><td>i32</td><td>i32</td></tr></thead><tbody><tr><td>&quot;20250114162008677&quot;</td><td>&quot;20250114162008677_1_0&quot;</td><td>&quot;8da2d590-9035-4f97-9064-e4508f…</td><td>&quot;year=2024&quot;</td><td>&quot;2744bc50-8dfa-42fa-b547-da83e2…</td><td>&quot;JP&quot;</td><td>&quot;2024-12-10&quot;</td><td>&quot;cgarcia@example.org&quot;</td><td>&quot;GB56KBQA28505176292677&quot;</td><td>&quot;8da2d590-9035-4f97-9064-e4508f…</td><td>&quot;John Morris&quot;</td><td>&quot;G04565275&quot;</td><td>&quot;ENVXGBFG8LH&quot;</td><td>2024</td><td>12</td><td>10</td></tr><tr><td>&quot;20250114162008677&quot;</td><td>&quot;20250114162008677_1_1&quot;</td><td>&quot;ee99b01d-ee7e-45b6-ae7d-954a4f…</td><td>&quot;year=2024&quot;</td><td>&quot;2744bc50-8dfa-42fa-b547-da83e2…</td><td>&quot;CA&quot;</td><td>&quot;2024-12-03&quot;</td><td>&quot;heathstephanie@example.net&quot;</td><td>&quot;GB06KGXT72498366139972&quot;</td><td>&quot;ee99b01d-ee7e-45b6-ae7d-954a4f…</td><td>&quot;Lisa Krueger&quot;</td><td>&quot;W64138100&quot;</td><td>&quot;WZHEGB02AH6&quot;</td><td>2024</td><td>12</td><td>3</td></tr><tr><td>&quot;20250114162008677&quot;</td><td>&quot;20250114162008677_1_2&quot;</td><td>&quot;d8797d55-a4cd-4354-a7ae-f7454a…</td><td>&quot;year=2024&quot;</td><td>&quot;2744bc50-8dfa-42fa-b547-da83e2…</td><td>&quot;AR&quot;</td><td>&quot;2024-10-28&quot;</td><td>&quot;mwinters@example.com&quot;</td><td>&quot;GB30DUBO07081102663473&quot;</td><td>&quot;d8797d55-a4cd-4354-a7ae-f7454a…</td><td>&quot;Lisa Murray&quot;</td><td>&quot;A07022327&quot;</td><td>&quot;GXWXGBLYODL&quot;</td><td>2024</td><td>10</td><td>28</td></tr><tr><td>&quot;20250114162008677&quot;</td><td>&quot;20250114162008677_1_3&quot;</td><td>&quot;019aea9a-35bf-4a7c-be65-a78392…</td><td>&quot;year=2024&quot;</td><td>&quot;2744bc50-8dfa-42fa-b547-da83e2…</td><td>&quot;UK&quot;</td><td>&quot;2024-11-10&quot;</td><td>&quot;robertlynch@example.com&quot;</td><td>&quot;GB72XSCN85943044334322&quot;</td><td>&quot;019aea9a-35bf-4a7c-be65-a78392…</td><td>&quot;Christine Crawford&quot;</td><td>&quot;G48667446&quot;</td><td>&quot;YWABGB5TK1G&quot;</td><td>2024</td><td>11</td><td>10</td></tr><tr><td>&quot;20250114162008677&quot;</td><td>&quot;20250114162008677_1_4&quot;</td><td>&quot;757daf25-ddd6-410d-874b-f13836…</td><td>&quot;year=2024&quot;</td><td>&quot;2744bc50-8dfa-42fa-b547-da83e2…</td><td>&quot;UK&quot;</td><td>&quot;2024-12-28&quot;</td><td>&quot;seanhenderson@example.org&quot;</td><td>&quot;GB96HUZF24175067188304&quot;</td><td>&quot;757daf25-ddd6-410d-874b-f13836…</td><td>&quot;Sherri Hickman&quot;</td><td>&quot;529955944&quot;</td><td>&quot;OXTEGBB860C&quot;</td><td>2024</td><td>12</td><td>28</td></tr></tbody></table></div>"
      ],
      "text/plain": [
       "shape: (5, 16)\n",
       "┌──────────────┬──────────────┬──────────────┬──────────────┬───┬─────────────┬──────┬───────┬─────┐\n",
       "│ _hoodie_comm ┆ _hoodie_comm ┆ _hoodie_reco ┆ _hoodie_part ┆ … ┆ swift       ┆ year ┆ month ┆ day │\n",
       "│ it_time      ┆ it_seqno     ┆ rd_key       ┆ ition_path   ┆   ┆ ---         ┆ ---  ┆ ---   ┆ --- │\n",
       "│ ---          ┆ ---          ┆ ---          ┆ ---          ┆   ┆ str         ┆ i32  ┆ i32   ┆ i32 │\n",
       "│ str          ┆ str          ┆ str          ┆ str          ┆   ┆             ┆      ┆       ┆     │\n",
       "╞══════════════╪══════════════╪══════════════╪══════════════╪═══╪═════════════╪══════╪═══════╪═════╡\n",
       "│ 202501141620 ┆ 202501141620 ┆ 8da2d590-903 ┆ year=2024    ┆ … ┆ ENVXGBFG8LH ┆ 2024 ┆ 12    ┆ 10  │\n",
       "│ 08677        ┆ 08677_1_0    ┆ 5-4f97-9064- ┆              ┆   ┆             ┆      ┆       ┆     │\n",
       "│              ┆              ┆ e4508f…      ┆              ┆   ┆             ┆      ┆       ┆     │\n",
       "│ 202501141620 ┆ 202501141620 ┆ ee99b01d-ee7 ┆ year=2024    ┆ … ┆ WZHEGB02AH6 ┆ 2024 ┆ 12    ┆ 3   │\n",
       "│ 08677        ┆ 08677_1_1    ┆ e-45b6-ae7d- ┆              ┆   ┆             ┆      ┆       ┆     │\n",
       "│              ┆              ┆ 954a4f…      ┆              ┆   ┆             ┆      ┆       ┆     │\n",
       "│ 202501141620 ┆ 202501141620 ┆ d8797d55-a4c ┆ year=2024    ┆ … ┆ GXWXGBLYODL ┆ 2024 ┆ 10    ┆ 28  │\n",
       "│ 08677        ┆ 08677_1_2    ┆ d-4354-a7ae- ┆              ┆   ┆             ┆      ┆       ┆     │\n",
       "│              ┆              ┆ f7454a…      ┆              ┆   ┆             ┆      ┆       ┆     │\n",
       "│ 202501141620 ┆ 202501141620 ┆ 019aea9a-35b ┆ year=2024    ┆ … ┆ YWABGB5TK1G ┆ 2024 ┆ 11    ┆ 10  │\n",
       "│ 08677        ┆ 08677_1_3    ┆ f-4a7c-be65- ┆              ┆   ┆             ┆      ┆       ┆     │\n",
       "│              ┆              ┆ a78392…      ┆              ┆   ┆             ┆      ┆       ┆     │\n",
       "│ 202501141620 ┆ 202501141620 ┆ 757daf25-ddd ┆ year=2024    ┆ … ┆ OXTEGBB860C ┆ 2024 ┆ 12    ┆ 28  │\n",
       "│ 08677        ┆ 08677_1_4    ┆ 6-410d-874b- ┆              ┆   ┆             ┆      ┆       ┆     │\n",
       "│              ┆              ┆ f13836…      ┆              ┆   ┆             ┆      ┆       ┆     │\n",
       "└──────────────┴──────────────┴──────────────┴──────────────┴───┴─────────────┴──────┴───────┴─────┘"
      ]
     },
     "execution_count": 26,
     "metadata": {},
     "output_type": "execute_result"
    }
   ],
   "source": [
    "pd_lz.head().collect()"
   ]
  },
  {
   "cell_type": "markdown",
   "id": "b4b24b06-4f5b-4630-aa29-be0c5ad761f9",
   "metadata": {
    "jp-MarkdownHeadingCollapsed": true
   },
   "source": [
    "## Sync to Delta and Iceberg"
   ]
  },
  {
   "cell_type": "code",
   "execution_count": 27,
   "id": "5393c60a-9f4a-46d8-93f1-cba958d93870",
   "metadata": {
    "execution": {
     "iopub.execute_input": "2025-01-14T20:27:44.362107Z",
     "iopub.status.busy": "2025-01-14T20:27:44.361280Z",
     "iopub.status.idle": "2025-01-14T20:27:54.047935Z",
     "shell.execute_reply": "2025-01-14T20:27:54.047349Z",
     "shell.execute_reply.started": "2025-01-14T20:27:44.362063Z"
    }
   },
   "outputs": [
    {
     "name": "stdout",
     "output_type": "stream",
     "text": [
      "WARNING: Runtime environment or build system does not support multi-release JARs. This will impact location-based features.\n",
      "2025-01-14 17:27:45 INFO  org.apache.xtable.utilities.RunSync:149 - Running sync for basePath file:///home/baptvit/Documents/github/lakehouse-labs/xtable/warehouse/hudi.db/accounts for following table formats [DELTA, ICEBERG]\n",
      "2025-01-14 17:27:45 INFO  org.apache.hudi.common.table.HoodieTableMetaClient:133 - Loading HoodieTableMetaClient from file:///home/baptvit/Documents/github/lakehouse-labs/xtable/warehouse/hudi.db/accounts\n",
      "2025-01-14 17:27:45 WARN  org.apache.hadoop.util.NativeCodeLoader:60 - Unable to load native-hadoop library for your platform... using builtin-java classes where applicable\n",
      "2025-01-14 17:27:45 INFO  org.apache.hudi.common.table.HoodieTableConfig:276 - Loading table properties from file:/home/baptvit/Documents/github/lakehouse-labs/xtable/warehouse/hudi.db/accounts/.hoodie/hoodie.properties\n",
      "2025-01-14 17:27:45 INFO  org.apache.hudi.common.table.HoodieTableMetaClient:152 - Finished Loading Table of type COPY_ON_WRITE(version=1, baseFileFormat=PARQUET) from file:///home/baptvit/Documents/github/lakehouse-labs/xtable/warehouse/hudi.db/accounts\n",
      "2025-01-14 17:27:45 INFO  org.apache.hudi.common.table.HoodieTableMetaClient:155 - Loading Active commit timeline for file:///home/baptvit/Documents/github/lakehouse-labs/xtable/warehouse/hudi.db/accounts\n",
      "2025-01-14 17:27:45 INFO  org.apache.hudi.common.table.timeline.HoodieActiveTimeline:171 - Loaded instants upto : Option{val=[20250114172504047__commit__COMPLETED__20250114172507314]}\n",
      "2025-01-14 17:27:45 INFO  org.apache.hudi.common.table.HoodieTableMetaClient:133 - Loading HoodieTableMetaClient from file:/home/baptvit/Documents/github/lakehouse-labs/xtable/warehouse/hudi.db/accounts\n",
      "2025-01-14 17:27:45 INFO  org.apache.hudi.common.table.HoodieTableConfig:276 - Loading table properties from file:/home/baptvit/Documents/github/lakehouse-labs/xtable/warehouse/hudi.db/accounts/.hoodie/hoodie.properties\n",
      "2025-01-14 17:27:45 INFO  org.apache.hudi.common.table.HoodieTableMetaClient:152 - Finished Loading Table of type COPY_ON_WRITE(version=1, baseFileFormat=PARQUET) from file:/home/baptvit/Documents/github/lakehouse-labs/xtable/warehouse/hudi.db/accounts\n",
      "2025-01-14 17:27:45 INFO  org.apache.hudi.common.table.HoodieTableMetaClient:133 - Loading HoodieTableMetaClient from file:/home/baptvit/Documents/github/lakehouse-labs/xtable/warehouse/hudi.db/accounts/.hoodie/metadata\n",
      "2025-01-14 17:27:45 INFO  org.apache.hudi.common.table.HoodieTableConfig:276 - Loading table properties from file:/home/baptvit/Documents/github/lakehouse-labs/xtable/warehouse/hudi.db/accounts/.hoodie/metadata/.hoodie/hoodie.properties\n",
      "2025-01-14 17:27:45 INFO  org.apache.hudi.common.table.HoodieTableMetaClient:152 - Finished Loading Table of type MERGE_ON_READ(version=1, baseFileFormat=HFILE) from file:/home/baptvit/Documents/github/lakehouse-labs/xtable/warehouse/hudi.db/accounts/.hoodie/metadata\n",
      "2025-01-14 17:27:45 INFO  org.apache.hudi.common.table.timeline.HoodieActiveTimeline:171 - Loaded instants upto : Option{val=[20250114172504047__deltacommit__COMPLETED__20250114172507272]}\n",
      "2025-01-14 17:27:45 INFO  org.apache.hudi.common.table.view.AbstractTableFileSystemView:259 - Took 1 ms to read  0 instants, 0 replaced file groups\n",
      "WARNING: An illegal reflective access operation has occurred\n",
      "WARNING: Illegal reflective access by org.apache.hadoop.hbase.util.UnsafeAvailChecker (file:/home/baptvit/Documents/github/lakehouse-labs/xtable/incubator-xtable/xtable-utilities/target/xtable-utilities_2.12-0.2.0-SNAPSHOT-bundled.jar) to method java.nio.Bits.unaligned()\n",
      "WARNING: Please consider reporting this to the maintainers of org.apache.hadoop.hbase.util.UnsafeAvailChecker\n",
      "WARNING: Use --illegal-access=warn to enable warnings of further illegal reflective access operations\n",
      "WARNING: All illegal access operations will be denied in a future release\n",
      "2025-01-14 17:27:45 INFO  org.apache.hudi.common.util.ClusteringUtils:147 - Found 0 files in pending clustering operations\n",
      "2025-01-14 17:27:45 INFO  org.apache.hudi.common.table.view.FileSystemViewManager:243 - Creating View Manager with storage type :MEMORY\n",
      "2025-01-14 17:27:45 INFO  org.apache.hudi.common.table.view.FileSystemViewManager:255 - Creating in-memory based Table View\n",
      "2025-01-14 17:27:45 WARN  org.apache.spark.util.Utils:72 - Your hostname, baptvit resolves to a loopback address: 127.0.1.1; using 192.168.2.129 instead (on interface wlp4s0)\n",
      "2025-01-14 17:27:45 WARN  org.apache.spark.util.Utils:72 - Set SPARK_LOCAL_IP if you need to bind to another address\n",
      "2025-01-14 17:27:46 WARN  org.apache.spark.util.Utils:72 - Service 'SparkUI' could not bind on port 4040. Attempting port 4041.\n",
      "2025-01-14 17:27:46 WARN  org.apache.spark.util.Utils:72 - Service 'SparkUI' could not bind on port 4041. Attempting port 4042.\n",
      "2025-01-14 17:27:46 INFO  org.apache.spark.sql.delta.storage.DelegatingLogStore:60 - LogStore `LogStoreAdapter(io.delta.storage.HDFSLogStore)` is used for scheme `file`\n",
      "2025-01-14 17:27:46 INFO  org.apache.spark.sql.delta.DeltaLog:60 - Loading version 0.\n",
      "2025-01-14 17:27:47 INFO  org.apache.spark.sql.delta.DeltaLogFileIndex:60 - Created DeltaLogFileIndex(JSON, numFilesInSegment: 1, totalFileSize: 5523)\n",
      "2025-01-14 17:27:48 INFO  org.apache.spark.sql.delta.Snapshot:60 - [tableId=7512a4a3-78f3-43bc-9e56-b524241be89d] Created snapshot Snapshot(path=file:/home/baptvit/Documents/github/lakehouse-labs/xtable/warehouse/hudi.db/accounts/_delta_log, version=0, metadata=Metadata(4e605c13-215b-453d-81ee-2921a6c99a70,accounts,,Format(parquet,Map()),{\"type\":\"struct\",\"fields\":[{\"name\":\"_hoodie_commit_time\",\"type\":\"string\",\"nullable\":true,\"metadata\":{}},{\"name\":\"_hoodie_commit_seqno\",\"type\":\"string\",\"nullable\":true,\"metadata\":{}},{\"name\":\"_hoodie_record_key\",\"type\":\"string\",\"nullable\":true,\"metadata\":{}},{\"name\":\"_hoodie_partition_path\",\"type\":\"string\",\"nullable\":true,\"metadata\":{}},{\"name\":\"_hoodie_file_name\",\"type\":\"string\",\"nullable\":true,\"metadata\":{}},{\"name\":\"country_code\",\"type\":\"string\",\"nullable\":true,\"metadata\":{}},{\"name\":\"created_at\",\"type\":\"string\",\"nullable\":true,\"metadata\":{}},{\"name\":\"email\",\"type\":\"string\",\"nullable\":true,\"metadata\":{}},{\"name\":\"iban\",\"type\":\"string\",\"nullable\":true,\"metadata\":{}},{\"name\":\"id\",\"type\":\"string\",\"nullable\":true,\"metadata\":{}},{\"name\":\"name\",\"type\":\"string\",\"nullable\":true,\"metadata\":{}},{\"name\":\"passport\",\"type\":\"string\",\"nullable\":true,\"metadata\":{}},{\"name\":\"swift\",\"type\":\"string\",\"nullable\":true,\"metadata\":{}},{\"name\":\"year\",\"type\":\"integer\",\"nullable\":true,\"metadata\":{}},{\"name\":\"month\",\"type\":\"integer\",\"nullable\":true,\"metadata\":{}},{\"name\":\"day\",\"type\":\"integer\",\"nullable\":true,\"metadata\":{}}]},List(year),Map(XTABLE_METADATA -> {\"lastInstantSynced\":\"2025-01-14T16:20:08.677Z\",\"instantsToConsiderForNextSync\":[],\"version\":0}, delta.logRetentionDuration -> interval 168 hours),Some(1736871608677)), logSegment=LogSegment(file:/home/baptvit/Documents/github/lakehouse-labs/xtable/warehouse/hudi.db/accounts/_delta_log,0,WrappedArray(DeprecatedRawLocalFileStatus{path=file:/home/baptvit/Documents/github/lakehouse-labs/xtable/warehouse/hudi.db/accounts/_delta_log/00000000000000000000.json; isDirectory=false; length=5523; replication=1; blocksize=33554432; modification_time=1736882766760; access_time=1736882766836; owner=; group=; permission=rw-rw-rw-; isSymlink=false; hasAcl=false; isEncrypted=false; isErasureCoded=false}),None,1736882766760), checksumOpt=None)\n",
      "2025-01-14 17:27:49 INFO  org.apache.iceberg.hadoop.HadoopTables:101 - Table location loaded: file:///home/baptvit/Documents/github/lakehouse-labs/xtable/warehouse/hudi.db/accounts\n",
      "2025-01-14 17:27:49 INFO  org.apache.hudi.common.table.TableSchemaResolver:317 - Reading schema from file:/home/baptvit/Documents/github/lakehouse-labs/xtable/warehouse/hudi.db/accounts/year=2024/2744bc50-8dfa-42fa-b547-da83e2f96038-0_1-20-152_20250114172504047.parquet\n",
      "2025-01-14 17:27:49 INFO  org.apache.hudi.common.table.view.FileSystemViewManager:165 - Creating InMemory based view for basePath file:/home/baptvit/Documents/github/lakehouse-labs/xtable/warehouse/hudi.db/accounts\n",
      "2025-01-14 17:27:49 INFO  org.apache.hudi.common.table.view.AbstractTableFileSystemView:259 - Took 0 ms to read  0 instants, 0 replaced file groups\n",
      "2025-01-14 17:27:49 INFO  org.apache.hudi.common.util.ClusteringUtils:147 - Found 0 files in pending clustering operations\n",
      "2025-01-14 17:27:49 INFO  org.apache.hudi.common.table.view.AbstractTableFileSystemView:429 - Building file system view for partition (year=2025)\n",
      "2025-01-14 17:27:49 INFO  org.apache.hudi.metadata.HoodieTableMetadataUtil:927 - Loading latest merged file slices for metadata table partition files\n",
      "2025-01-14 17:27:49 INFO  org.apache.hudi.common.table.view.AbstractTableFileSystemView:259 - Took 0 ms to read  0 instants, 0 replaced file groups\n",
      "2025-01-14 17:27:49 INFO  org.apache.hudi.common.util.ClusteringUtils:147 - Found 0 files in pending clustering operations\n",
      "2025-01-14 17:27:49 INFO  org.apache.hudi.common.table.view.AbstractTableFileSystemView:429 - Building file system view for partition (files)\n",
      "2025-01-14 17:27:49 INFO  org.apache.hudi.metadata.HoodieBackedTableMetadata:451 - Opened metadata base file from file:/home/baptvit/Documents/github/lakehouse-labs/xtable/warehouse/hudi.db/accounts/.hoodie/metadata/files/files-0000-0_0-9-22_00000000000000010.hfile at instant 00000000000000010 in 4 ms\n",
      "2025-01-14 17:27:49 INFO  org.apache.hudi.common.table.timeline.HoodieActiveTimeline:171 - Loaded instants upto : Option{val=[20250114172504047__commit__COMPLETED__20250114172507314]}\n",
      "2025-01-14 17:27:49 INFO  org.apache.hudi.common.table.HoodieTableMetaClient:133 - Loading HoodieTableMetaClient from file:/home/baptvit/Documents/github/lakehouse-labs/xtable/warehouse/hudi.db/accounts/.hoodie/metadata\n",
      "2025-01-14 17:27:49 INFO  org.apache.hudi.common.table.HoodieTableConfig:276 - Loading table properties from file:/home/baptvit/Documents/github/lakehouse-labs/xtable/warehouse/hudi.db/accounts/.hoodie/metadata/.hoodie/hoodie.properties\n",
      "2025-01-14 17:27:49 INFO  org.apache.hudi.common.table.HoodieTableMetaClient:152 - Finished Loading Table of type MERGE_ON_READ(version=1, baseFileFormat=HFILE) from file:/home/baptvit/Documents/github/lakehouse-labs/xtable/warehouse/hudi.db/accounts/.hoodie/metadata\n",
      "# WARNING: Unable to get Instrumentation. Dynamic Attach failed. You may add this JAR as -javaagent manually, or supply -Djdk.attach.allowAttachSelf\n",
      "# WARNING: Unable to attach Serviceability Agent. You can try again with escalated privileges. Two options: a) use -Djol.tryWithSudo=true to try with sudo; b) echo 0 | sudo tee /proc/sys/kernel/yama/ptrace_scope\n",
      "2025-01-14 17:27:50 INFO  org.apache.hudi.common.table.timeline.HoodieActiveTimeline:171 - Loaded instants upto : Option{val=[20250114172504047__deltacommit__COMPLETED__20250114172507272]}\n",
      "2025-01-14 17:27:50 INFO  org.apache.hudi.common.table.log.AbstractHoodieLogRecordReader:250 - Scanning log file HoodieLogFile{pathStr='file:/home/baptvit/Documents/github/lakehouse-labs/xtable/warehouse/hudi.db/accounts/.hoodie/metadata/files/.files-0000-0_00000000000000010.log.1_0-0-0', fileLen=-1}\n",
      "2025-01-14 17:27:50 INFO  org.apache.hudi.common.table.log.AbstractHoodieLogRecordReader:293 - Reading a delete block from file file:/home/baptvit/Documents/github/lakehouse-labs/xtable/warehouse/hudi.db/accounts/.hoodie/metadata/files/.files-0000-0_00000000000000010.log.1_0-0-0\n",
      "2025-01-14 17:27:50 INFO  org.apache.hudi.common.table.log.HoodieLogFormatReader:115 - Moving to the next reader for logfile HoodieLogFile{pathStr='file:/home/baptvit/Documents/github/lakehouse-labs/xtable/warehouse/hudi.db/accounts/.hoodie/metadata/files/.files-0000-0_00000000000000010.log.2_0-36-150', fileLen=-1}\n",
      "2025-01-14 17:27:50 INFO  org.apache.hudi.common.table.log.AbstractHoodieLogRecordReader:250 - Scanning log file HoodieLogFile{pathStr='file:/home/baptvit/Documents/github/lakehouse-labs/xtable/warehouse/hudi.db/accounts/.hoodie/metadata/files/.files-0000-0_00000000000000010.log.2_0-36-150', fileLen=-1}\n",
      "2025-01-14 17:27:50 INFO  org.apache.hudi.common.table.log.AbstractHoodieLogRecordReader:286 - Reading a data block from file file:/home/baptvit/Documents/github/lakehouse-labs/xtable/warehouse/hudi.db/accounts/.hoodie/metadata/files/.files-0000-0_00000000000000010.log.2_0-36-150 at instant 20250114162008677\n",
      "2025-01-14 17:27:50 INFO  org.apache.hudi.common.table.log.HoodieLogFormatReader:115 - Moving to the next reader for logfile HoodieLogFile{pathStr='file:/home/baptvit/Documents/github/lakehouse-labs/xtable/warehouse/hudi.db/accounts/.hoodie/metadata/files/.files-0000-0_00000000000000010.log.3_0-30-159', fileLen=-1}\n",
      "2025-01-14 17:27:50 INFO  org.apache.hudi.common.table.log.AbstractHoodieLogRecordReader:250 - Scanning log file HoodieLogFile{pathStr='file:/home/baptvit/Documents/github/lakehouse-labs/xtable/warehouse/hudi.db/accounts/.hoodie/metadata/files/.files-0000-0_00000000000000010.log.3_0-30-159', fileLen=-1}\n",
      "2025-01-14 17:27:50 INFO  org.apache.hudi.common.table.log.AbstractHoodieLogRecordReader:286 - Reading a data block from file file:/home/baptvit/Documents/github/lakehouse-labs/xtable/warehouse/hudi.db/accounts/.hoodie/metadata/files/.files-0000-0_00000000000000010.log.3_0-30-159 at instant 20250114172504047\n",
      "2025-01-14 17:27:50 INFO  org.apache.hudi.common.table.log.AbstractHoodieLogRecordReader:402 - Merging the final data blocks\n",
      "2025-01-14 17:27:50 INFO  org.apache.hudi.common.table.log.AbstractHoodieLogRecordReader:818 - Number of remaining logblocks to merge 3\n",
      "2025-01-14 17:27:50 INFO  org.apache.hudi.common.table.log.AbstractHoodieLogRecordReader:818 - Number of remaining logblocks to merge 2\n",
      "2025-01-14 17:27:50 WARN  org.apache.hadoop.metrics2.impl.MetricsConfig:138 - Cannot locate configuration: tried hadoop-metrics2-hbase.properties,hadoop-metrics2.properties\n",
      "2025-01-14 17:27:50 INFO  org.apache.hudi.common.table.log.AbstractHoodieLogRecordReader:818 - Number of remaining logblocks to merge 1\n",
      "2025-01-14 17:27:50 INFO  org.apache.hudi.common.table.log.HoodieMergedLogRecordScanner:206 - Number of log files scanned => 3\n",
      "2025-01-14 17:27:50 INFO  org.apache.hudi.common.table.log.HoodieMergedLogRecordScanner:207 - MaxMemoryInBytes allowed for compaction => 1073741824\n",
      "2025-01-14 17:27:50 INFO  org.apache.hudi.common.table.log.HoodieMergedLogRecordScanner:208 - Number of entries in MemoryBasedMap in ExternalSpillableMap => 3\n",
      "2025-01-14 17:27:50 INFO  org.apache.hudi.common.table.log.HoodieMergedLogRecordScanner:209 - Total size in bytes of MemoryBasedMap in ExternalSpillableMap => 1848\n",
      "2025-01-14 17:27:50 INFO  org.apache.hudi.common.table.log.HoodieMergedLogRecordScanner:210 - Number of entries in DiskBasedMap in ExternalSpillableMap => 0\n",
      "2025-01-14 17:27:50 INFO  org.apache.hudi.common.table.log.HoodieMergedLogRecordScanner:211 - Size of file spilled to disk => 0\n",
      "2025-01-14 17:27:50 INFO  org.apache.hudi.metadata.HoodieBackedTableMetadata:501 - Opened 3 metadata log files (dataset instant=20250114172504047, metadata instant=20250114172504047) in 1110 ms\n",
      "2025-01-14 17:27:50 INFO  org.apache.hudi.metadata.BaseTableMetadata:363 - Listed file in partition from metadata: partition=year=2025, #files=2\n",
      "2025-01-14 17:27:50 INFO  org.apache.hudi.common.table.view.AbstractTableFileSystemView:429 - Building file system view for partition (year=2024)\n",
      "2025-01-14 17:27:50 INFO  org.apache.hudi.metadata.BaseTableMetadata:363 - Listed file in partition from metadata: partition=year=2024, #files=2\n",
      "2025-01-14 17:27:50 INFO  org.apache.spark.sql.delta.OptimisticTransaction:60 - [tableId=4e605c13,txnId=25ced748] Updated metadata from - to Metadata(4e605c13-215b-453d-81ee-2921a6c99a70,accounts,,Format(parquet,Map()),{\"type\":\"struct\",\"fields\":[{\"name\":\"_hoodie_commit_time\",\"type\":\"string\",\"nullable\":true,\"metadata\":{}},{\"name\":\"_hoodie_commit_seqno\",\"type\":\"string\",\"nullable\":true,\"metadata\":{}},{\"name\":\"_hoodie_record_key\",\"type\":\"string\",\"nullable\":true,\"metadata\":{}},{\"name\":\"_hoodie_partition_path\",\"type\":\"string\",\"nullable\":true,\"metadata\":{}},{\"name\":\"_hoodie_file_name\",\"type\":\"string\",\"nullable\":true,\"metadata\":{}},{\"name\":\"country_code\",\"type\":\"string\",\"nullable\":true,\"metadata\":{}},{\"name\":\"created_at\",\"type\":\"string\",\"nullable\":true,\"metadata\":{}},{\"name\":\"email\",\"type\":\"string\",\"nullable\":true,\"metadata\":{}},{\"name\":\"iban\",\"type\":\"string\",\"nullable\":true,\"metadata\":{}},{\"name\":\"id\",\"type\":\"string\",\"nullable\":true,\"metadata\":{}},{\"name\":\"name\",\"type\":\"string\",\"nullable\":true,\"metadata\":{}},{\"name\":\"passport\",\"type\":\"string\",\"nullable\":true,\"metadata\":{}},{\"name\":\"swift\",\"type\":\"string\",\"nullable\":true,\"metadata\":{}},{\"name\":\"year\",\"type\":\"integer\",\"nullable\":true,\"metadata\":{}},{\"name\":\"month\",\"type\":\"integer\",\"nullable\":true,\"metadata\":{}},{\"name\":\"day\",\"type\":\"integer\",\"nullable\":true,\"metadata\":{}}]},List(year),Map(XTABLE_METADATA -> {\"lastInstantSynced\":\"2025-01-14T17:25:04.047Z\",\"instantsToConsiderForNextSync\":[],\"version\":0}, delta.logRetentionDuration -> interval 168 hours),Some(1736875504047))\n",
      "2025-01-14 17:27:50 INFO  org.apache.spark.sql.delta.OptimisticTransaction:60 - [tableId=4e605c13,txnId=25ced748] Attempting to commit version 1 with 6 actions with Serializable isolation level\n",
      "2025-01-14 17:27:50 INFO  org.apache.spark.sql.delta.DeltaLog:60 - Creating a new snapshot v1 for commit version 1\n",
      "2025-01-14 17:27:50 INFO  org.apache.spark.sql.delta.DeltaLog:60 - Loading version 1.\n",
      "2025-01-14 17:27:50 INFO  org.apache.spark.sql.delta.DeltaLogFileIndex:60 - Created DeltaLogFileIndex(JSON, numFilesInSegment: 2, totalFileSize: 11474)\n",
      "2025-01-14 17:27:50 INFO  org.apache.spark.sql.delta.Snapshot:60 - [tableId=4e605c13-215b-453d-81ee-2921a6c99a70] Created snapshot Snapshot(path=file:/home/baptvit/Documents/github/lakehouse-labs/xtable/warehouse/hudi.db/accounts/_delta_log, version=1, metadata=Metadata(4e605c13-215b-453d-81ee-2921a6c99a70,accounts,,Format(parquet,Map()),{\"type\":\"struct\",\"fields\":[{\"name\":\"_hoodie_commit_time\",\"type\":\"string\",\"nullable\":true,\"metadata\":{}},{\"name\":\"_hoodie_commit_seqno\",\"type\":\"string\",\"nullable\":true,\"metadata\":{}},{\"name\":\"_hoodie_record_key\",\"type\":\"string\",\"nullable\":true,\"metadata\":{}},{\"name\":\"_hoodie_partition_path\",\"type\":\"string\",\"nullable\":true,\"metadata\":{}},{\"name\":\"_hoodie_file_name\",\"type\":\"string\",\"nullable\":true,\"metadata\":{}},{\"name\":\"country_code\",\"type\":\"string\",\"nullable\":true,\"metadata\":{}},{\"name\":\"created_at\",\"type\":\"string\",\"nullable\":true,\"metadata\":{}},{\"name\":\"email\",\"type\":\"string\",\"nullable\":true,\"metadata\":{}},{\"name\":\"iban\",\"type\":\"string\",\"nullable\":true,\"metadata\":{}},{\"name\":\"id\",\"type\":\"string\",\"nullable\":true,\"metadata\":{}},{\"name\":\"name\",\"type\":\"string\",\"nullable\":true,\"metadata\":{}},{\"name\":\"passport\",\"type\":\"string\",\"nullable\":true,\"metadata\":{}},{\"name\":\"swift\",\"type\":\"string\",\"nullable\":true,\"metadata\":{}},{\"name\":\"year\",\"type\":\"integer\",\"nullable\":true,\"metadata\":{}},{\"name\":\"month\",\"type\":\"integer\",\"nullable\":true,\"metadata\":{}},{\"name\":\"day\",\"type\":\"integer\",\"nullable\":true,\"metadata\":{}}]},List(year),Map(XTABLE_METADATA -> {\"lastInstantSynced\":\"2025-01-14T17:25:04.047Z\",\"instantsToConsiderForNextSync\":[],\"version\":0}, delta.logRetentionDuration -> interval 168 hours),Some(1736875504047)), logSegment=LogSegment(file:/home/baptvit/Documents/github/lakehouse-labs/xtable/warehouse/hudi.db/accounts/_delta_log,1,WrappedArray(DeprecatedRawLocalFileStatus{path=file:/home/baptvit/Documents/github/lakehouse-labs/xtable/warehouse/hudi.db/accounts/_delta_log/00000000000000000000.json; isDirectory=false; length=5523; replication=1; blocksize=33554432; modification_time=1736882766760; access_time=1736882766836; owner=; group=; permission=rw-rw-rw-; isSymlink=false; hasAcl=false; isEncrypted=false; isErasureCoded=false}, DeprecatedRawLocalFileStatus{path=file:/home/baptvit/Documents/github/lakehouse-labs/xtable/warehouse/hudi.db/accounts/_delta_log/00000000000000000001.json; isDirectory=false; length=5951; replication=1; blocksize=33554432; modification_time=1736886470602; access_time=1736886470596; owner=; group=; permission=rw-rw-rw-; isSymlink=false; hasAcl=false; isEncrypted=false; isErasureCoded=false}),None,1736886470602), checksumOpt=None)\n",
      "2025-01-14 17:27:50 INFO  org.apache.spark.sql.delta.DeltaLog:60 - Updated snapshot to Snapshot(path=file:/home/baptvit/Documents/github/lakehouse-labs/xtable/warehouse/hudi.db/accounts/_delta_log, version=1, metadata=Metadata(4e605c13-215b-453d-81ee-2921a6c99a70,accounts,,Format(parquet,Map()),{\"type\":\"struct\",\"fields\":[{\"name\":\"_hoodie_commit_time\",\"type\":\"string\",\"nullable\":true,\"metadata\":{}},{\"name\":\"_hoodie_commit_seqno\",\"type\":\"string\",\"nullable\":true,\"metadata\":{}},{\"name\":\"_hoodie_record_key\",\"type\":\"string\",\"nullable\":true,\"metadata\":{}},{\"name\":\"_hoodie_partition_path\",\"type\":\"string\",\"nullable\":true,\"metadata\":{}},{\"name\":\"_hoodie_file_name\",\"type\":\"string\",\"nullable\":true,\"metadata\":{}},{\"name\":\"country_code\",\"type\":\"string\",\"nullable\":true,\"metadata\":{}},{\"name\":\"created_at\",\"type\":\"string\",\"nullable\":true,\"metadata\":{}},{\"name\":\"email\",\"type\":\"string\",\"nullable\":true,\"metadata\":{}},{\"name\":\"iban\",\"type\":\"string\",\"nullable\":true,\"metadata\":{}},{\"name\":\"id\",\"type\":\"string\",\"nullable\":true,\"metadata\":{}},{\"name\":\"name\",\"type\":\"string\",\"nullable\":true,\"metadata\":{}},{\"name\":\"passport\",\"type\":\"string\",\"nullable\":true,\"metadata\":{}},{\"name\":\"swift\",\"type\":\"string\",\"nullable\":true,\"metadata\":{}},{\"name\":\"year\",\"type\":\"integer\",\"nullable\":true,\"metadata\":{}},{\"name\":\"month\",\"type\":\"integer\",\"nullable\":true,\"metadata\":{}},{\"name\":\"day\",\"type\":\"integer\",\"nullable\":true,\"metadata\":{}}]},List(year),Map(XTABLE_METADATA -> {\"lastInstantSynced\":\"2025-01-14T17:25:04.047Z\",\"instantsToConsiderForNextSync\":[],\"version\":0}, delta.logRetentionDuration -> interval 168 hours),Some(1736875504047)), logSegment=LogSegment(file:/home/baptvit/Documents/github/lakehouse-labs/xtable/warehouse/hudi.db/accounts/_delta_log,1,WrappedArray(DeprecatedRawLocalFileStatus{path=file:/home/baptvit/Documents/github/lakehouse-labs/xtable/warehouse/hudi.db/accounts/_delta_log/00000000000000000000.json; isDirectory=false; length=5523; replication=1; blocksize=33554432; modification_time=1736882766760; access_time=1736882766836; owner=; group=; permission=rw-rw-rw-; isSymlink=false; hasAcl=false; isEncrypted=false; isErasureCoded=false}, DeprecatedRawLocalFileStatus{path=file:/home/baptvit/Documents/github/lakehouse-labs/xtable/warehouse/hudi.db/accounts/_delta_log/00000000000000000001.json; isDirectory=false; length=5951; replication=1; blocksize=33554432; modification_time=1736886470602; access_time=1736886470596; owner=; group=; permission=rw-rw-rw-; isSymlink=false; hasAcl=false; isEncrypted=false; isErasureCoded=false}),None,1736886470602), checksumOpt=None)\n",
      "2025-01-14 17:27:50 INFO  org.apache.spark.sql.delta.Snapshot:60 - [tableId=4e605c13-215b-453d-81ee-2921a6c99a70] DELTA: Compute snapshot for version: 1\n",
      "2025-01-14 17:27:51 WARN  org.apache.spark.sql.catalyst.util.package:72 - Truncated the string representation of a plan since it was too large. This behavior can be adjusted by setting 'spark.sql.debug.maxToStringFields'.\n",
      "2025-01-14 17:27:53 INFO  org.apache.spark.sql.delta.Snapshot:60 - [tableId=4e605c13-215b-453d-81ee-2921a6c99a70] DELTA: Done\n",
      "2025-01-14 17:27:53 INFO  org.apache.spark.sql.delta.OptimisticTransaction:60 - [tableId=4e605c13,txnId=25ced748] Committed delta #1 to file:/home/baptvit/Documents/github/lakehouse-labs/xtable/warehouse/hudi.db/accounts/_delta_log\n",
      "2025-01-14 17:27:53 WARN  org.apache.xtable.iceberg.IcebergSchemaExtractor:75 - Record key fields are not required. Not setting record key fields in iceberg schema.\n",
      "2025-01-14 17:27:53 INFO  org.apache.iceberg.SnapshotProducer:414 - Committed snapshot 1791945798785386310 (BaseOverwriteFiles)\n",
      "2025-01-14 17:27:53 INFO  org.apache.iceberg.metrics.LoggingMetricsReporter:38 - Received metrics report: CommitReport{tableName=file:///home/baptvit/Documents/github/lakehouse-labs/xtable/warehouse/hudi.db/accounts, snapshotId=1791945798785386310, sequenceNumber=2, operation=overwrite, commitMetrics=CommitMetricsResult{totalDuration=TimerResult{timeUnit=NANOSECONDS, totalDuration=PT0.11879548S, count=1}, attempts=CounterResult{unit=COUNT, value=1}, addedDataFiles=CounterResult{unit=COUNT, value=2}, removedDataFiles=CounterResult{unit=COUNT, value=2}, totalDataFiles=CounterResult{unit=COUNT, value=2}, addedDeleteFiles=null, addedEqualityDeleteFiles=null, addedPositionalDeleteFiles=null, removedDeleteFiles=null, removedEqualityDeleteFiles=null, removedPositionalDeleteFiles=null, totalDeleteFiles=CounterResult{unit=COUNT, value=0}, addedRecords=CounterResult{unit=COUNT, value=104}, removedRecords=CounterResult{unit=COUNT, value=100}, totalRecords=CounterResult{unit=COUNT, value=104}, addedFilesSizeInBytes=CounterResult{unit=BYTES, value=885548}, removedFilesSizeInBytes=CounterResult{unit=BYTES, value=885144}, totalFilesSizeInBytes=CounterResult{unit=BYTES, value=885548}, addedPositionalDeletes=null, removedPositionalDeletes=null, totalPositionalDeletes=CounterResult{unit=COUNT, value=0}, addedEqualityDeletes=null, removedEqualityDeletes=null, totalEqualityDeletes=CounterResult{unit=COUNT, value=0}}, metadata={iceberg-version=Apache Iceberg 1.4.2 (commit f6bb9173b13424d77e7ad8439b5ef9627e530cb2)}}\n",
      "2025-01-14 17:27:53 INFO  org.apache.iceberg.RemoveSnapshots:124 - Expiring snapshots older than: 2025-01-07T20:27:53.782+00:00 (1736281673782)\n",
      "2025-01-14 17:27:53 INFO  org.apache.iceberg.RemoveSnapshots:309 - Committed snapshot changes\n",
      "2025-01-14 17:27:53 INFO  org.apache.iceberg.RemoveSnapshots:328 - Cleaning up expired files (local, incremental)\n",
      "2025-01-14 17:27:53 INFO  org.apache.iceberg.hadoop.HadoopTableOperations:164 - Committed a new metadata file file:/home/baptvit/Documents/github/lakehouse-labs/xtable/warehouse/hudi.db/accounts/metadata/v3.metadata.json\n",
      "2025-01-14 17:27:53 INFO  org.apache.xtable.conversion.ConversionController:130 - Sync is successful for the following formats ICEBERG,DELTA\n"
     ]
    }
   ],
   "source": [
    "!/usr/lib/jvm/java-11-openjdk-amd64/bin/java -jar /home/baptvit/Documents/github/lakehouse-labs/xtable/incubator-xtable/xtable-utilities/target/xtable-utilities_2.12-0.2.0-SNAPSHOT-bundled.jar --datasetConfig ./manifests/config.yml"
   ]
  },
  {
   "cell_type": "markdown",
   "id": "0b7cb14c-6fe6-409b-b08d-74bcf040ef1a",
   "metadata": {
    "jp-MarkdownHeadingCollapsed": true
   },
   "source": [
    "## Read as Delta and Iceberg after sync"
   ]
  },
  {
   "cell_type": "markdown",
   "id": "269055c0-bdf5-4510-b55f-d5a8a5313b41",
   "metadata": {
    "jp-MarkdownHeadingCollapsed": true
   },
   "source": [
    "### Read as delta table"
   ]
  },
  {
   "cell_type": "code",
   "execution_count": 28,
   "id": "29e238f2-db7b-471e-8dd5-436e6b873aa5",
   "metadata": {
    "execution": {
     "iopub.execute_input": "2025-01-14T20:28:44.955292Z",
     "iopub.status.busy": "2025-01-14T20:28:44.954603Z",
     "iopub.status.idle": "2025-01-14T20:28:44.974925Z",
     "shell.execute_reply": "2025-01-14T20:28:44.974602Z",
     "shell.execute_reply.started": "2025-01-14T20:28:44.955259Z"
    }
   },
   "outputs": [
    {
     "name": "stdout",
     "output_type": "stream",
     "text": [
      "(104, 16)\n"
     ]
    },
    {
     "data": {
      "text/html": [
       "<div>\n",
       "<style scoped>\n",
       "    .dataframe tbody tr th:only-of-type {\n",
       "        vertical-align: middle;\n",
       "    }\n",
       "\n",
       "    .dataframe tbody tr th {\n",
       "        vertical-align: top;\n",
       "    }\n",
       "\n",
       "    .dataframe thead th {\n",
       "        text-align: right;\n",
       "    }\n",
       "</style>\n",
       "<table border=\"1\" class=\"dataframe\">\n",
       "  <thead>\n",
       "    <tr style=\"text-align: right;\">\n",
       "      <th></th>\n",
       "      <th>_hoodie_commit_time</th>\n",
       "      <th>_hoodie_commit_seqno</th>\n",
       "      <th>_hoodie_record_key</th>\n",
       "      <th>_hoodie_partition_path</th>\n",
       "      <th>_hoodie_file_name</th>\n",
       "      <th>country_code</th>\n",
       "      <th>created_at</th>\n",
       "      <th>email</th>\n",
       "      <th>iban</th>\n",
       "      <th>id</th>\n",
       "      <th>name</th>\n",
       "      <th>passport</th>\n",
       "      <th>swift</th>\n",
       "      <th>year</th>\n",
       "      <th>month</th>\n",
       "      <th>day</th>\n",
       "    </tr>\n",
       "  </thead>\n",
       "  <tbody>\n",
       "    <tr>\n",
       "      <th>0</th>\n",
       "      <td>20250114162008677</td>\n",
       "      <td>20250114162008677_0_0</td>\n",
       "      <td>c7b1cee6-9ec9-4455-abb4-b032793d873e</td>\n",
       "      <td>year=2025</td>\n",
       "      <td>66945abe-8145-4e86-bcc4-4b015e28532e-0_0-20-15...</td>\n",
       "      <td>FR</td>\n",
       "      <td>2025-01-11</td>\n",
       "      <td>melissa80@example.net</td>\n",
       "      <td>GB76KDUB00543518056217</td>\n",
       "      <td>c7b1cee6-9ec9-4455-abb4-b032793d873e</td>\n",
       "      <td>Jeanette Green</td>\n",
       "      <td>R72046482</td>\n",
       "      <td>JGIDGBRWHD4</td>\n",
       "      <td>2025</td>\n",
       "      <td>1</td>\n",
       "      <td>11</td>\n",
       "    </tr>\n",
       "    <tr>\n",
       "      <th>1</th>\n",
       "      <td>20250114162008677</td>\n",
       "      <td>20250114162008677_0_1</td>\n",
       "      <td>524da8f0-b784-4638-ae01-a7b7d13607de</td>\n",
       "      <td>year=2025</td>\n",
       "      <td>66945abe-8145-4e86-bcc4-4b015e28532e-0_0-20-15...</td>\n",
       "      <td>FR</td>\n",
       "      <td>2025-01-09</td>\n",
       "      <td>robertmcintyre@example.org</td>\n",
       "      <td>GB81OZIU60490488184758</td>\n",
       "      <td>524da8f0-b784-4638-ae01-a7b7d13607de</td>\n",
       "      <td>Kim Matthews</td>\n",
       "      <td>T89100458</td>\n",
       "      <td>DYFAGBTAB1H</td>\n",
       "      <td>2025</td>\n",
       "      <td>1</td>\n",
       "      <td>9</td>\n",
       "    </tr>\n",
       "    <tr>\n",
       "      <th>2</th>\n",
       "      <td>20250114162008677</td>\n",
       "      <td>20250114162008677_0_2</td>\n",
       "      <td>3cc19a63-9307-4482-b775-bf84bb7f524a</td>\n",
       "      <td>year=2025</td>\n",
       "      <td>66945abe-8145-4e86-bcc4-4b015e28532e-0_0-20-15...</td>\n",
       "      <td>AR</td>\n",
       "      <td>2025-01-03</td>\n",
       "      <td>ltaylor@example.net</td>\n",
       "      <td>GB33IROQ95211505041890</td>\n",
       "      <td>3cc19a63-9307-4482-b775-bf84bb7f524a</td>\n",
       "      <td>Kaitlyn Taylor</td>\n",
       "      <td>207116683</td>\n",
       "      <td>BTTSGBIWF66</td>\n",
       "      <td>2025</td>\n",
       "      <td>1</td>\n",
       "      <td>3</td>\n",
       "    </tr>\n",
       "    <tr>\n",
       "      <th>3</th>\n",
       "      <td>20250114162008677</td>\n",
       "      <td>20250114162008677_0_3</td>\n",
       "      <td>20ad946c-ea9b-4f01-8eaa-504a06b92fa0</td>\n",
       "      <td>year=2025</td>\n",
       "      <td>66945abe-8145-4e86-bcc4-4b015e28532e-0_0-20-15...</td>\n",
       "      <td>CA</td>\n",
       "      <td>2025-01-05</td>\n",
       "      <td>smithalexandria@example.org</td>\n",
       "      <td>GB77IYXH23843855501257</td>\n",
       "      <td>20ad946c-ea9b-4f01-8eaa-504a06b92fa0</td>\n",
       "      <td>Ashlee Aguilar</td>\n",
       "      <td>E06363228</td>\n",
       "      <td>WSGWGBWHXSB</td>\n",
       "      <td>2025</td>\n",
       "      <td>1</td>\n",
       "      <td>5</td>\n",
       "    </tr>\n",
       "    <tr>\n",
       "      <th>4</th>\n",
       "      <td>20250114162008677</td>\n",
       "      <td>20250114162008677_0_4</td>\n",
       "      <td>c2769b84-54d4-476c-b27c-856672cbbd34</td>\n",
       "      <td>year=2025</td>\n",
       "      <td>66945abe-8145-4e86-bcc4-4b015e28532e-0_0-20-15...</td>\n",
       "      <td>UK</td>\n",
       "      <td>2025-01-10</td>\n",
       "      <td>christianbrian@example.org</td>\n",
       "      <td>GB30IFVT02678036529533</td>\n",
       "      <td>c2769b84-54d4-476c-b27c-856672cbbd34</td>\n",
       "      <td>Jonathan Weber</td>\n",
       "      <td>897841773</td>\n",
       "      <td>CGPVGB002QU</td>\n",
       "      <td>2025</td>\n",
       "      <td>1</td>\n",
       "      <td>10</td>\n",
       "    </tr>\n",
       "  </tbody>\n",
       "</table>\n",
       "</div>"
      ],
      "text/plain": [
       "  _hoodie_commit_time   _hoodie_commit_seqno  \\\n",
       "0   20250114162008677  20250114162008677_0_0   \n",
       "1   20250114162008677  20250114162008677_0_1   \n",
       "2   20250114162008677  20250114162008677_0_2   \n",
       "3   20250114162008677  20250114162008677_0_3   \n",
       "4   20250114162008677  20250114162008677_0_4   \n",
       "\n",
       "                     _hoodie_record_key _hoodie_partition_path  \\\n",
       "0  c7b1cee6-9ec9-4455-abb4-b032793d873e              year=2025   \n",
       "1  524da8f0-b784-4638-ae01-a7b7d13607de              year=2025   \n",
       "2  3cc19a63-9307-4482-b775-bf84bb7f524a              year=2025   \n",
       "3  20ad946c-ea9b-4f01-8eaa-504a06b92fa0              year=2025   \n",
       "4  c2769b84-54d4-476c-b27c-856672cbbd34              year=2025   \n",
       "\n",
       "                                   _hoodie_file_name country_code  created_at  \\\n",
       "0  66945abe-8145-4e86-bcc4-4b015e28532e-0_0-20-15...           FR  2025-01-11   \n",
       "1  66945abe-8145-4e86-bcc4-4b015e28532e-0_0-20-15...           FR  2025-01-09   \n",
       "2  66945abe-8145-4e86-bcc4-4b015e28532e-0_0-20-15...           AR  2025-01-03   \n",
       "3  66945abe-8145-4e86-bcc4-4b015e28532e-0_0-20-15...           CA  2025-01-05   \n",
       "4  66945abe-8145-4e86-bcc4-4b015e28532e-0_0-20-15...           UK  2025-01-10   \n",
       "\n",
       "                         email                    iban  \\\n",
       "0        melissa80@example.net  GB76KDUB00543518056217   \n",
       "1   robertmcintyre@example.org  GB81OZIU60490488184758   \n",
       "2          ltaylor@example.net  GB33IROQ95211505041890   \n",
       "3  smithalexandria@example.org  GB77IYXH23843855501257   \n",
       "4   christianbrian@example.org  GB30IFVT02678036529533   \n",
       "\n",
       "                                     id            name   passport  \\\n",
       "0  c7b1cee6-9ec9-4455-abb4-b032793d873e  Jeanette Green  R72046482   \n",
       "1  524da8f0-b784-4638-ae01-a7b7d13607de    Kim Matthews  T89100458   \n",
       "2  3cc19a63-9307-4482-b775-bf84bb7f524a  Kaitlyn Taylor  207116683   \n",
       "3  20ad946c-ea9b-4f01-8eaa-504a06b92fa0  Ashlee Aguilar  E06363228   \n",
       "4  c2769b84-54d4-476c-b27c-856672cbbd34  Jonathan Weber  897841773   \n",
       "\n",
       "         swift  year  month  day  \n",
       "0  JGIDGBRWHD4  2025      1   11  \n",
       "1  DYFAGBTAB1H  2025      1    9  \n",
       "2  BTTSGBIWF66  2025      1    3  \n",
       "3  WSGWGBWHXSB  2025      1    5  \n",
       "4  CGPVGB002QU  2025      1   10  "
      ]
     },
     "execution_count": 28,
     "metadata": {},
     "output_type": "execute_result"
    }
   ],
   "source": [
    "from deltalake import DeltaTable\n",
    "\n",
    "delta_table_path = HUDI_FOLDER_PATH\n",
    "\n",
    "delta_table = DeltaTable(delta_table_path)\n",
    "\n",
    "df = delta_table.to_pandas()\n",
    "\n",
    "print(df.shape)\n",
    "\n",
    "df.head()"
   ]
  },
  {
   "cell_type": "markdown",
   "id": "77f4d0a8-dcf4-4cfd-8af0-c47b60644a5d",
   "metadata": {
    "jp-MarkdownHeadingCollapsed": true
   },
   "source": [
    "### Read as Iceberg table"
   ]
  },
  {
   "cell_type": "code",
   "execution_count": 32,
   "id": "1fb3a498-3288-4e75-bab9-b92d31277190",
   "metadata": {
    "execution": {
     "iopub.execute_input": "2025-01-14T20:29:40.891495Z",
     "iopub.status.busy": "2025-01-14T20:29:40.890997Z",
     "iopub.status.idle": "2025-01-14T20:29:40.896195Z",
     "shell.execute_reply": "2025-01-14T20:29:40.895667Z",
     "shell.execute_reply.started": "2025-01-14T20:29:40.891472Z"
    }
   },
   "outputs": [],
   "source": [
    "import polars as pl\n",
    "\n",
    "table_path = HUDI_FOLDER_PATH + \"/metadata/v3.metadata.json\"\n",
    "pd_lz = pl.scan_iceberg(table_path)"
   ]
  },
  {
   "cell_type": "code",
   "execution_count": 33,
   "id": "89cec184-c097-49da-a5b0-7ad4556d943a",
   "metadata": {
    "execution": {
     "iopub.execute_input": "2025-01-14T20:29:41.207215Z",
     "iopub.status.busy": "2025-01-14T20:29:41.207020Z",
     "iopub.status.idle": "2025-01-14T20:29:41.223260Z",
     "shell.execute_reply": "2025-01-14T20:29:41.222899Z",
     "shell.execute_reply.started": "2025-01-14T20:29:41.207201Z"
    }
   },
   "outputs": [
    {
     "data": {
      "text/html": [
       "<div><style>\n",
       ".dataframe > thead > tr,\n",
       ".dataframe > tbody > tr {\n",
       "  text-align: right;\n",
       "  white-space: pre-wrap;\n",
       "}\n",
       "</style>\n",
       "<small>shape: (1, 16)</small><table border=\"1\" class=\"dataframe\"><thead><tr><th>_hoodie_commit_time</th><th>_hoodie_commit_seqno</th><th>_hoodie_record_key</th><th>_hoodie_partition_path</th><th>_hoodie_file_name</th><th>country_code</th><th>created_at</th><th>email</th><th>iban</th><th>id</th><th>name</th><th>passport</th><th>swift</th><th>year</th><th>month</th><th>day</th></tr><tr><td>u32</td><td>u32</td><td>u32</td><td>u32</td><td>u32</td><td>u32</td><td>u32</td><td>u32</td><td>u32</td><td>u32</td><td>u32</td><td>u32</td><td>u32</td><td>u32</td><td>u32</td><td>u32</td></tr></thead><tbody><tr><td>104</td><td>104</td><td>104</td><td>104</td><td>104</td><td>104</td><td>104</td><td>104</td><td>104</td><td>104</td><td>104</td><td>104</td><td>104</td><td>104</td><td>104</td><td>104</td></tr></tbody></table></div>"
      ],
      "text/plain": [
       "shape: (1, 16)\n",
       "┌────────────────┬────────────────┬───────────────┬───────────────┬───┬───────┬──────┬───────┬─────┐\n",
       "│ _hoodie_commit ┆ _hoodie_commit ┆ _hoodie_recor ┆ _hoodie_parti ┆ … ┆ swift ┆ year ┆ month ┆ day │\n",
       "│ _time          ┆ _seqno         ┆ d_key         ┆ tion_path     ┆   ┆ ---   ┆ ---  ┆ ---   ┆ --- │\n",
       "│ ---            ┆ ---            ┆ ---           ┆ ---           ┆   ┆ u32   ┆ u32  ┆ u32   ┆ u32 │\n",
       "│ u32            ┆ u32            ┆ u32           ┆ u32           ┆   ┆       ┆      ┆       ┆     │\n",
       "╞════════════════╪════════════════╪═══════════════╪═══════════════╪═══╪═══════╪══════╪═══════╪═════╡\n",
       "│ 104            ┆ 104            ┆ 104           ┆ 104           ┆ … ┆ 104   ┆ 104  ┆ 104   ┆ 104 │\n",
       "└────────────────┴────────────────┴───────────────┴───────────────┴───┴───────┴──────┴───────┴─────┘"
      ]
     },
     "execution_count": 33,
     "metadata": {},
     "output_type": "execute_result"
    }
   ],
   "source": [
    "pd_lz.count().collect()"
   ]
  },
  {
   "cell_type": "code",
   "execution_count": 34,
   "id": "9de9f911-49a3-4933-9a05-22a5720bb2b7",
   "metadata": {
    "execution": {
     "iopub.execute_input": "2025-01-14T20:29:41.815262Z",
     "iopub.status.busy": "2025-01-14T20:29:41.814787Z",
     "iopub.status.idle": "2025-01-14T20:29:41.828830Z",
     "shell.execute_reply": "2025-01-14T20:29:41.828398Z",
     "shell.execute_reply.started": "2025-01-14T20:29:41.815240Z"
    }
   },
   "outputs": [
    {
     "data": {
      "text/html": [
       "<div><style>\n",
       ".dataframe > thead > tr,\n",
       ".dataframe > tbody > tr {\n",
       "  text-align: right;\n",
       "  white-space: pre-wrap;\n",
       "}\n",
       "</style>\n",
       "<small>shape: (5, 16)</small><table border=\"1\" class=\"dataframe\"><thead><tr><th>_hoodie_commit_time</th><th>_hoodie_commit_seqno</th><th>_hoodie_record_key</th><th>_hoodie_partition_path</th><th>_hoodie_file_name</th><th>country_code</th><th>created_at</th><th>email</th><th>iban</th><th>id</th><th>name</th><th>passport</th><th>swift</th><th>year</th><th>month</th><th>day</th></tr><tr><td>str</td><td>str</td><td>str</td><td>str</td><td>str</td><td>str</td><td>str</td><td>str</td><td>str</td><td>str</td><td>str</td><td>str</td><td>str</td><td>i32</td><td>i32</td><td>i32</td></tr></thead><tbody><tr><td>&quot;20250114162008677&quot;</td><td>&quot;20250114162008677_0_0&quot;</td><td>&quot;c7b1cee6-9ec9-4455-abb4-b03279…</td><td>&quot;year=2025&quot;</td><td>&quot;66945abe-8145-4e86-bcc4-4b015e…</td><td>&quot;FR&quot;</td><td>&quot;2025-01-11&quot;</td><td>&quot;melissa80@example.net&quot;</td><td>&quot;GB76KDUB00543518056217&quot;</td><td>&quot;c7b1cee6-9ec9-4455-abb4-b03279…</td><td>&quot;Jeanette Green&quot;</td><td>&quot;R72046482&quot;</td><td>&quot;JGIDGBRWHD4&quot;</td><td>2025</td><td>1</td><td>11</td></tr><tr><td>&quot;20250114162008677&quot;</td><td>&quot;20250114162008677_0_1&quot;</td><td>&quot;524da8f0-b784-4638-ae01-a7b7d1…</td><td>&quot;year=2025&quot;</td><td>&quot;66945abe-8145-4e86-bcc4-4b015e…</td><td>&quot;FR&quot;</td><td>&quot;2025-01-09&quot;</td><td>&quot;robertmcintyre@example.org&quot;</td><td>&quot;GB81OZIU60490488184758&quot;</td><td>&quot;524da8f0-b784-4638-ae01-a7b7d1…</td><td>&quot;Kim Matthews&quot;</td><td>&quot;T89100458&quot;</td><td>&quot;DYFAGBTAB1H&quot;</td><td>2025</td><td>1</td><td>9</td></tr><tr><td>&quot;20250114162008677&quot;</td><td>&quot;20250114162008677_0_2&quot;</td><td>&quot;3cc19a63-9307-4482-b775-bf84bb…</td><td>&quot;year=2025&quot;</td><td>&quot;66945abe-8145-4e86-bcc4-4b015e…</td><td>&quot;AR&quot;</td><td>&quot;2025-01-03&quot;</td><td>&quot;ltaylor@example.net&quot;</td><td>&quot;GB33IROQ95211505041890&quot;</td><td>&quot;3cc19a63-9307-4482-b775-bf84bb…</td><td>&quot;Kaitlyn Taylor&quot;</td><td>&quot;207116683&quot;</td><td>&quot;BTTSGBIWF66&quot;</td><td>2025</td><td>1</td><td>3</td></tr><tr><td>&quot;20250114162008677&quot;</td><td>&quot;20250114162008677_0_3&quot;</td><td>&quot;20ad946c-ea9b-4f01-8eaa-504a06…</td><td>&quot;year=2025&quot;</td><td>&quot;66945abe-8145-4e86-bcc4-4b015e…</td><td>&quot;CA&quot;</td><td>&quot;2025-01-05&quot;</td><td>&quot;smithalexandria@example.org&quot;</td><td>&quot;GB77IYXH23843855501257&quot;</td><td>&quot;20ad946c-ea9b-4f01-8eaa-504a06…</td><td>&quot;Ashlee Aguilar&quot;</td><td>&quot;E06363228&quot;</td><td>&quot;WSGWGBWHXSB&quot;</td><td>2025</td><td>1</td><td>5</td></tr><tr><td>&quot;20250114162008677&quot;</td><td>&quot;20250114162008677_0_4&quot;</td><td>&quot;c2769b84-54d4-476c-b27c-856672…</td><td>&quot;year=2025&quot;</td><td>&quot;66945abe-8145-4e86-bcc4-4b015e…</td><td>&quot;UK&quot;</td><td>&quot;2025-01-10&quot;</td><td>&quot;christianbrian@example.org&quot;</td><td>&quot;GB30IFVT02678036529533&quot;</td><td>&quot;c2769b84-54d4-476c-b27c-856672…</td><td>&quot;Jonathan Weber&quot;</td><td>&quot;897841773&quot;</td><td>&quot;CGPVGB002QU&quot;</td><td>2025</td><td>1</td><td>10</td></tr></tbody></table></div>"
      ],
      "text/plain": [
       "shape: (5, 16)\n",
       "┌──────────────┬──────────────┬──────────────┬──────────────┬───┬─────────────┬──────┬───────┬─────┐\n",
       "│ _hoodie_comm ┆ _hoodie_comm ┆ _hoodie_reco ┆ _hoodie_part ┆ … ┆ swift       ┆ year ┆ month ┆ day │\n",
       "│ it_time      ┆ it_seqno     ┆ rd_key       ┆ ition_path   ┆   ┆ ---         ┆ ---  ┆ ---   ┆ --- │\n",
       "│ ---          ┆ ---          ┆ ---          ┆ ---          ┆   ┆ str         ┆ i32  ┆ i32   ┆ i32 │\n",
       "│ str          ┆ str          ┆ str          ┆ str          ┆   ┆             ┆      ┆       ┆     │\n",
       "╞══════════════╪══════════════╪══════════════╪══════════════╪═══╪═════════════╪══════╪═══════╪═════╡\n",
       "│ 202501141620 ┆ 202501141620 ┆ c7b1cee6-9ec ┆ year=2025    ┆ … ┆ JGIDGBRWHD4 ┆ 2025 ┆ 1     ┆ 11  │\n",
       "│ 08677        ┆ 08677_0_0    ┆ 9-4455-abb4- ┆              ┆   ┆             ┆      ┆       ┆     │\n",
       "│              ┆              ┆ b03279…      ┆              ┆   ┆             ┆      ┆       ┆     │\n",
       "│ 202501141620 ┆ 202501141620 ┆ 524da8f0-b78 ┆ year=2025    ┆ … ┆ DYFAGBTAB1H ┆ 2025 ┆ 1     ┆ 9   │\n",
       "│ 08677        ┆ 08677_0_1    ┆ 4-4638-ae01- ┆              ┆   ┆             ┆      ┆       ┆     │\n",
       "│              ┆              ┆ a7b7d1…      ┆              ┆   ┆             ┆      ┆       ┆     │\n",
       "│ 202501141620 ┆ 202501141620 ┆ 3cc19a63-930 ┆ year=2025    ┆ … ┆ BTTSGBIWF66 ┆ 2025 ┆ 1     ┆ 3   │\n",
       "│ 08677        ┆ 08677_0_2    ┆ 7-4482-b775- ┆              ┆   ┆             ┆      ┆       ┆     │\n",
       "│              ┆              ┆ bf84bb…      ┆              ┆   ┆             ┆      ┆       ┆     │\n",
       "│ 202501141620 ┆ 202501141620 ┆ 20ad946c-ea9 ┆ year=2025    ┆ … ┆ WSGWGBWHXSB ┆ 2025 ┆ 1     ┆ 5   │\n",
       "│ 08677        ┆ 08677_0_3    ┆ b-4f01-8eaa- ┆              ┆   ┆             ┆      ┆       ┆     │\n",
       "│              ┆              ┆ 504a06…      ┆              ┆   ┆             ┆      ┆       ┆     │\n",
       "│ 202501141620 ┆ 202501141620 ┆ c2769b84-54d ┆ year=2025    ┆ … ┆ CGPVGB002QU ┆ 2025 ┆ 1     ┆ 10  │\n",
       "│ 08677        ┆ 08677_0_4    ┆ 4-476c-b27c- ┆              ┆   ┆             ┆      ┆       ┆     │\n",
       "│              ┆              ┆ 856672…      ┆              ┆   ┆             ┆      ┆       ┆     │\n",
       "└──────────────┴──────────────┴──────────────┴──────────────┴───┴─────────────┴──────┴───────┴─────┘"
      ]
     },
     "execution_count": 34,
     "metadata": {},
     "output_type": "execute_result"
    }
   ],
   "source": [
    "pd_lz.head().collect()"
   ]
  },
  {
   "cell_type": "code",
   "execution_count": null,
   "id": "348ceea6-39d7-42df-94fd-a6d7f0f701f7",
   "metadata": {},
   "outputs": [],
   "source": []
  }
 ],
 "metadata": {
  "kernelspec": {
   "display_name": "Python 3 (ipykernel)",
   "language": "python",
   "name": "python3"
  },
  "language_info": {
   "codemirror_mode": {
    "name": "ipython",
    "version": 3
   },
   "file_extension": ".py",
   "mimetype": "text/x-python",
   "name": "python",
   "nbconvert_exporter": "python",
   "pygments_lexer": "ipython3",
   "version": "3.12.3"
  }
 },
 "nbformat": 4,
 "nbformat_minor": 5
}
